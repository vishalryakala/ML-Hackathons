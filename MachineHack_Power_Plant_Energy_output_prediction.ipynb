{
  "nbformat": 4,
  "nbformat_minor": 0,
  "metadata": {
    "colab": {
      "name": "MachineHack - Power Plant Energy output prediction.ipynb",
      "provenance": [],
      "collapsed_sections": []
    },
    "kernelspec": {
      "name": "python3",
      "display_name": "Python 3"
    }
  },
  "cells": [
    {
      "cell_type": "code",
      "metadata": {
        "id": "RG--CK1cs_3L",
        "colab_type": "code",
        "colab": {
          "base_uri": "https://localhost:8080/",
          "height": 75
        },
        "outputId": "0214695b-8924-40b1-fe15-5e3be9624929"
      },
      "source": [
        "import pandas as pd\n",
        "import numpy as np\n",
        "import matplotlib.pyplot as plt\n",
        "import seaborn as sns\n",
        "from scipy.stats import iqr\n",
        "from sklearn import preprocessing\n",
        "from sklearn.decomposition import PCA \n",
        "from sklearn.model_selection import GridSearchCV\n",
        "from sklearn.ensemble import RandomForestRegressor\n",
        "from sklearn.linear_model import LinearRegression\n",
        "from sklearn.metrics import mean_squared_error,mean_absolute_error\n",
        "from sklearn.ensemble import RandomForestRegressor\n",
        "from sklearn.ensemble import ExtraTreesRegressor\n",
        "from sklearn.ensemble import AdaBoostRegressor\n",
        "from sklearn.ensemble import GradientBoostingRegressor\n",
        "from sklearn.model_selection import train_test_split,cross_val_score\n",
        "import xgboost as xgb"
      ],
      "execution_count": null,
      "outputs": [
        {
          "output_type": "stream",
          "text": [
            "/usr/local/lib/python3.6/dist-packages/statsmodels/tools/_testing.py:19: FutureWarning: pandas.util.testing is deprecated. Use the functions in the public API at pandas.testing instead.\n",
            "  import pandas.util.testing as tm\n"
          ],
          "name": "stderr"
        }
      ]
    },
    {
      "cell_type": "code",
      "metadata": {
        "id": "bqtZDY8Lu6FI",
        "colab_type": "code",
        "colab": {
          "base_uri": "https://localhost:8080/",
          "height": 131
        },
        "outputId": "0f6a2753-3312-4412-9162-29367ea3d571"
      },
      "source": [
        "from google.colab import drive\n",
        "drive.mount('/content/drive/')"
      ],
      "execution_count": null,
      "outputs": [
        {
          "output_type": "stream",
          "text": [
            "Go to this URL in a browser: https://accounts.google.com/o/oauth2/auth?client_id=947318989803-6bn6qk8qdgf4n4g3pfee6491hc0brc4i.apps.googleusercontent.com&redirect_uri=urn%3aietf%3awg%3aoauth%3a2.0%3aoob&response_type=code&scope=email%20https%3a%2f%2fwww.googleapis.com%2fauth%2fdocs.test%20https%3a%2f%2fwww.googleapis.com%2fauth%2fdrive%20https%3a%2f%2fwww.googleapis.com%2fauth%2fdrive.photos.readonly%20https%3a%2f%2fwww.googleapis.com%2fauth%2fpeopleapi.readonly\n",
            "\n",
            "Enter your authorization code:\n",
            "··········\n",
            "Mounted at /content/drive/\n"
          ],
          "name": "stdout"
        }
      ]
    },
    {
      "cell_type": "code",
      "metadata": {
        "id": "yRfL7Powu7Vv",
        "colab_type": "code",
        "colab": {}
      },
      "source": [
        "data_path='/content/drive/My Drive/Projects/Hackathons/Power Plant Energy Prediction/Train.csv'"
      ],
      "execution_count": null,
      "outputs": []
    },
    {
      "cell_type": "code",
      "metadata": {
        "id": "31XuSodYvOYx",
        "colab_type": "code",
        "colab": {}
      },
      "source": [
        "data=pd.read_csv(data_path)"
      ],
      "execution_count": null,
      "outputs": []
    },
    {
      "cell_type": "code",
      "metadata": {
        "id": "Wr9TvmWkvZkU",
        "colab_type": "code",
        "colab": {
          "base_uri": "https://localhost:8080/",
          "height": 112
        },
        "outputId": "5b90b51d-99ce-49e8-8f56-a0da4927b5fc"
      },
      "source": [
        "data.head(2)"
      ],
      "execution_count": null,
      "outputs": [
        {
          "output_type": "execute_result",
          "data": {
            "text/html": [
              "<div>\n",
              "<style scoped>\n",
              "    .dataframe tbody tr th:only-of-type {\n",
              "        vertical-align: middle;\n",
              "    }\n",
              "\n",
              "    .dataframe tbody tr th {\n",
              "        vertical-align: top;\n",
              "    }\n",
              "\n",
              "    .dataframe thead th {\n",
              "        text-align: right;\n",
              "    }\n",
              "</style>\n",
              "<table border=\"1\" class=\"dataframe\">\n",
              "  <thead>\n",
              "    <tr style=\"text-align: right;\">\n",
              "      <th></th>\n",
              "      <th>AT</th>\n",
              "      <th>V</th>\n",
              "      <th>AP</th>\n",
              "      <th>RH</th>\n",
              "      <th>PE</th>\n",
              "    </tr>\n",
              "  </thead>\n",
              "  <tbody>\n",
              "    <tr>\n",
              "      <th>0</th>\n",
              "      <td>29.07</td>\n",
              "      <td>72.51</td>\n",
              "      <td>1009.24</td>\n",
              "      <td>58.38</td>\n",
              "      <td>449.371855</td>\n",
              "    </tr>\n",
              "    <tr>\n",
              "      <th>1</th>\n",
              "      <td>32.38</td>\n",
              "      <td>67.17</td>\n",
              "      <td>1006.97</td>\n",
              "      <td>60.04</td>\n",
              "      <td>450.861043</td>\n",
              "    </tr>\n",
              "  </tbody>\n",
              "</table>\n",
              "</div>"
            ],
            "text/plain": [
              "      AT      V       AP     RH          PE\n",
              "0  29.07  72.51  1009.24  58.38  449.371855\n",
              "1  32.38  67.17  1006.97  60.04  450.861043"
            ]
          },
          "metadata": {
            "tags": []
          },
          "execution_count": 5
        }
      ]
    },
    {
      "cell_type": "code",
      "metadata": {
        "id": "xOZo-AMCvbdr",
        "colab_type": "code",
        "colab": {
          "base_uri": "https://localhost:8080/",
          "height": 36
        },
        "outputId": "e6073449-9756-47c4-e2c6-7e8b1963b8f1"
      },
      "source": [
        "data.shape"
      ],
      "execution_count": null,
      "outputs": [
        {
          "output_type": "execute_result",
          "data": {
            "text/plain": [
              "(9568, 5)"
            ]
          },
          "metadata": {
            "tags": []
          },
          "execution_count": 6
        }
      ]
    },
    {
      "cell_type": "code",
      "metadata": {
        "id": "rq96HRRKvf6F",
        "colab_type": "code",
        "colab": {
          "base_uri": "https://localhost:8080/",
          "height": 130
        },
        "outputId": "2d8e9a1b-7f82-42ea-bce1-e378cc256c2c"
      },
      "source": [
        "data.isnull().sum()"
      ],
      "execution_count": null,
      "outputs": [
        {
          "output_type": "execute_result",
          "data": {
            "text/plain": [
              "AT    0\n",
              "V     0\n",
              "AP    0\n",
              "RH    0\n",
              "PE    0\n",
              "dtype: int64"
            ]
          },
          "metadata": {
            "tags": []
          },
          "execution_count": 7
        }
      ]
    },
    {
      "cell_type": "code",
      "metadata": {
        "id": "gzwjNYzBvjO-",
        "colab_type": "code",
        "colab": {
          "base_uri": "https://localhost:8080/",
          "height": 861
        },
        "outputId": "16af1d71-97b5-49af-dfbd-906d4235427e"
      },
      "source": [
        "for col in data.columns:\n",
        "    InterQuartileRange=iqr(data[col])\n",
        "    print('InterQuartileRange for',col,' =',InterQuartileRange)\n",
        "    InterQuartileRangeLower=np.quantile(data[col], .25)\n",
        "    print('InterQuartileRangeLower for',col,' =',InterQuartileRangeLower)\n",
        "    InterQuartileRangeHigher=np.quantile(data[col], .75)\n",
        "    print('InterQuartileRangeHigher for ',col,' =',InterQuartileRangeHigher)\n",
        "    print('Max of ',col,' =',data[col].max())\n",
        "    print('Min of ',col,' =',data[col].min())\n",
        "    print('Lower Limit for ',col,' =',InterQuartileRangeLower-(1.5*InterQuartileRange))\n",
        "    print('Upper Limit ',col,' =',InterQuartileRangeHigher+(1.5*InterQuartileRange))\n",
        "    InRange=0\n",
        "    OutRange=0\n",
        "    for i in data[col]:\n",
        "        if((InterQuartileRangeLower-(1.5*InterQuartileRange))<=i<=(InterQuartileRangeHigher+(1.5*InterQuartileRange))):\n",
        "            InRange=InRange+1\n",
        "        else:\n",
        "            OutRange=OutRange+1\n",
        "    print('InRange for ',col,' =',InRange)\n",
        "    print('OutRange for ',col,' =',OutRange)"
      ],
      "execution_count": null,
      "outputs": [
        {
          "output_type": "stream",
          "text": [
            "InterQuartileRange for AT  = 12.209999999999999\n",
            "InterQuartileRangeLower for AT  = 13.56\n",
            "InterQuartileRangeHigher for  AT  = 25.77\n",
            "Max of  AT  = 37.11\n",
            "Min of  AT  = 2.34\n",
            "Lower Limit for  AT  = -4.754999999999997\n",
            "Upper Limit  AT  = 44.084999999999994\n",
            "InRange for  AT  = 9568\n",
            "OutRange for  AT  = 0\n",
            "InterQuartileRange for V  = 24.78\n",
            "InterQuartileRangeLower for V  = 41.78\n",
            "InterQuartileRangeHigher for  V  = 66.56\n",
            "Max of  V  = 81.56\n",
            "Min of  V  = 25.36\n",
            "Lower Limit for  V  = 4.609999999999999\n",
            "Upper Limit  V  = 103.73\n",
            "InRange for  V  = 9568\n",
            "OutRange for  V  = 0\n",
            "InterQuartileRange for AP  = 8.132499999999936\n",
            "InterQuartileRangeLower for AP  = 1009.21\n",
            "InterQuartileRangeHigher for  AP  = 1017.3425\n",
            "Max of  AP  = 1033.3\n",
            "Min of  AP  = 993.11\n",
            "Lower Limit for  AP  = 997.0112500000001\n",
            "Upper Limit  AP  = 1029.5412499999998\n",
            "InRange for  AP  = 9497\n",
            "OutRange for  AP  = 71\n",
            "InterQuartileRange for RH  = 21.800000000000004\n",
            "InterQuartileRangeLower for RH  = 62.99\n",
            "InterQuartileRangeHigher for  RH  = 84.79\n",
            "Max of  RH  = 100.16\n",
            "Min of  RH  = 25.89\n",
            "Lower Limit for  RH  = 30.29\n",
            "Upper Limit  RH  = 117.49000000000001\n",
            "InRange for  RH  = 9564\n",
            "OutRange for  RH  = 4\n",
            "InterQuartileRange for PE  = 28.671867403926626\n",
            "InterQuartileRangeLower for PE  = 451.8938969083816\n",
            "InterQuartileRangeHigher for  PE  = 480.5657643123082\n",
            "Max of  PE  = 509.38153975457254\n",
            "Min of  PE  = 433.50627626328765\n",
            "Lower Limit for  PE  = 408.88609580249164\n",
            "Upper Limit  PE  = 523.5735654181981\n",
            "InRange for  PE  = 9568\n",
            "OutRange for  PE  = 0\n"
          ],
          "name": "stdout"
        }
      ]
    },
    {
      "cell_type": "code",
      "metadata": {
        "id": "K01vsx4YwA4F",
        "colab_type": "code",
        "colab": {
          "base_uri": "https://localhost:8080/",
          "height": 487
        },
        "outputId": "9d751abb-07e9-448d-e42e-66103bf542dd"
      },
      "source": [
        "plt.figure(figsize=(8,8))\n",
        "sns.heatmap(data.corr(),annot=True,cmap='viridis',fmt='.3f',linewidths=2)\n",
        "plt.show()"
      ],
      "execution_count": null,
      "outputs": [
        {
          "output_type": "display_data",
          "data": {
            "image/png": "[encoded data removed]",
            "text/plain": [
              "<Figure size 576x576 with 2 Axes>"
            ]
          },
          "metadata": {
            "tags": [],
            "needs_background": "light"
          }
        }
      ]
    },
    {
      "cell_type": "code",
      "metadata": {
        "id": "FNa08g-bxYwK",
        "colab_type": "code",
        "colab": {}
      },
      "source": [
        "x=data.loc[:, data.columns != 'PE']\n",
        "y=data['PE']"
      ],
      "execution_count": null,
      "outputs": []
    },
    {
      "cell_type": "code",
      "metadata": {
        "id": "qJT_HCF_xS3H",
        "colab_type": "code",
        "colab": {}
      },
      "source": [
        "X_train, X_test, Y_train, Y_test = train_test_split(x, y, test_size = 0.33, random_state = 20)"
      ],
      "execution_count": null,
      "outputs": []
    },
    {
      "cell_type": "code",
      "metadata": {
        "id": "yEtOkxpwwtwu",
        "colab_type": "code",
        "colab": {}
      },
      "source": [
        "#Standardizing training data\n",
        "scaler = preprocessing.StandardScaler()\n",
        "X_train_scaled=scaler.fit_transform(X_train)"
      ],
      "execution_count": null,
      "outputs": []
    },
    {
      "cell_type": "code",
      "metadata": {
        "id": "dCb1zzqZxI4T",
        "colab_type": "code",
        "colab": {}
      },
      "source": [
        "#Standardizing testing data\n",
        "X_test_scaled=scaler.transform(X_test)"
      ],
      "execution_count": null,
      "outputs": []
    },
    {
      "cell_type": "code",
      "metadata": {
        "id": "brQlQBu8xGKT",
        "colab_type": "code",
        "colab": {}
      },
      "source": [
        "#Normalizing training data\n",
        "X_train_norm = preprocessing.normalize(X_train)"
      ],
      "execution_count": null,
      "outputs": []
    },
    {
      "cell_type": "code",
      "metadata": {
        "id": "qQ_ZGMm9xJ7g",
        "colab_type": "code",
        "colab": {}
      },
      "source": [
        "#Normalizing training data\n",
        "X_test_norm = preprocessing.normalize(X_test)"
      ],
      "execution_count": null,
      "outputs": []
    },
    {
      "cell_type": "code",
      "metadata": {
        "id": "-a804FxsyEIn",
        "colab_type": "code",
        "colab": {}
      },
      "source": [
        "#Declaring these for comparision between models\n",
        "predictions=pd.DataFrame()\n",
        "MeanAbsoluteError_dict={}\n",
        "MeanSquaredError_dict={}\n",
        "RootMeanSquaredError_dict={}\n",
        "R2Score_dict={}\n",
        "TestR2Score_dict={}\n",
        "CrossValScore_dict={}"
      ],
      "execution_count": null,
      "outputs": []
    },
    {
      "cell_type": "code",
      "metadata": {
        "id": "ErGFy8YIyI9g",
        "colab_type": "code",
        "colab": {}
      },
      "source": [
        "def consolidator(modelInstance,ModelName,X_train,Y_train,X_test,Y_test,Y_Pred):\n",
        "  predictions[ModelName] = Y_Pred\n",
        "\n",
        "  print(ModelName,'Model:-')\n",
        "\n",
        "  R2Score = modelInstance.score(X_train, Y_train)\n",
        "  TestR2Score = modelInstance.score(X_test, Y_test)\n",
        "  MeanAbsErr = mean_absolute_error(Y_test, Y_Pred)\n",
        "  MeanSqErr =  mean_squared_error(Y_test, Y_Pred)\n",
        "  RootMeanSqErr = np.sqrt(mean_squared_error(Y_test, Y_Pred))\n",
        "  \n",
        "  print(\"R^2 Score: \", R2Score)\n",
        "  print(\"Test R^2 Score: \", TestR2Score)\n",
        "  print('Mean Absolute Error :', MeanAbsErr)  \n",
        "  print('Mean Squared Error :', MeanSqErr)  \n",
        "  print('Root Mean Squared Error :', RootMeanSqErr)\n",
        "\n",
        "  R2Score_dict[ModelName] = R2Score\n",
        "  TestR2Score_dict[ModelName] = TestR2Score\n",
        "  MeanAbsoluteError_dict[ModelName] =  MeanAbsErr\n",
        "  MeanSquaredError_dict[ModelName] = MeanSqErr\n",
        "  RootMeanSquaredError_dict[ModelName] = RootMeanSqErr"
      ],
      "execution_count": null,
      "outputs": []
    },
    {
      "cell_type": "markdown",
      "metadata": {
        "id": "hym6YQqmyjDp",
        "colab_type": "text"
      },
      "source": [
        "#Linear Regression Original"
      ]
    },
    {
      "cell_type": "code",
      "metadata": {
        "id": "D2Evxpx7yedq",
        "colab_type": "code",
        "colab": {
          "base_uri": "https://localhost:8080/",
          "height": 992
        },
        "outputId": "09d4ac10-a620-46cd-96b8-0a846616b1ae"
      },
      "source": [
        "LR = LinearRegression()\n",
        "param_grid = {'fit_intercept':[True,False], 'normalize':[True,False], 'copy_X':[True, False]}\n",
        "\n",
        "grid_search = GridSearchCV(estimator = LR, param_grid = param_grid,cv=3,verbose=2)\n",
        "LR_GS = grid_search.fit(X_train, Y_train)"
      ],
      "execution_count": null,
      "outputs": [
        {
          "output_type": "stream",
          "text": [
            "Fitting 3 folds for each of 8 candidates, totalling 24 fits\n",
            "[CV] copy_X=True, fit_intercept=True, normalize=True .................\n",
            "[CV] .. copy_X=True, fit_intercept=True, normalize=True, total=   0.0s\n",
            "[CV] copy_X=True, fit_intercept=True, normalize=True .................\n",
            "[CV] .. copy_X=True, fit_intercept=True, normalize=True, total=   0.0s\n",
            "[CV] copy_X=True, fit_intercept=True, normalize=True .................\n",
            "[CV] .. copy_X=True, fit_intercept=True, normalize=True, total=   0.0s\n",
            "[CV] copy_X=True, fit_intercept=True, normalize=False ................\n",
            "[CV] . copy_X=True, fit_intercept=True, normalize=False, total=   0.0s\n",
            "[CV] copy_X=True, fit_intercept=True, normalize=False ................\n",
            "[CV] . copy_X=True, fit_intercept=True, normalize=False, total=   0.0s\n",
            "[CV] copy_X=True, fit_intercept=True, normalize=False ................\n",
            "[CV] . copy_X=True, fit_intercept=True, normalize=False, total=   0.0s\n",
            "[CV] copy_X=True, fit_intercept=False, normalize=True ................\n",
            "[CV] . copy_X=True, fit_intercept=False, normalize=True, total=   0.0s\n",
            "[CV] copy_X=True, fit_intercept=False, normalize=True ................\n",
            "[CV] . copy_X=True, fit_intercept=False, normalize=True, total=   0.0s\n",
            "[CV] copy_X=True, fit_intercept=False, normalize=True ................\n",
            "[CV] . copy_X=True, fit_intercept=False, normalize=True, total=   0.0s\n",
            "[CV] copy_X=True, fit_intercept=False, normalize=False ...............\n",
            "[CV]  copy_X=True, fit_intercept=False, normalize=False, total=   0.0s\n",
            "[CV] copy_X=True, fit_intercept=False, normalize=False ...............\n",
            "[CV]  copy_X=True, fit_intercept=False, normalize=False, total=   0.0s\n",
            "[CV] copy_X=True, fit_intercept=False, normalize=False ...............\n",
            "[CV]  copy_X=True, fit_intercept=False, normalize=False, total=   0.0s\n",
            "[CV] copy_X=False, fit_intercept=True, normalize=True ................\n",
            "[CV] . copy_X=False, fit_intercept=True, normalize=True, total=   0.0s\n",
            "[CV] copy_X=False, fit_intercept=True, normalize=True ................\n",
            "[CV] . copy_X=False, fit_intercept=True, normalize=True, total=   0.0s\n",
            "[CV] copy_X=False, fit_intercept=True, normalize=True ................\n",
            "[CV] . copy_X=False, fit_intercept=True, normalize=True, total=   0.0s\n",
            "[CV] copy_X=False, fit_intercept=True, normalize=False ...............\n",
            "[CV]  copy_X=False, fit_intercept=True, normalize=False, total=   0.0s\n",
            "[CV] copy_X=False, fit_intercept=True, normalize=False ...............\n",
            "[CV]  copy_X=False, fit_intercept=True, normalize=False, total=   0.0s\n",
            "[CV] copy_X=False, fit_intercept=True, normalize=False ...............\n",
            "[CV]  copy_X=False, fit_intercept=True, normalize=False, total=   0.0s\n",
            "[CV] copy_X=False, fit_intercept=False, normalize=True ...............\n",
            "[CV]  copy_X=False, fit_intercept=False, normalize=True, total=   0.0s\n",
            "[CV] copy_X=False, fit_intercept=False, normalize=True ...............\n",
            "[CV]  copy_X=False, fit_intercept=False, normalize=True, total=   0.0s\n",
            "[CV] copy_X=False, fit_intercept=False, normalize=True ...............\n",
            "[CV]  copy_X=False, fit_intercept=False, normalize=True, total=   0.0s\n",
            "[CV] copy_X=False, fit_intercept=False, normalize=False ..............\n",
            "[CV]  copy_X=False, fit_intercept=False, normalize=False, total=   0.0s\n",
            "[CV] copy_X=False, fit_intercept=False, normalize=False ..............\n",
            "[CV]  copy_X=False, fit_intercept=False, normalize=False, total=   0.0s\n",
            "[CV] copy_X=False, fit_intercept=False, normalize=False ..............\n",
            "[CV]  copy_X=False, fit_intercept=False, normalize=False, total=   0.0s\n"
          ],
          "name": "stdout"
        },
        {
          "output_type": "stream",
          "text": [
            "[Parallel(n_jobs=1)]: Using backend SequentialBackend with 1 concurrent workers.\n",
            "[Parallel(n_jobs=1)]: Done   1 out of   1 | elapsed:    0.0s remaining:    0.0s\n",
            "[Parallel(n_jobs=1)]: Done  24 out of  24 | elapsed:    0.2s finished\n"
          ],
          "name": "stderr"
        }
      ]
    },
    {
      "cell_type": "code",
      "metadata": {
        "id": "mFpxnh9hy1Jj",
        "colab_type": "code",
        "colab": {
          "base_uri": "https://localhost:8080/",
          "height": 36
        },
        "outputId": "4217eb08-e42d-414a-dd30-209356c4976a"
      },
      "source": [
        "LR_GS.best_estimator_"
      ],
      "execution_count": null,
      "outputs": [
        {
          "output_type": "execute_result",
          "data": {
            "text/plain": [
              "LinearRegression(copy_X=True, fit_intercept=True, n_jobs=None, normalize=True)"
            ]
          },
          "metadata": {
            "tags": []
          },
          "execution_count": 19
        }
      ]
    },
    {
      "cell_type": "code",
      "metadata": {
        "id": "J5G7-xpay2cE",
        "colab_type": "code",
        "colab": {}
      },
      "source": [
        "Y_pred_LR = LR_GS.predict(X_test)"
      ],
      "execution_count": null,
      "outputs": []
    },
    {
      "cell_type": "code",
      "metadata": {
        "id": "RvhkBLiny3v6",
        "colab_type": "code",
        "colab": {
          "base_uri": "https://localhost:8080/",
          "height": 130
        },
        "outputId": "bfa9893d-e587-43d0-92e4-4acfb117f857"
      },
      "source": [
        "consolidator(LR_GS,'LR_Orignial',X_train,Y_train,X_test,Y_test,Y_pred_LR)"
      ],
      "execution_count": null,
      "outputs": [
        {
          "output_type": "stream",
          "text": [
            "LR_Orignial Model:-\n",
            "R^2 Score:  0.9241474160922808\n",
            "Test R^2 Score:  0.9277912046349331\n",
            "Mean Absolute Error : 3.692171922700235\n",
            "Mean Squared Error : 20.746679614723245\n",
            "Root Mean Squared Error : 4.554852315358122\n"
          ],
          "name": "stdout"
        }
      ]
    },
    {
      "cell_type": "markdown",
      "metadata": {
        "id": "BV7njfDIzT9v",
        "colab_type": "text"
      },
      "source": [
        "# Linear Regression Scaled"
      ]
    },
    {
      "cell_type": "code",
      "metadata": {
        "id": "KYXhEPlHy7rJ",
        "colab_type": "code",
        "colab": {
          "base_uri": "https://localhost:8080/",
          "height": 992
        },
        "outputId": "50534043-800f-4c5e-dfa6-2e9f57bfdf52"
      },
      "source": [
        "LR = LinearRegression()\n",
        "param_grid = {'fit_intercept':[True,False], 'normalize':[True,False], 'copy_X':[True, False]}\n",
        "\n",
        "grid_search = GridSearchCV(estimator = LR, param_grid = param_grid,cv=3,verbose=2)\n",
        "LR_GS = grid_search.fit(X_train_scaled, Y_train)"
      ],
      "execution_count": null,
      "outputs": [
        {
          "output_type": "stream",
          "text": [
            "Fitting 3 folds for each of 8 candidates, totalling 24 fits\n",
            "[CV] copy_X=True, fit_intercept=True, normalize=True .................\n",
            "[CV] .. copy_X=True, fit_intercept=True, normalize=True, total=   0.0s\n",
            "[CV] copy_X=True, fit_intercept=True, normalize=True .................\n",
            "[CV] .. copy_X=True, fit_intercept=True, normalize=True, total=   0.0s\n",
            "[CV] copy_X=True, fit_intercept=True, normalize=True .................\n",
            "[CV] .. copy_X=True, fit_intercept=True, normalize=True, total=   0.0s\n",
            "[CV] copy_X=True, fit_intercept=True, normalize=False ................\n",
            "[CV] . copy_X=True, fit_intercept=True, normalize=False, total=   0.0s\n",
            "[CV] copy_X=True, fit_intercept=True, normalize=False ................\n",
            "[CV] . copy_X=True, fit_intercept=True, normalize=False, total=   0.0s\n",
            "[CV] copy_X=True, fit_intercept=True, normalize=False ................\n",
            "[CV] . copy_X=True, fit_intercept=True, normalize=False, total=   0.0s\n",
            "[CV] copy_X=True, fit_intercept=False, normalize=True ................\n",
            "[CV] . copy_X=True, fit_intercept=False, normalize=True, total=   0.0s\n",
            "[CV] copy_X=True, fit_intercept=False, normalize=True ................\n",
            "[CV] . copy_X=True, fit_intercept=False, normalize=True, total=   0.0s\n",
            "[CV] copy_X=True, fit_intercept=False, normalize=True ................\n",
            "[CV] . copy_X=True, fit_intercept=False, normalize=True, total=   0.0s\n",
            "[CV] copy_X=True, fit_intercept=False, normalize=False ...............\n",
            "[CV]  copy_X=True, fit_intercept=False, normalize=False, total=   0.0s\n",
            "[CV] copy_X=True, fit_intercept=False, normalize=False ...............\n",
            "[CV]  copy_X=True, fit_intercept=False, normalize=False, total=   0.0s\n",
            "[CV] copy_X=True, fit_intercept=False, normalize=False ...............\n",
            "[CV]  copy_X=True, fit_intercept=False, normalize=False, total=   0.0s\n",
            "[CV] copy_X=False, fit_intercept=True, normalize=True ................\n",
            "[CV] . copy_X=False, fit_intercept=True, normalize=True, total=   0.0s\n",
            "[CV] copy_X=False, fit_intercept=True, normalize=True ................\n",
            "[CV] . copy_X=False, fit_intercept=True, normalize=True, total=   0.0s\n",
            "[CV] copy_X=False, fit_intercept=True, normalize=True ................\n",
            "[CV] . copy_X=False, fit_intercept=True, normalize=True, total=   0.0s\n",
            "[CV] copy_X=False, fit_intercept=True, normalize=False ...............\n",
            "[CV]  copy_X=False, fit_intercept=True, normalize=False, total=   0.0s\n",
            "[CV] copy_X=False, fit_intercept=True, normalize=False ...............\n",
            "[CV]  copy_X=False, fit_intercept=True, normalize=False, total=   0.0s\n",
            "[CV] copy_X=False, fit_intercept=True, normalize=False ...............\n",
            "[CV]  copy_X=False, fit_intercept=True, normalize=False, total=   0.0s\n",
            "[CV] copy_X=False, fit_intercept=False, normalize=True ...............\n",
            "[CV]  copy_X=False, fit_intercept=False, normalize=True, total=   0.0s\n",
            "[CV] copy_X=False, fit_intercept=False, normalize=True ...............\n",
            "[CV]  copy_X=False, fit_intercept=False, normalize=True, total=   0.0s\n",
            "[CV] copy_X=False, fit_intercept=False, normalize=True ...............\n",
            "[CV]  copy_X=False, fit_intercept=False, normalize=True, total=   0.0s\n",
            "[CV] copy_X=False, fit_intercept=False, normalize=False ..............\n",
            "[CV]  copy_X=False, fit_intercept=False, normalize=False, total=   0.0s\n",
            "[CV] copy_X=False, fit_intercept=False, normalize=False ..............\n",
            "[CV]  copy_X=False, fit_intercept=False, normalize=False, total=   0.0s\n",
            "[CV] copy_X=False, fit_intercept=False, normalize=False ..............\n",
            "[CV]  copy_X=False, fit_intercept=False, normalize=False, total=   0.0s\n"
          ],
          "name": "stdout"
        },
        {
          "output_type": "stream",
          "text": [
            "[Parallel(n_jobs=1)]: Using backend SequentialBackend with 1 concurrent workers.\n",
            "[Parallel(n_jobs=1)]: Done   1 out of   1 | elapsed:    0.0s remaining:    0.0s\n",
            "[Parallel(n_jobs=1)]: Done  24 out of  24 | elapsed:    0.1s finished\n"
          ],
          "name": "stderr"
        }
      ]
    },
    {
      "cell_type": "code",
      "metadata": {
        "id": "frtJFBAmzClD",
        "colab_type": "code",
        "colab": {
          "base_uri": "https://localhost:8080/",
          "height": 36
        },
        "outputId": "62cc3b36-ca13-48de-9dc9-fec5b00f75ae"
      },
      "source": [
        "LR_GS.best_estimator_"
      ],
      "execution_count": null,
      "outputs": [
        {
          "output_type": "execute_result",
          "data": {
            "text/plain": [
              "LinearRegression(copy_X=True, fit_intercept=True, n_jobs=None, normalize=True)"
            ]
          },
          "metadata": {
            "tags": []
          },
          "execution_count": 23
        }
      ]
    },
    {
      "cell_type": "code",
      "metadata": {
        "id": "DI36FSNEzFZy",
        "colab_type": "code",
        "colab": {}
      },
      "source": [
        "Y_pred_LR = LR_GS.predict(X_test_scaled)"
      ],
      "execution_count": null,
      "outputs": []
    },
    {
      "cell_type": "code",
      "metadata": {
        "id": "KyvY_BrszJEa",
        "colab_type": "code",
        "colab": {
          "base_uri": "https://localhost:8080/",
          "height": 130
        },
        "outputId": "4d30cd8d-579f-4927-9b11-fdf4fd10337f"
      },
      "source": [
        "consolidator(LR_GS,'LR_Scaled',X_train_scaled,Y_train,X_test_scaled,Y_test,Y_pred_LR)"
      ],
      "execution_count": null,
      "outputs": [
        {
          "output_type": "stream",
          "text": [
            "LR_Scaled Model:-\n",
            "R^2 Score:  0.9241474160922808\n",
            "Test R^2 Score:  0.9277912046349331\n",
            "Mean Absolute Error : 3.6921719227002345\n",
            "Mean Squared Error : 20.74667961472326\n",
            "Root Mean Squared Error : 4.554852315358124\n"
          ],
          "name": "stdout"
        }
      ]
    },
    {
      "cell_type": "markdown",
      "metadata": {
        "id": "G0EXEi829hkf",
        "colab_type": "text"
      },
      "source": [
        "# Linear Regression Normalized"
      ]
    },
    {
      "cell_type": "code",
      "metadata": {
        "id": "iLn4gihx9lxA",
        "colab_type": "code",
        "colab": {
          "base_uri": "https://localhost:8080/",
          "height": 992
        },
        "outputId": "2004c074-532d-47a1-f762-cb11d66da8e8"
      },
      "source": [
        "LR = LinearRegression()\n",
        "param_grid = {'fit_intercept':[True,False], 'normalize':[True,False], 'copy_X':[True, False]}\n",
        "\n",
        "grid_search = GridSearchCV(estimator = LR, param_grid = param_grid,cv=3,verbose=2)\n",
        "LR_GS = grid_search.fit(X_train_norm, Y_train)"
      ],
      "execution_count": null,
      "outputs": [
        {
          "output_type": "stream",
          "text": [
            "Fitting 3 folds for each of 8 candidates, totalling 24 fits\n",
            "[CV] copy_X=True, fit_intercept=True, normalize=True .................\n",
            "[CV] .. copy_X=True, fit_intercept=True, normalize=True, total=   0.0s\n",
            "[CV] copy_X=True, fit_intercept=True, normalize=True .................\n",
            "[CV] .. copy_X=True, fit_intercept=True, normalize=True, total=   0.0s\n",
            "[CV] copy_X=True, fit_intercept=True, normalize=True .................\n",
            "[CV] .. copy_X=True, fit_intercept=True, normalize=True, total=   0.0s\n",
            "[CV] copy_X=True, fit_intercept=True, normalize=False ................\n",
            "[CV] . copy_X=True, fit_intercept=True, normalize=False, total=   0.0s\n",
            "[CV] copy_X=True, fit_intercept=True, normalize=False ................\n",
            "[CV] . copy_X=True, fit_intercept=True, normalize=False, total=   0.0s\n",
            "[CV] copy_X=True, fit_intercept=True, normalize=False ................\n",
            "[CV] . copy_X=True, fit_intercept=True, normalize=False, total=   0.0s\n",
            "[CV] copy_X=True, fit_intercept=False, normalize=True ................\n",
            "[CV] . copy_X=True, fit_intercept=False, normalize=True, total=   0.0s\n",
            "[CV] copy_X=True, fit_intercept=False, normalize=True ................\n",
            "[CV] . copy_X=True, fit_intercept=False, normalize=True, total=   0.0s\n",
            "[CV] copy_X=True, fit_intercept=False, normalize=True ................\n",
            "[CV] . copy_X=True, fit_intercept=False, normalize=True, total=   0.0s\n",
            "[CV] copy_X=True, fit_intercept=False, normalize=False ...............\n",
            "[CV]  copy_X=True, fit_intercept=False, normalize=False, total=   0.0s\n",
            "[CV] copy_X=True, fit_intercept=False, normalize=False ...............\n",
            "[CV]  copy_X=True, fit_intercept=False, normalize=False, total=   0.0s\n",
            "[CV] copy_X=True, fit_intercept=False, normalize=False ...............\n",
            "[CV]  copy_X=True, fit_intercept=False, normalize=False, total=   0.0s\n",
            "[CV] copy_X=False, fit_intercept=True, normalize=True ................\n",
            "[CV] . copy_X=False, fit_intercept=True, normalize=True, total=   0.0s\n",
            "[CV] copy_X=False, fit_intercept=True, normalize=True ................\n",
            "[CV] . copy_X=False, fit_intercept=True, normalize=True, total=   0.0s\n",
            "[CV] copy_X=False, fit_intercept=True, normalize=True ................\n",
            "[CV] . copy_X=False, fit_intercept=True, normalize=True, total=   0.0s\n",
            "[CV] copy_X=False, fit_intercept=True, normalize=False ...............\n",
            "[CV]  copy_X=False, fit_intercept=True, normalize=False, total=   0.0s\n",
            "[CV] copy_X=False, fit_intercept=True, normalize=False ...............\n",
            "[CV]  copy_X=False, fit_intercept=True, normalize=False, total=   0.0s\n",
            "[CV] copy_X=False, fit_intercept=True, normalize=False ...............\n",
            "[CV]  copy_X=False, fit_intercept=True, normalize=False, total=   0.0s\n",
            "[CV] copy_X=False, fit_intercept=False, normalize=True ...............\n",
            "[CV]  copy_X=False, fit_intercept=False, normalize=True, total=   0.0s\n",
            "[CV] copy_X=False, fit_intercept=False, normalize=True ...............\n",
            "[CV]  copy_X=False, fit_intercept=False, normalize=True, total=   0.0s\n",
            "[CV] copy_X=False, fit_intercept=False, normalize=True ...............\n",
            "[CV]  copy_X=False, fit_intercept=False, normalize=True, total=   0.0s\n",
            "[CV] copy_X=False, fit_intercept=False, normalize=False ..............\n",
            "[CV]  copy_X=False, fit_intercept=False, normalize=False, total=   0.0s\n",
            "[CV] copy_X=False, fit_intercept=False, normalize=False ..............\n",
            "[CV]  copy_X=False, fit_intercept=False, normalize=False, total=   0.0s\n",
            "[CV] copy_X=False, fit_intercept=False, normalize=False ..............\n",
            "[CV]  copy_X=False, fit_intercept=False, normalize=False, total=   0.0s\n"
          ],
          "name": "stdout"
        },
        {
          "output_type": "stream",
          "text": [
            "[Parallel(n_jobs=1)]: Using backend SequentialBackend with 1 concurrent workers.\n",
            "[Parallel(n_jobs=1)]: Done   1 out of   1 | elapsed:    0.0s remaining:    0.0s\n",
            "[Parallel(n_jobs=1)]: Done  24 out of  24 | elapsed:    0.1s finished\n"
          ],
          "name": "stderr"
        }
      ]
    },
    {
      "cell_type": "code",
      "metadata": {
        "id": "715FUNqB9oRk",
        "colab_type": "code",
        "colab": {
          "base_uri": "https://localhost:8080/",
          "height": 36
        },
        "outputId": "0a4fdf95-1c79-4802-911e-280f716e5644"
      },
      "source": [
        "LR_GS.best_estimator_"
      ],
      "execution_count": null,
      "outputs": [
        {
          "output_type": "execute_result",
          "data": {
            "text/plain": [
              "LinearRegression(copy_X=True, fit_intercept=True, n_jobs=None, normalize=False)"
            ]
          },
          "metadata": {
            "tags": []
          },
          "execution_count": 27
        }
      ]
    },
    {
      "cell_type": "code",
      "metadata": {
        "id": "IotuYqJm9pYI",
        "colab_type": "code",
        "colab": {}
      },
      "source": [
        "Y_pred_LR = LR_GS.predict(X_test_norm)"
      ],
      "execution_count": null,
      "outputs": []
    },
    {
      "cell_type": "code",
      "metadata": {
        "id": "Uza5e7CF9rxW",
        "colab_type": "code",
        "colab": {
          "base_uri": "https://localhost:8080/",
          "height": 130
        },
        "outputId": "f729e211-7f79-4ee2-e1a5-134ac0d3d44b"
      },
      "source": [
        "consolidator(LR_GS,'LR_Norm',X_train_norm,Y_train,X_test_norm,Y_test,Y_pred_LR)"
      ],
      "execution_count": null,
      "outputs": [
        {
          "output_type": "stream",
          "text": [
            "LR_Norm Model:-\n",
            "R^2 Score:  0.9252520952296821\n",
            "Test R^2 Score:  0.9289573883898156\n",
            "Mean Absolute Error : 3.669822556791122\n",
            "Mean Squared Error : 20.41161737456095\n",
            "Root Mean Squared Error : 4.5179217981900655\n"
          ],
          "name": "stdout"
        }
      ]
    },
    {
      "cell_type": "markdown",
      "metadata": {
        "id": "2ZPhAX_5z-mO",
        "colab_type": "text"
      },
      "source": [
        "# XG Boost Regression Original"
      ]
    },
    {
      "cell_type": "code",
      "metadata": {
        "id": "hu4pa8mizc7h",
        "colab_type": "code",
        "colab": {
          "base_uri": "https://localhost:8080/",
          "height": 1000
        },
        "outputId": "8514725b-0760-43d0-87b9-5ee3af7f5cab"
      },
      "source": [
        "XGR = xgb.XGBRegressor()\n",
        "param_grid = {\"objective\":['reg:squarederror'],\n",
        "              'colsample_bytree': [0.7],\n",
        "              'learning_rate': [0.001,0.01,0.1,1],\n",
        "              'max_depth': [10], \n",
        "              'alpha': [1], \n",
        "              'n_estimators':[500,1000,1500,2000,2500]}\n",
        "\n",
        "grid_search = GridSearchCV(estimator = XGR, param_grid = param_grid,cv=3, verbose=2)\n",
        "XGR_GS = grid_search.fit(X_train, Y_train)"
      ],
      "execution_count": null,
      "outputs": [
        {
          "output_type": "stream",
          "text": [
            "Fitting 3 folds for each of 20 candidates, totalling 60 fits\n",
            "[CV] alpha=1, colsample_bytree=0.7, learning_rate=0.001, max_depth=10, n_estimators=500, objective=reg:squarederror \n"
          ],
          "name": "stdout"
        },
        {
          "output_type": "stream",
          "text": [
            "[Parallel(n_jobs=1)]: Using backend SequentialBackend with 1 concurrent workers.\n"
          ],
          "name": "stderr"
        },
        {
          "output_type": "stream",
          "text": [
            "[CV]  alpha=1, colsample_bytree=0.7, learning_rate=0.001, max_depth=10, n_estimators=500, objective=reg:squarederror, total=   0.7s\n",
            "[CV] alpha=1, colsample_bytree=0.7, learning_rate=0.001, max_depth=10, n_estimators=500, objective=reg:squarederror \n"
          ],
          "name": "stdout"
        },
        {
          "output_type": "stream",
          "text": [
            "[Parallel(n_jobs=1)]: Done   1 out of   1 | elapsed:    0.7s remaining:    0.0s\n"
          ],
          "name": "stderr"
        },
        {
          "output_type": "stream",
          "text": [
            "[CV]  alpha=1, colsample_bytree=0.7, learning_rate=0.001, max_depth=10, n_estimators=500, objective=reg:squarederror, total=   0.5s\n",
            "[CV] alpha=1, colsample_bytree=0.7, learning_rate=0.001, max_depth=10, n_estimators=500, objective=reg:squarederror \n",
            "[CV]  alpha=1, colsample_bytree=0.7, learning_rate=0.001, max_depth=10, n_estimators=500, objective=reg:squarederror, total=   0.6s\n",
            "[CV] alpha=1, colsample_bytree=0.7, learning_rate=0.001, max_depth=10, n_estimators=1000, objective=reg:squarederror \n",
            "[CV]  alpha=1, colsample_bytree=0.7, learning_rate=0.001, max_depth=10, n_estimators=1000, objective=reg:squarederror, total=   1.2s\n",
            "[CV] alpha=1, colsample_bytree=0.7, learning_rate=0.001, max_depth=10, n_estimators=1000, objective=reg:squarederror \n",
            "[CV]  alpha=1, colsample_bytree=0.7, learning_rate=0.001, max_depth=10, n_estimators=1000, objective=reg:squarederror, total=   1.2s\n",
            "[CV] alpha=1, colsample_bytree=0.7, learning_rate=0.001, max_depth=10, n_estimators=1000, objective=reg:squarederror \n",
            "[CV]  alpha=1, colsample_bytree=0.7, learning_rate=0.001, max_depth=10, n_estimators=1000, objective=reg:squarederror, total=   1.1s\n",
            "[CV] alpha=1, colsample_bytree=0.7, learning_rate=0.001, max_depth=10, n_estimators=1500, objective=reg:squarederror \n",
            "[CV]  alpha=1, colsample_bytree=0.7, learning_rate=0.001, max_depth=10, n_estimators=1500, objective=reg:squarederror, total=   1.8s\n",
            "[CV] alpha=1, colsample_bytree=0.7, learning_rate=0.001, max_depth=10, n_estimators=1500, objective=reg:squarederror \n",
            "[CV]  alpha=1, colsample_bytree=0.7, learning_rate=0.001, max_depth=10, n_estimators=1500, objective=reg:squarederror, total=   1.8s\n",
            "[CV] alpha=1, colsample_bytree=0.7, learning_rate=0.001, max_depth=10, n_estimators=1500, objective=reg:squarederror \n",
            "[CV]  alpha=1, colsample_bytree=0.7, learning_rate=0.001, max_depth=10, n_estimators=1500, objective=reg:squarederror, total=   1.8s\n",
            "[CV] alpha=1, colsample_bytree=0.7, learning_rate=0.001, max_depth=10, n_estimators=2000, objective=reg:squarederror \n",
            "[CV]  alpha=1, colsample_bytree=0.7, learning_rate=0.001, max_depth=10, n_estimators=2000, objective=reg:squarederror, total=   2.4s\n",
            "[CV] alpha=1, colsample_bytree=0.7, learning_rate=0.001, max_depth=10, n_estimators=2000, objective=reg:squarederror \n",
            "[CV]  alpha=1, colsample_bytree=0.7, learning_rate=0.001, max_depth=10, n_estimators=2000, objective=reg:squarederror, total=   2.4s\n",
            "[CV] alpha=1, colsample_bytree=0.7, learning_rate=0.001, max_depth=10, n_estimators=2000, objective=reg:squarederror \n",
            "[CV]  alpha=1, colsample_bytree=0.7, learning_rate=0.001, max_depth=10, n_estimators=2000, objective=reg:squarederror, total=   2.4s\n",
            "[CV] alpha=1, colsample_bytree=0.7, learning_rate=0.001, max_depth=10, n_estimators=2500, objective=reg:squarederror \n",
            "[CV]  alpha=1, colsample_bytree=0.7, learning_rate=0.001, max_depth=10, n_estimators=2500, objective=reg:squarederror, total=   3.2s\n",
            "[CV] alpha=1, colsample_bytree=0.7, learning_rate=0.001, max_depth=10, n_estimators=2500, objective=reg:squarederror \n",
            "[CV]  alpha=1, colsample_bytree=0.7, learning_rate=0.001, max_depth=10, n_estimators=2500, objective=reg:squarederror, total=   3.2s\n",
            "[CV] alpha=1, colsample_bytree=0.7, learning_rate=0.001, max_depth=10, n_estimators=2500, objective=reg:squarederror \n",
            "[CV]  alpha=1, colsample_bytree=0.7, learning_rate=0.001, max_depth=10, n_estimators=2500, objective=reg:squarederror, total=   3.2s\n",
            "[CV] alpha=1, colsample_bytree=0.7, learning_rate=0.01, max_depth=10, n_estimators=500, objective=reg:squarederror \n",
            "[CV]  alpha=1, colsample_bytree=0.7, learning_rate=0.01, max_depth=10, n_estimators=500, objective=reg:squarederror, total=   1.1s\n",
            "[CV] alpha=1, colsample_bytree=0.7, learning_rate=0.01, max_depth=10, n_estimators=500, objective=reg:squarederror \n",
            "[CV]  alpha=1, colsample_bytree=0.7, learning_rate=0.01, max_depth=10, n_estimators=500, objective=reg:squarederror, total=   1.1s\n",
            "[CV] alpha=1, colsample_bytree=0.7, learning_rate=0.01, max_depth=10, n_estimators=500, objective=reg:squarederror \n",
            "[CV]  alpha=1, colsample_bytree=0.7, learning_rate=0.01, max_depth=10, n_estimators=500, objective=reg:squarederror, total=   1.2s\n",
            "[CV] alpha=1, colsample_bytree=0.7, learning_rate=0.01, max_depth=10, n_estimators=1000, objective=reg:squarederror \n",
            "[CV]  alpha=1, colsample_bytree=0.7, learning_rate=0.01, max_depth=10, n_estimators=1000, objective=reg:squarederror, total=   3.5s\n",
            "[CV] alpha=1, colsample_bytree=0.7, learning_rate=0.01, max_depth=10, n_estimators=1000, objective=reg:squarederror \n",
            "[CV]  alpha=1, colsample_bytree=0.7, learning_rate=0.01, max_depth=10, n_estimators=1000, objective=reg:squarederror, total=   3.5s\n",
            "[CV] alpha=1, colsample_bytree=0.7, learning_rate=0.01, max_depth=10, n_estimators=1000, objective=reg:squarederror \n",
            "[CV]  alpha=1, colsample_bytree=0.7, learning_rate=0.01, max_depth=10, n_estimators=1000, objective=reg:squarederror, total=   3.6s\n",
            "[CV] alpha=1, colsample_bytree=0.7, learning_rate=0.01, max_depth=10, n_estimators=1500, objective=reg:squarederror \n",
            "[CV]  alpha=1, colsample_bytree=0.7, learning_rate=0.01, max_depth=10, n_estimators=1500, objective=reg:squarederror, total=   5.7s\n",
            "[CV] alpha=1, colsample_bytree=0.7, learning_rate=0.01, max_depth=10, n_estimators=1500, objective=reg:squarederror \n",
            "[CV]  alpha=1, colsample_bytree=0.7, learning_rate=0.01, max_depth=10, n_estimators=1500, objective=reg:squarederror, total=   5.7s\n",
            "[CV] alpha=1, colsample_bytree=0.7, learning_rate=0.01, max_depth=10, n_estimators=1500, objective=reg:squarederror \n",
            "[CV]  alpha=1, colsample_bytree=0.7, learning_rate=0.01, max_depth=10, n_estimators=1500, objective=reg:squarederror, total=   5.6s\n",
            "[CV] alpha=1, colsample_bytree=0.7, learning_rate=0.01, max_depth=10, n_estimators=2000, objective=reg:squarederror \n",
            "[CV]  alpha=1, colsample_bytree=0.7, learning_rate=0.01, max_depth=10, n_estimators=2000, objective=reg:squarederror, total=   7.8s\n",
            "[CV] alpha=1, colsample_bytree=0.7, learning_rate=0.01, max_depth=10, n_estimators=2000, objective=reg:squarederror \n",
            "[CV]  alpha=1, colsample_bytree=0.7, learning_rate=0.01, max_depth=10, n_estimators=2000, objective=reg:squarederror, total=   7.9s\n",
            "[CV] alpha=1, colsample_bytree=0.7, learning_rate=0.01, max_depth=10, n_estimators=2000, objective=reg:squarederror \n",
            "[CV]  alpha=1, colsample_bytree=0.7, learning_rate=0.01, max_depth=10, n_estimators=2000, objective=reg:squarederror, total=   7.8s\n",
            "[CV] alpha=1, colsample_bytree=0.7, learning_rate=0.01, max_depth=10, n_estimators=2500, objective=reg:squarederror \n",
            "[CV]  alpha=1, colsample_bytree=0.7, learning_rate=0.01, max_depth=10, n_estimators=2500, objective=reg:squarederror, total=  10.0s\n",
            "[CV] alpha=1, colsample_bytree=0.7, learning_rate=0.01, max_depth=10, n_estimators=2500, objective=reg:squarederror \n",
            "[CV]  alpha=1, colsample_bytree=0.7, learning_rate=0.01, max_depth=10, n_estimators=2500, objective=reg:squarederror, total=  10.0s\n",
            "[CV] alpha=1, colsample_bytree=0.7, learning_rate=0.01, max_depth=10, n_estimators=2500, objective=reg:squarederror \n",
            "[CV]  alpha=1, colsample_bytree=0.7, learning_rate=0.01, max_depth=10, n_estimators=2500, objective=reg:squarederror, total=  10.2s\n",
            "[CV] alpha=1, colsample_bytree=0.7, learning_rate=0.1, max_depth=10, n_estimators=500, objective=reg:squarederror \n",
            "[CV]  alpha=1, colsample_bytree=0.7, learning_rate=0.1, max_depth=10, n_estimators=500, objective=reg:squarederror, total=   1.9s\n",
            "[CV] alpha=1, colsample_bytree=0.7, learning_rate=0.1, max_depth=10, n_estimators=500, objective=reg:squarederror \n",
            "[CV]  alpha=1, colsample_bytree=0.7, learning_rate=0.1, max_depth=10, n_estimators=500, objective=reg:squarederror, total=   2.0s\n",
            "[CV] alpha=1, colsample_bytree=0.7, learning_rate=0.1, max_depth=10, n_estimators=500, objective=reg:squarederror \n",
            "[CV]  alpha=1, colsample_bytree=0.7, learning_rate=0.1, max_depth=10, n_estimators=500, objective=reg:squarederror, total=   2.0s\n",
            "[CV] alpha=1, colsample_bytree=0.7, learning_rate=0.1, max_depth=10, n_estimators=1000, objective=reg:squarederror \n",
            "[CV]  alpha=1, colsample_bytree=0.7, learning_rate=0.1, max_depth=10, n_estimators=1000, objective=reg:squarederror, total=   4.1s\n",
            "[CV] alpha=1, colsample_bytree=0.7, learning_rate=0.1, max_depth=10, n_estimators=1000, objective=reg:squarederror \n",
            "[CV]  alpha=1, colsample_bytree=0.7, learning_rate=0.1, max_depth=10, n_estimators=1000, objective=reg:squarederror, total=   4.0s\n",
            "[CV] alpha=1, colsample_bytree=0.7, learning_rate=0.1, max_depth=10, n_estimators=1000, objective=reg:squarederror \n",
            "[CV]  alpha=1, colsample_bytree=0.7, learning_rate=0.1, max_depth=10, n_estimators=1000, objective=reg:squarederror, total=   4.0s\n",
            "[CV] alpha=1, colsample_bytree=0.7, learning_rate=0.1, max_depth=10, n_estimators=1500, objective=reg:squarederror \n",
            "[CV]  alpha=1, colsample_bytree=0.7, learning_rate=0.1, max_depth=10, n_estimators=1500, objective=reg:squarederror, total=   6.1s\n",
            "[CV] alpha=1, colsample_bytree=0.7, learning_rate=0.1, max_depth=10, n_estimators=1500, objective=reg:squarederror \n",
            "[CV]  alpha=1, colsample_bytree=0.7, learning_rate=0.1, max_depth=10, n_estimators=1500, objective=reg:squarederror, total=   6.1s\n",
            "[CV] alpha=1, colsample_bytree=0.7, learning_rate=0.1, max_depth=10, n_estimators=1500, objective=reg:squarederror \n",
            "[CV]  alpha=1, colsample_bytree=0.7, learning_rate=0.1, max_depth=10, n_estimators=1500, objective=reg:squarederror, total=   6.2s\n",
            "[CV] alpha=1, colsample_bytree=0.7, learning_rate=0.1, max_depth=10, n_estimators=2000, objective=reg:squarederror \n",
            "[CV]  alpha=1, colsample_bytree=0.7, learning_rate=0.1, max_depth=10, n_estimators=2000, objective=reg:squarederror, total=   7.4s\n",
            "[CV] alpha=1, colsample_bytree=0.7, learning_rate=0.1, max_depth=10, n_estimators=2000, objective=reg:squarederror \n",
            "[CV]  alpha=1, colsample_bytree=0.7, learning_rate=0.1, max_depth=10, n_estimators=2000, objective=reg:squarederror, total=   7.3s\n",
            "[CV] alpha=1, colsample_bytree=0.7, learning_rate=0.1, max_depth=10, n_estimators=2000, objective=reg:squarederror \n",
            "[CV]  alpha=1, colsample_bytree=0.7, learning_rate=0.1, max_depth=10, n_estimators=2000, objective=reg:squarederror, total=   7.6s\n",
            "[CV] alpha=1, colsample_bytree=0.7, learning_rate=0.1, max_depth=10, n_estimators=2500, objective=reg:squarederror \n",
            "[CV]  alpha=1, colsample_bytree=0.7, learning_rate=0.1, max_depth=10, n_estimators=2500, objective=reg:squarederror, total=   7.7s\n",
            "[CV] alpha=1, colsample_bytree=0.7, learning_rate=0.1, max_depth=10, n_estimators=2500, objective=reg:squarederror \n",
            "[CV]  alpha=1, colsample_bytree=0.7, learning_rate=0.1, max_depth=10, n_estimators=2500, objective=reg:squarederror, total=   7.5s\n",
            "[CV] alpha=1, colsample_bytree=0.7, learning_rate=0.1, max_depth=10, n_estimators=2500, objective=reg:squarederror \n",
            "[CV]  alpha=1, colsample_bytree=0.7, learning_rate=0.1, max_depth=10, n_estimators=2500, objective=reg:squarederror, total=   7.9s\n",
            "[CV] alpha=1, colsample_bytree=0.7, learning_rate=1, max_depth=10, n_estimators=500, objective=reg:squarederror \n",
            "[CV]  alpha=1, colsample_bytree=0.7, learning_rate=1, max_depth=10, n_estimators=500, objective=reg:squarederror, total=   0.8s\n",
            "[CV] alpha=1, colsample_bytree=0.7, learning_rate=1, max_depth=10, n_estimators=500, objective=reg:squarederror \n",
            "[CV]  alpha=1, colsample_bytree=0.7, learning_rate=1, max_depth=10, n_estimators=500, objective=reg:squarederror, total=   0.8s\n",
            "[CV] alpha=1, colsample_bytree=0.7, learning_rate=1, max_depth=10, n_estimators=500, objective=reg:squarederror \n",
            "[CV]  alpha=1, colsample_bytree=0.7, learning_rate=1, max_depth=10, n_estimators=500, objective=reg:squarederror, total=   0.8s\n",
            "[CV] alpha=1, colsample_bytree=0.7, learning_rate=1, max_depth=10, n_estimators=1000, objective=reg:squarederror \n",
            "[CV]  alpha=1, colsample_bytree=0.7, learning_rate=1, max_depth=10, n_estimators=1000, objective=reg:squarederror, total=   1.2s\n",
            "[CV] alpha=1, colsample_bytree=0.7, learning_rate=1, max_depth=10, n_estimators=1000, objective=reg:squarederror \n",
            "[CV]  alpha=1, colsample_bytree=0.7, learning_rate=1, max_depth=10, n_estimators=1000, objective=reg:squarederror, total=   1.2s\n",
            "[CV] alpha=1, colsample_bytree=0.7, learning_rate=1, max_depth=10, n_estimators=1000, objective=reg:squarederror \n",
            "[CV]  alpha=1, colsample_bytree=0.7, learning_rate=1, max_depth=10, n_estimators=1000, objective=reg:squarederror, total=   1.2s\n",
            "[CV] alpha=1, colsample_bytree=0.7, learning_rate=1, max_depth=10, n_estimators=1500, objective=reg:squarederror \n",
            "[CV]  alpha=1, colsample_bytree=0.7, learning_rate=1, max_depth=10, n_estimators=1500, objective=reg:squarederror, total=   1.5s\n",
            "[CV] alpha=1, colsample_bytree=0.7, learning_rate=1, max_depth=10, n_estimators=1500, objective=reg:squarederror \n",
            "[CV]  alpha=1, colsample_bytree=0.7, learning_rate=1, max_depth=10, n_estimators=1500, objective=reg:squarederror, total=   1.6s\n",
            "[CV] alpha=1, colsample_bytree=0.7, learning_rate=1, max_depth=10, n_estimators=1500, objective=reg:squarederror \n",
            "[CV]  alpha=1, colsample_bytree=0.7, learning_rate=1, max_depth=10, n_estimators=1500, objective=reg:squarederror, total=   1.5s\n",
            "[CV] alpha=1, colsample_bytree=0.7, learning_rate=1, max_depth=10, n_estimators=2000, objective=reg:squarederror \n",
            "[CV]  alpha=1, colsample_bytree=0.7, learning_rate=1, max_depth=10, n_estimators=2000, objective=reg:squarederror, total=   1.9s\n",
            "[CV] alpha=1, colsample_bytree=0.7, learning_rate=1, max_depth=10, n_estimators=2000, objective=reg:squarederror \n",
            "[CV]  alpha=1, colsample_bytree=0.7, learning_rate=1, max_depth=10, n_estimators=2000, objective=reg:squarederror, total=   1.9s\n",
            "[CV] alpha=1, colsample_bytree=0.7, learning_rate=1, max_depth=10, n_estimators=2000, objective=reg:squarederror \n",
            "[CV]  alpha=1, colsample_bytree=0.7, learning_rate=1, max_depth=10, n_estimators=2000, objective=reg:squarederror, total=   1.9s\n",
            "[CV] alpha=1, colsample_bytree=0.7, learning_rate=1, max_depth=10, n_estimators=2500, objective=reg:squarederror \n",
            "[CV]  alpha=1, colsample_bytree=0.7, learning_rate=1, max_depth=10, n_estimators=2500, objective=reg:squarederror, total=   2.2s\n",
            "[CV] alpha=1, colsample_bytree=0.7, learning_rate=1, max_depth=10, n_estimators=2500, objective=reg:squarederror \n",
            "[CV]  alpha=1, colsample_bytree=0.7, learning_rate=1, max_depth=10, n_estimators=2500, objective=reg:squarederror, total=   2.3s\n",
            "[CV] alpha=1, colsample_bytree=0.7, learning_rate=1, max_depth=10, n_estimators=2500, objective=reg:squarederror \n",
            "[CV]  alpha=1, colsample_bytree=0.7, learning_rate=1, max_depth=10, n_estimators=2500, objective=reg:squarederror, total=   2.2s\n"
          ],
          "name": "stdout"
        },
        {
          "output_type": "stream",
          "text": [
            "[Parallel(n_jobs=1)]: Done  60 out of  60 | elapsed:  3.6min finished\n"
          ],
          "name": "stderr"
        }
      ]
    },
    {
      "cell_type": "code",
      "metadata": {
        "id": "76wQq30W0KEm",
        "colab_type": "code",
        "colab": {
          "base_uri": "https://localhost:8080/",
          "height": 148
        },
        "outputId": "a62bb82b-8df1-457e-b45f-434877a66381"
      },
      "source": [
        "XGR_GS.best_estimator_"
      ],
      "execution_count": null,
      "outputs": [
        {
          "output_type": "execute_result",
          "data": {
            "text/plain": [
              "XGBRegressor(alpha=1, base_score=0.5, booster='gbtree', colsample_bylevel=1,\n",
              "             colsample_bynode=1, colsample_bytree=0.7, gamma=0,\n",
              "             importance_type='gain', learning_rate=0.01, max_delta_step=0,\n",
              "             max_depth=10, min_child_weight=1, missing=None, n_estimators=2500,\n",
              "             n_jobs=1, nthread=None, objective='reg:squarederror',\n",
              "             random_state=0, reg_alpha=0, reg_lambda=1, scale_pos_weight=1,\n",
              "             seed=None, silent=None, subsample=1, verbosity=1)"
            ]
          },
          "metadata": {
            "tags": []
          },
          "execution_count": 31
        }
      ]
    },
    {
      "cell_type": "code",
      "metadata": {
        "id": "on2YX3cF0Q1D",
        "colab_type": "code",
        "colab": {}
      },
      "source": [
        "Y_pred_XGR = XGR_GS.predict(X_test)"
      ],
      "execution_count": null,
      "outputs": []
    },
    {
      "cell_type": "code",
      "metadata": {
        "id": "7eCvF0lN0TRH",
        "colab_type": "code",
        "colab": {
          "base_uri": "https://localhost:8080/",
          "height": 130
        },
        "outputId": "e76db72a-d63b-4cdd-aaa9-8d80c6ee42de"
      },
      "source": [
        "consolidator(XGR_GS,'XGBR_Original',X_train,Y_train,X_test,Y_test,Y_pred_XGR)"
      ],
      "execution_count": null,
      "outputs": [
        {
          "output_type": "stream",
          "text": [
            "XGBR_Original Model:-\n",
            "R^2 Score:  0.9969049705778318\n",
            "Test R^2 Score:  0.9757766878860032\n",
            "Mean Absolute Error : 1.9296070575033866\n",
            "Mean Squared Error : 6.959724131884074\n",
            "Root Mean Squared Error : 2.6381289073667484\n"
          ],
          "name": "stdout"
        }
      ]
    },
    {
      "cell_type": "markdown",
      "metadata": {
        "id": "RcE971Xf0DpF",
        "colab_type": "text"
      },
      "source": [
        "# XG Boost Regression Scaled"
      ]
    },
    {
      "cell_type": "code",
      "metadata": {
        "id": "SkkTiyB30HBY",
        "colab_type": "code",
        "colab": {
          "base_uri": "https://localhost:8080/",
          "height": 1000
        },
        "outputId": "204079f3-f341-4de7-8d99-acd7ed7cbe39"
      },
      "source": [
        "XGR = xgb.XGBRegressor()\n",
        "param_grid = {\"objective\":['reg:squarederror'],\n",
        "              'colsample_bytree': [0.7],\n",
        "              'learning_rate': [0.001,0.01,0.1,1],\n",
        "              'max_depth': [10], \n",
        "              'alpha': [1], \n",
        "              'n_estimators':[500,1000,1500,2000,2500]}\n",
        "\n",
        "grid_search = GridSearchCV(estimator = XGR, param_grid = param_grid,cv=3, verbose=2)\n",
        "XGR_GS = grid_search.fit(X_train_scaled, Y_train)"
      ],
      "execution_count": null,
      "outputs": [
        {
          "output_type": "stream",
          "text": [
            "Fitting 3 folds for each of 20 candidates, totalling 60 fits\n",
            "[CV] alpha=1, colsample_bytree=0.7, learning_rate=0.001, max_depth=10, n_estimators=500, objective=reg:squarederror \n"
          ],
          "name": "stdout"
        },
        {
          "output_type": "stream",
          "text": [
            "[Parallel(n_jobs=1)]: Using backend SequentialBackend with 1 concurrent workers.\n"
          ],
          "name": "stderr"
        },
        {
          "output_type": "stream",
          "text": [
            "[CV]  alpha=1, colsample_bytree=0.7, learning_rate=0.001, max_depth=10, n_estimators=500, objective=reg:squarederror, total=   0.5s\n",
            "[CV] alpha=1, colsample_bytree=0.7, learning_rate=0.001, max_depth=10, n_estimators=500, objective=reg:squarederror \n"
          ],
          "name": "stdout"
        },
        {
          "output_type": "stream",
          "text": [
            "[Parallel(n_jobs=1)]: Done   1 out of   1 | elapsed:    0.6s remaining:    0.0s\n"
          ],
          "name": "stderr"
        },
        {
          "output_type": "stream",
          "text": [
            "[CV]  alpha=1, colsample_bytree=0.7, learning_rate=0.001, max_depth=10, n_estimators=500, objective=reg:squarederror, total=   0.5s\n",
            "[CV] alpha=1, colsample_bytree=0.7, learning_rate=0.001, max_depth=10, n_estimators=500, objective=reg:squarederror \n",
            "[CV]  alpha=1, colsample_bytree=0.7, learning_rate=0.001, max_depth=10, n_estimators=500, objective=reg:squarederror, total=   0.5s\n",
            "[CV] alpha=1, colsample_bytree=0.7, learning_rate=0.001, max_depth=10, n_estimators=1000, objective=reg:squarederror \n",
            "[CV]  alpha=1, colsample_bytree=0.7, learning_rate=0.001, max_depth=10, n_estimators=1000, objective=reg:squarederror, total=   1.1s\n",
            "[CV] alpha=1, colsample_bytree=0.7, learning_rate=0.001, max_depth=10, n_estimators=1000, objective=reg:squarederror \n",
            "[CV]  alpha=1, colsample_bytree=0.7, learning_rate=0.001, max_depth=10, n_estimators=1000, objective=reg:squarederror, total=   1.1s\n",
            "[CV] alpha=1, colsample_bytree=0.7, learning_rate=0.001, max_depth=10, n_estimators=1000, objective=reg:squarederror \n",
            "[CV]  alpha=1, colsample_bytree=0.7, learning_rate=0.001, max_depth=10, n_estimators=1000, objective=reg:squarederror, total=   1.1s\n",
            "[CV] alpha=1, colsample_bytree=0.7, learning_rate=0.001, max_depth=10, n_estimators=1500, objective=reg:squarederror \n",
            "[CV]  alpha=1, colsample_bytree=0.7, learning_rate=0.001, max_depth=10, n_estimators=1500, objective=reg:squarederror, total=   1.7s\n",
            "[CV] alpha=1, colsample_bytree=0.7, learning_rate=0.001, max_depth=10, n_estimators=1500, objective=reg:squarederror \n",
            "[CV]  alpha=1, colsample_bytree=0.7, learning_rate=0.001, max_depth=10, n_estimators=1500, objective=reg:squarederror, total=   1.7s\n",
            "[CV] alpha=1, colsample_bytree=0.7, learning_rate=0.001, max_depth=10, n_estimators=1500, objective=reg:squarederror \n",
            "[CV]  alpha=1, colsample_bytree=0.7, learning_rate=0.001, max_depth=10, n_estimators=1500, objective=reg:squarederror, total=   1.8s\n",
            "[CV] alpha=1, colsample_bytree=0.7, learning_rate=0.001, max_depth=10, n_estimators=2000, objective=reg:squarederror \n",
            "[CV]  alpha=1, colsample_bytree=0.7, learning_rate=0.001, max_depth=10, n_estimators=2000, objective=reg:squarederror, total=   2.4s\n",
            "[CV] alpha=1, colsample_bytree=0.7, learning_rate=0.001, max_depth=10, n_estimators=2000, objective=reg:squarederror \n",
            "[CV]  alpha=1, colsample_bytree=0.7, learning_rate=0.001, max_depth=10, n_estimators=2000, objective=reg:squarederror, total=   2.4s\n",
            "[CV] alpha=1, colsample_bytree=0.7, learning_rate=0.001, max_depth=10, n_estimators=2000, objective=reg:squarederror \n",
            "[CV]  alpha=1, colsample_bytree=0.7, learning_rate=0.001, max_depth=10, n_estimators=2000, objective=reg:squarederror, total=   2.4s\n",
            "[CV] alpha=1, colsample_bytree=0.7, learning_rate=0.001, max_depth=10, n_estimators=2500, objective=reg:squarederror \n",
            "[CV]  alpha=1, colsample_bytree=0.7, learning_rate=0.001, max_depth=10, n_estimators=2500, objective=reg:squarederror, total=   3.1s\n",
            "[CV] alpha=1, colsample_bytree=0.7, learning_rate=0.001, max_depth=10, n_estimators=2500, objective=reg:squarederror \n",
            "[CV]  alpha=1, colsample_bytree=0.7, learning_rate=0.001, max_depth=10, n_estimators=2500, objective=reg:squarederror, total=   3.1s\n",
            "[CV] alpha=1, colsample_bytree=0.7, learning_rate=0.001, max_depth=10, n_estimators=2500, objective=reg:squarederror \n",
            "[CV]  alpha=1, colsample_bytree=0.7, learning_rate=0.001, max_depth=10, n_estimators=2500, objective=reg:squarederror, total=   3.2s\n",
            "[CV] alpha=1, colsample_bytree=0.7, learning_rate=0.01, max_depth=10, n_estimators=500, objective=reg:squarederror \n",
            "[CV]  alpha=1, colsample_bytree=0.7, learning_rate=0.01, max_depth=10, n_estimators=500, objective=reg:squarederror, total=   1.1s\n",
            "[CV] alpha=1, colsample_bytree=0.7, learning_rate=0.01, max_depth=10, n_estimators=500, objective=reg:squarederror \n",
            "[CV]  alpha=1, colsample_bytree=0.7, learning_rate=0.01, max_depth=10, n_estimators=500, objective=reg:squarederror, total=   1.1s\n",
            "[CV] alpha=1, colsample_bytree=0.7, learning_rate=0.01, max_depth=10, n_estimators=500, objective=reg:squarederror \n",
            "[CV]  alpha=1, colsample_bytree=0.7, learning_rate=0.01, max_depth=10, n_estimators=500, objective=reg:squarederror, total=   1.1s\n",
            "[CV] alpha=1, colsample_bytree=0.7, learning_rate=0.01, max_depth=10, n_estimators=1000, objective=reg:squarederror \n",
            "[CV]  alpha=1, colsample_bytree=0.7, learning_rate=0.01, max_depth=10, n_estimators=1000, objective=reg:squarederror, total=   3.4s\n",
            "[CV] alpha=1, colsample_bytree=0.7, learning_rate=0.01, max_depth=10, n_estimators=1000, objective=reg:squarederror \n",
            "[CV]  alpha=1, colsample_bytree=0.7, learning_rate=0.01, max_depth=10, n_estimators=1000, objective=reg:squarederror, total=   3.4s\n",
            "[CV] alpha=1, colsample_bytree=0.7, learning_rate=0.01, max_depth=10, n_estimators=1000, objective=reg:squarederror \n",
            "[CV]  alpha=1, colsample_bytree=0.7, learning_rate=0.01, max_depth=10, n_estimators=1000, objective=reg:squarederror, total=   3.4s\n",
            "[CV] alpha=1, colsample_bytree=0.7, learning_rate=0.01, max_depth=10, n_estimators=1500, objective=reg:squarederror \n",
            "[CV]  alpha=1, colsample_bytree=0.7, learning_rate=0.01, max_depth=10, n_estimators=1500, objective=reg:squarederror, total=   5.7s\n",
            "[CV] alpha=1, colsample_bytree=0.7, learning_rate=0.01, max_depth=10, n_estimators=1500, objective=reg:squarederror \n",
            "[CV]  alpha=1, colsample_bytree=0.7, learning_rate=0.01, max_depth=10, n_estimators=1500, objective=reg:squarederror, total=   5.6s\n",
            "[CV] alpha=1, colsample_bytree=0.7, learning_rate=0.01, max_depth=10, n_estimators=1500, objective=reg:squarederror \n",
            "[CV]  alpha=1, colsample_bytree=0.7, learning_rate=0.01, max_depth=10, n_estimators=1500, objective=reg:squarederror, total=   5.7s\n",
            "[CV] alpha=1, colsample_bytree=0.7, learning_rate=0.01, max_depth=10, n_estimators=2000, objective=reg:squarederror \n",
            "[CV]  alpha=1, colsample_bytree=0.7, learning_rate=0.01, max_depth=10, n_estimators=2000, objective=reg:squarederror, total=   7.8s\n",
            "[CV] alpha=1, colsample_bytree=0.7, learning_rate=0.01, max_depth=10, n_estimators=2000, objective=reg:squarederror \n",
            "[CV]  alpha=1, colsample_bytree=0.7, learning_rate=0.01, max_depth=10, n_estimators=2000, objective=reg:squarederror, total=   7.8s\n",
            "[CV] alpha=1, colsample_bytree=0.7, learning_rate=0.01, max_depth=10, n_estimators=2000, objective=reg:squarederror \n",
            "[CV]  alpha=1, colsample_bytree=0.7, learning_rate=0.01, max_depth=10, n_estimators=2000, objective=reg:squarederror, total=   8.0s\n",
            "[CV] alpha=1, colsample_bytree=0.7, learning_rate=0.01, max_depth=10, n_estimators=2500, objective=reg:squarederror \n",
            "[CV]  alpha=1, colsample_bytree=0.7, learning_rate=0.01, max_depth=10, n_estimators=2500, objective=reg:squarederror, total=  10.2s\n",
            "[CV] alpha=1, colsample_bytree=0.7, learning_rate=0.01, max_depth=10, n_estimators=2500, objective=reg:squarederror \n",
            "[CV]  alpha=1, colsample_bytree=0.7, learning_rate=0.01, max_depth=10, n_estimators=2500, objective=reg:squarederror, total=  10.1s\n",
            "[CV] alpha=1, colsample_bytree=0.7, learning_rate=0.01, max_depth=10, n_estimators=2500, objective=reg:squarederror \n",
            "[CV]  alpha=1, colsample_bytree=0.7, learning_rate=0.01, max_depth=10, n_estimators=2500, objective=reg:squarederror, total=  10.6s\n",
            "[CV] alpha=1, colsample_bytree=0.7, learning_rate=0.1, max_depth=10, n_estimators=500, objective=reg:squarederror \n",
            "[CV]  alpha=1, colsample_bytree=0.7, learning_rate=0.1, max_depth=10, n_estimators=500, objective=reg:squarederror, total=   2.0s\n",
            "[CV] alpha=1, colsample_bytree=0.7, learning_rate=0.1, max_depth=10, n_estimators=500, objective=reg:squarederror \n",
            "[CV]  alpha=1, colsample_bytree=0.7, learning_rate=0.1, max_depth=10, n_estimators=500, objective=reg:squarederror, total=   1.9s\n",
            "[CV] alpha=1, colsample_bytree=0.7, learning_rate=0.1, max_depth=10, n_estimators=500, objective=reg:squarederror \n",
            "[CV]  alpha=1, colsample_bytree=0.7, learning_rate=0.1, max_depth=10, n_estimators=500, objective=reg:squarederror, total=   1.9s\n",
            "[CV] alpha=1, colsample_bytree=0.7, learning_rate=0.1, max_depth=10, n_estimators=1000, objective=reg:squarederror \n",
            "[CV]  alpha=1, colsample_bytree=0.7, learning_rate=0.1, max_depth=10, n_estimators=1000, objective=reg:squarederror, total=   4.0s\n",
            "[CV] alpha=1, colsample_bytree=0.7, learning_rate=0.1, max_depth=10, n_estimators=1000, objective=reg:squarederror \n",
            "[CV]  alpha=1, colsample_bytree=0.7, learning_rate=0.1, max_depth=10, n_estimators=1000, objective=reg:squarederror, total=   4.0s\n",
            "[CV] alpha=1, colsample_bytree=0.7, learning_rate=0.1, max_depth=10, n_estimators=1000, objective=reg:squarederror \n",
            "[CV]  alpha=1, colsample_bytree=0.7, learning_rate=0.1, max_depth=10, n_estimators=1000, objective=reg:squarederror, total=   4.0s\n",
            "[CV] alpha=1, colsample_bytree=0.7, learning_rate=0.1, max_depth=10, n_estimators=1500, objective=reg:squarederror \n",
            "[CV]  alpha=1, colsample_bytree=0.7, learning_rate=0.1, max_depth=10, n_estimators=1500, objective=reg:squarederror, total=   6.1s\n",
            "[CV] alpha=1, colsample_bytree=0.7, learning_rate=0.1, max_depth=10, n_estimators=1500, objective=reg:squarederror \n",
            "[CV]  alpha=1, colsample_bytree=0.7, learning_rate=0.1, max_depth=10, n_estimators=1500, objective=reg:squarederror, total=   6.2s\n",
            "[CV] alpha=1, colsample_bytree=0.7, learning_rate=0.1, max_depth=10, n_estimators=1500, objective=reg:squarederror \n",
            "[CV]  alpha=1, colsample_bytree=0.7, learning_rate=0.1, max_depth=10, n_estimators=1500, objective=reg:squarederror, total=   6.1s\n",
            "[CV] alpha=1, colsample_bytree=0.7, learning_rate=0.1, max_depth=10, n_estimators=2000, objective=reg:squarederror \n",
            "[CV]  alpha=1, colsample_bytree=0.7, learning_rate=0.1, max_depth=10, n_estimators=2000, objective=reg:squarederror, total=   7.3s\n",
            "[CV] alpha=1, colsample_bytree=0.7, learning_rate=0.1, max_depth=10, n_estimators=2000, objective=reg:squarederror \n",
            "[CV]  alpha=1, colsample_bytree=0.7, learning_rate=0.1, max_depth=10, n_estimators=2000, objective=reg:squarederror, total=   7.2s\n",
            "[CV] alpha=1, colsample_bytree=0.7, learning_rate=0.1, max_depth=10, n_estimators=2000, objective=reg:squarederror \n",
            "[CV]  alpha=1, colsample_bytree=0.7, learning_rate=0.1, max_depth=10, n_estimators=2000, objective=reg:squarederror, total=   7.6s\n",
            "[CV] alpha=1, colsample_bytree=0.7, learning_rate=0.1, max_depth=10, n_estimators=2500, objective=reg:squarederror \n",
            "[CV]  alpha=1, colsample_bytree=0.7, learning_rate=0.1, max_depth=10, n_estimators=2500, objective=reg:squarederror, total=   7.8s\n",
            "[CV] alpha=1, colsample_bytree=0.7, learning_rate=0.1, max_depth=10, n_estimators=2500, objective=reg:squarederror \n",
            "[CV]  alpha=1, colsample_bytree=0.7, learning_rate=0.1, max_depth=10, n_estimators=2500, objective=reg:squarederror, total=   7.7s\n",
            "[CV] alpha=1, colsample_bytree=0.7, learning_rate=0.1, max_depth=10, n_estimators=2500, objective=reg:squarederror \n",
            "[CV]  alpha=1, colsample_bytree=0.7, learning_rate=0.1, max_depth=10, n_estimators=2500, objective=reg:squarederror, total=   8.0s\n",
            "[CV] alpha=1, colsample_bytree=0.7, learning_rate=1, max_depth=10, n_estimators=500, objective=reg:squarederror \n",
            "[CV]  alpha=1, colsample_bytree=0.7, learning_rate=1, max_depth=10, n_estimators=500, objective=reg:squarederror, total=   0.8s\n",
            "[CV] alpha=1, colsample_bytree=0.7, learning_rate=1, max_depth=10, n_estimators=500, objective=reg:squarederror \n",
            "[CV]  alpha=1, colsample_bytree=0.7, learning_rate=1, max_depth=10, n_estimators=500, objective=reg:squarederror, total=   0.8s\n",
            "[CV] alpha=1, colsample_bytree=0.7, learning_rate=1, max_depth=10, n_estimators=500, objective=reg:squarederror \n",
            "[CV]  alpha=1, colsample_bytree=0.7, learning_rate=1, max_depth=10, n_estimators=500, objective=reg:squarederror, total=   0.8s\n",
            "[CV] alpha=1, colsample_bytree=0.7, learning_rate=1, max_depth=10, n_estimators=1000, objective=reg:squarederror \n",
            "[CV]  alpha=1, colsample_bytree=0.7, learning_rate=1, max_depth=10, n_estimators=1000, objective=reg:squarederror, total=   1.2s\n",
            "[CV] alpha=1, colsample_bytree=0.7, learning_rate=1, max_depth=10, n_estimators=1000, objective=reg:squarederror \n",
            "[CV]  alpha=1, colsample_bytree=0.7, learning_rate=1, max_depth=10, n_estimators=1000, objective=reg:squarederror, total=   1.2s\n",
            "[CV] alpha=1, colsample_bytree=0.7, learning_rate=1, max_depth=10, n_estimators=1000, objective=reg:squarederror \n",
            "[CV]  alpha=1, colsample_bytree=0.7, learning_rate=1, max_depth=10, n_estimators=1000, objective=reg:squarederror, total=   1.2s\n",
            "[CV] alpha=1, colsample_bytree=0.7, learning_rate=1, max_depth=10, n_estimators=1500, objective=reg:squarederror \n",
            "[CV]  alpha=1, colsample_bytree=0.7, learning_rate=1, max_depth=10, n_estimators=1500, objective=reg:squarederror, total=   1.5s\n",
            "[CV] alpha=1, colsample_bytree=0.7, learning_rate=1, max_depth=10, n_estimators=1500, objective=reg:squarederror \n",
            "[CV]  alpha=1, colsample_bytree=0.7, learning_rate=1, max_depth=10, n_estimators=1500, objective=reg:squarederror, total=   1.6s\n",
            "[CV] alpha=1, colsample_bytree=0.7, learning_rate=1, max_depth=10, n_estimators=1500, objective=reg:squarederror \n",
            "[CV]  alpha=1, colsample_bytree=0.7, learning_rate=1, max_depth=10, n_estimators=1500, objective=reg:squarederror, total=   1.5s\n",
            "[CV] alpha=1, colsample_bytree=0.7, learning_rate=1, max_depth=10, n_estimators=2000, objective=reg:squarederror \n",
            "[CV]  alpha=1, colsample_bytree=0.7, learning_rate=1, max_depth=10, n_estimators=2000, objective=reg:squarederror, total=   1.9s\n",
            "[CV] alpha=1, colsample_bytree=0.7, learning_rate=1, max_depth=10, n_estimators=2000, objective=reg:squarederror \n",
            "[CV]  alpha=1, colsample_bytree=0.7, learning_rate=1, max_depth=10, n_estimators=2000, objective=reg:squarederror, total=   1.9s\n",
            "[CV] alpha=1, colsample_bytree=0.7, learning_rate=1, max_depth=10, n_estimators=2000, objective=reg:squarederror \n",
            "[CV]  alpha=1, colsample_bytree=0.7, learning_rate=1, max_depth=10, n_estimators=2000, objective=reg:squarederror, total=   1.9s\n",
            "[CV] alpha=1, colsample_bytree=0.7, learning_rate=1, max_depth=10, n_estimators=2500, objective=reg:squarederror \n",
            "[CV]  alpha=1, colsample_bytree=0.7, learning_rate=1, max_depth=10, n_estimators=2500, objective=reg:squarederror, total=   2.2s\n",
            "[CV] alpha=1, colsample_bytree=0.7, learning_rate=1, max_depth=10, n_estimators=2500, objective=reg:squarederror \n",
            "[CV]  alpha=1, colsample_bytree=0.7, learning_rate=1, max_depth=10, n_estimators=2500, objective=reg:squarederror, total=   2.2s\n",
            "[CV] alpha=1, colsample_bytree=0.7, learning_rate=1, max_depth=10, n_estimators=2500, objective=reg:squarederror \n",
            "[CV]  alpha=1, colsample_bytree=0.7, learning_rate=1, max_depth=10, n_estimators=2500, objective=reg:squarederror, total=   2.3s\n"
          ],
          "name": "stdout"
        },
        {
          "output_type": "stream",
          "text": [
            "[Parallel(n_jobs=1)]: Done  60 out of  60 | elapsed:  3.6min finished\n"
          ],
          "name": "stderr"
        }
      ]
    },
    {
      "cell_type": "code",
      "metadata": {
        "id": "61DYLs-q0X4k",
        "colab_type": "code",
        "colab": {
          "base_uri": "https://localhost:8080/",
          "height": 148
        },
        "outputId": "4577b2bb-063f-4988-8f40-c26592519c56"
      },
      "source": [
        "XGR_GS.best_estimator_"
      ],
      "execution_count": null,
      "outputs": [
        {
          "output_type": "execute_result",
          "data": {
            "text/plain": [
              "XGBRegressor(alpha=1, base_score=0.5, booster='gbtree', colsample_bylevel=1,\n",
              "             colsample_bynode=1, colsample_bytree=0.7, gamma=0,\n",
              "             importance_type='gain', learning_rate=0.01, max_delta_step=0,\n",
              "             max_depth=10, min_child_weight=1, missing=None, n_estimators=2500,\n",
              "             n_jobs=1, nthread=None, objective='reg:squarederror',\n",
              "             random_state=0, reg_alpha=0, reg_lambda=1, scale_pos_weight=1,\n",
              "             seed=None, silent=None, subsample=1, verbosity=1)"
            ]
          },
          "metadata": {
            "tags": []
          },
          "execution_count": 35
        }
      ]
    },
    {
      "cell_type": "code",
      "metadata": {
        "id": "X9RQkXP-0ZOe",
        "colab_type": "code",
        "colab": {}
      },
      "source": [
        "Y_pred_XGR = XGR_GS.predict(X_test_scaled)"
      ],
      "execution_count": null,
      "outputs": []
    },
    {
      "cell_type": "code",
      "metadata": {
        "id": "BSKICdLG0bTF",
        "colab_type": "code",
        "colab": {
          "base_uri": "https://localhost:8080/",
          "height": 130
        },
        "outputId": "aa9a39bc-29e1-49d6-b50f-a0c29e9cebfa"
      },
      "source": [
        "consolidator(XGR_GS,'XGBR_scaled',X_train_scaled,Y_train,X_test_scaled,Y_test,Y_pred_XGR)"
      ],
      "execution_count": null,
      "outputs": [
        {
          "output_type": "stream",
          "text": [
            "XGBR_scaled Model:-\n",
            "R^2 Score:  0.9969049705778318\n",
            "Test R^2 Score:  0.9758110551885268\n",
            "Mean Absolute Error : 1.9293099386484052\n",
            "Mean Squared Error : 6.949849885802642\n",
            "Root Mean Squared Error : 2.636256794358744\n"
          ],
          "name": "stdout"
        }
      ]
    },
    {
      "cell_type": "markdown",
      "metadata": {
        "id": "2aR7ZTMb-ISr",
        "colab_type": "text"
      },
      "source": [
        "# XG Boost Normalize"
      ]
    },
    {
      "cell_type": "code",
      "metadata": {
        "id": "kav1SNME-NWa",
        "colab_type": "code",
        "colab": {
          "base_uri": "https://localhost:8080/",
          "height": 1000
        },
        "outputId": "3d6ee3c4-bf60-4e93-9d76-83d4f6a215c3"
      },
      "source": [
        "XGR = xgb.XGBRegressor()\n",
        "param_grid = {\"objective\":['reg:squarederror'],\n",
        "              'colsample_bytree': [0.7],\n",
        "              'learning_rate': [0.001,0.01,0.1,1],\n",
        "              'max_depth': [10], \n",
        "              'alpha': [1], \n",
        "              'n_estimators':[500,1000,1500,2000,2500]}\n",
        "\n",
        "grid_search = GridSearchCV(estimator = XGR, param_grid = param_grid,cv=3, verbose=2)\n",
        "XGR_GS = grid_search.fit(X_train_norm, Y_train)"
      ],
      "execution_count": null,
      "outputs": [
        {
          "output_type": "stream",
          "text": [
            "Fitting 3 folds for each of 20 candidates, totalling 60 fits\n",
            "[CV] alpha=1, colsample_bytree=0.7, learning_rate=0.001, max_depth=10, n_estimators=500, objective=reg:squarederror \n"
          ],
          "name": "stdout"
        },
        {
          "output_type": "stream",
          "text": [
            "[Parallel(n_jobs=1)]: Using backend SequentialBackend with 1 concurrent workers.\n"
          ],
          "name": "stderr"
        },
        {
          "output_type": "stream",
          "text": [
            "[CV]  alpha=1, colsample_bytree=0.7, learning_rate=0.001, max_depth=10, n_estimators=500, objective=reg:squarederror, total=   0.5s\n",
            "[CV] alpha=1, colsample_bytree=0.7, learning_rate=0.001, max_depth=10, n_estimators=500, objective=reg:squarederror \n"
          ],
          "name": "stdout"
        },
        {
          "output_type": "stream",
          "text": [
            "[Parallel(n_jobs=1)]: Done   1 out of   1 | elapsed:    0.5s remaining:    0.0s\n"
          ],
          "name": "stderr"
        },
        {
          "output_type": "stream",
          "text": [
            "[CV]  alpha=1, colsample_bytree=0.7, learning_rate=0.001, max_depth=10, n_estimators=500, objective=reg:squarederror, total=   0.5s\n",
            "[CV] alpha=1, colsample_bytree=0.7, learning_rate=0.001, max_depth=10, n_estimators=500, objective=reg:squarederror \n",
            "[CV]  alpha=1, colsample_bytree=0.7, learning_rate=0.001, max_depth=10, n_estimators=500, objective=reg:squarederror, total=   0.5s\n",
            "[CV] alpha=1, colsample_bytree=0.7, learning_rate=0.001, max_depth=10, n_estimators=1000, objective=reg:squarederror \n",
            "[CV]  alpha=1, colsample_bytree=0.7, learning_rate=0.001, max_depth=10, n_estimators=1000, objective=reg:squarederror, total=   1.2s\n",
            "[CV] alpha=1, colsample_bytree=0.7, learning_rate=0.001, max_depth=10, n_estimators=1000, objective=reg:squarederror \n",
            "[CV]  alpha=1, colsample_bytree=0.7, learning_rate=0.001, max_depth=10, n_estimators=1000, objective=reg:squarederror, total=   1.2s\n",
            "[CV] alpha=1, colsample_bytree=0.7, learning_rate=0.001, max_depth=10, n_estimators=1000, objective=reg:squarederror \n",
            "[CV]  alpha=1, colsample_bytree=0.7, learning_rate=0.001, max_depth=10, n_estimators=1000, objective=reg:squarederror, total=   1.2s\n",
            "[CV] alpha=1, colsample_bytree=0.7, learning_rate=0.001, max_depth=10, n_estimators=1500, objective=reg:squarederror \n",
            "[CV]  alpha=1, colsample_bytree=0.7, learning_rate=0.001, max_depth=10, n_estimators=1500, objective=reg:squarederror, total=   1.8s\n",
            "[CV] alpha=1, colsample_bytree=0.7, learning_rate=0.001, max_depth=10, n_estimators=1500, objective=reg:squarederror \n",
            "[CV]  alpha=1, colsample_bytree=0.7, learning_rate=0.001, max_depth=10, n_estimators=1500, objective=reg:squarederror, total=   1.8s\n",
            "[CV] alpha=1, colsample_bytree=0.7, learning_rate=0.001, max_depth=10, n_estimators=1500, objective=reg:squarederror \n",
            "[CV]  alpha=1, colsample_bytree=0.7, learning_rate=0.001, max_depth=10, n_estimators=1500, objective=reg:squarederror, total=   1.9s\n",
            "[CV] alpha=1, colsample_bytree=0.7, learning_rate=0.001, max_depth=10, n_estimators=2000, objective=reg:squarederror \n",
            "[CV]  alpha=1, colsample_bytree=0.7, learning_rate=0.001, max_depth=10, n_estimators=2000, objective=reg:squarederror, total=   2.6s\n",
            "[CV] alpha=1, colsample_bytree=0.7, learning_rate=0.001, max_depth=10, n_estimators=2000, objective=reg:squarederror \n",
            "[CV]  alpha=1, colsample_bytree=0.7, learning_rate=0.001, max_depth=10, n_estimators=2000, objective=reg:squarederror, total=   2.5s\n",
            "[CV] alpha=1, colsample_bytree=0.7, learning_rate=0.001, max_depth=10, n_estimators=2000, objective=reg:squarederror \n",
            "[CV]  alpha=1, colsample_bytree=0.7, learning_rate=0.001, max_depth=10, n_estimators=2000, objective=reg:squarederror, total=   2.5s\n",
            "[CV] alpha=1, colsample_bytree=0.7, learning_rate=0.001, max_depth=10, n_estimators=2500, objective=reg:squarederror \n",
            "[CV]  alpha=1, colsample_bytree=0.7, learning_rate=0.001, max_depth=10, n_estimators=2500, objective=reg:squarederror, total=   3.4s\n",
            "[CV] alpha=1, colsample_bytree=0.7, learning_rate=0.001, max_depth=10, n_estimators=2500, objective=reg:squarederror \n",
            "[CV]  alpha=1, colsample_bytree=0.7, learning_rate=0.001, max_depth=10, n_estimators=2500, objective=reg:squarederror, total=   3.3s\n",
            "[CV] alpha=1, colsample_bytree=0.7, learning_rate=0.001, max_depth=10, n_estimators=2500, objective=reg:squarederror \n",
            "[CV]  alpha=1, colsample_bytree=0.7, learning_rate=0.001, max_depth=10, n_estimators=2500, objective=reg:squarederror, total=   3.4s\n",
            "[CV] alpha=1, colsample_bytree=0.7, learning_rate=0.01, max_depth=10, n_estimators=500, objective=reg:squarederror \n",
            "[CV]  alpha=1, colsample_bytree=0.7, learning_rate=0.01, max_depth=10, n_estimators=500, objective=reg:squarederror, total=   1.2s\n",
            "[CV] alpha=1, colsample_bytree=0.7, learning_rate=0.01, max_depth=10, n_estimators=500, objective=reg:squarederror \n",
            "[CV]  alpha=1, colsample_bytree=0.7, learning_rate=0.01, max_depth=10, n_estimators=500, objective=reg:squarederror, total=   1.2s\n",
            "[CV] alpha=1, colsample_bytree=0.7, learning_rate=0.01, max_depth=10, n_estimators=500, objective=reg:squarederror \n",
            "[CV]  alpha=1, colsample_bytree=0.7, learning_rate=0.01, max_depth=10, n_estimators=500, objective=reg:squarederror, total=   1.2s\n",
            "[CV] alpha=1, colsample_bytree=0.7, learning_rate=0.01, max_depth=10, n_estimators=1000, objective=reg:squarederror \n",
            "[CV]  alpha=1, colsample_bytree=0.7, learning_rate=0.01, max_depth=10, n_estimators=1000, objective=reg:squarederror, total=   3.4s\n",
            "[CV] alpha=1, colsample_bytree=0.7, learning_rate=0.01, max_depth=10, n_estimators=1000, objective=reg:squarederror \n",
            "[CV]  alpha=1, colsample_bytree=0.7, learning_rate=0.01, max_depth=10, n_estimators=1000, objective=reg:squarederror, total=   3.4s\n",
            "[CV] alpha=1, colsample_bytree=0.7, learning_rate=0.01, max_depth=10, n_estimators=1000, objective=reg:squarederror \n",
            "[CV]  alpha=1, colsample_bytree=0.7, learning_rate=0.01, max_depth=10, n_estimators=1000, objective=reg:squarederror, total=   3.4s\n",
            "[CV] alpha=1, colsample_bytree=0.7, learning_rate=0.01, max_depth=10, n_estimators=1500, objective=reg:squarederror \n",
            "[CV]  alpha=1, colsample_bytree=0.7, learning_rate=0.01, max_depth=10, n_estimators=1500, objective=reg:squarederror, total=   5.6s\n",
            "[CV] alpha=1, colsample_bytree=0.7, learning_rate=0.01, max_depth=10, n_estimators=1500, objective=reg:squarederror \n",
            "[CV]  alpha=1, colsample_bytree=0.7, learning_rate=0.01, max_depth=10, n_estimators=1500, objective=reg:squarederror, total=   5.7s\n",
            "[CV] alpha=1, colsample_bytree=0.7, learning_rate=0.01, max_depth=10, n_estimators=1500, objective=reg:squarederror \n",
            "[CV]  alpha=1, colsample_bytree=0.7, learning_rate=0.01, max_depth=10, n_estimators=1500, objective=reg:squarederror, total=   5.8s\n",
            "[CV] alpha=1, colsample_bytree=0.7, learning_rate=0.01, max_depth=10, n_estimators=2000, objective=reg:squarederror \n",
            "[CV]  alpha=1, colsample_bytree=0.7, learning_rate=0.01, max_depth=10, n_estimators=2000, objective=reg:squarederror, total=   7.9s\n",
            "[CV] alpha=1, colsample_bytree=0.7, learning_rate=0.01, max_depth=10, n_estimators=2000, objective=reg:squarederror \n",
            "[CV]  alpha=1, colsample_bytree=0.7, learning_rate=0.01, max_depth=10, n_estimators=2000, objective=reg:squarederror, total=   7.9s\n",
            "[CV] alpha=1, colsample_bytree=0.7, learning_rate=0.01, max_depth=10, n_estimators=2000, objective=reg:squarederror \n",
            "[CV]  alpha=1, colsample_bytree=0.7, learning_rate=0.01, max_depth=10, n_estimators=2000, objective=reg:squarederror, total=   7.8s\n",
            "[CV] alpha=1, colsample_bytree=0.7, learning_rate=0.01, max_depth=10, n_estimators=2500, objective=reg:squarederror \n",
            "[CV]  alpha=1, colsample_bytree=0.7, learning_rate=0.01, max_depth=10, n_estimators=2500, objective=reg:squarederror, total=  10.1s\n",
            "[CV] alpha=1, colsample_bytree=0.7, learning_rate=0.01, max_depth=10, n_estimators=2500, objective=reg:squarederror \n",
            "[CV]  alpha=1, colsample_bytree=0.7, learning_rate=0.01, max_depth=10, n_estimators=2500, objective=reg:squarederror, total=  10.1s\n",
            "[CV] alpha=1, colsample_bytree=0.7, learning_rate=0.01, max_depth=10, n_estimators=2500, objective=reg:squarederror \n",
            "[CV]  alpha=1, colsample_bytree=0.7, learning_rate=0.01, max_depth=10, n_estimators=2500, objective=reg:squarederror, total=  10.0s\n",
            "[CV] alpha=1, colsample_bytree=0.7, learning_rate=0.1, max_depth=10, n_estimators=500, objective=reg:squarederror \n",
            "[CV]  alpha=1, colsample_bytree=0.7, learning_rate=0.1, max_depth=10, n_estimators=500, objective=reg:squarederror, total=   1.9s\n",
            "[CV] alpha=1, colsample_bytree=0.7, learning_rate=0.1, max_depth=10, n_estimators=500, objective=reg:squarederror \n",
            "[CV]  alpha=1, colsample_bytree=0.7, learning_rate=0.1, max_depth=10, n_estimators=500, objective=reg:squarederror, total=   1.9s\n",
            "[CV] alpha=1, colsample_bytree=0.7, learning_rate=0.1, max_depth=10, n_estimators=500, objective=reg:squarederror \n",
            "[CV]  alpha=1, colsample_bytree=0.7, learning_rate=0.1, max_depth=10, n_estimators=500, objective=reg:squarederror, total=   2.0s\n",
            "[CV] alpha=1, colsample_bytree=0.7, learning_rate=0.1, max_depth=10, n_estimators=1000, objective=reg:squarederror \n",
            "[CV]  alpha=1, colsample_bytree=0.7, learning_rate=0.1, max_depth=10, n_estimators=1000, objective=reg:squarederror, total=   4.1s\n",
            "[CV] alpha=1, colsample_bytree=0.7, learning_rate=0.1, max_depth=10, n_estimators=1000, objective=reg:squarederror \n",
            "[CV]  alpha=1, colsample_bytree=0.7, learning_rate=0.1, max_depth=10, n_estimators=1000, objective=reg:squarederror, total=   4.1s\n",
            "[CV] alpha=1, colsample_bytree=0.7, learning_rate=0.1, max_depth=10, n_estimators=1000, objective=reg:squarederror \n",
            "[CV]  alpha=1, colsample_bytree=0.7, learning_rate=0.1, max_depth=10, n_estimators=1000, objective=reg:squarederror, total=   4.1s\n",
            "[CV] alpha=1, colsample_bytree=0.7, learning_rate=0.1, max_depth=10, n_estimators=1500, objective=reg:squarederror \n",
            "[CV]  alpha=1, colsample_bytree=0.7, learning_rate=0.1, max_depth=10, n_estimators=1500, objective=reg:squarederror, total=   6.2s\n",
            "[CV] alpha=1, colsample_bytree=0.7, learning_rate=0.1, max_depth=10, n_estimators=1500, objective=reg:squarederror \n",
            "[CV]  alpha=1, colsample_bytree=0.7, learning_rate=0.1, max_depth=10, n_estimators=1500, objective=reg:squarederror, total=   6.2s\n",
            "[CV] alpha=1, colsample_bytree=0.7, learning_rate=0.1, max_depth=10, n_estimators=1500, objective=reg:squarederror \n",
            "[CV]  alpha=1, colsample_bytree=0.7, learning_rate=0.1, max_depth=10, n_estimators=1500, objective=reg:squarederror, total=   6.3s\n",
            "[CV] alpha=1, colsample_bytree=0.7, learning_rate=0.1, max_depth=10, n_estimators=2000, objective=reg:squarederror \n",
            "[CV]  alpha=1, colsample_bytree=0.7, learning_rate=0.1, max_depth=10, n_estimators=2000, objective=reg:squarederror, total=   8.4s\n",
            "[CV] alpha=1, colsample_bytree=0.7, learning_rate=0.1, max_depth=10, n_estimators=2000, objective=reg:squarederror \n",
            "[CV]  alpha=1, colsample_bytree=0.7, learning_rate=0.1, max_depth=10, n_estimators=2000, objective=reg:squarederror, total=   8.3s\n",
            "[CV] alpha=1, colsample_bytree=0.7, learning_rate=0.1, max_depth=10, n_estimators=2000, objective=reg:squarederror \n",
            "[CV]  alpha=1, colsample_bytree=0.7, learning_rate=0.1, max_depth=10, n_estimators=2000, objective=reg:squarederror, total=   8.3s\n",
            "[CV] alpha=1, colsample_bytree=0.7, learning_rate=0.1, max_depth=10, n_estimators=2500, objective=reg:squarederror \n",
            "[CV]  alpha=1, colsample_bytree=0.7, learning_rate=0.1, max_depth=10, n_estimators=2500, objective=reg:squarederror, total=   9.9s\n",
            "[CV] alpha=1, colsample_bytree=0.7, learning_rate=0.1, max_depth=10, n_estimators=2500, objective=reg:squarederror \n",
            "[CV]  alpha=1, colsample_bytree=0.7, learning_rate=0.1, max_depth=10, n_estimators=2500, objective=reg:squarederror, total=   9.8s\n",
            "[CV] alpha=1, colsample_bytree=0.7, learning_rate=0.1, max_depth=10, n_estimators=2500, objective=reg:squarederror \n",
            "[CV]  alpha=1, colsample_bytree=0.7, learning_rate=0.1, max_depth=10, n_estimators=2500, objective=reg:squarederror, total=   9.3s\n",
            "[CV] alpha=1, colsample_bytree=0.7, learning_rate=1, max_depth=10, n_estimators=500, objective=reg:squarederror \n",
            "[CV]  alpha=1, colsample_bytree=0.7, learning_rate=1, max_depth=10, n_estimators=500, objective=reg:squarederror, total=   0.9s\n",
            "[CV] alpha=1, colsample_bytree=0.7, learning_rate=1, max_depth=10, n_estimators=500, objective=reg:squarederror \n",
            "[CV]  alpha=1, colsample_bytree=0.7, learning_rate=1, max_depth=10, n_estimators=500, objective=reg:squarederror, total=   0.9s\n",
            "[CV] alpha=1, colsample_bytree=0.7, learning_rate=1, max_depth=10, n_estimators=500, objective=reg:squarederror \n",
            "[CV]  alpha=1, colsample_bytree=0.7, learning_rate=1, max_depth=10, n_estimators=500, objective=reg:squarederror, total=   0.9s\n",
            "[CV] alpha=1, colsample_bytree=0.7, learning_rate=1, max_depth=10, n_estimators=1000, objective=reg:squarederror \n",
            "[CV]  alpha=1, colsample_bytree=0.7, learning_rate=1, max_depth=10, n_estimators=1000, objective=reg:squarederror, total=   1.3s\n",
            "[CV] alpha=1, colsample_bytree=0.7, learning_rate=1, max_depth=10, n_estimators=1000, objective=reg:squarederror \n",
            "[CV]  alpha=1, colsample_bytree=0.7, learning_rate=1, max_depth=10, n_estimators=1000, objective=reg:squarederror, total=   1.2s\n",
            "[CV] alpha=1, colsample_bytree=0.7, learning_rate=1, max_depth=10, n_estimators=1000, objective=reg:squarederror \n",
            "[CV]  alpha=1, colsample_bytree=0.7, learning_rate=1, max_depth=10, n_estimators=1000, objective=reg:squarederror, total=   1.3s\n",
            "[CV] alpha=1, colsample_bytree=0.7, learning_rate=1, max_depth=10, n_estimators=1500, objective=reg:squarederror \n",
            "[CV]  alpha=1, colsample_bytree=0.7, learning_rate=1, max_depth=10, n_estimators=1500, objective=reg:squarederror, total=   1.6s\n",
            "[CV] alpha=1, colsample_bytree=0.7, learning_rate=1, max_depth=10, n_estimators=1500, objective=reg:squarederror \n",
            "[CV]  alpha=1, colsample_bytree=0.7, learning_rate=1, max_depth=10, n_estimators=1500, objective=reg:squarederror, total=   1.6s\n",
            "[CV] alpha=1, colsample_bytree=0.7, learning_rate=1, max_depth=10, n_estimators=1500, objective=reg:squarederror \n",
            "[CV]  alpha=1, colsample_bytree=0.7, learning_rate=1, max_depth=10, n_estimators=1500, objective=reg:squarederror, total=   1.6s\n",
            "[CV] alpha=1, colsample_bytree=0.7, learning_rate=1, max_depth=10, n_estimators=2000, objective=reg:squarederror \n",
            "[CV]  alpha=1, colsample_bytree=0.7, learning_rate=1, max_depth=10, n_estimators=2000, objective=reg:squarederror, total=   2.0s\n",
            "[CV] alpha=1, colsample_bytree=0.7, learning_rate=1, max_depth=10, n_estimators=2000, objective=reg:squarederror \n",
            "[CV]  alpha=1, colsample_bytree=0.7, learning_rate=1, max_depth=10, n_estimators=2000, objective=reg:squarederror, total=   2.0s\n",
            "[CV] alpha=1, colsample_bytree=0.7, learning_rate=1, max_depth=10, n_estimators=2000, objective=reg:squarederror \n",
            "[CV]  alpha=1, colsample_bytree=0.7, learning_rate=1, max_depth=10, n_estimators=2000, objective=reg:squarederror, total=   2.0s\n",
            "[CV] alpha=1, colsample_bytree=0.7, learning_rate=1, max_depth=10, n_estimators=2500, objective=reg:squarederror \n",
            "[CV]  alpha=1, colsample_bytree=0.7, learning_rate=1, max_depth=10, n_estimators=2500, objective=reg:squarederror, total=   2.3s\n",
            "[CV] alpha=1, colsample_bytree=0.7, learning_rate=1, max_depth=10, n_estimators=2500, objective=reg:squarederror \n",
            "[CV]  alpha=1, colsample_bytree=0.7, learning_rate=1, max_depth=10, n_estimators=2500, objective=reg:squarederror, total=   2.3s\n",
            "[CV] alpha=1, colsample_bytree=0.7, learning_rate=1, max_depth=10, n_estimators=2500, objective=reg:squarederror \n",
            "[CV]  alpha=1, colsample_bytree=0.7, learning_rate=1, max_depth=10, n_estimators=2500, objective=reg:squarederror, total=   2.4s\n"
          ],
          "name": "stdout"
        },
        {
          "output_type": "stream",
          "text": [
            "[Parallel(n_jobs=1)]: Done  60 out of  60 | elapsed:  3.8min finished\n"
          ],
          "name": "stderr"
        }
      ]
    },
    {
      "cell_type": "code",
      "metadata": {
        "id": "Gq_rX8Ku-PXV",
        "colab_type": "code",
        "colab": {
          "base_uri": "https://localhost:8080/",
          "height": 148
        },
        "outputId": "b04509a7-d949-49c4-c591-919af0017de9"
      },
      "source": [
        "XGR_GS.best_estimator_"
      ],
      "execution_count": null,
      "outputs": [
        {
          "output_type": "execute_result",
          "data": {
            "text/plain": [
              "XGBRegressor(alpha=1, base_score=0.5, booster='gbtree', colsample_bylevel=1,\n",
              "             colsample_bynode=1, colsample_bytree=0.7, gamma=0,\n",
              "             importance_type='gain', learning_rate=0.01, max_delta_step=0,\n",
              "             max_depth=10, min_child_weight=1, missing=None, n_estimators=2500,\n",
              "             n_jobs=1, nthread=None, objective='reg:squarederror',\n",
              "             random_state=0, reg_alpha=0, reg_lambda=1, scale_pos_weight=1,\n",
              "             seed=None, silent=None, subsample=1, verbosity=1)"
            ]
          },
          "metadata": {
            "tags": []
          },
          "execution_count": 39
        }
      ]
    },
    {
      "cell_type": "code",
      "metadata": {
        "id": "AeeAkDBG-R8y",
        "colab_type": "code",
        "colab": {}
      },
      "source": [
        "Y_pred_XGR = XGR_GS.predict(X_test_norm)"
      ],
      "execution_count": null,
      "outputs": []
    },
    {
      "cell_type": "code",
      "metadata": {
        "id": "TZB3UoGI-SBz",
        "colab_type": "code",
        "colab": {
          "base_uri": "https://localhost:8080/",
          "height": 130
        },
        "outputId": "29dc6363-a49a-4a08-da38-a2fc722d100c"
      },
      "source": [
        "consolidator(XGR_GS,'XGBR_norm',X_train_norm,Y_train,X_test_norm,Y_test,Y_pred_XGR)"
      ],
      "execution_count": null,
      "outputs": [
        {
          "output_type": "stream",
          "text": [
            "XGBR_norm Model:-\n",
            "R^2 Score:  0.9948624541890114\n",
            "Test R^2 Score:  0.9662130454580046\n",
            "Mean Absolute Error : 2.264695991286747\n",
            "Mean Squared Error : 9.707503324160307\n",
            "Root Mean Squared Error : 3.115686653718616\n"
          ],
          "name": "stdout"
        }
      ]
    },
    {
      "cell_type": "markdown",
      "metadata": {
        "id": "bpCH0hH70ahH",
        "colab_type": "text"
      },
      "source": [
        "# Ada Boost Regression Original"
      ]
    },
    {
      "cell_type": "code",
      "metadata": {
        "id": "VlMLO2ox0sT_",
        "colab_type": "code",
        "colab": {
          "base_uri": "https://localhost:8080/",
          "height": 1000
        },
        "outputId": "951edd1c-ad88-4e6a-9b29-d07ff9c217f8"
      },
      "source": [
        "ABR = AdaBoostRegressor()\n",
        "param_grid = {'n_estimators': [500,1000,2000,2500],\n",
        "             'learning_rate': [0.001,0.01,0.1,1]}\n",
        "\n",
        "grid_search = GridSearchCV(estimator = ABR, param_grid = param_grid,cv=3,verbose=2)\n",
        "ABR_GS = grid_search.fit(X_train, Y_train)"
      ],
      "execution_count": null,
      "outputs": [
        {
          "output_type": "stream",
          "text": [
            "Fitting 3 folds for each of 16 candidates, totalling 48 fits\n",
            "[CV] learning_rate=0.001, n_estimators=500 ...........................\n"
          ],
          "name": "stdout"
        },
        {
          "output_type": "stream",
          "text": [
            "[Parallel(n_jobs=1)]: Using backend SequentialBackend with 1 concurrent workers.\n"
          ],
          "name": "stderr"
        },
        {
          "output_type": "stream",
          "text": [
            "[CV] ............ learning_rate=0.001, n_estimators=500, total=   3.9s\n",
            "[CV] learning_rate=0.001, n_estimators=500 ...........................\n"
          ],
          "name": "stdout"
        },
        {
          "output_type": "stream",
          "text": [
            "[Parallel(n_jobs=1)]: Done   1 out of   1 | elapsed:    3.9s remaining:    0.0s\n"
          ],
          "name": "stderr"
        },
        {
          "output_type": "stream",
          "text": [
            "[CV] ............ learning_rate=0.001, n_estimators=500, total=   3.8s\n",
            "[CV] learning_rate=0.001, n_estimators=500 ...........................\n",
            "[CV] ............ learning_rate=0.001, n_estimators=500, total=   3.8s\n",
            "[CV] learning_rate=0.001, n_estimators=1000 ..........................\n",
            "[CV] ........... learning_rate=0.001, n_estimators=1000, total=   7.6s\n",
            "[CV] learning_rate=0.001, n_estimators=1000 ..........................\n",
            "[CV] ........... learning_rate=0.001, n_estimators=1000, total=   7.5s\n",
            "[CV] learning_rate=0.001, n_estimators=1000 ..........................\n",
            "[CV] ........... learning_rate=0.001, n_estimators=1000, total=   7.6s\n",
            "[CV] learning_rate=0.001, n_estimators=2000 ..........................\n",
            "[CV] ........... learning_rate=0.001, n_estimators=2000, total=  15.0s\n",
            "[CV] learning_rate=0.001, n_estimators=2000 ..........................\n",
            "[CV] ........... learning_rate=0.001, n_estimators=2000, total=  15.1s\n",
            "[CV] learning_rate=0.001, n_estimators=2000 ..........................\n",
            "[CV] ........... learning_rate=0.001, n_estimators=2000, total=  15.0s\n",
            "[CV] learning_rate=0.001, n_estimators=2500 ..........................\n",
            "[CV] ........... learning_rate=0.001, n_estimators=2500, total=  18.7s\n",
            "[CV] learning_rate=0.001, n_estimators=2500 ..........................\n",
            "[CV] ........... learning_rate=0.001, n_estimators=2500, total=  18.6s\n",
            "[CV] learning_rate=0.001, n_estimators=2500 ..........................\n",
            "[CV] ........... learning_rate=0.001, n_estimators=2500, total=  18.8s\n",
            "[CV] learning_rate=0.01, n_estimators=500 ............................\n",
            "[CV] ............. learning_rate=0.01, n_estimators=500, total=   3.7s\n",
            "[CV] learning_rate=0.01, n_estimators=500 ............................\n",
            "[CV] ............. learning_rate=0.01, n_estimators=500, total=   3.7s\n",
            "[CV] learning_rate=0.01, n_estimators=500 ............................\n",
            "[CV] ............. learning_rate=0.01, n_estimators=500, total=   3.7s\n",
            "[CV] learning_rate=0.01, n_estimators=1000 ...........................\n",
            "[CV] ............ learning_rate=0.01, n_estimators=1000, total=   7.1s\n",
            "[CV] learning_rate=0.01, n_estimators=1000 ...........................\n",
            "[CV] ............ learning_rate=0.01, n_estimators=1000, total=   7.1s\n",
            "[CV] learning_rate=0.01, n_estimators=1000 ...........................\n",
            "[CV] ............ learning_rate=0.01, n_estimators=1000, total=   7.0s\n",
            "[CV] learning_rate=0.01, n_estimators=2000 ...........................\n",
            "[CV] ............ learning_rate=0.01, n_estimators=2000, total=  12.9s\n",
            "[CV] learning_rate=0.01, n_estimators=2000 ...........................\n",
            "[CV] ............ learning_rate=0.01, n_estimators=2000, total=  12.9s\n",
            "[CV] learning_rate=0.01, n_estimators=2000 ...........................\n",
            "[CV] ............ learning_rate=0.01, n_estimators=2000, total=  12.8s\n",
            "[CV] learning_rate=0.01, n_estimators=2500 ...........................\n",
            "[CV] ............ learning_rate=0.01, n_estimators=2500, total=  14.3s\n",
            "[CV] learning_rate=0.01, n_estimators=2500 ...........................\n",
            "[CV] ............ learning_rate=0.01, n_estimators=2500, total=  15.5s\n",
            "[CV] learning_rate=0.01, n_estimators=2500 ...........................\n",
            "[CV] ............ learning_rate=0.01, n_estimators=2500, total=  13.3s\n",
            "[CV] learning_rate=0.1, n_estimators=500 .............................\n",
            "[CV] .............. learning_rate=0.1, n_estimators=500, total=   1.7s\n",
            "[CV] learning_rate=0.1, n_estimators=500 .............................\n",
            "[CV] .............. learning_rate=0.1, n_estimators=500, total=   2.3s\n",
            "[CV] learning_rate=0.1, n_estimators=500 .............................\n",
            "[CV] .............. learning_rate=0.1, n_estimators=500, total=   1.4s\n",
            "[CV] learning_rate=0.1, n_estimators=1000 ............................\n",
            "[CV] ............. learning_rate=0.1, n_estimators=1000, total=   2.4s\n",
            "[CV] learning_rate=0.1, n_estimators=1000 ............................\n",
            "[CV] ............. learning_rate=0.1, n_estimators=1000, total=   2.4s\n",
            "[CV] learning_rate=0.1, n_estimators=1000 ............................\n",
            "[CV] ............. learning_rate=0.1, n_estimators=1000, total=   1.6s\n",
            "[CV] learning_rate=0.1, n_estimators=2000 ............................\n",
            "[CV] ............. learning_rate=0.1, n_estimators=2000, total=   1.6s\n",
            "[CV] learning_rate=0.1, n_estimators=2000 ............................\n",
            "[CV] ............. learning_rate=0.1, n_estimators=2000, total=   2.0s\n",
            "[CV] learning_rate=0.1, n_estimators=2000 ............................\n",
            "[CV] ............. learning_rate=0.1, n_estimators=2000, total=   1.6s\n",
            "[CV] learning_rate=0.1, n_estimators=2500 ............................\n",
            "[CV] ............. learning_rate=0.1, n_estimators=2500, total=   2.7s\n",
            "[CV] learning_rate=0.1, n_estimators=2500 ............................\n",
            "[CV] ............. learning_rate=0.1, n_estimators=2500, total=   2.1s\n",
            "[CV] learning_rate=0.1, n_estimators=2500 ............................\n",
            "[CV] ............. learning_rate=0.1, n_estimators=2500, total=   1.7s\n",
            "[CV] learning_rate=1, n_estimators=500 ...............................\n",
            "[CV] ................ learning_rate=1, n_estimators=500, total=   0.5s\n",
            "[CV] learning_rate=1, n_estimators=500 ...............................\n",
            "[CV] ................ learning_rate=1, n_estimators=500, total=   0.2s\n",
            "[CV] learning_rate=1, n_estimators=500 ...............................\n",
            "[CV] ................ learning_rate=1, n_estimators=500, total=   0.2s\n",
            "[CV] learning_rate=1, n_estimators=1000 ..............................\n",
            "[CV] ............... learning_rate=1, n_estimators=1000, total=   0.4s\n",
            "[CV] learning_rate=1, n_estimators=1000 ..............................\n",
            "[CV] ............... learning_rate=1, n_estimators=1000, total=   0.3s\n",
            "[CV] learning_rate=1, n_estimators=1000 ..............................\n",
            "[CV] ............... learning_rate=1, n_estimators=1000, total=   0.3s\n",
            "[CV] learning_rate=1, n_estimators=2000 ..............................\n",
            "[CV] ............... learning_rate=1, n_estimators=2000, total=   0.4s\n",
            "[CV] learning_rate=1, n_estimators=2000 ..............................\n",
            "[CV] ............... learning_rate=1, n_estimators=2000, total=   0.3s\n",
            "[CV] learning_rate=1, n_estimators=2000 ..............................\n",
            "[CV] ............... learning_rate=1, n_estimators=2000, total=   0.6s\n",
            "[CV] learning_rate=1, n_estimators=2500 ..............................\n",
            "[CV] ............... learning_rate=1, n_estimators=2500, total=   0.6s\n",
            "[CV] learning_rate=1, n_estimators=2500 ..............................\n",
            "[CV] ............... learning_rate=1, n_estimators=2500, total=   1.0s\n",
            "[CV] learning_rate=1, n_estimators=2500 ..............................\n",
            "[CV] ............... learning_rate=1, n_estimators=2500, total=   0.5s\n"
          ],
          "name": "stdout"
        },
        {
          "output_type": "stream",
          "text": [
            "[Parallel(n_jobs=1)]: Done  48 out of  48 | elapsed:  4.6min finished\n"
          ],
          "name": "stderr"
        }
      ]
    },
    {
      "cell_type": "code",
      "metadata": {
        "id": "AGNb32_p1fcT",
        "colab_type": "code",
        "colab": {
          "base_uri": "https://localhost:8080/",
          "height": 55
        },
        "outputId": "8fde134e-140b-49ae-ad86-b961ea5bc4c2"
      },
      "source": [
        "ABR_GS.best_estimator_"
      ],
      "execution_count": null,
      "outputs": [
        {
          "output_type": "execute_result",
          "data": {
            "text/plain": [
              "AdaBoostRegressor(base_estimator=None, learning_rate=0.01, loss='linear',\n",
              "                  n_estimators=500, random_state=None)"
            ]
          },
          "metadata": {
            "tags": []
          },
          "execution_count": 43
        }
      ]
    },
    {
      "cell_type": "code",
      "metadata": {
        "id": "xpWIWBS21jbI",
        "colab_type": "code",
        "colab": {}
      },
      "source": [
        "Y_pred_ABR = ABR_GS.predict(X_test)"
      ],
      "execution_count": null,
      "outputs": []
    },
    {
      "cell_type": "code",
      "metadata": {
        "id": "SImkMuPq1oEo",
        "colab_type": "code",
        "colab": {
          "base_uri": "https://localhost:8080/",
          "height": 130
        },
        "outputId": "8da341bc-ec57-449e-d5c6-5d695d2dabf3"
      },
      "source": [
        "consolidator(ABR_GS,'AdaR_Original',X_train,Y_train,X_test,Y_test,Y_pred_ABR)"
      ],
      "execution_count": null,
      "outputs": [
        {
          "output_type": "stream",
          "text": [
            "AdaR_Original Model:-\n",
            "R^2 Score:  0.918586059470375\n",
            "Test R^2 Score:  0.9148019908830246\n",
            "Mean Absolute Error : 3.9383006015862954\n",
            "Mean Squared Error : 24.478677286136747\n",
            "Root Mean Squared Error : 4.947593080088211\n"
          ],
          "name": "stdout"
        }
      ]
    },
    {
      "cell_type": "markdown",
      "metadata": {
        "id": "qjnM2l221qb-",
        "colab_type": "text"
      },
      "source": [
        "# Ada Boost Regression Scaled"
      ]
    },
    {
      "cell_type": "code",
      "metadata": {
        "id": "s0BwQXPJ1bPn",
        "colab_type": "code",
        "colab": {
          "base_uri": "https://localhost:8080/",
          "height": 1000
        },
        "outputId": "b2af9cbd-ee14-4102-af20-869b67fac303"
      },
      "source": [
        "ABR = AdaBoostRegressor()\n",
        "param_grid = {'n_estimators': [500,1000,2000,2500],\n",
        "             'learning_rate': [0.001,0.01,0.1,1]}\n",
        "\n",
        "grid_search = GridSearchCV(estimator = ABR, param_grid = param_grid,cv=3,verbose=2)\n",
        "ABR_GS = grid_search.fit(X_train_scaled, Y_train)"
      ],
      "execution_count": null,
      "outputs": [
        {
          "output_type": "stream",
          "text": [
            "Fitting 3 folds for each of 16 candidates, totalling 48 fits\n",
            "[CV] learning_rate=0.001, n_estimators=500 ...........................\n"
          ],
          "name": "stdout"
        },
        {
          "output_type": "stream",
          "text": [
            "[Parallel(n_jobs=1)]: Using backend SequentialBackend with 1 concurrent workers.\n"
          ],
          "name": "stderr"
        },
        {
          "output_type": "stream",
          "text": [
            "[CV] ............ learning_rate=0.001, n_estimators=500, total=   3.8s\n",
            "[CV] learning_rate=0.001, n_estimators=500 ...........................\n"
          ],
          "name": "stdout"
        },
        {
          "output_type": "stream",
          "text": [
            "[Parallel(n_jobs=1)]: Done   1 out of   1 | elapsed:    3.8s remaining:    0.0s\n"
          ],
          "name": "stderr"
        },
        {
          "output_type": "stream",
          "text": [
            "[CV] ............ learning_rate=0.001, n_estimators=500, total=   3.8s\n",
            "[CV] learning_rate=0.001, n_estimators=500 ...........................\n",
            "[CV] ............ learning_rate=0.001, n_estimators=500, total=   3.8s\n",
            "[CV] learning_rate=0.001, n_estimators=1000 ..........................\n",
            "[CV] ........... learning_rate=0.001, n_estimators=1000, total=   7.6s\n",
            "[CV] learning_rate=0.001, n_estimators=1000 ..........................\n",
            "[CV] ........... learning_rate=0.001, n_estimators=1000, total=   7.6s\n",
            "[CV] learning_rate=0.001, n_estimators=1000 ..........................\n",
            "[CV] ........... learning_rate=0.001, n_estimators=1000, total=   7.7s\n",
            "[CV] learning_rate=0.001, n_estimators=2000 ..........................\n",
            "[CV] ........... learning_rate=0.001, n_estimators=2000, total=  14.9s\n",
            "[CV] learning_rate=0.001, n_estimators=2000 ..........................\n",
            "[CV] ........... learning_rate=0.001, n_estimators=2000, total=  15.1s\n",
            "[CV] learning_rate=0.001, n_estimators=2000 ..........................\n",
            "[CV] ........... learning_rate=0.001, n_estimators=2000, total=  15.1s\n",
            "[CV] learning_rate=0.001, n_estimators=2500 ..........................\n",
            "[CV] ........... learning_rate=0.001, n_estimators=2500, total=  18.8s\n",
            "[CV] learning_rate=0.001, n_estimators=2500 ..........................\n",
            "[CV] ........... learning_rate=0.001, n_estimators=2500, total=  18.9s\n",
            "[CV] learning_rate=0.001, n_estimators=2500 ..........................\n",
            "[CV] ........... learning_rate=0.001, n_estimators=2500, total=  18.7s\n",
            "[CV] learning_rate=0.01, n_estimators=500 ............................\n",
            "[CV] ............. learning_rate=0.01, n_estimators=500, total=   3.7s\n",
            "[CV] learning_rate=0.01, n_estimators=500 ............................\n",
            "[CV] ............. learning_rate=0.01, n_estimators=500, total=   3.7s\n",
            "[CV] learning_rate=0.01, n_estimators=500 ............................\n",
            "[CV] ............. learning_rate=0.01, n_estimators=500, total=   3.7s\n",
            "[CV] learning_rate=0.01, n_estimators=1000 ...........................\n",
            "[CV] ............ learning_rate=0.01, n_estimators=1000, total=   7.1s\n",
            "[CV] learning_rate=0.01, n_estimators=1000 ...........................\n",
            "[CV] ............ learning_rate=0.01, n_estimators=1000, total=   7.1s\n",
            "[CV] learning_rate=0.01, n_estimators=1000 ...........................\n",
            "[CV] ............ learning_rate=0.01, n_estimators=1000, total=   7.0s\n",
            "[CV] learning_rate=0.01, n_estimators=2000 ...........................\n",
            "[CV] ............ learning_rate=0.01, n_estimators=2000, total=  13.1s\n",
            "[CV] learning_rate=0.01, n_estimators=2000 ...........................\n",
            "[CV] ............ learning_rate=0.01, n_estimators=2000, total=  13.1s\n",
            "[CV] learning_rate=0.01, n_estimators=2000 ...........................\n",
            "[CV] ............ learning_rate=0.01, n_estimators=2000, total=  12.9s\n",
            "[CV] learning_rate=0.01, n_estimators=2500 ...........................\n",
            "[CV] ............ learning_rate=0.01, n_estimators=2500, total=  15.3s\n",
            "[CV] learning_rate=0.01, n_estimators=2500 ...........................\n",
            "[CV] ............ learning_rate=0.01, n_estimators=2500, total=  15.8s\n",
            "[CV] learning_rate=0.01, n_estimators=2500 ...........................\n",
            "[CV] ............ learning_rate=0.01, n_estimators=2500, total=  13.1s\n",
            "[CV] learning_rate=0.1, n_estimators=500 .............................\n",
            "[CV] .............. learning_rate=0.1, n_estimators=500, total=   2.0s\n",
            "[CV] learning_rate=0.1, n_estimators=500 .............................\n",
            "[CV] .............. learning_rate=0.1, n_estimators=500, total=   2.3s\n",
            "[CV] learning_rate=0.1, n_estimators=500 .............................\n",
            "[CV] .............. learning_rate=0.1, n_estimators=500, total=   1.4s\n",
            "[CV] learning_rate=0.1, n_estimators=1000 ............................\n",
            "[CV] ............. learning_rate=0.1, n_estimators=1000, total=   2.0s\n",
            "[CV] learning_rate=0.1, n_estimators=1000 ............................\n",
            "[CV] ............. learning_rate=0.1, n_estimators=1000, total=   2.3s\n",
            "[CV] learning_rate=0.1, n_estimators=1000 ............................\n",
            "[CV] ............. learning_rate=0.1, n_estimators=1000, total=   1.6s\n",
            "[CV] learning_rate=0.1, n_estimators=2000 ............................\n",
            "[CV] ............. learning_rate=0.1, n_estimators=2000, total=   2.4s\n",
            "[CV] learning_rate=0.1, n_estimators=2000 ............................\n",
            "[CV] ............. learning_rate=0.1, n_estimators=2000, total=   2.3s\n",
            "[CV] learning_rate=0.1, n_estimators=2000 ............................\n",
            "[CV] ............. learning_rate=0.1, n_estimators=2000, total=   1.3s\n",
            "[CV] learning_rate=0.1, n_estimators=2500 ............................\n",
            "[CV] ............. learning_rate=0.1, n_estimators=2500, total=   2.1s\n",
            "[CV] learning_rate=0.1, n_estimators=2500 ............................\n",
            "[CV] ............. learning_rate=0.1, n_estimators=2500, total=   1.6s\n",
            "[CV] learning_rate=0.1, n_estimators=2500 ............................\n",
            "[CV] ............. learning_rate=0.1, n_estimators=2500, total=   1.6s\n",
            "[CV] learning_rate=1, n_estimators=500 ...............................\n",
            "[CV] ................ learning_rate=1, n_estimators=500, total=   0.8s\n",
            "[CV] learning_rate=1, n_estimators=500 ...............................\n",
            "[CV] ................ learning_rate=1, n_estimators=500, total=   1.1s\n",
            "[CV] learning_rate=1, n_estimators=500 ...............................\n",
            "[CV] ................ learning_rate=1, n_estimators=500, total=   0.2s\n",
            "[CV] learning_rate=1, n_estimators=1000 ..............................\n",
            "[CV] ............... learning_rate=1, n_estimators=1000, total=   0.4s\n",
            "[CV] learning_rate=1, n_estimators=1000 ..............................\n",
            "[CV] ............... learning_rate=1, n_estimators=1000, total=   0.3s\n",
            "[CV] learning_rate=1, n_estimators=1000 ..............................\n",
            "[CV] ............... learning_rate=1, n_estimators=1000, total=   0.2s\n",
            "[CV] learning_rate=1, n_estimators=2000 ..............................\n",
            "[CV] ............... learning_rate=1, n_estimators=2000, total=   0.4s\n",
            "[CV] learning_rate=1, n_estimators=2000 ..............................\n",
            "[CV] ............... learning_rate=1, n_estimators=2000, total=   0.5s\n",
            "[CV] learning_rate=1, n_estimators=2000 ..............................\n",
            "[CV] ............... learning_rate=1, n_estimators=2000, total=   0.3s\n",
            "[CV] learning_rate=1, n_estimators=2500 ..............................\n",
            "[CV] ............... learning_rate=1, n_estimators=2500, total=   0.2s\n",
            "[CV] learning_rate=1, n_estimators=2500 ..............................\n",
            "[CV] ............... learning_rate=1, n_estimators=2500, total=   0.3s\n",
            "[CV] learning_rate=1, n_estimators=2500 ..............................\n",
            "[CV] ............... learning_rate=1, n_estimators=2500, total=   0.7s\n"
          ],
          "name": "stdout"
        },
        {
          "output_type": "stream",
          "text": [
            "[Parallel(n_jobs=1)]: Done  48 out of  48 | elapsed:  4.7min finished\n"
          ],
          "name": "stderr"
        }
      ]
    },
    {
      "cell_type": "code",
      "metadata": {
        "id": "yVvGbWHB1gFm",
        "colab_type": "code",
        "colab": {
          "base_uri": "https://localhost:8080/",
          "height": 55
        },
        "outputId": "9499b357-a741-48e6-e518-0579b96d1bde"
      },
      "source": [
        "ABR_GS.best_estimator_"
      ],
      "execution_count": null,
      "outputs": [
        {
          "output_type": "execute_result",
          "data": {
            "text/plain": [
              "AdaBoostRegressor(base_estimator=None, learning_rate=0.01, loss='linear',\n",
              "                  n_estimators=500, random_state=None)"
            ]
          },
          "metadata": {
            "tags": []
          },
          "execution_count": 47
        }
      ]
    },
    {
      "cell_type": "code",
      "metadata": {
        "id": "t0bbaP6f1hiJ",
        "colab_type": "code",
        "colab": {}
      },
      "source": [
        "Y_pred_ABR = ABR_GS.predict(X_test_scaled)"
      ],
      "execution_count": null,
      "outputs": []
    },
    {
      "cell_type": "code",
      "metadata": {
        "id": "upF2_etd1l-A",
        "colab_type": "code",
        "colab": {
          "base_uri": "https://localhost:8080/",
          "height": 130
        },
        "outputId": "6216130b-2d74-466d-b248-cc94c3389493"
      },
      "source": [
        "consolidator(ABR_GS,'AdaR_scaled',X_train_scaled,Y_train,X_test_scaled,Y_test,Y_pred_ABR)"
      ],
      "execution_count": null,
      "outputs": [
        {
          "output_type": "stream",
          "text": [
            "AdaR_scaled Model:-\n",
            "R^2 Score:  0.9186623101030781\n",
            "Test R^2 Score:  0.9149259179690079\n",
            "Mean Absolute Error : 3.9339735900715844\n",
            "Mean Squared Error : 24.44307115899555\n",
            "Root Mean Squared Error : 4.943993442450703\n"
          ],
          "name": "stdout"
        }
      ]
    },
    {
      "cell_type": "markdown",
      "metadata": {
        "id": "7UGuzDHu_apw",
        "colab_type": "text"
      },
      "source": [
        "# Ada Boost Regression Norm"
      ]
    },
    {
      "cell_type": "code",
      "metadata": {
        "id": "z4KARUeT_dus",
        "colab_type": "code",
        "colab": {
          "base_uri": "https://localhost:8080/",
          "height": 1000
        },
        "outputId": "631b269c-c9cf-473d-9870-905cad68a942"
      },
      "source": [
        "ABR = AdaBoostRegressor()\n",
        "param_grid = {'n_estimators': [500,1000,2000,2500],\n",
        "             'learning_rate': [0.001,0.01,0.1,1]}\n",
        "\n",
        "grid_search = GridSearchCV(estimator = ABR, param_grid = param_grid,cv=3,verbose=2)\n",
        "ABR_GS = grid_search.fit(X_train_norm, Y_train)"
      ],
      "execution_count": null,
      "outputs": [
        {
          "output_type": "stream",
          "text": [
            "Fitting 3 folds for each of 16 candidates, totalling 48 fits\n",
            "[CV] learning_rate=0.001, n_estimators=500 ...........................\n"
          ],
          "name": "stdout"
        },
        {
          "output_type": "stream",
          "text": [
            "[Parallel(n_jobs=1)]: Using backend SequentialBackend with 1 concurrent workers.\n"
          ],
          "name": "stderr"
        },
        {
          "output_type": "stream",
          "text": [
            "[CV] ............ learning_rate=0.001, n_estimators=500, total=   4.2s\n",
            "[CV] learning_rate=0.001, n_estimators=500 ...........................\n"
          ],
          "name": "stdout"
        },
        {
          "output_type": "stream",
          "text": [
            "[Parallel(n_jobs=1)]: Done   1 out of   1 | elapsed:    4.2s remaining:    0.0s\n"
          ],
          "name": "stderr"
        },
        {
          "output_type": "stream",
          "text": [
            "[CV] ............ learning_rate=0.001, n_estimators=500, total=   4.0s\n",
            "[CV] learning_rate=0.001, n_estimators=500 ...........................\n",
            "[CV] ............ learning_rate=0.001, n_estimators=500, total=   4.1s\n",
            "[CV] learning_rate=0.001, n_estimators=1000 ..........................\n",
            "[CV] ........... learning_rate=0.001, n_estimators=1000, total=   8.1s\n",
            "[CV] learning_rate=0.001, n_estimators=1000 ..........................\n",
            "[CV] ........... learning_rate=0.001, n_estimators=1000, total=   8.1s\n",
            "[CV] learning_rate=0.001, n_estimators=1000 ..........................\n",
            "[CV] ........... learning_rate=0.001, n_estimators=1000, total=   8.2s\n",
            "[CV] learning_rate=0.001, n_estimators=2000 ..........................\n",
            "[CV] ........... learning_rate=0.001, n_estimators=2000, total=  16.6s\n",
            "[CV] learning_rate=0.001, n_estimators=2000 ..........................\n",
            "[CV] ........... learning_rate=0.001, n_estimators=2000, total=  16.3s\n",
            "[CV] learning_rate=0.001, n_estimators=2000 ..........................\n",
            "[CV] ........... learning_rate=0.001, n_estimators=2000, total=  16.4s\n",
            "[CV] learning_rate=0.001, n_estimators=2500 ..........................\n",
            "[CV] ........... learning_rate=0.001, n_estimators=2500, total=  20.3s\n",
            "[CV] learning_rate=0.001, n_estimators=2500 ..........................\n",
            "[CV] ........... learning_rate=0.001, n_estimators=2500, total=  20.5s\n",
            "[CV] learning_rate=0.001, n_estimators=2500 ..........................\n",
            "[CV] ........... learning_rate=0.001, n_estimators=2500, total=  20.5s\n",
            "[CV] learning_rate=0.01, n_estimators=500 ............................\n",
            "[CV] ............. learning_rate=0.01, n_estimators=500, total=   4.0s\n",
            "[CV] learning_rate=0.01, n_estimators=500 ............................\n",
            "[CV] ............. learning_rate=0.01, n_estimators=500, total=   4.0s\n",
            "[CV] learning_rate=0.01, n_estimators=500 ............................\n",
            "[CV] ............. learning_rate=0.01, n_estimators=500, total=   4.0s\n",
            "[CV] learning_rate=0.01, n_estimators=1000 ...........................\n",
            "[CV] ............ learning_rate=0.01, n_estimators=1000, total=   7.7s\n",
            "[CV] learning_rate=0.01, n_estimators=1000 ...........................\n",
            "[CV] ............ learning_rate=0.01, n_estimators=1000, total=  10.1s\n",
            "[CV] learning_rate=0.01, n_estimators=1000 ...........................\n",
            "[CV] ............ learning_rate=0.01, n_estimators=1000, total=   8.2s\n",
            "[CV] learning_rate=0.01, n_estimators=2000 ...........................\n",
            "[CV] ............ learning_rate=0.01, n_estimators=2000, total=  13.9s\n",
            "[CV] learning_rate=0.01, n_estimators=2000 ...........................\n",
            "[CV] ............ learning_rate=0.01, n_estimators=2000, total=  13.8s\n",
            "[CV] learning_rate=0.01, n_estimators=2000 ...........................\n",
            "[CV] ............ learning_rate=0.01, n_estimators=2000, total=  13.6s\n",
            "[CV] learning_rate=0.01, n_estimators=2500 ...........................\n",
            "[CV] ............ learning_rate=0.01, n_estimators=2500, total=  11.7s\n",
            "[CV] learning_rate=0.01, n_estimators=2500 ...........................\n",
            "[CV] ............ learning_rate=0.01, n_estimators=2500, total=  16.7s\n",
            "[CV] learning_rate=0.01, n_estimators=2500 ...........................\n",
            "[CV] ............ learning_rate=0.01, n_estimators=2500, total=  16.5s\n",
            "[CV] learning_rate=0.1, n_estimators=500 .............................\n",
            "[CV] .............. learning_rate=0.1, n_estimators=500, total=   1.8s\n",
            "[CV] learning_rate=0.1, n_estimators=500 .............................\n",
            "[CV] .............. learning_rate=0.1, n_estimators=500, total=   2.4s\n",
            "[CV] learning_rate=0.1, n_estimators=500 .............................\n",
            "[CV] .............. learning_rate=0.1, n_estimators=500, total=   2.0s\n",
            "[CV] learning_rate=0.1, n_estimators=1000 ............................\n",
            "[CV] ............. learning_rate=0.1, n_estimators=1000, total=   1.4s\n",
            "[CV] learning_rate=0.1, n_estimators=1000 ............................\n",
            "[CV] ............. learning_rate=0.1, n_estimators=1000, total=   2.2s\n",
            "[CV] learning_rate=0.1, n_estimators=1000 ............................\n",
            "[CV] ............. learning_rate=0.1, n_estimators=1000, total=   1.6s\n",
            "[CV] learning_rate=0.1, n_estimators=2000 ............................\n",
            "[CV] ............. learning_rate=0.1, n_estimators=2000, total=   1.8s\n",
            "[CV] learning_rate=0.1, n_estimators=2000 ............................\n",
            "[CV] ............. learning_rate=0.1, n_estimators=2000, total=   2.0s\n",
            "[CV] learning_rate=0.1, n_estimators=2000 ............................\n",
            "[CV] ............. learning_rate=0.1, n_estimators=2000, total=   2.1s\n",
            "[CV] learning_rate=0.1, n_estimators=2500 ............................\n",
            "[CV] ............. learning_rate=0.1, n_estimators=2500, total=   1.4s\n",
            "[CV] learning_rate=0.1, n_estimators=2500 ............................\n",
            "[CV] ............. learning_rate=0.1, n_estimators=2500, total=   1.8s\n",
            "[CV] learning_rate=0.1, n_estimators=2500 ............................\n",
            "[CV] ............. learning_rate=0.1, n_estimators=2500, total=   2.5s\n",
            "[CV] learning_rate=1, n_estimators=500 ...............................\n",
            "[CV] ................ learning_rate=1, n_estimators=500, total=   2.1s\n",
            "[CV] learning_rate=1, n_estimators=500 ...............................\n",
            "[CV] ................ learning_rate=1, n_estimators=500, total=   0.8s\n",
            "[CV] learning_rate=1, n_estimators=500 ...............................\n",
            "[CV] ................ learning_rate=1, n_estimators=500, total=   0.3s\n",
            "[CV] learning_rate=1, n_estimators=1000 ..............................\n",
            "[CV] ............... learning_rate=1, n_estimators=1000, total=   0.6s\n",
            "[CV] learning_rate=1, n_estimators=1000 ..............................\n",
            "[CV] ............... learning_rate=1, n_estimators=1000, total=   0.4s\n",
            "[CV] learning_rate=1, n_estimators=1000 ..............................\n",
            "[CV] ............... learning_rate=1, n_estimators=1000, total=   0.3s\n",
            "[CV] learning_rate=1, n_estimators=2000 ..............................\n",
            "[CV] ............... learning_rate=1, n_estimators=2000, total=   3.7s\n",
            "[CV] learning_rate=1, n_estimators=2000 ..............................\n",
            "[CV] ............... learning_rate=1, n_estimators=2000, total=   0.3s\n",
            "[CV] learning_rate=1, n_estimators=2000 ..............................\n",
            "[CV] ............... learning_rate=1, n_estimators=2000, total=   0.3s\n",
            "[CV] learning_rate=1, n_estimators=2500 ..............................\n",
            "[CV] ............... learning_rate=1, n_estimators=2500, total=   0.4s\n",
            "[CV] learning_rate=1, n_estimators=2500 ..............................\n",
            "[CV] ............... learning_rate=1, n_estimators=2500, total=   0.7s\n",
            "[CV] learning_rate=1, n_estimators=2500 ..............................\n",
            "[CV] ............... learning_rate=1, n_estimators=2500, total=   0.5s\n"
          ],
          "name": "stdout"
        },
        {
          "output_type": "stream",
          "text": [
            "[Parallel(n_jobs=1)]: Done  48 out of  48 | elapsed:  5.1min finished\n"
          ],
          "name": "stderr"
        }
      ]
    },
    {
      "cell_type": "code",
      "metadata": {
        "id": "arIE77og_hCh",
        "colab_type": "code",
        "colab": {
          "base_uri": "https://localhost:8080/",
          "height": 55
        },
        "outputId": "3ce23cda-bf39-493e-8f3d-369d639be78e"
      },
      "source": [
        "ABR_GS.best_estimator_"
      ],
      "execution_count": null,
      "outputs": [
        {
          "output_type": "execute_result",
          "data": {
            "text/plain": [
              "AdaBoostRegressor(base_estimator=None, learning_rate=0.01, loss='linear',\n",
              "                  n_estimators=500, random_state=None)"
            ]
          },
          "metadata": {
            "tags": []
          },
          "execution_count": 51
        }
      ]
    },
    {
      "cell_type": "code",
      "metadata": {
        "id": "0GUXWykP_iBJ",
        "colab_type": "code",
        "colab": {}
      },
      "source": [
        "Y_pred_ABR = ABR_GS.predict(X_test_norm)"
      ],
      "execution_count": null,
      "outputs": []
    },
    {
      "cell_type": "code",
      "metadata": {
        "id": "yvEf2lia_jHn",
        "colab_type": "code",
        "colab": {
          "base_uri": "https://localhost:8080/",
          "height": 130
        },
        "outputId": "bd72b17e-17f9-4815-9f92-639b4b0de508"
      },
      "source": [
        "consolidator(ABR_GS,'AdaR_norm',X_train_norm,Y_train,X_test_norm,Y_test,Y_pred_ABR)"
      ],
      "execution_count": null,
      "outputs": [
        {
          "output_type": "stream",
          "text": [
            "AdaR_norm Model:-\n",
            "R^2 Score:  0.9187792512099392\n",
            "Test R^2 Score:  0.9147929714577507\n",
            "Mean Absolute Error : 3.923295458108661\n",
            "Mean Squared Error : 24.48126870350523\n",
            "Root Mean Squared Error : 4.947854959829081\n"
          ],
          "name": "stdout"
        }
      ]
    },
    {
      "cell_type": "markdown",
      "metadata": {
        "id": "QoG_-oT010og",
        "colab_type": "text"
      },
      "source": [
        "#Gradient Boost Regressor Original"
      ]
    },
    {
      "cell_type": "code",
      "metadata": {
        "id": "EhJbq_9c1-Tv",
        "colab_type": "code",
        "colab": {
          "base_uri": "https://localhost:8080/",
          "height": 1000
        },
        "outputId": "57795d05-fc1b-4699-cdc0-d5ef8fd0518c"
      },
      "source": [
        "GBR = GradientBoostingRegressor()\n",
        "param_grid = {'n_estimators': [500,1000,2000,2500],\n",
        "             'learning_rate': [0.001,0.01,0.1,1],\n",
        "             'max_features': [2,3,4]}\n",
        "\n",
        "grid_search = GridSearchCV(estimator = GBR, param_grid = param_grid,cv=3,verbose=2)\n",
        "GBR_GS = grid_search.fit(X_train, Y_train)"
      ],
      "execution_count": null,
      "outputs": [
        {
          "output_type": "stream",
          "text": [
            "Fitting 3 folds for each of 48 candidates, totalling 144 fits\n",
            "[CV] learning_rate=0.001, max_features=2, n_estimators=500 ...........\n"
          ],
          "name": "stdout"
        },
        {
          "output_type": "stream",
          "text": [
            "[Parallel(n_jobs=1)]: Using backend SequentialBackend with 1 concurrent workers.\n"
          ],
          "name": "stderr"
        },
        {
          "output_type": "stream",
          "text": [
            "[CV]  learning_rate=0.001, max_features=2, n_estimators=500, total=   1.7s\n",
            "[CV] learning_rate=0.001, max_features=2, n_estimators=500 ...........\n"
          ],
          "name": "stdout"
        },
        {
          "output_type": "stream",
          "text": [
            "[Parallel(n_jobs=1)]: Done   1 out of   1 | elapsed:    1.7s remaining:    0.0s\n"
          ],
          "name": "stderr"
        },
        {
          "output_type": "stream",
          "text": [
            "[CV]  learning_rate=0.001, max_features=2, n_estimators=500, total=   1.7s\n",
            "[CV] learning_rate=0.001, max_features=2, n_estimators=500 ...........\n",
            "[CV]  learning_rate=0.001, max_features=2, n_estimators=500, total=   1.6s\n",
            "[CV] learning_rate=0.001, max_features=2, n_estimators=1000 ..........\n",
            "[CV]  learning_rate=0.001, max_features=2, n_estimators=1000, total=   3.2s\n",
            "[CV] learning_rate=0.001, max_features=2, n_estimators=1000 ..........\n",
            "[CV]  learning_rate=0.001, max_features=2, n_estimators=1000, total=   3.2s\n",
            "[CV] learning_rate=0.001, max_features=2, n_estimators=1000 ..........\n",
            "[CV]  learning_rate=0.001, max_features=2, n_estimators=1000, total=   3.2s\n",
            "[CV] learning_rate=0.001, max_features=2, n_estimators=2000 ..........\n",
            "[CV]  learning_rate=0.001, max_features=2, n_estimators=2000, total=   6.4s\n",
            "[CV] learning_rate=0.001, max_features=2, n_estimators=2000 ..........\n",
            "[CV]  learning_rate=0.001, max_features=2, n_estimators=2000, total=   6.4s\n",
            "[CV] learning_rate=0.001, max_features=2, n_estimators=2000 ..........\n",
            "[CV]  learning_rate=0.001, max_features=2, n_estimators=2000, total=   6.4s\n",
            "[CV] learning_rate=0.001, max_features=2, n_estimators=2500 ..........\n",
            "[CV]  learning_rate=0.001, max_features=2, n_estimators=2500, total=   8.1s\n",
            "[CV] learning_rate=0.001, max_features=2, n_estimators=2500 ..........\n",
            "[CV]  learning_rate=0.001, max_features=2, n_estimators=2500, total=   8.3s\n",
            "[CV] learning_rate=0.001, max_features=2, n_estimators=2500 ..........\n",
            "[CV]  learning_rate=0.001, max_features=2, n_estimators=2500, total=   8.0s\n",
            "[CV] learning_rate=0.001, max_features=3, n_estimators=500 ...........\n",
            "[CV]  learning_rate=0.001, max_features=3, n_estimators=500, total=   2.2s\n",
            "[CV] learning_rate=0.001, max_features=3, n_estimators=500 ...........\n",
            "[CV]  learning_rate=0.001, max_features=3, n_estimators=500, total=   2.3s\n",
            "[CV] learning_rate=0.001, max_features=3, n_estimators=500 ...........\n",
            "[CV]  learning_rate=0.001, max_features=3, n_estimators=500, total=   2.3s\n",
            "[CV] learning_rate=0.001, max_features=3, n_estimators=1000 ..........\n",
            "[CV]  learning_rate=0.001, max_features=3, n_estimators=1000, total=   4.5s\n",
            "[CV] learning_rate=0.001, max_features=3, n_estimators=1000 ..........\n",
            "[CV]  learning_rate=0.001, max_features=3, n_estimators=1000, total=   4.5s\n",
            "[CV] learning_rate=0.001, max_features=3, n_estimators=1000 ..........\n",
            "[CV]  learning_rate=0.001, max_features=3, n_estimators=1000, total=   4.5s\n",
            "[CV] learning_rate=0.001, max_features=3, n_estimators=2000 ..........\n",
            "[CV]  learning_rate=0.001, max_features=3, n_estimators=2000, total=   8.9s\n",
            "[CV] learning_rate=0.001, max_features=3, n_estimators=2000 ..........\n",
            "[CV]  learning_rate=0.001, max_features=3, n_estimators=2000, total=   8.9s\n",
            "[CV] learning_rate=0.001, max_features=3, n_estimators=2000 ..........\n",
            "[CV]  learning_rate=0.001, max_features=3, n_estimators=2000, total=   8.9s\n",
            "[CV] learning_rate=0.001, max_features=3, n_estimators=2500 ..........\n",
            "[CV]  learning_rate=0.001, max_features=3, n_estimators=2500, total=  11.2s\n",
            "[CV] learning_rate=0.001, max_features=3, n_estimators=2500 ..........\n",
            "[CV]  learning_rate=0.001, max_features=3, n_estimators=2500, total=  11.1s\n",
            "[CV] learning_rate=0.001, max_features=3, n_estimators=2500 ..........\n",
            "[CV]  learning_rate=0.001, max_features=3, n_estimators=2500, total=  11.2s\n",
            "[CV] learning_rate=0.001, max_features=4, n_estimators=500 ...........\n",
            "[CV]  learning_rate=0.001, max_features=4, n_estimators=500, total=   2.8s\n",
            "[CV] learning_rate=0.001, max_features=4, n_estimators=500 ...........\n",
            "[CV]  learning_rate=0.001, max_features=4, n_estimators=500, total=   2.9s\n",
            "[CV] learning_rate=0.001, max_features=4, n_estimators=500 ...........\n",
            "[CV]  learning_rate=0.001, max_features=4, n_estimators=500, total=   2.8s\n",
            "[CV] learning_rate=0.001, max_features=4, n_estimators=1000 ..........\n",
            "[CV]  learning_rate=0.001, max_features=4, n_estimators=1000, total=   5.7s\n",
            "[CV] learning_rate=0.001, max_features=4, n_estimators=1000 ..........\n",
            "[CV]  learning_rate=0.001, max_features=4, n_estimators=1000, total=   5.7s\n",
            "[CV] learning_rate=0.001, max_features=4, n_estimators=1000 ..........\n",
            "[CV]  learning_rate=0.001, max_features=4, n_estimators=1000, total=   5.7s\n",
            "[CV] learning_rate=0.001, max_features=4, n_estimators=2000 ..........\n",
            "[CV]  learning_rate=0.001, max_features=4, n_estimators=2000, total=  11.3s\n",
            "[CV] learning_rate=0.001, max_features=4, n_estimators=2000 ..........\n",
            "[CV]  learning_rate=0.001, max_features=4, n_estimators=2000, total=  11.4s\n",
            "[CV] learning_rate=0.001, max_features=4, n_estimators=2000 ..........\n",
            "[CV]  learning_rate=0.001, max_features=4, n_estimators=2000, total=  11.3s\n",
            "[CV] learning_rate=0.001, max_features=4, n_estimators=2500 ..........\n",
            "[CV]  learning_rate=0.001, max_features=4, n_estimators=2500, total=  14.0s\n",
            "[CV] learning_rate=0.001, max_features=4, n_estimators=2500 ..........\n",
            "[CV]  learning_rate=0.001, max_features=4, n_estimators=2500, total=  14.1s\n",
            "[CV] learning_rate=0.001, max_features=4, n_estimators=2500 ..........\n",
            "[CV]  learning_rate=0.001, max_features=4, n_estimators=2500, total=  14.1s\n",
            "[CV] learning_rate=0.01, max_features=2, n_estimators=500 ............\n",
            "[CV]  learning_rate=0.01, max_features=2, n_estimators=500, total=   1.6s\n",
            "[CV] learning_rate=0.01, max_features=2, n_estimators=500 ............\n",
            "[CV]  learning_rate=0.01, max_features=2, n_estimators=500, total=   1.6s\n",
            "[CV] learning_rate=0.01, max_features=2, n_estimators=500 ............\n",
            "[CV]  learning_rate=0.01, max_features=2, n_estimators=500, total=   1.6s\n",
            "[CV] learning_rate=0.01, max_features=2, n_estimators=1000 ...........\n",
            "[CV]  learning_rate=0.01, max_features=2, n_estimators=1000, total=   3.1s\n",
            "[CV] learning_rate=0.01, max_features=2, n_estimators=1000 ...........\n",
            "[CV]  learning_rate=0.01, max_features=2, n_estimators=1000, total=   3.1s\n",
            "[CV] learning_rate=0.01, max_features=2, n_estimators=1000 ...........\n",
            "[CV]  learning_rate=0.01, max_features=2, n_estimators=1000, total=   3.1s\n",
            "[CV] learning_rate=0.01, max_features=2, n_estimators=2000 ...........\n",
            "[CV]  learning_rate=0.01, max_features=2, n_estimators=2000, total=   6.2s\n",
            "[CV] learning_rate=0.01, max_features=2, n_estimators=2000 ...........\n",
            "[CV]  learning_rate=0.01, max_features=2, n_estimators=2000, total=   6.3s\n",
            "[CV] learning_rate=0.01, max_features=2, n_estimators=2000 ...........\n",
            "[CV]  learning_rate=0.01, max_features=2, n_estimators=2000, total=   6.2s\n",
            "[CV] learning_rate=0.01, max_features=2, n_estimators=2500 ...........\n",
            "[CV]  learning_rate=0.01, max_features=2, n_estimators=2500, total=   7.8s\n",
            "[CV] learning_rate=0.01, max_features=2, n_estimators=2500 ...........\n",
            "[CV]  learning_rate=0.01, max_features=2, n_estimators=2500, total=   7.8s\n",
            "[CV] learning_rate=0.01, max_features=2, n_estimators=2500 ...........\n",
            "[CV]  learning_rate=0.01, max_features=2, n_estimators=2500, total=   7.7s\n",
            "[CV] learning_rate=0.01, max_features=3, n_estimators=500 ............\n",
            "[CV]  learning_rate=0.01, max_features=3, n_estimators=500, total=   2.2s\n",
            "[CV] learning_rate=0.01, max_features=3, n_estimators=500 ............\n",
            "[CV]  learning_rate=0.01, max_features=3, n_estimators=500, total=   2.2s\n",
            "[CV] learning_rate=0.01, max_features=3, n_estimators=500 ............\n",
            "[CV]  learning_rate=0.01, max_features=3, n_estimators=500, total=   2.2s\n",
            "[CV] learning_rate=0.01, max_features=3, n_estimators=1000 ...........\n",
            "[CV]  learning_rate=0.01, max_features=3, n_estimators=1000, total=   4.5s\n",
            "[CV] learning_rate=0.01, max_features=3, n_estimators=1000 ...........\n",
            "[CV]  learning_rate=0.01, max_features=3, n_estimators=1000, total=   4.6s\n",
            "[CV] learning_rate=0.01, max_features=3, n_estimators=1000 ...........\n",
            "[CV]  learning_rate=0.01, max_features=3, n_estimators=1000, total=   4.5s\n",
            "[CV] learning_rate=0.01, max_features=3, n_estimators=2000 ...........\n",
            "[CV]  learning_rate=0.01, max_features=3, n_estimators=2000, total=   8.8s\n",
            "[CV] learning_rate=0.01, max_features=3, n_estimators=2000 ...........\n",
            "[CV]  learning_rate=0.01, max_features=3, n_estimators=2000, total=   8.7s\n",
            "[CV] learning_rate=0.01, max_features=3, n_estimators=2000 ...........\n",
            "[CV]  learning_rate=0.01, max_features=3, n_estimators=2000, total=   8.8s\n",
            "[CV] learning_rate=0.01, max_features=3, n_estimators=2500 ...........\n",
            "[CV]  learning_rate=0.01, max_features=3, n_estimators=2500, total=  11.2s\n",
            "[CV] learning_rate=0.01, max_features=3, n_estimators=2500 ...........\n",
            "[CV]  learning_rate=0.01, max_features=3, n_estimators=2500, total=  10.9s\n",
            "[CV] learning_rate=0.01, max_features=3, n_estimators=2500 ...........\n",
            "[CV]  learning_rate=0.01, max_features=3, n_estimators=2500, total=  10.8s\n",
            "[CV] learning_rate=0.01, max_features=4, n_estimators=500 ............\n",
            "[CV]  learning_rate=0.01, max_features=4, n_estimators=500, total=   2.8s\n",
            "[CV] learning_rate=0.01, max_features=4, n_estimators=500 ............\n",
            "[CV]  learning_rate=0.01, max_features=4, n_estimators=500, total=   2.8s\n",
            "[CV] learning_rate=0.01, max_features=4, n_estimators=500 ............\n",
            "[CV]  learning_rate=0.01, max_features=4, n_estimators=500, total=   2.8s\n",
            "[CV] learning_rate=0.01, max_features=4, n_estimators=1000 ...........\n",
            "[CV]  learning_rate=0.01, max_features=4, n_estimators=1000, total=   5.6s\n",
            "[CV] learning_rate=0.01, max_features=4, n_estimators=1000 ...........\n",
            "[CV]  learning_rate=0.01, max_features=4, n_estimators=1000, total=   5.6s\n",
            "[CV] learning_rate=0.01, max_features=4, n_estimators=1000 ...........\n",
            "[CV]  learning_rate=0.01, max_features=4, n_estimators=1000, total=   5.6s\n",
            "[CV] learning_rate=0.01, max_features=4, n_estimators=2000 ...........\n",
            "[CV]  learning_rate=0.01, max_features=4, n_estimators=2000, total=  11.2s\n",
            "[CV] learning_rate=0.01, max_features=4, n_estimators=2000 ...........\n",
            "[CV]  learning_rate=0.01, max_features=4, n_estimators=2000, total=  11.2s\n",
            "[CV] learning_rate=0.01, max_features=4, n_estimators=2000 ...........\n",
            "[CV]  learning_rate=0.01, max_features=4, n_estimators=2000, total=  11.2s\n",
            "[CV] learning_rate=0.01, max_features=4, n_estimators=2500 ...........\n",
            "[CV]  learning_rate=0.01, max_features=4, n_estimators=2500, total=  14.0s\n",
            "[CV] learning_rate=0.01, max_features=4, n_estimators=2500 ...........\n",
            "[CV]  learning_rate=0.01, max_features=4, n_estimators=2500, total=  14.1s\n",
            "[CV] learning_rate=0.01, max_features=4, n_estimators=2500 ...........\n",
            "[CV]  learning_rate=0.01, max_features=4, n_estimators=2500, total=  17.3s\n",
            "[CV] learning_rate=0.1, max_features=2, n_estimators=500 .............\n",
            "[CV]  learning_rate=0.1, max_features=2, n_estimators=500, total=   1.6s\n",
            "[CV] learning_rate=0.1, max_features=2, n_estimators=500 .............\n",
            "[CV]  learning_rate=0.1, max_features=2, n_estimators=500, total=   1.6s\n",
            "[CV] learning_rate=0.1, max_features=2, n_estimators=500 .............\n",
            "[CV]  learning_rate=0.1, max_features=2, n_estimators=500, total=   1.6s\n",
            "[CV] learning_rate=0.1, max_features=2, n_estimators=1000 ............\n",
            "[CV]  learning_rate=0.1, max_features=2, n_estimators=1000, total=   3.1s\n",
            "[CV] learning_rate=0.1, max_features=2, n_estimators=1000 ............\n",
            "[CV]  learning_rate=0.1, max_features=2, n_estimators=1000, total=   3.1s\n",
            "[CV] learning_rate=0.1, max_features=2, n_estimators=1000 ............\n",
            "[CV]  learning_rate=0.1, max_features=2, n_estimators=1000, total=   3.1s\n",
            "[CV] learning_rate=0.1, max_features=2, n_estimators=2000 ............\n",
            "[CV]  learning_rate=0.1, max_features=2, n_estimators=2000, total=   6.2s\n",
            "[CV] learning_rate=0.1, max_features=2, n_estimators=2000 ............\n",
            "[CV]  learning_rate=0.1, max_features=2, n_estimators=2000, total=   6.2s\n",
            "[CV] learning_rate=0.1, max_features=2, n_estimators=2000 ............\n",
            "[CV]  learning_rate=0.1, max_features=2, n_estimators=2000, total=   6.2s\n",
            "[CV] learning_rate=0.1, max_features=2, n_estimators=2500 ............\n",
            "[CV]  learning_rate=0.1, max_features=2, n_estimators=2500, total=   7.7s\n",
            "[CV] learning_rate=0.1, max_features=2, n_estimators=2500 ............\n",
            "[CV]  learning_rate=0.1, max_features=2, n_estimators=2500, total=   7.7s\n",
            "[CV] learning_rate=0.1, max_features=2, n_estimators=2500 ............\n",
            "[CV]  learning_rate=0.1, max_features=2, n_estimators=2500, total=   7.7s\n",
            "[CV] learning_rate=0.1, max_features=3, n_estimators=500 .............\n",
            "[CV]  learning_rate=0.1, max_features=3, n_estimators=500, total=   2.2s\n",
            "[CV] learning_rate=0.1, max_features=3, n_estimators=500 .............\n",
            "[CV]  learning_rate=0.1, max_features=3, n_estimators=500, total=   2.2s\n",
            "[CV] learning_rate=0.1, max_features=3, n_estimators=500 .............\n",
            "[CV]  learning_rate=0.1, max_features=3, n_estimators=500, total=   2.2s\n",
            "[CV] learning_rate=0.1, max_features=3, n_estimators=1000 ............\n",
            "[CV]  learning_rate=0.1, max_features=3, n_estimators=1000, total=   4.3s\n",
            "[CV] learning_rate=0.1, max_features=3, n_estimators=1000 ............\n",
            "[CV]  learning_rate=0.1, max_features=3, n_estimators=1000, total=   4.4s\n",
            "[CV] learning_rate=0.1, max_features=3, n_estimators=1000 ............\n",
            "[CV]  learning_rate=0.1, max_features=3, n_estimators=1000, total=   4.3s\n",
            "[CV] learning_rate=0.1, max_features=3, n_estimators=2000 ............\n",
            "[CV]  learning_rate=0.1, max_features=3, n_estimators=2000, total=   8.7s\n",
            "[CV] learning_rate=0.1, max_features=3, n_estimators=2000 ............\n",
            "[CV]  learning_rate=0.1, max_features=3, n_estimators=2000, total=   8.7s\n",
            "[CV] learning_rate=0.1, max_features=3, n_estimators=2000 ............\n",
            "[CV]  learning_rate=0.1, max_features=3, n_estimators=2000, total=   8.6s\n",
            "[CV] learning_rate=0.1, max_features=3, n_estimators=2500 ............\n",
            "[CV]  learning_rate=0.1, max_features=3, n_estimators=2500, total=  10.9s\n",
            "[CV] learning_rate=0.1, max_features=3, n_estimators=2500 ............\n",
            "[CV]  learning_rate=0.1, max_features=3, n_estimators=2500, total=  10.8s\n",
            "[CV] learning_rate=0.1, max_features=3, n_estimators=2500 ............\n",
            "[CV]  learning_rate=0.1, max_features=3, n_estimators=2500, total=  10.8s\n",
            "[CV] learning_rate=0.1, max_features=4, n_estimators=500 .............\n",
            "[CV]  learning_rate=0.1, max_features=4, n_estimators=500, total=   2.8s\n",
            "[CV] learning_rate=0.1, max_features=4, n_estimators=500 .............\n",
            "[CV]  learning_rate=0.1, max_features=4, n_estimators=500, total=   2.9s\n",
            "[CV] learning_rate=0.1, max_features=4, n_estimators=500 .............\n",
            "[CV]  learning_rate=0.1, max_features=4, n_estimators=500, total=   2.8s\n",
            "[CV] learning_rate=0.1, max_features=4, n_estimators=1000 ............\n",
            "[CV]  learning_rate=0.1, max_features=4, n_estimators=1000, total=   5.7s\n",
            "[CV] learning_rate=0.1, max_features=4, n_estimators=1000 ............\n",
            "[CV]  learning_rate=0.1, max_features=4, n_estimators=1000, total=   5.8s\n",
            "[CV] learning_rate=0.1, max_features=4, n_estimators=1000 ............\n",
            "[CV]  learning_rate=0.1, max_features=4, n_estimators=1000, total=   5.7s\n",
            "[CV] learning_rate=0.1, max_features=4, n_estimators=2000 ............\n",
            "[CV]  learning_rate=0.1, max_features=4, n_estimators=2000, total=  11.2s\n",
            "[CV] learning_rate=0.1, max_features=4, n_estimators=2000 ............\n",
            "[CV]  learning_rate=0.1, max_features=4, n_estimators=2000, total=  11.2s\n",
            "[CV] learning_rate=0.1, max_features=4, n_estimators=2000 ............\n",
            "[CV]  learning_rate=0.1, max_features=4, n_estimators=2000, total=  11.2s\n",
            "[CV] learning_rate=0.1, max_features=4, n_estimators=2500 ............\n",
            "[CV]  learning_rate=0.1, max_features=4, n_estimators=2500, total=  14.0s\n",
            "[CV] learning_rate=0.1, max_features=4, n_estimators=2500 ............\n",
            "[CV]  learning_rate=0.1, max_features=4, n_estimators=2500, total=  14.0s\n",
            "[CV] learning_rate=0.1, max_features=4, n_estimators=2500 ............\n",
            "[CV]  learning_rate=0.1, max_features=4, n_estimators=2500, total=  13.9s\n",
            "[CV] learning_rate=1, max_features=2, n_estimators=500 ...............\n",
            "[CV]  learning_rate=1, max_features=2, n_estimators=500, total=   1.6s\n",
            "[CV] learning_rate=1, max_features=2, n_estimators=500 ...............\n",
            "[CV]  learning_rate=1, max_features=2, n_estimators=500, total=   1.6s\n",
            "[CV] learning_rate=1, max_features=2, n_estimators=500 ...............\n",
            "[CV]  learning_rate=1, max_features=2, n_estimators=500, total=   1.5s\n",
            "[CV] learning_rate=1, max_features=2, n_estimators=1000 ..............\n",
            "[CV]  learning_rate=1, max_features=2, n_estimators=1000, total=   3.1s\n",
            "[CV] learning_rate=1, max_features=2, n_estimators=1000 ..............\n",
            "[CV]  learning_rate=1, max_features=2, n_estimators=1000, total=   3.1s\n",
            "[CV] learning_rate=1, max_features=2, n_estimators=1000 ..............\n",
            "[CV]  learning_rate=1, max_features=2, n_estimators=1000, total=   3.1s\n",
            "[CV] learning_rate=1, max_features=2, n_estimators=2000 ..............\n",
            "[CV]  learning_rate=1, max_features=2, n_estimators=2000, total=   6.2s\n",
            "[CV] learning_rate=1, max_features=2, n_estimators=2000 ..............\n",
            "[CV]  learning_rate=1, max_features=2, n_estimators=2000, total=   6.2s\n",
            "[CV] learning_rate=1, max_features=2, n_estimators=2000 ..............\n",
            "[CV]  learning_rate=1, max_features=2, n_estimators=2000, total=   6.2s\n",
            "[CV] learning_rate=1, max_features=2, n_estimators=2500 ..............\n",
            "[CV]  learning_rate=1, max_features=2, n_estimators=2500, total=   7.8s\n",
            "[CV] learning_rate=1, max_features=2, n_estimators=2500 ..............\n",
            "[CV]  learning_rate=1, max_features=2, n_estimators=2500, total=   7.7s\n",
            "[CV] learning_rate=1, max_features=2, n_estimators=2500 ..............\n",
            "[CV]  learning_rate=1, max_features=2, n_estimators=2500, total=   7.7s\n",
            "[CV] learning_rate=1, max_features=3, n_estimators=500 ...............\n",
            "[CV]  learning_rate=1, max_features=3, n_estimators=500, total=   2.2s\n",
            "[CV] learning_rate=1, max_features=3, n_estimators=500 ...............\n",
            "[CV]  learning_rate=1, max_features=3, n_estimators=500, total=   2.2s\n",
            "[CV] learning_rate=1, max_features=3, n_estimators=500 ...............\n",
            "[CV]  learning_rate=1, max_features=3, n_estimators=500, total=   2.2s\n",
            "[CV] learning_rate=1, max_features=3, n_estimators=1000 ..............\n",
            "[CV]  learning_rate=1, max_features=3, n_estimators=1000, total=   4.3s\n",
            "[CV] learning_rate=1, max_features=3, n_estimators=1000 ..............\n",
            "[CV]  learning_rate=1, max_features=3, n_estimators=1000, total=   4.4s\n",
            "[CV] learning_rate=1, max_features=3, n_estimators=1000 ..............\n",
            "[CV]  learning_rate=1, max_features=3, n_estimators=1000, total=   4.4s\n",
            "[CV] learning_rate=1, max_features=3, n_estimators=2000 ..............\n",
            "[CV]  learning_rate=1, max_features=3, n_estimators=2000, total=   8.8s\n",
            "[CV] learning_rate=1, max_features=3, n_estimators=2000 ..............\n",
            "[CV]  learning_rate=1, max_features=3, n_estimators=2000, total=   8.7s\n",
            "[CV] learning_rate=1, max_features=3, n_estimators=2000 ..............\n",
            "[CV]  learning_rate=1, max_features=3, n_estimators=2000, total=   8.7s\n",
            "[CV] learning_rate=1, max_features=3, n_estimators=2500 ..............\n",
            "[CV]  learning_rate=1, max_features=3, n_estimators=2500, total=  10.8s\n",
            "[CV] learning_rate=1, max_features=3, n_estimators=2500 ..............\n",
            "[CV]  learning_rate=1, max_features=3, n_estimators=2500, total=  10.9s\n",
            "[CV] learning_rate=1, max_features=3, n_estimators=2500 ..............\n",
            "[CV]  learning_rate=1, max_features=3, n_estimators=2500, total=  10.9s\n",
            "[CV] learning_rate=1, max_features=4, n_estimators=500 ...............\n",
            "[CV]  learning_rate=1, max_features=4, n_estimators=500, total=   2.8s\n",
            "[CV] learning_rate=1, max_features=4, n_estimators=500 ...............\n",
            "[CV]  learning_rate=1, max_features=4, n_estimators=500, total=   2.8s\n",
            "[CV] learning_rate=1, max_features=4, n_estimators=500 ...............\n",
            "[CV]  learning_rate=1, max_features=4, n_estimators=500, total=   2.8s\n",
            "[CV] learning_rate=1, max_features=4, n_estimators=1000 ..............\n",
            "[CV]  learning_rate=1, max_features=4, n_estimators=1000, total=   5.6s\n",
            "[CV] learning_rate=1, max_features=4, n_estimators=1000 ..............\n",
            "[CV]  learning_rate=1, max_features=4, n_estimators=1000, total=   5.6s\n",
            "[CV] learning_rate=1, max_features=4, n_estimators=1000 ..............\n",
            "[CV]  learning_rate=1, max_features=4, n_estimators=1000, total=   5.6s\n",
            "[CV] learning_rate=1, max_features=4, n_estimators=2000 ..............\n",
            "[CV]  learning_rate=1, max_features=4, n_estimators=2000, total=  11.1s\n",
            "[CV] learning_rate=1, max_features=4, n_estimators=2000 ..............\n",
            "[CV]  learning_rate=1, max_features=4, n_estimators=2000, total=  11.1s\n",
            "[CV] learning_rate=1, max_features=4, n_estimators=2000 ..............\n",
            "[CV]  learning_rate=1, max_features=4, n_estimators=2000, total=  11.3s\n",
            "[CV] learning_rate=1, max_features=4, n_estimators=2500 ..............\n",
            "[CV]  learning_rate=1, max_features=4, n_estimators=2500, total=  13.9s\n",
            "[CV] learning_rate=1, max_features=4, n_estimators=2500 ..............\n",
            "[CV]  learning_rate=1, max_features=4, n_estimators=2500, total=  14.0s\n",
            "[CV] learning_rate=1, max_features=4, n_estimators=2500 ..............\n",
            "[CV]  learning_rate=1, max_features=4, n_estimators=2500, total=  14.1s\n"
          ],
          "name": "stdout"
        },
        {
          "output_type": "stream",
          "text": [
            "[Parallel(n_jobs=1)]: Done 144 out of 144 | elapsed: 15.8min finished\n"
          ],
          "name": "stderr"
        }
      ]
    },
    {
      "cell_type": "code",
      "metadata": {
        "id": "6vNZmtsu2KRM",
        "colab_type": "code",
        "colab": {
          "base_uri": "https://localhost:8080/",
          "height": 186
        },
        "outputId": "3ca31875-e185-4846-de94-a51901f679e2"
      },
      "source": [
        "GBR_GS.best_estimator_"
      ],
      "execution_count": null,
      "outputs": [
        {
          "output_type": "execute_result",
          "data": {
            "text/plain": [
              "GradientBoostingRegressor(alpha=0.9, ccp_alpha=0.0, criterion='friedman_mse',\n",
              "                          init=None, learning_rate=0.1, loss='ls', max_depth=3,\n",
              "                          max_features=3, max_leaf_nodes=None,\n",
              "                          min_impurity_decrease=0.0, min_impurity_split=None,\n",
              "                          min_samples_leaf=1, min_samples_split=2,\n",
              "                          min_weight_fraction_leaf=0.0, n_estimators=2500,\n",
              "                          n_iter_no_change=None, presort='deprecated',\n",
              "                          random_state=None, subsample=1.0, tol=0.0001,\n",
              "                          validation_fraction=0.1, verbose=0, warm_start=False)"
            ]
          },
          "metadata": {
            "tags": []
          },
          "execution_count": 55
        }
      ]
    },
    {
      "cell_type": "code",
      "metadata": {
        "id": "z-kw0mbg2MQx",
        "colab_type": "code",
        "colab": {}
      },
      "source": [
        "Y_pred_GBR = GBR_GS.predict(X_test)"
      ],
      "execution_count": null,
      "outputs": []
    },
    {
      "cell_type": "code",
      "metadata": {
        "id": "6PLOtsFR2U0q",
        "colab_type": "code",
        "colab": {
          "base_uri": "https://localhost:8080/",
          "height": 130
        },
        "outputId": "976bf93a-99fb-4b35-b3fa-fa59076f6840"
      },
      "source": [
        "consolidator(GBR_GS,'GBR_original',X_train,Y_train,X_test,Y_test,Y_pred_GBR)"
      ],
      "execution_count": null,
      "outputs": [
        {
          "output_type": "stream",
          "text": [
            "GBR_original Model:-\n",
            "R^2 Score:  0.9915534556300001\n",
            "Test R^2 Score:  0.9724106949879012\n",
            "Mean Absolute Error : 2.0877469772485253\n",
            "Mean Squared Error : 7.926824827710662\n",
            "Root Mean Squared Error : 2.8154617432511246\n"
          ],
          "name": "stdout"
        }
      ]
    },
    {
      "cell_type": "markdown",
      "metadata": {
        "id": "HcpCZoMc18f7",
        "colab_type": "text"
      },
      "source": [
        "# Gradient Boost Regressor Scaled"
      ]
    },
    {
      "cell_type": "code",
      "metadata": {
        "id": "W_RMqzA_13zB",
        "colab_type": "code",
        "colab": {
          "base_uri": "https://localhost:8080/",
          "height": 1000
        },
        "outputId": "d1046b4c-f4d5-4afb-ba91-5a83c34200be"
      },
      "source": [
        "GBR = GradientBoostingRegressor()\n",
        "param_grid = {'n_estimators': [500,1000,2000,2500],\n",
        "             'learning_rate': [0.001,0.01,0.1,1],\n",
        "             'max_features': [2,3,4]}\n",
        "\n",
        "grid_search = GridSearchCV(estimator = GBR, param_grid = param_grid,cv=3,verbose=2)\n",
        "GBR_GS = grid_search.fit(X_train_scaled, Y_train)"
      ],
      "execution_count": null,
      "outputs": [
        {
          "output_type": "stream",
          "text": [
            "Fitting 3 folds for each of 48 candidates, totalling 144 fits\n",
            "[CV] learning_rate=0.001, max_features=2, n_estimators=500 ...........\n"
          ],
          "name": "stdout"
        },
        {
          "output_type": "stream",
          "text": [
            "[Parallel(n_jobs=1)]: Using backend SequentialBackend with 1 concurrent workers.\n"
          ],
          "name": "stderr"
        },
        {
          "output_type": "stream",
          "text": [
            "[CV]  learning_rate=0.001, max_features=2, n_estimators=500, total=   1.7s\n",
            "[CV] learning_rate=0.001, max_features=2, n_estimators=500 ...........\n"
          ],
          "name": "stdout"
        },
        {
          "output_type": "stream",
          "text": [
            "[Parallel(n_jobs=1)]: Done   1 out of   1 | elapsed:    1.7s remaining:    0.0s\n"
          ],
          "name": "stderr"
        },
        {
          "output_type": "stream",
          "text": [
            "[CV]  learning_rate=0.001, max_features=2, n_estimators=500, total=   1.7s\n",
            "[CV] learning_rate=0.001, max_features=2, n_estimators=500 ...........\n",
            "[CV]  learning_rate=0.001, max_features=2, n_estimators=500, total=   1.6s\n",
            "[CV] learning_rate=0.001, max_features=2, n_estimators=1000 ..........\n",
            "[CV]  learning_rate=0.001, max_features=2, n_estimators=1000, total=   3.2s\n",
            "[CV] learning_rate=0.001, max_features=2, n_estimators=1000 ..........\n",
            "[CV]  learning_rate=0.001, max_features=2, n_estimators=1000, total=   3.2s\n",
            "[CV] learning_rate=0.001, max_features=2, n_estimators=1000 ..........\n",
            "[CV]  learning_rate=0.001, max_features=2, n_estimators=1000, total=   3.2s\n",
            "[CV] learning_rate=0.001, max_features=2, n_estimators=2000 ..........\n",
            "[CV]  learning_rate=0.001, max_features=2, n_estimators=2000, total=   6.5s\n",
            "[CV] learning_rate=0.001, max_features=2, n_estimators=2000 ..........\n",
            "[CV]  learning_rate=0.001, max_features=2, n_estimators=2000, total=   6.4s\n",
            "[CV] learning_rate=0.001, max_features=2, n_estimators=2000 ..........\n",
            "[CV]  learning_rate=0.001, max_features=2, n_estimators=2000, total=   6.3s\n",
            "[CV] learning_rate=0.001, max_features=2, n_estimators=2500 ..........\n",
            "[CV]  learning_rate=0.001, max_features=2, n_estimators=2500, total=   8.0s\n",
            "[CV] learning_rate=0.001, max_features=2, n_estimators=2500 ..........\n",
            "[CV]  learning_rate=0.001, max_features=2, n_estimators=2500, total=   8.0s\n",
            "[CV] learning_rate=0.001, max_features=2, n_estimators=2500 ..........\n",
            "[CV]  learning_rate=0.001, max_features=2, n_estimators=2500, total=   7.8s\n",
            "[CV] learning_rate=0.001, max_features=3, n_estimators=500 ...........\n",
            "[CV]  learning_rate=0.001, max_features=3, n_estimators=500, total=   2.3s\n",
            "[CV] learning_rate=0.001, max_features=3, n_estimators=500 ...........\n",
            "[CV]  learning_rate=0.001, max_features=3, n_estimators=500, total=   2.2s\n",
            "[CV] learning_rate=0.001, max_features=3, n_estimators=500 ...........\n",
            "[CV]  learning_rate=0.001, max_features=3, n_estimators=500, total=   2.2s\n",
            "[CV] learning_rate=0.001, max_features=3, n_estimators=1000 ..........\n",
            "[CV]  learning_rate=0.001, max_features=3, n_estimators=1000, total=   4.5s\n",
            "[CV] learning_rate=0.001, max_features=3, n_estimators=1000 ..........\n",
            "[CV]  learning_rate=0.001, max_features=3, n_estimators=1000, total=   4.5s\n",
            "[CV] learning_rate=0.001, max_features=3, n_estimators=1000 ..........\n",
            "[CV]  learning_rate=0.001, max_features=3, n_estimators=1000, total=   4.4s\n",
            "[CV] learning_rate=0.001, max_features=3, n_estimators=2000 ..........\n",
            "[CV]  learning_rate=0.001, max_features=3, n_estimators=2000, total=   8.9s\n",
            "[CV] learning_rate=0.001, max_features=3, n_estimators=2000 ..........\n",
            "[CV]  learning_rate=0.001, max_features=3, n_estimators=2000, total=   8.9s\n",
            "[CV] learning_rate=0.001, max_features=3, n_estimators=2000 ..........\n",
            "[CV]  learning_rate=0.001, max_features=3, n_estimators=2000, total=   8.8s\n",
            "[CV] learning_rate=0.001, max_features=3, n_estimators=2500 ..........\n",
            "[CV]  learning_rate=0.001, max_features=3, n_estimators=2500, total=  12.0s\n",
            "[CV] learning_rate=0.001, max_features=3, n_estimators=2500 ..........\n",
            "[CV]  learning_rate=0.001, max_features=3, n_estimators=2500, total=  12.8s\n",
            "[CV] learning_rate=0.001, max_features=3, n_estimators=2500 ..........\n",
            "[CV]  learning_rate=0.001, max_features=3, n_estimators=2500, total=  11.0s\n",
            "[CV] learning_rate=0.001, max_features=4, n_estimators=500 ...........\n",
            "[CV]  learning_rate=0.001, max_features=4, n_estimators=500, total=   2.8s\n",
            "[CV] learning_rate=0.001, max_features=4, n_estimators=500 ...........\n",
            "[CV]  learning_rate=0.001, max_features=4, n_estimators=500, total=   2.8s\n",
            "[CV] learning_rate=0.001, max_features=4, n_estimators=500 ...........\n",
            "[CV]  learning_rate=0.001, max_features=4, n_estimators=500, total=   2.8s\n",
            "[CV] learning_rate=0.001, max_features=4, n_estimators=1000 ..........\n",
            "[CV]  learning_rate=0.001, max_features=4, n_estimators=1000, total=   5.6s\n",
            "[CV] learning_rate=0.001, max_features=4, n_estimators=1000 ..........\n",
            "[CV]  learning_rate=0.001, max_features=4, n_estimators=1000, total=   5.7s\n",
            "[CV] learning_rate=0.001, max_features=4, n_estimators=1000 ..........\n",
            "[CV]  learning_rate=0.001, max_features=4, n_estimators=1000, total=   5.7s\n",
            "[CV] learning_rate=0.001, max_features=4, n_estimators=2000 ..........\n",
            "[CV]  learning_rate=0.001, max_features=4, n_estimators=2000, total=  11.2s\n",
            "[CV] learning_rate=0.001, max_features=4, n_estimators=2000 ..........\n",
            "[CV]  learning_rate=0.001, max_features=4, n_estimators=2000, total=  11.2s\n",
            "[CV] learning_rate=0.001, max_features=4, n_estimators=2000 ..........\n",
            "[CV]  learning_rate=0.001, max_features=4, n_estimators=2000, total=  11.2s\n",
            "[CV] learning_rate=0.001, max_features=4, n_estimators=2500 ..........\n",
            "[CV]  learning_rate=0.001, max_features=4, n_estimators=2500, total=  14.1s\n",
            "[CV] learning_rate=0.001, max_features=4, n_estimators=2500 ..........\n",
            "[CV]  learning_rate=0.001, max_features=4, n_estimators=2500, total=  14.1s\n",
            "[CV] learning_rate=0.001, max_features=4, n_estimators=2500 ..........\n",
            "[CV]  learning_rate=0.001, max_features=4, n_estimators=2500, total=  14.1s\n",
            "[CV] learning_rate=0.01, max_features=2, n_estimators=500 ............\n",
            "[CV]  learning_rate=0.01, max_features=2, n_estimators=500, total=   1.6s\n",
            "[CV] learning_rate=0.01, max_features=2, n_estimators=500 ............\n",
            "[CV]  learning_rate=0.01, max_features=2, n_estimators=500, total=   1.6s\n",
            "[CV] learning_rate=0.01, max_features=2, n_estimators=500 ............\n",
            "[CV]  learning_rate=0.01, max_features=2, n_estimators=500, total=   1.6s\n",
            "[CV] learning_rate=0.01, max_features=2, n_estimators=1000 ...........\n",
            "[CV]  learning_rate=0.01, max_features=2, n_estimators=1000, total=   3.1s\n",
            "[CV] learning_rate=0.01, max_features=2, n_estimators=1000 ...........\n",
            "[CV]  learning_rate=0.01, max_features=2, n_estimators=1000, total=   3.1s\n",
            "[CV] learning_rate=0.01, max_features=2, n_estimators=1000 ...........\n",
            "[CV]  learning_rate=0.01, max_features=2, n_estimators=1000, total=   3.2s\n",
            "[CV] learning_rate=0.01, max_features=2, n_estimators=2000 ...........\n",
            "[CV]  learning_rate=0.01, max_features=2, n_estimators=2000, total=   6.2s\n",
            "[CV] learning_rate=0.01, max_features=2, n_estimators=2000 ...........\n",
            "[CV]  learning_rate=0.01, max_features=2, n_estimators=2000, total=   6.2s\n",
            "[CV] learning_rate=0.01, max_features=2, n_estimators=2000 ...........\n",
            "[CV]  learning_rate=0.01, max_features=2, n_estimators=2000, total=   6.3s\n",
            "[CV] learning_rate=0.01, max_features=2, n_estimators=2500 ...........\n",
            "[CV]  learning_rate=0.01, max_features=2, n_estimators=2500, total=   7.8s\n",
            "[CV] learning_rate=0.01, max_features=2, n_estimators=2500 ...........\n",
            "[CV]  learning_rate=0.01, max_features=2, n_estimators=2500, total=   7.9s\n",
            "[CV] learning_rate=0.01, max_features=2, n_estimators=2500 ...........\n",
            "[CV]  learning_rate=0.01, max_features=2, n_estimators=2500, total=   7.9s\n",
            "[CV] learning_rate=0.01, max_features=3, n_estimators=500 ............\n",
            "[CV]  learning_rate=0.01, max_features=3, n_estimators=500, total=   2.2s\n",
            "[CV] learning_rate=0.01, max_features=3, n_estimators=500 ............\n",
            "[CV]  learning_rate=0.01, max_features=3, n_estimators=500, total=   2.2s\n",
            "[CV] learning_rate=0.01, max_features=3, n_estimators=500 ............\n",
            "[CV]  learning_rate=0.01, max_features=3, n_estimators=500, total=   2.2s\n",
            "[CV] learning_rate=0.01, max_features=3, n_estimators=1000 ...........\n",
            "[CV]  learning_rate=0.01, max_features=3, n_estimators=1000, total=   4.5s\n",
            "[CV] learning_rate=0.01, max_features=3, n_estimators=1000 ...........\n",
            "[CV]  learning_rate=0.01, max_features=3, n_estimators=1000, total=   4.4s\n",
            "[CV] learning_rate=0.01, max_features=3, n_estimators=1000 ...........\n",
            "[CV]  learning_rate=0.01, max_features=3, n_estimators=1000, total=   4.4s\n",
            "[CV] learning_rate=0.01, max_features=3, n_estimators=2000 ...........\n",
            "[CV]  learning_rate=0.01, max_features=3, n_estimators=2000, total=   8.7s\n",
            "[CV] learning_rate=0.01, max_features=3, n_estimators=2000 ...........\n",
            "[CV]  learning_rate=0.01, max_features=3, n_estimators=2000, total=   8.7s\n",
            "[CV] learning_rate=0.01, max_features=3, n_estimators=2000 ...........\n",
            "[CV]  learning_rate=0.01, max_features=3, n_estimators=2000, total=   8.7s\n",
            "[CV] learning_rate=0.01, max_features=3, n_estimators=2500 ...........\n",
            "[CV]  learning_rate=0.01, max_features=3, n_estimators=2500, total=  10.9s\n",
            "[CV] learning_rate=0.01, max_features=3, n_estimators=2500 ...........\n",
            "[CV]  learning_rate=0.01, max_features=3, n_estimators=2500, total=  10.9s\n",
            "[CV] learning_rate=0.01, max_features=3, n_estimators=2500 ...........\n",
            "[CV]  learning_rate=0.01, max_features=3, n_estimators=2500, total=  10.9s\n",
            "[CV] learning_rate=0.01, max_features=4, n_estimators=500 ............\n",
            "[CV]  learning_rate=0.01, max_features=4, n_estimators=500, total=   2.8s\n",
            "[CV] learning_rate=0.01, max_features=4, n_estimators=500 ............\n",
            "[CV]  learning_rate=0.01, max_features=4, n_estimators=500, total=   2.8s\n",
            "[CV] learning_rate=0.01, max_features=4, n_estimators=500 ............\n",
            "[CV]  learning_rate=0.01, max_features=4, n_estimators=500, total=   2.8s\n",
            "[CV] learning_rate=0.01, max_features=4, n_estimators=1000 ...........\n",
            "[CV]  learning_rate=0.01, max_features=4, n_estimators=1000, total=   5.6s\n",
            "[CV] learning_rate=0.01, max_features=4, n_estimators=1000 ...........\n",
            "[CV]  learning_rate=0.01, max_features=4, n_estimators=1000, total=   5.6s\n",
            "[CV] learning_rate=0.01, max_features=4, n_estimators=1000 ...........\n",
            "[CV]  learning_rate=0.01, max_features=4, n_estimators=1000, total=   5.6s\n",
            "[CV] learning_rate=0.01, max_features=4, n_estimators=2000 ...........\n",
            "[CV]  learning_rate=0.01, max_features=4, n_estimators=2000, total=  11.1s\n",
            "[CV] learning_rate=0.01, max_features=4, n_estimators=2000 ...........\n",
            "[CV]  learning_rate=0.01, max_features=4, n_estimators=2000, total=  11.2s\n",
            "[CV] learning_rate=0.01, max_features=4, n_estimators=2000 ...........\n",
            "[CV]  learning_rate=0.01, max_features=4, n_estimators=2000, total=  11.1s\n",
            "[CV] learning_rate=0.01, max_features=4, n_estimators=2500 ...........\n",
            "[CV]  learning_rate=0.01, max_features=4, n_estimators=2500, total=  13.9s\n",
            "[CV] learning_rate=0.01, max_features=4, n_estimators=2500 ...........\n",
            "[CV]  learning_rate=0.01, max_features=4, n_estimators=2500, total=  14.0s\n",
            "[CV] learning_rate=0.01, max_features=4, n_estimators=2500 ...........\n",
            "[CV]  learning_rate=0.01, max_features=4, n_estimators=2500, total=  13.9s\n",
            "[CV] learning_rate=0.1, max_features=2, n_estimators=500 .............\n",
            "[CV]  learning_rate=0.1, max_features=2, n_estimators=500, total=   1.6s\n",
            "[CV] learning_rate=0.1, max_features=2, n_estimators=500 .............\n",
            "[CV]  learning_rate=0.1, max_features=2, n_estimators=500, total=   1.6s\n",
            "[CV] learning_rate=0.1, max_features=2, n_estimators=500 .............\n",
            "[CV]  learning_rate=0.1, max_features=2, n_estimators=500, total=   1.5s\n",
            "[CV] learning_rate=0.1, max_features=2, n_estimators=1000 ............\n",
            "[CV]  learning_rate=0.1, max_features=2, n_estimators=1000, total=   3.1s\n",
            "[CV] learning_rate=0.1, max_features=2, n_estimators=1000 ............\n",
            "[CV]  learning_rate=0.1, max_features=2, n_estimators=1000, total=   3.2s\n",
            "[CV] learning_rate=0.1, max_features=2, n_estimators=1000 ............\n",
            "[CV]  learning_rate=0.1, max_features=2, n_estimators=1000, total=   3.1s\n",
            "[CV] learning_rate=0.1, max_features=2, n_estimators=2000 ............\n",
            "[CV]  learning_rate=0.1, max_features=2, n_estimators=2000, total=   6.2s\n",
            "[CV] learning_rate=0.1, max_features=2, n_estimators=2000 ............\n",
            "[CV]  learning_rate=0.1, max_features=2, n_estimators=2000, total=   6.2s\n",
            "[CV] learning_rate=0.1, max_features=2, n_estimators=2000 ............\n",
            "[CV]  learning_rate=0.1, max_features=2, n_estimators=2000, total=   6.1s\n",
            "[CV] learning_rate=0.1, max_features=2, n_estimators=2500 ............\n",
            "[CV]  learning_rate=0.1, max_features=2, n_estimators=2500, total=   7.8s\n",
            "[CV] learning_rate=0.1, max_features=2, n_estimators=2500 ............\n",
            "[CV]  learning_rate=0.1, max_features=2, n_estimators=2500, total=   7.8s\n",
            "[CV] learning_rate=0.1, max_features=2, n_estimators=2500 ............\n",
            "[CV]  learning_rate=0.1, max_features=2, n_estimators=2500, total=   7.8s\n",
            "[CV] learning_rate=0.1, max_features=3, n_estimators=500 .............\n",
            "[CV]  learning_rate=0.1, max_features=3, n_estimators=500, total=   2.2s\n",
            "[CV] learning_rate=0.1, max_features=3, n_estimators=500 .............\n",
            "[CV]  learning_rate=0.1, max_features=3, n_estimators=500, total=   2.2s\n",
            "[CV] learning_rate=0.1, max_features=3, n_estimators=500 .............\n",
            "[CV]  learning_rate=0.1, max_features=3, n_estimators=500, total=   2.2s\n",
            "[CV] learning_rate=0.1, max_features=3, n_estimators=1000 ............\n",
            "[CV]  learning_rate=0.1, max_features=3, n_estimators=1000, total=   4.4s\n",
            "[CV] learning_rate=0.1, max_features=3, n_estimators=1000 ............\n",
            "[CV]  learning_rate=0.1, max_features=3, n_estimators=1000, total=   4.4s\n",
            "[CV] learning_rate=0.1, max_features=3, n_estimators=1000 ............\n",
            "[CV]  learning_rate=0.1, max_features=3, n_estimators=1000, total=   4.3s\n",
            "[CV] learning_rate=0.1, max_features=3, n_estimators=2000 ............\n",
            "[CV]  learning_rate=0.1, max_features=3, n_estimators=2000, total=   8.7s\n",
            "[CV] learning_rate=0.1, max_features=3, n_estimators=2000 ............\n",
            "[CV]  learning_rate=0.1, max_features=3, n_estimators=2000, total=   8.7s\n",
            "[CV] learning_rate=0.1, max_features=3, n_estimators=2000 ............\n",
            "[CV]  learning_rate=0.1, max_features=3, n_estimators=2000, total=   8.7s\n",
            "[CV] learning_rate=0.1, max_features=3, n_estimators=2500 ............\n",
            "[CV]  learning_rate=0.1, max_features=3, n_estimators=2500, total=  10.8s\n",
            "[CV] learning_rate=0.1, max_features=3, n_estimators=2500 ............\n",
            "[CV]  learning_rate=0.1, max_features=3, n_estimators=2500, total=  11.0s\n",
            "[CV] learning_rate=0.1, max_features=3, n_estimators=2500 ............\n",
            "[CV]  learning_rate=0.1, max_features=3, n_estimators=2500, total=  11.0s\n",
            "[CV] learning_rate=0.1, max_features=4, n_estimators=500 .............\n",
            "[CV]  learning_rate=0.1, max_features=4, n_estimators=500, total=   2.9s\n",
            "[CV] learning_rate=0.1, max_features=4, n_estimators=500 .............\n",
            "[CV]  learning_rate=0.1, max_features=4, n_estimators=500, total=   2.9s\n",
            "[CV] learning_rate=0.1, max_features=4, n_estimators=500 .............\n",
            "[CV]  learning_rate=0.1, max_features=4, n_estimators=500, total=   2.8s\n",
            "[CV] learning_rate=0.1, max_features=4, n_estimators=1000 ............\n",
            "[CV]  learning_rate=0.1, max_features=4, n_estimators=1000, total=   5.6s\n",
            "[CV] learning_rate=0.1, max_features=4, n_estimators=1000 ............\n",
            "[CV]  learning_rate=0.1, max_features=4, n_estimators=1000, total=   5.6s\n",
            "[CV] learning_rate=0.1, max_features=4, n_estimators=1000 ............\n",
            "[CV]  learning_rate=0.1, max_features=4, n_estimators=1000, total=   5.6s\n",
            "[CV] learning_rate=0.1, max_features=4, n_estimators=2000 ............\n",
            "[CV]  learning_rate=0.1, max_features=4, n_estimators=2000, total=  11.2s\n",
            "[CV] learning_rate=0.1, max_features=4, n_estimators=2000 ............\n",
            "[CV]  learning_rate=0.1, max_features=4, n_estimators=2000, total=  11.2s\n",
            "[CV] learning_rate=0.1, max_features=4, n_estimators=2000 ............\n",
            "[CV]  learning_rate=0.1, max_features=4, n_estimators=2000, total=  11.1s\n",
            "[CV] learning_rate=0.1, max_features=4, n_estimators=2500 ............\n",
            "[CV]  learning_rate=0.1, max_features=4, n_estimators=2500, total=  13.9s\n",
            "[CV] learning_rate=0.1, max_features=4, n_estimators=2500 ............\n",
            "[CV]  learning_rate=0.1, max_features=4, n_estimators=2500, total=  13.9s\n",
            "[CV] learning_rate=0.1, max_features=4, n_estimators=2500 ............\n",
            "[CV]  learning_rate=0.1, max_features=4, n_estimators=2500, total=  13.9s\n",
            "[CV] learning_rate=1, max_features=2, n_estimators=500 ...............\n",
            "[CV]  learning_rate=1, max_features=2, n_estimators=500, total=   1.5s\n",
            "[CV] learning_rate=1, max_features=2, n_estimators=500 ...............\n",
            "[CV]  learning_rate=1, max_features=2, n_estimators=500, total=   1.6s\n",
            "[CV] learning_rate=1, max_features=2, n_estimators=500 ...............\n",
            "[CV]  learning_rate=1, max_features=2, n_estimators=500, total=   1.5s\n",
            "[CV] learning_rate=1, max_features=2, n_estimators=1000 ..............\n",
            "[CV]  learning_rate=1, max_features=2, n_estimators=1000, total=   3.1s\n",
            "[CV] learning_rate=1, max_features=2, n_estimators=1000 ..............\n",
            "[CV]  learning_rate=1, max_features=2, n_estimators=1000, total=   3.1s\n",
            "[CV] learning_rate=1, max_features=2, n_estimators=1000 ..............\n",
            "[CV]  learning_rate=1, max_features=2, n_estimators=1000, total=   3.1s\n",
            "[CV] learning_rate=1, max_features=2, n_estimators=2000 ..............\n",
            "[CV]  learning_rate=1, max_features=2, n_estimators=2000, total=   6.2s\n",
            "[CV] learning_rate=1, max_features=2, n_estimators=2000 ..............\n",
            "[CV]  learning_rate=1, max_features=2, n_estimators=2000, total=   6.2s\n",
            "[CV] learning_rate=1, max_features=2, n_estimators=2000 ..............\n",
            "[CV]  learning_rate=1, max_features=2, n_estimators=2000, total=   6.2s\n",
            "[CV] learning_rate=1, max_features=2, n_estimators=2500 ..............\n",
            "[CV]  learning_rate=1, max_features=2, n_estimators=2500, total=   7.7s\n",
            "[CV] learning_rate=1, max_features=2, n_estimators=2500 ..............\n",
            "[CV]  learning_rate=1, max_features=2, n_estimators=2500, total=   7.7s\n",
            "[CV] learning_rate=1, max_features=2, n_estimators=2500 ..............\n",
            "[CV]  learning_rate=1, max_features=2, n_estimators=2500, total=   7.7s\n",
            "[CV] learning_rate=1, max_features=3, n_estimators=500 ...............\n",
            "[CV]  learning_rate=1, max_features=3, n_estimators=500, total=   2.2s\n",
            "[CV] learning_rate=1, max_features=3, n_estimators=500 ...............\n",
            "[CV]  learning_rate=1, max_features=3, n_estimators=500, total=   2.2s\n",
            "[CV] learning_rate=1, max_features=3, n_estimators=500 ...............\n",
            "[CV]  learning_rate=1, max_features=3, n_estimators=500, total=   2.2s\n",
            "[CV] learning_rate=1, max_features=3, n_estimators=1000 ..............\n",
            "[CV]  learning_rate=1, max_features=3, n_estimators=1000, total=   4.3s\n",
            "[CV] learning_rate=1, max_features=3, n_estimators=1000 ..............\n",
            "[CV]  learning_rate=1, max_features=3, n_estimators=1000, total=   4.3s\n",
            "[CV] learning_rate=1, max_features=3, n_estimators=1000 ..............\n",
            "[CV]  learning_rate=1, max_features=3, n_estimators=1000, total=   4.3s\n",
            "[CV] learning_rate=1, max_features=3, n_estimators=2000 ..............\n",
            "[CV]  learning_rate=1, max_features=3, n_estimators=2000, total=   8.6s\n",
            "[CV] learning_rate=1, max_features=3, n_estimators=2000 ..............\n",
            "[CV]  learning_rate=1, max_features=3, n_estimators=2000, total=   8.7s\n",
            "[CV] learning_rate=1, max_features=3, n_estimators=2000 ..............\n",
            "[CV]  learning_rate=1, max_features=3, n_estimators=2000, total=   8.7s\n",
            "[CV] learning_rate=1, max_features=3, n_estimators=2500 ..............\n",
            "[CV]  learning_rate=1, max_features=3, n_estimators=2500, total=  10.8s\n",
            "[CV] learning_rate=1, max_features=3, n_estimators=2500 ..............\n",
            "[CV]  learning_rate=1, max_features=3, n_estimators=2500, total=  10.8s\n",
            "[CV] learning_rate=1, max_features=3, n_estimators=2500 ..............\n",
            "[CV]  learning_rate=1, max_features=3, n_estimators=2500, total=  10.8s\n",
            "[CV] learning_rate=1, max_features=4, n_estimators=500 ...............\n",
            "[CV]  learning_rate=1, max_features=4, n_estimators=500, total=   2.8s\n",
            "[CV] learning_rate=1, max_features=4, n_estimators=500 ...............\n",
            "[CV]  learning_rate=1, max_features=4, n_estimators=500, total=   2.8s\n",
            "[CV] learning_rate=1, max_features=4, n_estimators=500 ...............\n",
            "[CV]  learning_rate=1, max_features=4, n_estimators=500, total=   2.8s\n",
            "[CV] learning_rate=1, max_features=4, n_estimators=1000 ..............\n",
            "[CV]  learning_rate=1, max_features=4, n_estimators=1000, total=   5.6s\n",
            "[CV] learning_rate=1, max_features=4, n_estimators=1000 ..............\n",
            "[CV]  learning_rate=1, max_features=4, n_estimators=1000, total=   5.6s\n",
            "[CV] learning_rate=1, max_features=4, n_estimators=1000 ..............\n",
            "[CV]  learning_rate=1, max_features=4, n_estimators=1000, total=   5.6s\n",
            "[CV] learning_rate=1, max_features=4, n_estimators=2000 ..............\n",
            "[CV]  learning_rate=1, max_features=4, n_estimators=2000, total=  11.2s\n",
            "[CV] learning_rate=1, max_features=4, n_estimators=2000 ..............\n",
            "[CV]  learning_rate=1, max_features=4, n_estimators=2000, total=  11.1s\n",
            "[CV] learning_rate=1, max_features=4, n_estimators=2000 ..............\n",
            "[CV]  learning_rate=1, max_features=4, n_estimators=2000, total=  11.2s\n",
            "[CV] learning_rate=1, max_features=4, n_estimators=2500 ..............\n",
            "[CV]  learning_rate=1, max_features=4, n_estimators=2500, total=  14.1s\n",
            "[CV] learning_rate=1, max_features=4, n_estimators=2500 ..............\n",
            "[CV]  learning_rate=1, max_features=4, n_estimators=2500, total=  14.5s\n",
            "[CV] learning_rate=1, max_features=4, n_estimators=2500 ..............\n",
            "[CV]  learning_rate=1, max_features=4, n_estimators=2500, total=  13.9s\n"
          ],
          "name": "stdout"
        },
        {
          "output_type": "stream",
          "text": [
            "[Parallel(n_jobs=1)]: Done 144 out of 144 | elapsed: 15.8min finished\n"
          ],
          "name": "stderr"
        }
      ]
    },
    {
      "cell_type": "code",
      "metadata": {
        "id": "Vu-HCZXm2K9L",
        "colab_type": "code",
        "colab": {
          "base_uri": "https://localhost:8080/",
          "height": 186
        },
        "outputId": "20c72184-9188-455f-f672-a6922e087121"
      },
      "source": [
        "GBR_GS.best_estimator_"
      ],
      "execution_count": null,
      "outputs": [
        {
          "output_type": "execute_result",
          "data": {
            "text/plain": [
              "GradientBoostingRegressor(alpha=0.9, ccp_alpha=0.0, criterion='friedman_mse',\n",
              "                          init=None, learning_rate=0.1, loss='ls', max_depth=3,\n",
              "                          max_features=3, max_leaf_nodes=None,\n",
              "                          min_impurity_decrease=0.0, min_impurity_split=None,\n",
              "                          min_samples_leaf=1, min_samples_split=2,\n",
              "                          min_weight_fraction_leaf=0.0, n_estimators=2500,\n",
              "                          n_iter_no_change=None, presort='deprecated',\n",
              "                          random_state=None, subsample=1.0, tol=0.0001,\n",
              "                          validation_fraction=0.1, verbose=0, warm_start=False)"
            ]
          },
          "metadata": {
            "tags": []
          },
          "execution_count": 59
        }
      ]
    },
    {
      "cell_type": "code",
      "metadata": {
        "id": "UFmkj48a169I",
        "colab_type": "code",
        "colab": {}
      },
      "source": [
        "Y_pred_GBR = GBR_GS.predict(X_test_scaled)"
      ],
      "execution_count": null,
      "outputs": []
    },
    {
      "cell_type": "code",
      "metadata": {
        "id": "U_pei6uI2SpH",
        "colab_type": "code",
        "colab": {
          "base_uri": "https://localhost:8080/",
          "height": 130
        },
        "outputId": "c15a40cf-71c9-4ae1-a92c-9199285c7098"
      },
      "source": [
        "consolidator(GBR_GS,'GBR_scaled',X_train_scaled,Y_train,X_test_scaled,Y_test,Y_pred_GBR)"
      ],
      "execution_count": null,
      "outputs": [
        {
          "output_type": "stream",
          "text": [
            "GBR_scaled Model:-\n",
            "R^2 Score:  0.9917170798819906\n",
            "Test R^2 Score:  0.9730105373986684\n",
            "Mean Absolute Error : 2.094579168423162\n",
            "Mean Squared Error : 7.754481025925978\n",
            "Root Mean Squared Error : 2.7846868811279264\n"
          ],
          "name": "stdout"
        }
      ]
    },
    {
      "cell_type": "markdown",
      "metadata": {
        "id": "gcmW7PoS_6_m",
        "colab_type": "text"
      },
      "source": [
        "# Gradient Boost Regressor Norm"
      ]
    },
    {
      "cell_type": "code",
      "metadata": {
        "id": "-Hmrcw70AA8I",
        "colab_type": "code",
        "colab": {
          "base_uri": "https://localhost:8080/",
          "height": 1000
        },
        "outputId": "8d81da3d-9b95-4d98-b07e-ca6883289517"
      },
      "source": [
        "GBR = GradientBoostingRegressor()\n",
        "param_grid = {'n_estimators': [500,1000,2000,2500],\n",
        "             'learning_rate': [0.001,0.01,0.1,1],\n",
        "             'max_features': [2,3,4]}\n",
        "\n",
        "grid_search = GridSearchCV(estimator = GBR, param_grid = param_grid,cv=3,verbose=2)\n",
        "GBR_GS = grid_search.fit(X_train_norm, Y_train)"
      ],
      "execution_count": null,
      "outputs": [
        {
          "output_type": "stream",
          "text": [
            "Fitting 3 folds for each of 48 candidates, totalling 144 fits\n",
            "[CV] learning_rate=0.001, max_features=2, n_estimators=500 ...........\n"
          ],
          "name": "stdout"
        },
        {
          "output_type": "stream",
          "text": [
            "[Parallel(n_jobs=1)]: Using backend SequentialBackend with 1 concurrent workers.\n"
          ],
          "name": "stderr"
        },
        {
          "output_type": "stream",
          "text": [
            "[CV]  learning_rate=0.001, max_features=2, n_estimators=500, total=   1.8s\n",
            "[CV] learning_rate=0.001, max_features=2, n_estimators=500 ...........\n"
          ],
          "name": "stdout"
        },
        {
          "output_type": "stream",
          "text": [
            "[Parallel(n_jobs=1)]: Done   1 out of   1 | elapsed:    1.8s remaining:    0.0s\n"
          ],
          "name": "stderr"
        },
        {
          "output_type": "stream",
          "text": [
            "[CV]  learning_rate=0.001, max_features=2, n_estimators=500, total=   1.8s\n",
            "[CV] learning_rate=0.001, max_features=2, n_estimators=500 ...........\n",
            "[CV]  learning_rate=0.001, max_features=2, n_estimators=500, total=   1.8s\n",
            "[CV] learning_rate=0.001, max_features=2, n_estimators=1000 ..........\n",
            "[CV]  learning_rate=0.001, max_features=2, n_estimators=1000, total=   3.6s\n",
            "[CV] learning_rate=0.001, max_features=2, n_estimators=1000 ..........\n",
            "[CV]  learning_rate=0.001, max_features=2, n_estimators=1000, total=   3.6s\n",
            "[CV] learning_rate=0.001, max_features=2, n_estimators=1000 ..........\n",
            "[CV]  learning_rate=0.001, max_features=2, n_estimators=1000, total=   3.5s\n",
            "[CV] learning_rate=0.001, max_features=2, n_estimators=2000 ..........\n",
            "[CV]  learning_rate=0.001, max_features=2, n_estimators=2000, total=   7.1s\n",
            "[CV] learning_rate=0.001, max_features=2, n_estimators=2000 ..........\n",
            "[CV]  learning_rate=0.001, max_features=2, n_estimators=2000, total=   7.1s\n",
            "[CV] learning_rate=0.001, max_features=2, n_estimators=2000 ..........\n",
            "[CV]  learning_rate=0.001, max_features=2, n_estimators=2000, total=   7.1s\n",
            "[CV] learning_rate=0.001, max_features=2, n_estimators=2500 ..........\n",
            "[CV]  learning_rate=0.001, max_features=2, n_estimators=2500, total=   8.9s\n",
            "[CV] learning_rate=0.001, max_features=2, n_estimators=2500 ..........\n",
            "[CV]  learning_rate=0.001, max_features=2, n_estimators=2500, total=   8.8s\n",
            "[CV] learning_rate=0.001, max_features=2, n_estimators=2500 ..........\n",
            "[CV]  learning_rate=0.001, max_features=2, n_estimators=2500, total=   8.9s\n",
            "[CV] learning_rate=0.001, max_features=3, n_estimators=500 ...........\n",
            "[CV]  learning_rate=0.001, max_features=3, n_estimators=500, total=   2.5s\n",
            "[CV] learning_rate=0.001, max_features=3, n_estimators=500 ...........\n",
            "[CV]  learning_rate=0.001, max_features=3, n_estimators=500, total=   2.5s\n",
            "[CV] learning_rate=0.001, max_features=3, n_estimators=500 ...........\n",
            "[CV]  learning_rate=0.001, max_features=3, n_estimators=500, total=   2.5s\n",
            "[CV] learning_rate=0.001, max_features=3, n_estimators=1000 ..........\n",
            "[CV]  learning_rate=0.001, max_features=3, n_estimators=1000, total=   5.0s\n",
            "[CV] learning_rate=0.001, max_features=3, n_estimators=1000 ..........\n",
            "[CV]  learning_rate=0.001, max_features=3, n_estimators=1000, total=   5.0s\n",
            "[CV] learning_rate=0.001, max_features=3, n_estimators=1000 ..........\n",
            "[CV]  learning_rate=0.001, max_features=3, n_estimators=1000, total=   4.9s\n",
            "[CV] learning_rate=0.001, max_features=3, n_estimators=2000 ..........\n",
            "[CV]  learning_rate=0.001, max_features=3, n_estimators=2000, total=   9.9s\n",
            "[CV] learning_rate=0.001, max_features=3, n_estimators=2000 ..........\n",
            "[CV]  learning_rate=0.001, max_features=3, n_estimators=2000, total=   9.9s\n",
            "[CV] learning_rate=0.001, max_features=3, n_estimators=2000 ..........\n",
            "[CV]  learning_rate=0.001, max_features=3, n_estimators=2000, total=   9.9s\n",
            "[CV] learning_rate=0.001, max_features=3, n_estimators=2500 ..........\n",
            "[CV]  learning_rate=0.001, max_features=3, n_estimators=2500, total=  12.3s\n",
            "[CV] learning_rate=0.001, max_features=3, n_estimators=2500 ..........\n",
            "[CV]  learning_rate=0.001, max_features=3, n_estimators=2500, total=  12.3s\n",
            "[CV] learning_rate=0.001, max_features=3, n_estimators=2500 ..........\n",
            "[CV]  learning_rate=0.001, max_features=3, n_estimators=2500, total=  12.3s\n",
            "[CV] learning_rate=0.001, max_features=4, n_estimators=500 ...........\n",
            "[CV]  learning_rate=0.001, max_features=4, n_estimators=500, total=   3.2s\n",
            "[CV] learning_rate=0.001, max_features=4, n_estimators=500 ...........\n",
            "[CV]  learning_rate=0.001, max_features=4, n_estimators=500, total=   3.2s\n",
            "[CV] learning_rate=0.001, max_features=4, n_estimators=500 ...........\n",
            "[CV]  learning_rate=0.001, max_features=4, n_estimators=500, total=   3.2s\n",
            "[CV] learning_rate=0.001, max_features=4, n_estimators=1000 ..........\n",
            "[CV]  learning_rate=0.001, max_features=4, n_estimators=1000, total=   6.4s\n",
            "[CV] learning_rate=0.001, max_features=4, n_estimators=1000 ..........\n",
            "[CV]  learning_rate=0.001, max_features=4, n_estimators=1000, total=   6.3s\n",
            "[CV] learning_rate=0.001, max_features=4, n_estimators=1000 ..........\n",
            "[CV]  learning_rate=0.001, max_features=4, n_estimators=1000, total=   6.4s\n",
            "[CV] learning_rate=0.001, max_features=4, n_estimators=2000 ..........\n",
            "[CV]  learning_rate=0.001, max_features=4, n_estimators=2000, total=  12.6s\n",
            "[CV] learning_rate=0.001, max_features=4, n_estimators=2000 ..........\n",
            "[CV]  learning_rate=0.001, max_features=4, n_estimators=2000, total=  12.6s\n",
            "[CV] learning_rate=0.001, max_features=4, n_estimators=2000 ..........\n",
            "[CV]  learning_rate=0.001, max_features=4, n_estimators=2000, total=  12.6s\n",
            "[CV] learning_rate=0.001, max_features=4, n_estimators=2500 ..........\n",
            "[CV]  learning_rate=0.001, max_features=4, n_estimators=2500, total=  15.8s\n",
            "[CV] learning_rate=0.001, max_features=4, n_estimators=2500 ..........\n",
            "[CV]  learning_rate=0.001, max_features=4, n_estimators=2500, total=  15.7s\n",
            "[CV] learning_rate=0.001, max_features=4, n_estimators=2500 ..........\n",
            "[CV]  learning_rate=0.001, max_features=4, n_estimators=2500, total=  15.8s\n",
            "[CV] learning_rate=0.01, max_features=2, n_estimators=500 ............\n",
            "[CV]  learning_rate=0.01, max_features=2, n_estimators=500, total=   1.9s\n",
            "[CV] learning_rate=0.01, max_features=2, n_estimators=500 ............\n",
            "[CV]  learning_rate=0.01, max_features=2, n_estimators=500, total=   1.9s\n",
            "[CV] learning_rate=0.01, max_features=2, n_estimators=500 ............\n",
            "[CV]  learning_rate=0.01, max_features=2, n_estimators=500, total=   1.8s\n",
            "[CV] learning_rate=0.01, max_features=2, n_estimators=1000 ...........\n",
            "[CV]  learning_rate=0.01, max_features=2, n_estimators=1000, total=   3.6s\n",
            "[CV] learning_rate=0.01, max_features=2, n_estimators=1000 ...........\n",
            "[CV]  learning_rate=0.01, max_features=2, n_estimators=1000, total=   3.5s\n",
            "[CV] learning_rate=0.01, max_features=2, n_estimators=1000 ...........\n",
            "[CV]  learning_rate=0.01, max_features=2, n_estimators=1000, total=   3.5s\n",
            "[CV] learning_rate=0.01, max_features=2, n_estimators=2000 ...........\n",
            "[CV]  learning_rate=0.01, max_features=2, n_estimators=2000, total=   6.9s\n",
            "[CV] learning_rate=0.01, max_features=2, n_estimators=2000 ...........\n",
            "[CV]  learning_rate=0.01, max_features=2, n_estimators=2000, total=   6.9s\n",
            "[CV] learning_rate=0.01, max_features=2, n_estimators=2000 ...........\n",
            "[CV]  learning_rate=0.01, max_features=2, n_estimators=2000, total=   7.0s\n",
            "[CV] learning_rate=0.01, max_features=2, n_estimators=2500 ...........\n",
            "[CV]  learning_rate=0.01, max_features=2, n_estimators=2500, total=   8.7s\n",
            "[CV] learning_rate=0.01, max_features=2, n_estimators=2500 ...........\n",
            "[CV]  learning_rate=0.01, max_features=2, n_estimators=2500, total=   8.8s\n",
            "[CV] learning_rate=0.01, max_features=2, n_estimators=2500 ...........\n",
            "[CV]  learning_rate=0.01, max_features=2, n_estimators=2500, total=   8.7s\n",
            "[CV] learning_rate=0.01, max_features=3, n_estimators=500 ............\n",
            "[CV]  learning_rate=0.01, max_features=3, n_estimators=500, total=   2.5s\n",
            "[CV] learning_rate=0.01, max_features=3, n_estimators=500 ............\n",
            "[CV]  learning_rate=0.01, max_features=3, n_estimators=500, total=   2.5s\n",
            "[CV] learning_rate=0.01, max_features=3, n_estimators=500 ............\n",
            "[CV]  learning_rate=0.01, max_features=3, n_estimators=500, total=   2.5s\n",
            "[CV] learning_rate=0.01, max_features=3, n_estimators=1000 ...........\n",
            "[CV]  learning_rate=0.01, max_features=3, n_estimators=1000, total=   4.9s\n",
            "[CV] learning_rate=0.01, max_features=3, n_estimators=1000 ...........\n",
            "[CV]  learning_rate=0.01, max_features=3, n_estimators=1000, total=   5.0s\n",
            "[CV] learning_rate=0.01, max_features=3, n_estimators=1000 ...........\n",
            "[CV]  learning_rate=0.01, max_features=3, n_estimators=1000, total=   4.9s\n",
            "[CV] learning_rate=0.01, max_features=3, n_estimators=2000 ...........\n",
            "[CV]  learning_rate=0.01, max_features=3, n_estimators=2000, total=   9.9s\n",
            "[CV] learning_rate=0.01, max_features=3, n_estimators=2000 ...........\n",
            "[CV]  learning_rate=0.01, max_features=3, n_estimators=2000, total=  10.0s\n",
            "[CV] learning_rate=0.01, max_features=3, n_estimators=2000 ...........\n",
            "[CV]  learning_rate=0.01, max_features=3, n_estimators=2000, total=   9.8s\n",
            "[CV] learning_rate=0.01, max_features=3, n_estimators=2500 ...........\n",
            "[CV]  learning_rate=0.01, max_features=3, n_estimators=2500, total=  12.4s\n",
            "[CV] learning_rate=0.01, max_features=3, n_estimators=2500 ...........\n",
            "[CV]  learning_rate=0.01, max_features=3, n_estimators=2500, total=  12.3s\n",
            "[CV] learning_rate=0.01, max_features=3, n_estimators=2500 ...........\n",
            "[CV]  learning_rate=0.01, max_features=3, n_estimators=2500, total=  12.3s\n",
            "[CV] learning_rate=0.01, max_features=4, n_estimators=500 ............\n",
            "[CV]  learning_rate=0.01, max_features=4, n_estimators=500, total=   3.2s\n",
            "[CV] learning_rate=0.01, max_features=4, n_estimators=500 ............\n",
            "[CV]  learning_rate=0.01, max_features=4, n_estimators=500, total=   3.2s\n",
            "[CV] learning_rate=0.01, max_features=4, n_estimators=500 ............\n",
            "[CV]  learning_rate=0.01, max_features=4, n_estimators=500, total=   3.2s\n",
            "[CV] learning_rate=0.01, max_features=4, n_estimators=1000 ...........\n",
            "[CV]  learning_rate=0.01, max_features=4, n_estimators=1000, total=   6.3s\n",
            "[CV] learning_rate=0.01, max_features=4, n_estimators=1000 ...........\n",
            "[CV]  learning_rate=0.01, max_features=4, n_estimators=1000, total=   6.4s\n",
            "[CV] learning_rate=0.01, max_features=4, n_estimators=1000 ...........\n",
            "[CV]  learning_rate=0.01, max_features=4, n_estimators=1000, total=   6.3s\n",
            "[CV] learning_rate=0.01, max_features=4, n_estimators=2000 ...........\n",
            "[CV]  learning_rate=0.01, max_features=4, n_estimators=2000, total=  12.7s\n",
            "[CV] learning_rate=0.01, max_features=4, n_estimators=2000 ...........\n",
            "[CV]  learning_rate=0.01, max_features=4, n_estimators=2000, total=  12.7s\n",
            "[CV] learning_rate=0.01, max_features=4, n_estimators=2000 ...........\n",
            "[CV]  learning_rate=0.01, max_features=4, n_estimators=2000, total=  12.7s\n",
            "[CV] learning_rate=0.01, max_features=4, n_estimators=2500 ...........\n",
            "[CV]  learning_rate=0.01, max_features=4, n_estimators=2500, total=  15.9s\n",
            "[CV] learning_rate=0.01, max_features=4, n_estimators=2500 ...........\n",
            "[CV]  learning_rate=0.01, max_features=4, n_estimators=2500, total=  16.1s\n",
            "[CV] learning_rate=0.01, max_features=4, n_estimators=2500 ...........\n",
            "[CV]  learning_rate=0.01, max_features=4, n_estimators=2500, total=  15.9s\n",
            "[CV] learning_rate=0.1, max_features=2, n_estimators=500 .............\n",
            "[CV]  learning_rate=0.1, max_features=2, n_estimators=500, total=   1.8s\n",
            "[CV] learning_rate=0.1, max_features=2, n_estimators=500 .............\n",
            "[CV]  learning_rate=0.1, max_features=2, n_estimators=500, total=   1.8s\n",
            "[CV] learning_rate=0.1, max_features=2, n_estimators=500 .............\n",
            "[CV]  learning_rate=0.1, max_features=2, n_estimators=500, total=   1.8s\n",
            "[CV] learning_rate=0.1, max_features=2, n_estimators=1000 ............\n",
            "[CV]  learning_rate=0.1, max_features=2, n_estimators=1000, total=   3.5s\n",
            "[CV] learning_rate=0.1, max_features=2, n_estimators=1000 ............\n",
            "[CV]  learning_rate=0.1, max_features=2, n_estimators=1000, total=   3.5s\n",
            "[CV] learning_rate=0.1, max_features=2, n_estimators=1000 ............\n",
            "[CV]  learning_rate=0.1, max_features=2, n_estimators=1000, total=   3.5s\n",
            "[CV] learning_rate=0.1, max_features=2, n_estimators=2000 ............\n",
            "[CV]  learning_rate=0.1, max_features=2, n_estimators=2000, total=   7.0s\n",
            "[CV] learning_rate=0.1, max_features=2, n_estimators=2000 ............\n",
            "[CV]  learning_rate=0.1, max_features=2, n_estimators=2000, total=   7.1s\n",
            "[CV] learning_rate=0.1, max_features=2, n_estimators=2000 ............\n",
            "[CV]  learning_rate=0.1, max_features=2, n_estimators=2000, total=   7.0s\n",
            "[CV] learning_rate=0.1, max_features=2, n_estimators=2500 ............\n",
            "[CV]  learning_rate=0.1, max_features=2, n_estimators=2500, total=   9.0s\n",
            "[CV] learning_rate=0.1, max_features=2, n_estimators=2500 ............\n",
            "[CV]  learning_rate=0.1, max_features=2, n_estimators=2500, total=   8.9s\n",
            "[CV] learning_rate=0.1, max_features=2, n_estimators=2500 ............\n",
            "[CV]  learning_rate=0.1, max_features=2, n_estimators=2500, total=   8.7s\n",
            "[CV] learning_rate=0.1, max_features=3, n_estimators=500 .............\n",
            "[CV]  learning_rate=0.1, max_features=3, n_estimators=500, total=   2.5s\n",
            "[CV] learning_rate=0.1, max_features=3, n_estimators=500 .............\n",
            "[CV]  learning_rate=0.1, max_features=3, n_estimators=500, total=   2.5s\n",
            "[CV] learning_rate=0.1, max_features=3, n_estimators=500 .............\n",
            "[CV]  learning_rate=0.1, max_features=3, n_estimators=500, total=   2.5s\n",
            "[CV] learning_rate=0.1, max_features=3, n_estimators=1000 ............\n",
            "[CV]  learning_rate=0.1, max_features=3, n_estimators=1000, total=   4.9s\n",
            "[CV] learning_rate=0.1, max_features=3, n_estimators=1000 ............\n",
            "[CV]  learning_rate=0.1, max_features=3, n_estimators=1000, total=   5.0s\n",
            "[CV] learning_rate=0.1, max_features=3, n_estimators=1000 ............\n",
            "[CV]  learning_rate=0.1, max_features=3, n_estimators=1000, total=   4.9s\n",
            "[CV] learning_rate=0.1, max_features=3, n_estimators=2000 ............\n",
            "[CV]  learning_rate=0.1, max_features=3, n_estimators=2000, total=   9.9s\n",
            "[CV] learning_rate=0.1, max_features=3, n_estimators=2000 ............\n",
            "[CV]  learning_rate=0.1, max_features=3, n_estimators=2000, total=   9.8s\n",
            "[CV] learning_rate=0.1, max_features=3, n_estimators=2000 ............\n",
            "[CV]  learning_rate=0.1, max_features=3, n_estimators=2000, total=   9.9s\n",
            "[CV] learning_rate=0.1, max_features=3, n_estimators=2500 ............\n",
            "[CV]  learning_rate=0.1, max_features=3, n_estimators=2500, total=  12.3s\n",
            "[CV] learning_rate=0.1, max_features=3, n_estimators=2500 ............\n",
            "[CV]  learning_rate=0.1, max_features=3, n_estimators=2500, total=  12.3s\n",
            "[CV] learning_rate=0.1, max_features=3, n_estimators=2500 ............\n",
            "[CV]  learning_rate=0.1, max_features=3, n_estimators=2500, total=  12.3s\n",
            "[CV] learning_rate=0.1, max_features=4, n_estimators=500 .............\n",
            "[CV]  learning_rate=0.1, max_features=4, n_estimators=500, total=   3.2s\n",
            "[CV] learning_rate=0.1, max_features=4, n_estimators=500 .............\n",
            "[CV]  learning_rate=0.1, max_features=4, n_estimators=500, total=   3.2s\n",
            "[CV] learning_rate=0.1, max_features=4, n_estimators=500 .............\n",
            "[CV]  learning_rate=0.1, max_features=4, n_estimators=500, total=   3.2s\n",
            "[CV] learning_rate=0.1, max_features=4, n_estimators=1000 ............\n",
            "[CV]  learning_rate=0.1, max_features=4, n_estimators=1000, total=   6.4s\n",
            "[CV] learning_rate=0.1, max_features=4, n_estimators=1000 ............\n",
            "[CV]  learning_rate=0.1, max_features=4, n_estimators=1000, total=   6.4s\n",
            "[CV] learning_rate=0.1, max_features=4, n_estimators=1000 ............\n",
            "[CV]  learning_rate=0.1, max_features=4, n_estimators=1000, total=   6.4s\n",
            "[CV] learning_rate=0.1, max_features=4, n_estimators=2000 ............\n",
            "[CV]  learning_rate=0.1, max_features=4, n_estimators=2000, total=  12.8s\n",
            "[CV] learning_rate=0.1, max_features=4, n_estimators=2000 ............\n",
            "[CV]  learning_rate=0.1, max_features=4, n_estimators=2000, total=  12.8s\n",
            "[CV] learning_rate=0.1, max_features=4, n_estimators=2000 ............\n",
            "[CV]  learning_rate=0.1, max_features=4, n_estimators=2000, total=  12.7s\n",
            "[CV] learning_rate=0.1, max_features=4, n_estimators=2500 ............\n",
            "[CV]  learning_rate=0.1, max_features=4, n_estimators=2500, total=  15.9s\n",
            "[CV] learning_rate=0.1, max_features=4, n_estimators=2500 ............\n",
            "[CV]  learning_rate=0.1, max_features=4, n_estimators=2500, total=  15.9s\n",
            "[CV] learning_rate=0.1, max_features=4, n_estimators=2500 ............\n",
            "[CV]  learning_rate=0.1, max_features=4, n_estimators=2500, total=  15.9s\n",
            "[CV] learning_rate=1, max_features=2, n_estimators=500 ...............\n",
            "[CV]  learning_rate=1, max_features=2, n_estimators=500, total=   1.8s\n",
            "[CV] learning_rate=1, max_features=2, n_estimators=500 ...............\n",
            "[CV]  learning_rate=1, max_features=2, n_estimators=500, total=   1.7s\n",
            "[CV] learning_rate=1, max_features=2, n_estimators=500 ...............\n",
            "[CV]  learning_rate=1, max_features=2, n_estimators=500, total=   1.8s\n",
            "[CV] learning_rate=1, max_features=2, n_estimators=1000 ..............\n",
            "[CV]  learning_rate=1, max_features=2, n_estimators=1000, total=   3.5s\n",
            "[CV] learning_rate=1, max_features=2, n_estimators=1000 ..............\n",
            "[CV]  learning_rate=1, max_features=2, n_estimators=1000, total=   3.5s\n",
            "[CV] learning_rate=1, max_features=2, n_estimators=1000 ..............\n",
            "[CV]  learning_rate=1, max_features=2, n_estimators=1000, total=   3.5s\n",
            "[CV] learning_rate=1, max_features=2, n_estimators=2000 ..............\n",
            "[CV]  learning_rate=1, max_features=2, n_estimators=2000, total=   7.0s\n",
            "[CV] learning_rate=1, max_features=2, n_estimators=2000 ..............\n",
            "[CV]  learning_rate=1, max_features=2, n_estimators=2000, total=   7.0s\n",
            "[CV] learning_rate=1, max_features=2, n_estimators=2000 ..............\n",
            "[CV]  learning_rate=1, max_features=2, n_estimators=2000, total=   6.9s\n",
            "[CV] learning_rate=1, max_features=2, n_estimators=2500 ..............\n",
            "[CV]  learning_rate=1, max_features=2, n_estimators=2500, total=   8.7s\n",
            "[CV] learning_rate=1, max_features=2, n_estimators=2500 ..............\n",
            "[CV]  learning_rate=1, max_features=2, n_estimators=2500, total=   8.7s\n",
            "[CV] learning_rate=1, max_features=2, n_estimators=2500 ..............\n",
            "[CV]  learning_rate=1, max_features=2, n_estimators=2500, total=   8.7s\n",
            "[CV] learning_rate=1, max_features=3, n_estimators=500 ...............\n",
            "[CV]  learning_rate=1, max_features=3, n_estimators=500, total=   2.5s\n",
            "[CV] learning_rate=1, max_features=3, n_estimators=500 ...............\n",
            "[CV]  learning_rate=1, max_features=3, n_estimators=500, total=   2.5s\n",
            "[CV] learning_rate=1, max_features=3, n_estimators=500 ...............\n",
            "[CV]  learning_rate=1, max_features=3, n_estimators=500, total=   2.5s\n",
            "[CV] learning_rate=1, max_features=3, n_estimators=1000 ..............\n",
            "[CV]  learning_rate=1, max_features=3, n_estimators=1000, total=   4.9s\n",
            "[CV] learning_rate=1, max_features=3, n_estimators=1000 ..............\n",
            "[CV]  learning_rate=1, max_features=3, n_estimators=1000, total=   4.9s\n",
            "[CV] learning_rate=1, max_features=3, n_estimators=1000 ..............\n",
            "[CV]  learning_rate=1, max_features=3, n_estimators=1000, total=   5.1s\n",
            "[CV] learning_rate=1, max_features=3, n_estimators=2000 ..............\n",
            "[CV]  learning_rate=1, max_features=3, n_estimators=2000, total=   9.9s\n",
            "[CV] learning_rate=1, max_features=3, n_estimators=2000 ..............\n",
            "[CV]  learning_rate=1, max_features=3, n_estimators=2000, total=  10.0s\n",
            "[CV] learning_rate=1, max_features=3, n_estimators=2000 ..............\n",
            "[CV]  learning_rate=1, max_features=3, n_estimators=2000, total=   9.9s\n",
            "[CV] learning_rate=1, max_features=3, n_estimators=2500 ..............\n",
            "[CV]  learning_rate=1, max_features=3, n_estimators=2500, total=  12.4s\n",
            "[CV] learning_rate=1, max_features=3, n_estimators=2500 ..............\n",
            "[CV]  learning_rate=1, max_features=3, n_estimators=2500, total=  12.4s\n",
            "[CV] learning_rate=1, max_features=3, n_estimators=2500 ..............\n",
            "[CV]  learning_rate=1, max_features=3, n_estimators=2500, total=  12.3s\n",
            "[CV] learning_rate=1, max_features=4, n_estimators=500 ...............\n",
            "[CV]  learning_rate=1, max_features=4, n_estimators=500, total=   3.2s\n",
            "[CV] learning_rate=1, max_features=4, n_estimators=500 ...............\n",
            "[CV]  learning_rate=1, max_features=4, n_estimators=500, total=   3.2s\n",
            "[CV] learning_rate=1, max_features=4, n_estimators=500 ...............\n",
            "[CV]  learning_rate=1, max_features=4, n_estimators=500, total=   3.2s\n",
            "[CV] learning_rate=1, max_features=4, n_estimators=1000 ..............\n",
            "[CV]  learning_rate=1, max_features=4, n_estimators=1000, total=   6.4s\n",
            "[CV] learning_rate=1, max_features=4, n_estimators=1000 ..............\n",
            "[CV]  learning_rate=1, max_features=4, n_estimators=1000, total=   6.4s\n",
            "[CV] learning_rate=1, max_features=4, n_estimators=1000 ..............\n",
            "[CV]  learning_rate=1, max_features=4, n_estimators=1000, total=   6.4s\n",
            "[CV] learning_rate=1, max_features=4, n_estimators=2000 ..............\n",
            "[CV]  learning_rate=1, max_features=4, n_estimators=2000, total=  12.9s\n",
            "[CV] learning_rate=1, max_features=4, n_estimators=2000 ..............\n",
            "[CV]  learning_rate=1, max_features=4, n_estimators=2000, total=  12.9s\n",
            "[CV] learning_rate=1, max_features=4, n_estimators=2000 ..............\n",
            "[CV]  learning_rate=1, max_features=4, n_estimators=2000, total=  12.9s\n",
            "[CV] learning_rate=1, max_features=4, n_estimators=2500 ..............\n",
            "[CV]  learning_rate=1, max_features=4, n_estimators=2500, total=  16.1s\n",
            "[CV] learning_rate=1, max_features=4, n_estimators=2500 ..............\n",
            "[CV]  learning_rate=1, max_features=4, n_estimators=2500, total=  16.1s\n",
            "[CV] learning_rate=1, max_features=4, n_estimators=2500 ..............\n",
            "[CV]  learning_rate=1, max_features=4, n_estimators=2500, total=  16.0s\n"
          ],
          "name": "stdout"
        },
        {
          "output_type": "stream",
          "text": [
            "[Parallel(n_jobs=1)]: Done 144 out of 144 | elapsed: 17.8min finished\n"
          ],
          "name": "stderr"
        }
      ]
    },
    {
      "cell_type": "code",
      "metadata": {
        "id": "yc5jCtaUACXr",
        "colab_type": "code",
        "colab": {
          "base_uri": "https://localhost:8080/",
          "height": 186
        },
        "outputId": "8a9360f6-a620-4765-b019-dca6ba72474c"
      },
      "source": [
        "GBR_GS.best_estimator_"
      ],
      "execution_count": null,
      "outputs": [
        {
          "output_type": "execute_result",
          "data": {
            "text/plain": [
              "GradientBoostingRegressor(alpha=0.9, ccp_alpha=0.0, criterion='friedman_mse',\n",
              "                          init=None, learning_rate=0.1, loss='ls', max_depth=3,\n",
              "                          max_features=2, max_leaf_nodes=None,\n",
              "                          min_impurity_decrease=0.0, min_impurity_split=None,\n",
              "                          min_samples_leaf=1, min_samples_split=2,\n",
              "                          min_weight_fraction_leaf=0.0, n_estimators=2000,\n",
              "                          n_iter_no_change=None, presort='deprecated',\n",
              "                          random_state=None, subsample=1.0, tol=0.0001,\n",
              "                          validation_fraction=0.1, verbose=0, warm_start=False)"
            ]
          },
          "metadata": {
            "tags": []
          },
          "execution_count": 63
        }
      ]
    },
    {
      "cell_type": "code",
      "metadata": {
        "id": "UEwEfhFiADGH",
        "colab_type": "code",
        "colab": {}
      },
      "source": [
        "Y_pred_GBR = GBR_GS.predict(X_test_norm)"
      ],
      "execution_count": null,
      "outputs": []
    },
    {
      "cell_type": "code",
      "metadata": {
        "id": "TBqobKRUAE8i",
        "colab_type": "code",
        "colab": {
          "base_uri": "https://localhost:8080/",
          "height": 130
        },
        "outputId": "4a65b688-4659-48fa-ad43-b5ed2286ad3c"
      },
      "source": [
        "consolidator(GBR_GS,'GBR_norm',X_train_norm,Y_train,X_test_norm,Y_test,Y_pred_GBR)"
      ],
      "execution_count": null,
      "outputs": [
        {
          "output_type": "stream",
          "text": [
            "GBR_norm Model:-\n",
            "R^2 Score:  0.9858804857725433\n",
            "Test R^2 Score:  0.9599946537642983\n",
            "Mean Absolute Error : 2.552088034470528\n",
            "Mean Squared Error : 11.494141358155188\n",
            "Root Mean Squared Error : 3.390301071904262\n"
          ],
          "name": "stdout"
        }
      ]
    },
    {
      "cell_type": "markdown",
      "metadata": {
        "id": "WmoM5P9V7csk",
        "colab_type": "text"
      },
      "source": [
        "# Random Forest Regressor Original"
      ]
    },
    {
      "cell_type": "code",
      "metadata": {
        "id": "TBtdFNHv7mlB",
        "colab_type": "code",
        "colab": {
          "base_uri": "https://localhost:8080/",
          "height": 1000
        },
        "outputId": "c8a37696-5620-45b8-efcb-69994be52edb"
      },
      "source": [
        "RFR = RandomForestRegressor()\n",
        "param_grid = {'n_estimators': [500,1000,2000,2500],\n",
        "              'max_features': [2,3,4],\n",
        "              'min_samples_leaf': [1,2,5]}\n",
        "\n",
        "grid_search = GridSearchCV(estimator = RFR, param_grid = param_grid,cv=3,verbose=2)\n",
        "RFR_GS = grid_search.fit(X_train, Y_train)"
      ],
      "execution_count": null,
      "outputs": [
        {
          "output_type": "stream",
          "text": [
            "Fitting 3 folds for each of 36 candidates, totalling 108 fits\n",
            "[CV] max_features=2, min_samples_leaf=1, n_estimators=500 ............\n"
          ],
          "name": "stdout"
        },
        {
          "output_type": "stream",
          "text": [
            "[Parallel(n_jobs=1)]: Using backend SequentialBackend with 1 concurrent workers.\n"
          ],
          "name": "stderr"
        },
        {
          "output_type": "stream",
          "text": [
            "[CV]  max_features=2, min_samples_leaf=1, n_estimators=500, total=   4.9s\n",
            "[CV] max_features=2, min_samples_leaf=1, n_estimators=500 ............\n"
          ],
          "name": "stdout"
        },
        {
          "output_type": "stream",
          "text": [
            "[Parallel(n_jobs=1)]: Done   1 out of   1 | elapsed:    4.9s remaining:    0.0s\n"
          ],
          "name": "stderr"
        },
        {
          "output_type": "stream",
          "text": [
            "[CV]  max_features=2, min_samples_leaf=1, n_estimators=500, total=   4.7s\n",
            "[CV] max_features=2, min_samples_leaf=1, n_estimators=500 ............\n",
            "[CV]  max_features=2, min_samples_leaf=1, n_estimators=500, total=   4.7s\n",
            "[CV] max_features=2, min_samples_leaf=1, n_estimators=1000 ...........\n",
            "[CV]  max_features=2, min_samples_leaf=1, n_estimators=1000, total=   9.6s\n",
            "[CV] max_features=2, min_samples_leaf=1, n_estimators=1000 ...........\n",
            "[CV]  max_features=2, min_samples_leaf=1, n_estimators=1000, total=   9.3s\n",
            "[CV] max_features=2, min_samples_leaf=1, n_estimators=1000 ...........\n",
            "[CV]  max_features=2, min_samples_leaf=1, n_estimators=1000, total=   9.4s\n",
            "[CV] max_features=2, min_samples_leaf=1, n_estimators=2000 ...........\n",
            "[CV]  max_features=2, min_samples_leaf=1, n_estimators=2000, total=  18.9s\n",
            "[CV] max_features=2, min_samples_leaf=1, n_estimators=2000 ...........\n",
            "[CV]  max_features=2, min_samples_leaf=1, n_estimators=2000, total=  19.0s\n",
            "[CV] max_features=2, min_samples_leaf=1, n_estimators=2000 ...........\n",
            "[CV]  max_features=2, min_samples_leaf=1, n_estimators=2000, total=  18.9s\n",
            "[CV] max_features=2, min_samples_leaf=1, n_estimators=2500 ...........\n",
            "[CV]  max_features=2, min_samples_leaf=1, n_estimators=2500, total=  23.9s\n",
            "[CV] max_features=2, min_samples_leaf=1, n_estimators=2500 ...........\n",
            "[CV]  max_features=2, min_samples_leaf=1, n_estimators=2500, total=  24.0s\n",
            "[CV] max_features=2, min_samples_leaf=1, n_estimators=2500 ...........\n",
            "[CV]  max_features=2, min_samples_leaf=1, n_estimators=2500, total=  23.7s\n",
            "[CV] max_features=2, min_samples_leaf=2, n_estimators=500 ............\n",
            "[CV]  max_features=2, min_samples_leaf=2, n_estimators=500, total=   4.0s\n",
            "[CV] max_features=2, min_samples_leaf=2, n_estimators=500 ............\n",
            "[CV]  max_features=2, min_samples_leaf=2, n_estimators=500, total=   4.0s\n",
            "[CV] max_features=2, min_samples_leaf=2, n_estimators=500 ............\n",
            "[CV]  max_features=2, min_samples_leaf=2, n_estimators=500, total=   4.0s\n",
            "[CV] max_features=2, min_samples_leaf=2, n_estimators=1000 ...........\n",
            "[CV]  max_features=2, min_samples_leaf=2, n_estimators=1000, total=   8.1s\n",
            "[CV] max_features=2, min_samples_leaf=2, n_estimators=1000 ...........\n",
            "[CV]  max_features=2, min_samples_leaf=2, n_estimators=1000, total=   8.0s\n",
            "[CV] max_features=2, min_samples_leaf=2, n_estimators=1000 ...........\n",
            "[CV]  max_features=2, min_samples_leaf=2, n_estimators=1000, total=   8.0s\n",
            "[CV] max_features=2, min_samples_leaf=2, n_estimators=2000 ...........\n",
            "[CV]  max_features=2, min_samples_leaf=2, n_estimators=2000, total=  16.1s\n",
            "[CV] max_features=2, min_samples_leaf=2, n_estimators=2000 ...........\n",
            "[CV]  max_features=2, min_samples_leaf=2, n_estimators=2000, total=  16.0s\n",
            "[CV] max_features=2, min_samples_leaf=2, n_estimators=2000 ...........\n",
            "[CV]  max_features=2, min_samples_leaf=2, n_estimators=2000, total=  16.0s\n",
            "[CV] max_features=2, min_samples_leaf=2, n_estimators=2500 ...........\n",
            "[CV]  max_features=2, min_samples_leaf=2, n_estimators=2500, total=  20.2s\n",
            "[CV] max_features=2, min_samples_leaf=2, n_estimators=2500 ...........\n",
            "[CV]  max_features=2, min_samples_leaf=2, n_estimators=2500, total=  20.1s\n",
            "[CV] max_features=2, min_samples_leaf=2, n_estimators=2500 ...........\n",
            "[CV]  max_features=2, min_samples_leaf=2, n_estimators=2500, total=  20.2s\n",
            "[CV] max_features=2, min_samples_leaf=5, n_estimators=500 ............\n",
            "[CV]  max_features=2, min_samples_leaf=5, n_estimators=500, total=   3.4s\n",
            "[CV] max_features=2, min_samples_leaf=5, n_estimators=500 ............\n",
            "[CV]  max_features=2, min_samples_leaf=5, n_estimators=500, total=   3.4s\n",
            "[CV] max_features=2, min_samples_leaf=5, n_estimators=500 ............\n",
            "[CV]  max_features=2, min_samples_leaf=5, n_estimators=500, total=   3.4s\n",
            "[CV] max_features=2, min_samples_leaf=5, n_estimators=1000 ...........\n",
            "[CV]  max_features=2, min_samples_leaf=5, n_estimators=1000, total=   6.8s\n",
            "[CV] max_features=2, min_samples_leaf=5, n_estimators=1000 ...........\n",
            "[CV]  max_features=2, min_samples_leaf=5, n_estimators=1000, total=   6.8s\n",
            "[CV] max_features=2, min_samples_leaf=5, n_estimators=1000 ...........\n",
            "[CV]  max_features=2, min_samples_leaf=5, n_estimators=1000, total=   6.8s\n",
            "[CV] max_features=2, min_samples_leaf=5, n_estimators=2000 ...........\n",
            "[CV]  max_features=2, min_samples_leaf=5, n_estimators=2000, total=  13.5s\n",
            "[CV] max_features=2, min_samples_leaf=5, n_estimators=2000 ...........\n",
            "[CV]  max_features=2, min_samples_leaf=5, n_estimators=2000, total=  13.4s\n",
            "[CV] max_features=2, min_samples_leaf=5, n_estimators=2000 ...........\n",
            "[CV]  max_features=2, min_samples_leaf=5, n_estimators=2000, total=  13.4s\n",
            "[CV] max_features=2, min_samples_leaf=5, n_estimators=2500 ...........\n",
            "[CV]  max_features=2, min_samples_leaf=5, n_estimators=2500, total=  16.9s\n",
            "[CV] max_features=2, min_samples_leaf=5, n_estimators=2500 ...........\n",
            "[CV]  max_features=2, min_samples_leaf=5, n_estimators=2500, total=  16.9s\n",
            "[CV] max_features=2, min_samples_leaf=5, n_estimators=2500 ...........\n",
            "[CV]  max_features=2, min_samples_leaf=5, n_estimators=2500, total=  16.8s\n",
            "[CV] max_features=3, min_samples_leaf=1, n_estimators=500 ............\n",
            "[CV]  max_features=3, min_samples_leaf=1, n_estimators=500, total=   6.1s\n",
            "[CV] max_features=3, min_samples_leaf=1, n_estimators=500 ............\n",
            "[CV]  max_features=3, min_samples_leaf=1, n_estimators=500, total=   6.2s\n",
            "[CV] max_features=3, min_samples_leaf=1, n_estimators=500 ............\n",
            "[CV]  max_features=3, min_samples_leaf=1, n_estimators=500, total=   6.2s\n",
            "[CV] max_features=3, min_samples_leaf=1, n_estimators=1000 ...........\n",
            "[CV]  max_features=3, min_samples_leaf=1, n_estimators=1000, total=  12.4s\n",
            "[CV] max_features=3, min_samples_leaf=1, n_estimators=1000 ...........\n",
            "[CV]  max_features=3, min_samples_leaf=1, n_estimators=1000, total=  12.3s\n",
            "[CV] max_features=3, min_samples_leaf=1, n_estimators=1000 ...........\n",
            "[CV]  max_features=3, min_samples_leaf=1, n_estimators=1000, total=  12.3s\n",
            "[CV] max_features=3, min_samples_leaf=1, n_estimators=2000 ...........\n",
            "[CV]  max_features=3, min_samples_leaf=1, n_estimators=2000, total=  24.6s\n",
            "[CV] max_features=3, min_samples_leaf=1, n_estimators=2000 ...........\n",
            "[CV]  max_features=3, min_samples_leaf=1, n_estimators=2000, total=  24.5s\n",
            "[CV] max_features=3, min_samples_leaf=1, n_estimators=2000 ...........\n",
            "[CV]  max_features=3, min_samples_leaf=1, n_estimators=2000, total=  24.4s\n",
            "[CV] max_features=3, min_samples_leaf=1, n_estimators=2500 ...........\n",
            "[CV]  max_features=3, min_samples_leaf=1, n_estimators=2500, total=  30.8s\n",
            "[CV] max_features=3, min_samples_leaf=1, n_estimators=2500 ...........\n",
            "[CV]  max_features=3, min_samples_leaf=1, n_estimators=2500, total=  30.4s\n",
            "[CV] max_features=3, min_samples_leaf=1, n_estimators=2500 ...........\n",
            "[CV]  max_features=3, min_samples_leaf=1, n_estimators=2500, total=  30.9s\n",
            "[CV] max_features=3, min_samples_leaf=2, n_estimators=500 ............\n",
            "[CV]  max_features=3, min_samples_leaf=2, n_estimators=500, total=   5.4s\n",
            "[CV] max_features=3, min_samples_leaf=2, n_estimators=500 ............\n",
            "[CV]  max_features=3, min_samples_leaf=2, n_estimators=500, total=   5.3s\n",
            "[CV] max_features=3, min_samples_leaf=2, n_estimators=500 ............\n",
            "[CV]  max_features=3, min_samples_leaf=2, n_estimators=500, total=   5.3s\n",
            "[CV] max_features=3, min_samples_leaf=2, n_estimators=1000 ...........\n",
            "[CV]  max_features=3, min_samples_leaf=2, n_estimators=1000, total=  10.6s\n",
            "[CV] max_features=3, min_samples_leaf=2, n_estimators=1000 ...........\n",
            "[CV]  max_features=3, min_samples_leaf=2, n_estimators=1000, total=  10.6s\n",
            "[CV] max_features=3, min_samples_leaf=2, n_estimators=1000 ...........\n",
            "[CV]  max_features=3, min_samples_leaf=2, n_estimators=1000, total=  10.6s\n",
            "[CV] max_features=3, min_samples_leaf=2, n_estimators=2000 ...........\n",
            "[CV]  max_features=3, min_samples_leaf=2, n_estimators=2000, total=  21.4s\n",
            "[CV] max_features=3, min_samples_leaf=2, n_estimators=2000 ...........\n",
            "[CV]  max_features=3, min_samples_leaf=2, n_estimators=2000, total=  21.0s\n",
            "[CV] max_features=3, min_samples_leaf=2, n_estimators=2000 ...........\n",
            "[CV]  max_features=3, min_samples_leaf=2, n_estimators=2000, total=  21.2s\n",
            "[CV] max_features=3, min_samples_leaf=2, n_estimators=2500 ...........\n",
            "[CV]  max_features=3, min_samples_leaf=2, n_estimators=2500, total=  26.4s\n",
            "[CV] max_features=3, min_samples_leaf=2, n_estimators=2500 ...........\n",
            "[CV]  max_features=3, min_samples_leaf=2, n_estimators=2500, total=  26.3s\n",
            "[CV] max_features=3, min_samples_leaf=2, n_estimators=2500 ...........\n",
            "[CV]  max_features=3, min_samples_leaf=2, n_estimators=2500, total=  26.4s\n",
            "[CV] max_features=3, min_samples_leaf=5, n_estimators=500 ............\n",
            "[CV]  max_features=3, min_samples_leaf=5, n_estimators=500, total=   4.5s\n",
            "[CV] max_features=3, min_samples_leaf=5, n_estimators=500 ............\n",
            "[CV]  max_features=3, min_samples_leaf=5, n_estimators=500, total=   4.4s\n",
            "[CV] max_features=3, min_samples_leaf=5, n_estimators=500 ............\n",
            "[CV]  max_features=3, min_samples_leaf=5, n_estimators=500, total=   4.5s\n",
            "[CV] max_features=3, min_samples_leaf=5, n_estimators=1000 ...........\n",
            "[CV]  max_features=3, min_samples_leaf=5, n_estimators=1000, total=   8.9s\n",
            "[CV] max_features=3, min_samples_leaf=5, n_estimators=1000 ...........\n",
            "[CV]  max_features=3, min_samples_leaf=5, n_estimators=1000, total=   8.8s\n",
            "[CV] max_features=3, min_samples_leaf=5, n_estimators=1000 ...........\n",
            "[CV]  max_features=3, min_samples_leaf=5, n_estimators=1000, total=   8.9s\n",
            "[CV] max_features=3, min_samples_leaf=5, n_estimators=2000 ...........\n",
            "[CV]  max_features=3, min_samples_leaf=5, n_estimators=2000, total=  17.8s\n",
            "[CV] max_features=3, min_samples_leaf=5, n_estimators=2000 ...........\n",
            "[CV]  max_features=3, min_samples_leaf=5, n_estimators=2000, total=  17.7s\n",
            "[CV] max_features=3, min_samples_leaf=5, n_estimators=2000 ...........\n",
            "[CV]  max_features=3, min_samples_leaf=5, n_estimators=2000, total=  17.8s\n",
            "[CV] max_features=3, min_samples_leaf=5, n_estimators=2500 ...........\n",
            "[CV]  max_features=3, min_samples_leaf=5, n_estimators=2500, total=  22.3s\n",
            "[CV] max_features=3, min_samples_leaf=5, n_estimators=2500 ...........\n",
            "[CV]  max_features=3, min_samples_leaf=5, n_estimators=2500, total=  22.2s\n",
            "[CV] max_features=3, min_samples_leaf=5, n_estimators=2500 ...........\n",
            "[CV]  max_features=3, min_samples_leaf=5, n_estimators=2500, total=  22.1s\n",
            "[CV] max_features=4, min_samples_leaf=1, n_estimators=500 ............\n",
            "[CV]  max_features=4, min_samples_leaf=1, n_estimators=500, total=   7.5s\n",
            "[CV] max_features=4, min_samples_leaf=1, n_estimators=500 ............\n",
            "[CV]  max_features=4, min_samples_leaf=1, n_estimators=500, total=   7.5s\n",
            "[CV] max_features=4, min_samples_leaf=1, n_estimators=500 ............\n",
            "[CV]  max_features=4, min_samples_leaf=1, n_estimators=500, total=   7.5s\n",
            "[CV] max_features=4, min_samples_leaf=1, n_estimators=1000 ...........\n",
            "[CV]  max_features=4, min_samples_leaf=1, n_estimators=1000, total=  15.2s\n",
            "[CV] max_features=4, min_samples_leaf=1, n_estimators=1000 ...........\n",
            "[CV]  max_features=4, min_samples_leaf=1, n_estimators=1000, total=  15.0s\n",
            "[CV] max_features=4, min_samples_leaf=1, n_estimators=1000 ...........\n",
            "[CV]  max_features=4, min_samples_leaf=1, n_estimators=1000, total=  15.0s\n",
            "[CV] max_features=4, min_samples_leaf=1, n_estimators=2000 ...........\n",
            "[CV]  max_features=4, min_samples_leaf=1, n_estimators=2000, total=  30.1s\n",
            "[CV] max_features=4, min_samples_leaf=1, n_estimators=2000 ...........\n",
            "[CV]  max_features=4, min_samples_leaf=1, n_estimators=2000, total=  29.8s\n",
            "[CV] max_features=4, min_samples_leaf=1, n_estimators=2000 ...........\n",
            "[CV]  max_features=4, min_samples_leaf=1, n_estimators=2000, total=  29.6s\n",
            "[CV] max_features=4, min_samples_leaf=1, n_estimators=2500 ...........\n",
            "[CV]  max_features=4, min_samples_leaf=1, n_estimators=2500, total=  37.4s\n",
            "[CV] max_features=4, min_samples_leaf=1, n_estimators=2500 ...........\n",
            "[CV]  max_features=4, min_samples_leaf=1, n_estimators=2500, total=  37.4s\n",
            "[CV] max_features=4, min_samples_leaf=1, n_estimators=2500 ...........\n",
            "[CV]  max_features=4, min_samples_leaf=1, n_estimators=2500, total=  37.0s\n",
            "[CV] max_features=4, min_samples_leaf=2, n_estimators=500 ............\n",
            "[CV]  max_features=4, min_samples_leaf=2, n_estimators=500, total=   6.6s\n",
            "[CV] max_features=4, min_samples_leaf=2, n_estimators=500 ............\n",
            "[CV]  max_features=4, min_samples_leaf=2, n_estimators=500, total=   6.5s\n",
            "[CV] max_features=4, min_samples_leaf=2, n_estimators=500 ............\n",
            "[CV]  max_features=4, min_samples_leaf=2, n_estimators=500, total=   6.6s\n",
            "[CV] max_features=4, min_samples_leaf=2, n_estimators=1000 ...........\n",
            "[CV]  max_features=4, min_samples_leaf=2, n_estimators=1000, total=  13.1s\n",
            "[CV] max_features=4, min_samples_leaf=2, n_estimators=1000 ...........\n",
            "[CV]  max_features=4, min_samples_leaf=2, n_estimators=1000, total=  13.0s\n",
            "[CV] max_features=4, min_samples_leaf=2, n_estimators=1000 ...........\n",
            "[CV]  max_features=4, min_samples_leaf=2, n_estimators=1000, total=  13.2s\n",
            "[CV] max_features=4, min_samples_leaf=2, n_estimators=2000 ...........\n",
            "[CV]  max_features=4, min_samples_leaf=2, n_estimators=2000, total=  26.8s\n",
            "[CV] max_features=4, min_samples_leaf=2, n_estimators=2000 ...........\n",
            "[CV]  max_features=4, min_samples_leaf=2, n_estimators=2000, total=  26.6s\n",
            "[CV] max_features=4, min_samples_leaf=2, n_estimators=2000 ...........\n",
            "[CV]  max_features=4, min_samples_leaf=2, n_estimators=2000, total=  26.3s\n",
            "[CV] max_features=4, min_samples_leaf=2, n_estimators=2500 ...........\n",
            "[CV]  max_features=4, min_samples_leaf=2, n_estimators=2500, total=  33.1s\n",
            "[CV] max_features=4, min_samples_leaf=2, n_estimators=2500 ...........\n",
            "[CV]  max_features=4, min_samples_leaf=2, n_estimators=2500, total=  33.0s\n",
            "[CV] max_features=4, min_samples_leaf=2, n_estimators=2500 ...........\n",
            "[CV]  max_features=4, min_samples_leaf=2, n_estimators=2500, total=  33.0s\n",
            "[CV] max_features=4, min_samples_leaf=5, n_estimators=500 ............\n",
            "[CV]  max_features=4, min_samples_leaf=5, n_estimators=500, total=   5.6s\n",
            "[CV] max_features=4, min_samples_leaf=5, n_estimators=500 ............\n",
            "[CV]  max_features=4, min_samples_leaf=5, n_estimators=500, total=   5.5s\n",
            "[CV] max_features=4, min_samples_leaf=5, n_estimators=500 ............\n",
            "[CV]  max_features=4, min_samples_leaf=5, n_estimators=500, total=   5.5s\n",
            "[CV] max_features=4, min_samples_leaf=5, n_estimators=1000 ...........\n",
            "[CV]  max_features=4, min_samples_leaf=5, n_estimators=1000, total=  11.2s\n",
            "[CV] max_features=4, min_samples_leaf=5, n_estimators=1000 ...........\n",
            "[CV]  max_features=4, min_samples_leaf=5, n_estimators=1000, total=  10.9s\n",
            "[CV] max_features=4, min_samples_leaf=5, n_estimators=1000 ...........\n",
            "[CV]  max_features=4, min_samples_leaf=5, n_estimators=1000, total=  10.9s\n",
            "[CV] max_features=4, min_samples_leaf=5, n_estimators=2000 ...........\n",
            "[CV]  max_features=4, min_samples_leaf=5, n_estimators=2000, total=  22.0s\n",
            "[CV] max_features=4, min_samples_leaf=5, n_estimators=2000 ...........\n",
            "[CV]  max_features=4, min_samples_leaf=5, n_estimators=2000, total=  22.2s\n",
            "[CV] max_features=4, min_samples_leaf=5, n_estimators=2000 ...........\n",
            "[CV]  max_features=4, min_samples_leaf=5, n_estimators=2000, total=  22.1s\n",
            "[CV] max_features=4, min_samples_leaf=5, n_estimators=2500 ...........\n",
            "[CV]  max_features=4, min_samples_leaf=5, n_estimators=2500, total=  27.9s\n",
            "[CV] max_features=4, min_samples_leaf=5, n_estimators=2500 ...........\n",
            "[CV]  max_features=4, min_samples_leaf=5, n_estimators=2500, total=  27.3s\n",
            "[CV] max_features=4, min_samples_leaf=5, n_estimators=2500 ...........\n",
            "[CV]  max_features=4, min_samples_leaf=5, n_estimators=2500, total=  27.4s\n"
          ],
          "name": "stdout"
        },
        {
          "output_type": "stream",
          "text": [
            "[Parallel(n_jobs=1)]: Done 108 out of 108 | elapsed: 28.7min finished\n"
          ],
          "name": "stderr"
        }
      ]
    },
    {
      "cell_type": "code",
      "metadata": {
        "id": "lkvtAdv57vKn",
        "colab_type": "code",
        "colab": {
          "base_uri": "https://localhost:8080/",
          "height": 148
        },
        "outputId": "9a90b0e1-fc5d-4cd9-c9a1-ac7f53835545"
      },
      "source": [
        "RFR_GS.best_estimator_"
      ],
      "execution_count": null,
      "outputs": [
        {
          "output_type": "execute_result",
          "data": {
            "text/plain": [
              "RandomForestRegressor(bootstrap=True, ccp_alpha=0.0, criterion='mse',\n",
              "                      max_depth=None, max_features=2, max_leaf_nodes=None,\n",
              "                      max_samples=None, min_impurity_decrease=0.0,\n",
              "                      min_impurity_split=None, min_samples_leaf=1,\n",
              "                      min_samples_split=2, min_weight_fraction_leaf=0.0,\n",
              "                      n_estimators=2000, n_jobs=None, oob_score=False,\n",
              "                      random_state=None, verbose=0, warm_start=False)"
            ]
          },
          "metadata": {
            "tags": []
          },
          "execution_count": 67
        }
      ]
    },
    {
      "cell_type": "code",
      "metadata": {
        "id": "5v3bjEVw70cC",
        "colab_type": "code",
        "colab": {}
      },
      "source": [
        "Y_pred_RFR = RFR_GS.predict(X_test)"
      ],
      "execution_count": null,
      "outputs": []
    },
    {
      "cell_type": "code",
      "metadata": {
        "id": "BiNVQzrF717v",
        "colab_type": "code",
        "colab": {
          "base_uri": "https://localhost:8080/",
          "height": 130
        },
        "outputId": "8adc8849-3911-4b67-b25f-1fcb9fe358c3"
      },
      "source": [
        "consolidator(RFR_GS,'RFR_Original',X_train,Y_train,X_test,Y_test,Y_pred_RFR)"
      ],
      "execution_count": null,
      "outputs": [
        {
          "output_type": "stream",
          "text": [
            "RFR_Original Model:-\n",
            "R^2 Score:  0.9954251746835081\n",
            "Test R^2 Score:  0.973498913491279\n",
            "Mean Absolute Error : 2.034601921876019\n",
            "Mean Squared Error : 7.614163184122089\n",
            "Root Mean Squared Error : 2.7593773181864942\n"
          ],
          "name": "stdout"
        }
      ]
    },
    {
      "cell_type": "markdown",
      "metadata": {
        "id": "8GrDz2IB7fw1",
        "colab_type": "text"
      },
      "source": [
        "# Random Forest Regressor scaled"
      ]
    },
    {
      "cell_type": "code",
      "metadata": {
        "id": "ogbtp24475bJ",
        "colab_type": "code",
        "colab": {
          "base_uri": "https://localhost:8080/",
          "height": 1000
        },
        "outputId": "0e18336d-c567-4965-eae8-7b93130374b4"
      },
      "source": [
        "RFR = RandomForestRegressor()\n",
        "param_grid = {'n_estimators': [500,1000,2000,2500],\n",
        "              'max_features': [2,3,4],\n",
        "              'min_samples_leaf': [1,2,5]}\n",
        "\n",
        "grid_search = GridSearchCV(estimator = RFR, param_grid = param_grid,cv=3,verbose=2)\n",
        "RFR_GS = grid_search.fit(X_train_scaled, Y_train)"
      ],
      "execution_count": null,
      "outputs": [
        {
          "output_type": "stream",
          "text": [
            "Fitting 3 folds for each of 36 candidates, totalling 108 fits\n",
            "[CV] max_features=2, min_samples_leaf=1, n_estimators=500 ............\n"
          ],
          "name": "stdout"
        },
        {
          "output_type": "stream",
          "text": [
            "[Parallel(n_jobs=1)]: Using backend SequentialBackend with 1 concurrent workers.\n"
          ],
          "name": "stderr"
        },
        {
          "output_type": "stream",
          "text": [
            "[CV]  max_features=2, min_samples_leaf=1, n_estimators=500, total=   4.7s\n",
            "[CV] max_features=2, min_samples_leaf=1, n_estimators=500 ............\n"
          ],
          "name": "stdout"
        },
        {
          "output_type": "stream",
          "text": [
            "[Parallel(n_jobs=1)]: Done   1 out of   1 | elapsed:    4.7s remaining:    0.0s\n"
          ],
          "name": "stderr"
        },
        {
          "output_type": "stream",
          "text": [
            "[CV]  max_features=2, min_samples_leaf=1, n_estimators=500, total=   4.7s\n",
            "[CV] max_features=2, min_samples_leaf=1, n_estimators=500 ............\n",
            "[CV]  max_features=2, min_samples_leaf=1, n_estimators=500, total=   4.7s\n",
            "[CV] max_features=2, min_samples_leaf=1, n_estimators=1000 ...........\n",
            "[CV]  max_features=2, min_samples_leaf=1, n_estimators=1000, total=   9.4s\n",
            "[CV] max_features=2, min_samples_leaf=1, n_estimators=1000 ...........\n",
            "[CV]  max_features=2, min_samples_leaf=1, n_estimators=1000, total=   9.4s\n",
            "[CV] max_features=2, min_samples_leaf=1, n_estimators=1000 ...........\n",
            "[CV]  max_features=2, min_samples_leaf=1, n_estimators=1000, total=   9.3s\n",
            "[CV] max_features=2, min_samples_leaf=1, n_estimators=2000 ...........\n",
            "[CV]  max_features=2, min_samples_leaf=1, n_estimators=2000, total=  18.9s\n",
            "[CV] max_features=2, min_samples_leaf=1, n_estimators=2000 ...........\n",
            "[CV]  max_features=2, min_samples_leaf=1, n_estimators=2000, total=  20.0s\n",
            "[CV] max_features=2, min_samples_leaf=1, n_estimators=2000 ...........\n",
            "[CV]  max_features=2, min_samples_leaf=1, n_estimators=2000, total=  19.9s\n",
            "[CV] max_features=2, min_samples_leaf=1, n_estimators=2500 ...........\n",
            "[CV]  max_features=2, min_samples_leaf=1, n_estimators=2500, total=  23.8s\n",
            "[CV] max_features=2, min_samples_leaf=1, n_estimators=2500 ...........\n",
            "[CV]  max_features=2, min_samples_leaf=1, n_estimators=2500, total=  23.5s\n",
            "[CV] max_features=2, min_samples_leaf=1, n_estimators=2500 ...........\n",
            "[CV]  max_features=2, min_samples_leaf=1, n_estimators=2500, total=  23.4s\n",
            "[CV] max_features=2, min_samples_leaf=2, n_estimators=500 ............\n",
            "[CV]  max_features=2, min_samples_leaf=2, n_estimators=500, total=   4.0s\n",
            "[CV] max_features=2, min_samples_leaf=2, n_estimators=500 ............\n",
            "[CV]  max_features=2, min_samples_leaf=2, n_estimators=500, total=   4.0s\n",
            "[CV] max_features=2, min_samples_leaf=2, n_estimators=500 ............\n",
            "[CV]  max_features=2, min_samples_leaf=2, n_estimators=500, total=   4.0s\n",
            "[CV] max_features=2, min_samples_leaf=2, n_estimators=1000 ...........\n",
            "[CV]  max_features=2, min_samples_leaf=2, n_estimators=1000, total=   8.0s\n",
            "[CV] max_features=2, min_samples_leaf=2, n_estimators=1000 ...........\n",
            "[CV]  max_features=2, min_samples_leaf=2, n_estimators=1000, total=   8.1s\n",
            "[CV] max_features=2, min_samples_leaf=2, n_estimators=1000 ...........\n",
            "[CV]  max_features=2, min_samples_leaf=2, n_estimators=1000, total=   8.1s\n",
            "[CV] max_features=2, min_samples_leaf=2, n_estimators=2000 ...........\n",
            "[CV]  max_features=2, min_samples_leaf=2, n_estimators=2000, total=  15.9s\n",
            "[CV] max_features=2, min_samples_leaf=2, n_estimators=2000 ...........\n",
            "[CV]  max_features=2, min_samples_leaf=2, n_estimators=2000, total=  15.9s\n",
            "[CV] max_features=2, min_samples_leaf=2, n_estimators=2000 ...........\n",
            "[CV]  max_features=2, min_samples_leaf=2, n_estimators=2000, total=  16.0s\n",
            "[CV] max_features=2, min_samples_leaf=2, n_estimators=2500 ...........\n",
            "[CV]  max_features=2, min_samples_leaf=2, n_estimators=2500, total=  20.2s\n",
            "[CV] max_features=2, min_samples_leaf=2, n_estimators=2500 ...........\n",
            "[CV]  max_features=2, min_samples_leaf=2, n_estimators=2500, total=  19.9s\n",
            "[CV] max_features=2, min_samples_leaf=2, n_estimators=2500 ...........\n",
            "[CV]  max_features=2, min_samples_leaf=2, n_estimators=2500, total=  19.9s\n",
            "[CV] max_features=2, min_samples_leaf=5, n_estimators=500 ............\n",
            "[CV]  max_features=2, min_samples_leaf=5, n_estimators=500, total=   3.4s\n",
            "[CV] max_features=2, min_samples_leaf=5, n_estimators=500 ............\n",
            "[CV]  max_features=2, min_samples_leaf=5, n_estimators=500, total=   3.4s\n",
            "[CV] max_features=2, min_samples_leaf=5, n_estimators=500 ............\n",
            "[CV]  max_features=2, min_samples_leaf=5, n_estimators=500, total=   3.4s\n",
            "[CV] max_features=2, min_samples_leaf=5, n_estimators=1000 ...........\n",
            "[CV]  max_features=2, min_samples_leaf=5, n_estimators=1000, total=   6.7s\n",
            "[CV] max_features=2, min_samples_leaf=5, n_estimators=1000 ...........\n",
            "[CV]  max_features=2, min_samples_leaf=5, n_estimators=1000, total=   6.7s\n",
            "[CV] max_features=2, min_samples_leaf=5, n_estimators=1000 ...........\n",
            "[CV]  max_features=2, min_samples_leaf=5, n_estimators=1000, total=   6.7s\n",
            "[CV] max_features=2, min_samples_leaf=5, n_estimators=2000 ...........\n",
            "[CV]  max_features=2, min_samples_leaf=5, n_estimators=2000, total=  13.5s\n",
            "[CV] max_features=2, min_samples_leaf=5, n_estimators=2000 ...........\n",
            "[CV]  max_features=2, min_samples_leaf=5, n_estimators=2000, total=  13.3s\n",
            "[CV] max_features=2, min_samples_leaf=5, n_estimators=2000 ...........\n",
            "[CV]  max_features=2, min_samples_leaf=5, n_estimators=2000, total=  13.5s\n",
            "[CV] max_features=2, min_samples_leaf=5, n_estimators=2500 ...........\n",
            "[CV]  max_features=2, min_samples_leaf=5, n_estimators=2500, total=  17.0s\n",
            "[CV] max_features=2, min_samples_leaf=5, n_estimators=2500 ...........\n",
            "[CV]  max_features=2, min_samples_leaf=5, n_estimators=2500, total=  16.8s\n",
            "[CV] max_features=2, min_samples_leaf=5, n_estimators=2500 ...........\n",
            "[CV]  max_features=2, min_samples_leaf=5, n_estimators=2500, total=  16.9s\n",
            "[CV] max_features=3, min_samples_leaf=1, n_estimators=500 ............\n",
            "[CV]  max_features=3, min_samples_leaf=1, n_estimators=500, total=   6.2s\n",
            "[CV] max_features=3, min_samples_leaf=1, n_estimators=500 ............\n",
            "[CV]  max_features=3, min_samples_leaf=1, n_estimators=500, total=   6.1s\n",
            "[CV] max_features=3, min_samples_leaf=1, n_estimators=500 ............\n",
            "[CV]  max_features=3, min_samples_leaf=1, n_estimators=500, total=   6.2s\n",
            "[CV] max_features=3, min_samples_leaf=1, n_estimators=1000 ...........\n",
            "[CV]  max_features=3, min_samples_leaf=1, n_estimators=1000, total=  12.3s\n",
            "[CV] max_features=3, min_samples_leaf=1, n_estimators=1000 ...........\n",
            "[CV]  max_features=3, min_samples_leaf=1, n_estimators=1000, total=  12.4s\n",
            "[CV] max_features=3, min_samples_leaf=1, n_estimators=1000 ...........\n",
            "[CV]  max_features=3, min_samples_leaf=1, n_estimators=1000, total=  12.3s\n",
            "[CV] max_features=3, min_samples_leaf=1, n_estimators=2000 ...........\n",
            "[CV]  max_features=3, min_samples_leaf=1, n_estimators=2000, total=  24.8s\n",
            "[CV] max_features=3, min_samples_leaf=1, n_estimators=2000 ...........\n",
            "[CV]  max_features=3, min_samples_leaf=1, n_estimators=2000, total=  24.6s\n",
            "[CV] max_features=3, min_samples_leaf=1, n_estimators=2000 ...........\n",
            "[CV]  max_features=3, min_samples_leaf=1, n_estimators=2000, total=  24.3s\n",
            "[CV] max_features=3, min_samples_leaf=1, n_estimators=2500 ...........\n",
            "[CV]  max_features=3, min_samples_leaf=1, n_estimators=2500, total=  31.0s\n",
            "[CV] max_features=3, min_samples_leaf=1, n_estimators=2500 ...........\n",
            "[CV]  max_features=3, min_samples_leaf=1, n_estimators=2500, total=  30.7s\n",
            "[CV] max_features=3, min_samples_leaf=1, n_estimators=2500 ...........\n",
            "[CV]  max_features=3, min_samples_leaf=1, n_estimators=2500, total=  30.8s\n",
            "[CV] max_features=3, min_samples_leaf=2, n_estimators=500 ............\n",
            "[CV]  max_features=3, min_samples_leaf=2, n_estimators=500, total=   5.3s\n",
            "[CV] max_features=3, min_samples_leaf=2, n_estimators=500 ............\n",
            "[CV]  max_features=3, min_samples_leaf=2, n_estimators=500, total=   5.2s\n",
            "[CV] max_features=3, min_samples_leaf=2, n_estimators=500 ............\n",
            "[CV]  max_features=3, min_samples_leaf=2, n_estimators=500, total=   5.3s\n",
            "[CV] max_features=3, min_samples_leaf=2, n_estimators=1000 ...........\n",
            "[CV]  max_features=3, min_samples_leaf=2, n_estimators=1000, total=  11.6s\n",
            "[CV] max_features=3, min_samples_leaf=2, n_estimators=1000 ...........\n",
            "[CV]  max_features=3, min_samples_leaf=2, n_estimators=1000, total=  11.7s\n",
            "[CV] max_features=3, min_samples_leaf=2, n_estimators=1000 ...........\n",
            "[CV]  max_features=3, min_samples_leaf=2, n_estimators=1000, total=  10.6s\n",
            "[CV] max_features=3, min_samples_leaf=2, n_estimators=2000 ...........\n",
            "[CV]  max_features=3, min_samples_leaf=2, n_estimators=2000, total=  21.3s\n",
            "[CV] max_features=3, min_samples_leaf=2, n_estimators=2000 ...........\n",
            "[CV]  max_features=3, min_samples_leaf=2, n_estimators=2000, total=  21.2s\n",
            "[CV] max_features=3, min_samples_leaf=2, n_estimators=2000 ...........\n",
            "[CV]  max_features=3, min_samples_leaf=2, n_estimators=2000, total=  21.2s\n",
            "[CV] max_features=3, min_samples_leaf=2, n_estimators=2500 ...........\n",
            "[CV]  max_features=3, min_samples_leaf=2, n_estimators=2500, total=  26.7s\n",
            "[CV] max_features=3, min_samples_leaf=2, n_estimators=2500 ...........\n",
            "[CV]  max_features=3, min_samples_leaf=2, n_estimators=2500, total=  26.8s\n",
            "[CV] max_features=3, min_samples_leaf=2, n_estimators=2500 ...........\n",
            "[CV]  max_features=3, min_samples_leaf=2, n_estimators=2500, total=  26.7s\n",
            "[CV] max_features=3, min_samples_leaf=5, n_estimators=500 ............\n",
            "[CV]  max_features=3, min_samples_leaf=5, n_estimators=500, total=   4.5s\n",
            "[CV] max_features=3, min_samples_leaf=5, n_estimators=500 ............\n",
            "[CV]  max_features=3, min_samples_leaf=5, n_estimators=500, total=   4.5s\n",
            "[CV] max_features=3, min_samples_leaf=5, n_estimators=500 ............\n",
            "[CV]  max_features=3, min_samples_leaf=5, n_estimators=500, total=   4.5s\n",
            "[CV] max_features=3, min_samples_leaf=5, n_estimators=1000 ...........\n",
            "[CV]  max_features=3, min_samples_leaf=5, n_estimators=1000, total=   9.0s\n",
            "[CV] max_features=3, min_samples_leaf=5, n_estimators=1000 ...........\n",
            "[CV]  max_features=3, min_samples_leaf=5, n_estimators=1000, total=   9.0s\n",
            "[CV] max_features=3, min_samples_leaf=5, n_estimators=1000 ...........\n",
            "[CV]  max_features=3, min_samples_leaf=5, n_estimators=1000, total=   9.1s\n",
            "[CV] max_features=3, min_samples_leaf=5, n_estimators=2000 ...........\n",
            "[CV]  max_features=3, min_samples_leaf=5, n_estimators=2000, total=  18.1s\n",
            "[CV] max_features=3, min_samples_leaf=5, n_estimators=2000 ...........\n",
            "[CV]  max_features=3, min_samples_leaf=5, n_estimators=2000, total=  17.8s\n",
            "[CV] max_features=3, min_samples_leaf=5, n_estimators=2000 ...........\n",
            "[CV]  max_features=3, min_samples_leaf=5, n_estimators=2000, total=  17.8s\n",
            "[CV] max_features=3, min_samples_leaf=5, n_estimators=2500 ...........\n",
            "[CV]  max_features=3, min_samples_leaf=5, n_estimators=2500, total=  22.6s\n",
            "[CV] max_features=3, min_samples_leaf=5, n_estimators=2500 ...........\n",
            "[CV]  max_features=3, min_samples_leaf=5, n_estimators=2500, total=  22.4s\n",
            "[CV] max_features=3, min_samples_leaf=5, n_estimators=2500 ...........\n",
            "[CV]  max_features=3, min_samples_leaf=5, n_estimators=2500, total=  22.2s\n",
            "[CV] max_features=4, min_samples_leaf=1, n_estimators=500 ............\n",
            "[CV]  max_features=4, min_samples_leaf=1, n_estimators=500, total=   7.6s\n",
            "[CV] max_features=4, min_samples_leaf=1, n_estimators=500 ............\n",
            "[CV]  max_features=4, min_samples_leaf=1, n_estimators=500, total=   7.5s\n",
            "[CV] max_features=4, min_samples_leaf=1, n_estimators=500 ............\n",
            "[CV]  max_features=4, min_samples_leaf=1, n_estimators=500, total=   7.6s\n",
            "[CV] max_features=4, min_samples_leaf=1, n_estimators=1000 ...........\n",
            "[CV]  max_features=4, min_samples_leaf=1, n_estimators=1000, total=  15.2s\n",
            "[CV] max_features=4, min_samples_leaf=1, n_estimators=1000 ...........\n",
            "[CV]  max_features=4, min_samples_leaf=1, n_estimators=1000, total=  15.1s\n",
            "[CV] max_features=4, min_samples_leaf=1, n_estimators=1000 ...........\n",
            "[CV]  max_features=4, min_samples_leaf=1, n_estimators=1000, total=  15.1s\n",
            "[CV] max_features=4, min_samples_leaf=1, n_estimators=2000 ...........\n",
            "[CV]  max_features=4, min_samples_leaf=1, n_estimators=2000, total=  30.5s\n",
            "[CV] max_features=4, min_samples_leaf=1, n_estimators=2000 ...........\n",
            "[CV]  max_features=4, min_samples_leaf=1, n_estimators=2000, total=  30.3s\n",
            "[CV] max_features=4, min_samples_leaf=1, n_estimators=2000 ...........\n",
            "[CV]  max_features=4, min_samples_leaf=1, n_estimators=2000, total=  30.2s\n",
            "[CV] max_features=4, min_samples_leaf=1, n_estimators=2500 ...........\n",
            "[CV]  max_features=4, min_samples_leaf=1, n_estimators=2500, total=  38.2s\n",
            "[CV] max_features=4, min_samples_leaf=1, n_estimators=2500 ...........\n",
            "[CV]  max_features=4, min_samples_leaf=1, n_estimators=2500, total=  37.8s\n",
            "[CV] max_features=4, min_samples_leaf=1, n_estimators=2500 ...........\n",
            "[CV]  max_features=4, min_samples_leaf=1, n_estimators=2500, total=  37.8s\n",
            "[CV] max_features=4, min_samples_leaf=2, n_estimators=500 ............\n",
            "[CV]  max_features=4, min_samples_leaf=2, n_estimators=500, total=   7.9s\n",
            "[CV] max_features=4, min_samples_leaf=2, n_estimators=500 ............\n",
            "[CV]  max_features=4, min_samples_leaf=2, n_estimators=500, total=   7.4s\n",
            "[CV] max_features=4, min_samples_leaf=2, n_estimators=500 ............\n",
            "[CV]  max_features=4, min_samples_leaf=2, n_estimators=500, total=   6.6s\n",
            "[CV] max_features=4, min_samples_leaf=2, n_estimators=1000 ...........\n",
            "[CV]  max_features=4, min_samples_leaf=2, n_estimators=1000, total=  13.2s\n",
            "[CV] max_features=4, min_samples_leaf=2, n_estimators=1000 ...........\n",
            "[CV]  max_features=4, min_samples_leaf=2, n_estimators=1000, total=  13.1s\n",
            "[CV] max_features=4, min_samples_leaf=2, n_estimators=1000 ...........\n",
            "[CV]  max_features=4, min_samples_leaf=2, n_estimators=1000, total=  13.1s\n",
            "[CV] max_features=4, min_samples_leaf=2, n_estimators=2000 ...........\n",
            "[CV]  max_features=4, min_samples_leaf=2, n_estimators=2000, total=  26.4s\n",
            "[CV] max_features=4, min_samples_leaf=2, n_estimators=2000 ...........\n",
            "[CV]  max_features=4, min_samples_leaf=2, n_estimators=2000, total=  26.2s\n",
            "[CV] max_features=4, min_samples_leaf=2, n_estimators=2000 ...........\n",
            "[CV]  max_features=4, min_samples_leaf=2, n_estimators=2000, total=  26.3s\n",
            "[CV] max_features=4, min_samples_leaf=2, n_estimators=2500 ...........\n",
            "[CV]  max_features=4, min_samples_leaf=2, n_estimators=2500, total=  33.0s\n",
            "[CV] max_features=4, min_samples_leaf=2, n_estimators=2500 ...........\n",
            "[CV]  max_features=4, min_samples_leaf=2, n_estimators=2500, total=  32.7s\n",
            "[CV] max_features=4, min_samples_leaf=2, n_estimators=2500 ...........\n",
            "[CV]  max_features=4, min_samples_leaf=2, n_estimators=2500, total=  32.9s\n",
            "[CV] max_features=4, min_samples_leaf=5, n_estimators=500 ............\n",
            "[CV]  max_features=4, min_samples_leaf=5, n_estimators=500, total=   5.6s\n",
            "[CV] max_features=4, min_samples_leaf=5, n_estimators=500 ............\n",
            "[CV]  max_features=4, min_samples_leaf=5, n_estimators=500, total=   5.5s\n",
            "[CV] max_features=4, min_samples_leaf=5, n_estimators=500 ............\n",
            "[CV]  max_features=4, min_samples_leaf=5, n_estimators=500, total=   5.6s\n",
            "[CV] max_features=4, min_samples_leaf=5, n_estimators=1000 ...........\n",
            "[CV]  max_features=4, min_samples_leaf=5, n_estimators=1000, total=  11.2s\n",
            "[CV] max_features=4, min_samples_leaf=5, n_estimators=1000 ...........\n",
            "[CV]  max_features=4, min_samples_leaf=5, n_estimators=1000, total=  11.0s\n",
            "[CV] max_features=4, min_samples_leaf=5, n_estimators=1000 ...........\n",
            "[CV]  max_features=4, min_samples_leaf=5, n_estimators=1000, total=  11.0s\n",
            "[CV] max_features=4, min_samples_leaf=5, n_estimators=2000 ...........\n",
            "[CV]  max_features=4, min_samples_leaf=5, n_estimators=2000, total=  22.3s\n",
            "[CV] max_features=4, min_samples_leaf=5, n_estimators=2000 ...........\n",
            "[CV]  max_features=4, min_samples_leaf=5, n_estimators=2000, total=  22.0s\n",
            "[CV] max_features=4, min_samples_leaf=5, n_estimators=2000 ...........\n",
            "[CV]  max_features=4, min_samples_leaf=5, n_estimators=2000, total=  22.1s\n",
            "[CV] max_features=4, min_samples_leaf=5, n_estimators=2500 ...........\n",
            "[CV]  max_features=4, min_samples_leaf=5, n_estimators=2500, total=  27.7s\n",
            "[CV] max_features=4, min_samples_leaf=5, n_estimators=2500 ...........\n",
            "[CV]  max_features=4, min_samples_leaf=5, n_estimators=2500, total=  27.6s\n",
            "[CV] max_features=4, min_samples_leaf=5, n_estimators=2500 ...........\n",
            "[CV]  max_features=4, min_samples_leaf=5, n_estimators=2500, total=  27.6s\n"
          ],
          "name": "stdout"
        },
        {
          "output_type": "stream",
          "text": [
            "[Parallel(n_jobs=1)]: Done 108 out of 108 | elapsed: 28.9min finished\n"
          ],
          "name": "stderr"
        }
      ]
    },
    {
      "cell_type": "code",
      "metadata": {
        "id": "iylwQ71P7j-Q",
        "colab_type": "code",
        "colab": {
          "base_uri": "https://localhost:8080/",
          "height": 148
        },
        "outputId": "e0d655c3-ccf5-4010-d964-d09298903635"
      },
      "source": [
        "RFR_GS.best_estimator_"
      ],
      "execution_count": null,
      "outputs": [
        {
          "output_type": "execute_result",
          "data": {
            "text/plain": [
              "RandomForestRegressor(bootstrap=True, ccp_alpha=0.0, criterion='mse',\n",
              "                      max_depth=None, max_features=2, max_leaf_nodes=None,\n",
              "                      max_samples=None, min_impurity_decrease=0.0,\n",
              "                      min_impurity_split=None, min_samples_leaf=1,\n",
              "                      min_samples_split=2, min_weight_fraction_leaf=0.0,\n",
              "                      n_estimators=2500, n_jobs=None, oob_score=False,\n",
              "                      random_state=None, verbose=0, warm_start=False)"
            ]
          },
          "metadata": {
            "tags": []
          },
          "execution_count": 71
        }
      ]
    },
    {
      "cell_type": "code",
      "metadata": {
        "id": "rsMtuuKw79NA",
        "colab_type": "code",
        "colab": {}
      },
      "source": [
        "Y_pred_RFR = RFR_GS.predict(X_test_scaled)"
      ],
      "execution_count": null,
      "outputs": []
    },
    {
      "cell_type": "code",
      "metadata": {
        "id": "VmoO1Ddf7-5R",
        "colab_type": "code",
        "colab": {
          "base_uri": "https://localhost:8080/",
          "height": 130
        },
        "outputId": "45272f48-a946-42c9-f450-50c03ce53b70"
      },
      "source": [
        "consolidator(RFR_GS,'RFR_scaled',X_train_scaled,Y_train,X_test_scaled,Y_test,Y_pred_RFR)"
      ],
      "execution_count": null,
      "outputs": [
        {
          "output_type": "stream",
          "text": [
            "RFR_scaled Model:-\n",
            "R^2 Score:  0.9954072918684805\n",
            "Test R^2 Score:  0.9734916438430521\n",
            "Mean Absolute Error : 2.0337362763021374\n",
            "Mean Squared Error : 7.616251864066326\n",
            "Root Mean Squared Error : 2.7597557616691963\n"
          ],
          "name": "stdout"
        }
      ]
    },
    {
      "cell_type": "markdown",
      "metadata": {
        "id": "wK9myTAxAZ5k",
        "colab_type": "text"
      },
      "source": [
        "# Random Forest Regressor Norm"
      ]
    },
    {
      "cell_type": "code",
      "metadata": {
        "id": "YX8lRQ1mAiIK",
        "colab_type": "code",
        "colab": {
          "base_uri": "https://localhost:8080/",
          "height": 1000
        },
        "outputId": "97511524-0f90-4f16-d1f9-f32b718f1f21"
      },
      "source": [
        "RFR = RandomForestRegressor()\n",
        "param_grid = {'n_estimators': [500,1000,2000,2500],\n",
        "              'max_features': [2,3,4],\n",
        "              'min_samples_leaf': [1,2,5]}\n",
        "\n",
        "grid_search = GridSearchCV(estimator = RFR, param_grid = param_grid,cv=3,verbose=2)\n",
        "RFR_GS = grid_search.fit(X_train_norm, Y_train)"
      ],
      "execution_count": null,
      "outputs": [
        {
          "output_type": "stream",
          "text": [
            "Fitting 3 folds for each of 36 candidates, totalling 108 fits\n",
            "[CV] max_features=2, min_samples_leaf=1, n_estimators=500 ............\n"
          ],
          "name": "stdout"
        },
        {
          "output_type": "stream",
          "text": [
            "[Parallel(n_jobs=1)]: Using backend SequentialBackend with 1 concurrent workers.\n"
          ],
          "name": "stderr"
        },
        {
          "output_type": "stream",
          "text": [
            "[CV]  max_features=2, min_samples_leaf=1, n_estimators=500, total=   5.2s\n",
            "[CV] max_features=2, min_samples_leaf=1, n_estimators=500 ............\n"
          ],
          "name": "stdout"
        },
        {
          "output_type": "stream",
          "text": [
            "[Parallel(n_jobs=1)]: Done   1 out of   1 | elapsed:    5.2s remaining:    0.0s\n"
          ],
          "name": "stderr"
        },
        {
          "output_type": "stream",
          "text": [
            "[CV]  max_features=2, min_samples_leaf=1, n_estimators=500, total=   4.9s\n",
            "[CV] max_features=2, min_samples_leaf=1, n_estimators=500 ............\n",
            "[CV]  max_features=2, min_samples_leaf=1, n_estimators=500, total=   4.9s\n",
            "[CV] max_features=2, min_samples_leaf=1, n_estimators=1000 ...........\n",
            "[CV]  max_features=2, min_samples_leaf=1, n_estimators=1000, total=  10.1s\n",
            "[CV] max_features=2, min_samples_leaf=1, n_estimators=1000 ...........\n",
            "[CV]  max_features=2, min_samples_leaf=1, n_estimators=1000, total=   9.8s\n",
            "[CV] max_features=2, min_samples_leaf=1, n_estimators=1000 ...........\n",
            "[CV]  max_features=2, min_samples_leaf=1, n_estimators=1000, total=   9.8s\n",
            "[CV] max_features=2, min_samples_leaf=1, n_estimators=2000 ...........\n",
            "[CV]  max_features=2, min_samples_leaf=1, n_estimators=2000, total=  20.2s\n",
            "[CV] max_features=2, min_samples_leaf=1, n_estimators=2000 ...........\n",
            "[CV]  max_features=2, min_samples_leaf=1, n_estimators=2000, total=  19.7s\n",
            "[CV] max_features=2, min_samples_leaf=1, n_estimators=2000 ...........\n",
            "[CV]  max_features=2, min_samples_leaf=1, n_estimators=2000, total=  19.7s\n",
            "[CV] max_features=2, min_samples_leaf=1, n_estimators=2500 ...........\n",
            "[CV]  max_features=2, min_samples_leaf=1, n_estimators=2500, total=  24.6s\n",
            "[CV] max_features=2, min_samples_leaf=1, n_estimators=2500 ...........\n",
            "[CV]  max_features=2, min_samples_leaf=1, n_estimators=2500, total=  26.5s\n",
            "[CV] max_features=2, min_samples_leaf=1, n_estimators=2500 ...........\n",
            "[CV]  max_features=2, min_samples_leaf=1, n_estimators=2500, total=  24.4s\n",
            "[CV] max_features=2, min_samples_leaf=2, n_estimators=500 ............\n",
            "[CV]  max_features=2, min_samples_leaf=2, n_estimators=500, total=   4.1s\n",
            "[CV] max_features=2, min_samples_leaf=2, n_estimators=500 ............\n",
            "[CV]  max_features=2, min_samples_leaf=2, n_estimators=500, total=   4.2s\n",
            "[CV] max_features=2, min_samples_leaf=2, n_estimators=500 ............\n",
            "[CV]  max_features=2, min_samples_leaf=2, n_estimators=500, total=   4.1s\n",
            "[CV] max_features=2, min_samples_leaf=2, n_estimators=1000 ...........\n",
            "[CV]  max_features=2, min_samples_leaf=2, n_estimators=1000, total=   8.4s\n",
            "[CV] max_features=2, min_samples_leaf=2, n_estimators=1000 ...........\n",
            "[CV]  max_features=2, min_samples_leaf=2, n_estimators=1000, total=   8.4s\n",
            "[CV] max_features=2, min_samples_leaf=2, n_estimators=1000 ...........\n",
            "[CV]  max_features=2, min_samples_leaf=2, n_estimators=1000, total=   8.3s\n",
            "[CV] max_features=2, min_samples_leaf=2, n_estimators=2000 ...........\n",
            "[CV]  max_features=2, min_samples_leaf=2, n_estimators=2000, total=  16.7s\n",
            "[CV] max_features=2, min_samples_leaf=2, n_estimators=2000 ...........\n",
            "[CV]  max_features=2, min_samples_leaf=2, n_estimators=2000, total=  16.7s\n",
            "[CV] max_features=2, min_samples_leaf=2, n_estimators=2000 ...........\n",
            "[CV]  max_features=2, min_samples_leaf=2, n_estimators=2000, total=  16.7s\n",
            "[CV] max_features=2, min_samples_leaf=2, n_estimators=2500 ...........\n",
            "[CV]  max_features=2, min_samples_leaf=2, n_estimators=2500, total=  21.2s\n",
            "[CV] max_features=2, min_samples_leaf=2, n_estimators=2500 ...........\n",
            "[CV]  max_features=2, min_samples_leaf=2, n_estimators=2500, total=  20.8s\n",
            "[CV] max_features=2, min_samples_leaf=2, n_estimators=2500 ...........\n",
            "[CV]  max_features=2, min_samples_leaf=2, n_estimators=2500, total=  21.0s\n",
            "[CV] max_features=2, min_samples_leaf=5, n_estimators=500 ............\n",
            "[CV]  max_features=2, min_samples_leaf=5, n_estimators=500, total=   3.6s\n",
            "[CV] max_features=2, min_samples_leaf=5, n_estimators=500 ............\n",
            "[CV]  max_features=2, min_samples_leaf=5, n_estimators=500, total=   3.5s\n",
            "[CV] max_features=2, min_samples_leaf=5, n_estimators=500 ............\n",
            "[CV]  max_features=2, min_samples_leaf=5, n_estimators=500, total=   3.6s\n",
            "[CV] max_features=2, min_samples_leaf=5, n_estimators=1000 ...........\n",
            "[CV]  max_features=2, min_samples_leaf=5, n_estimators=1000, total=   7.0s\n",
            "[CV] max_features=2, min_samples_leaf=5, n_estimators=1000 ...........\n",
            "[CV]  max_features=2, min_samples_leaf=5, n_estimators=1000, total=   7.0s\n",
            "[CV] max_features=2, min_samples_leaf=5, n_estimators=1000 ...........\n",
            "[CV]  max_features=2, min_samples_leaf=5, n_estimators=1000, total=   7.0s\n",
            "[CV] max_features=2, min_samples_leaf=5, n_estimators=2000 ...........\n",
            "[CV]  max_features=2, min_samples_leaf=5, n_estimators=2000, total=  14.1s\n",
            "[CV] max_features=2, min_samples_leaf=5, n_estimators=2000 ...........\n",
            "[CV]  max_features=2, min_samples_leaf=5, n_estimators=2000, total=  14.2s\n",
            "[CV] max_features=2, min_samples_leaf=5, n_estimators=2000 ...........\n",
            "[CV]  max_features=2, min_samples_leaf=5, n_estimators=2000, total=  13.8s\n",
            "[CV] max_features=2, min_samples_leaf=5, n_estimators=2500 ...........\n",
            "[CV]  max_features=2, min_samples_leaf=5, n_estimators=2500, total=  17.6s\n",
            "[CV] max_features=2, min_samples_leaf=5, n_estimators=2500 ...........\n",
            "[CV]  max_features=2, min_samples_leaf=5, n_estimators=2500, total=  17.5s\n",
            "[CV] max_features=2, min_samples_leaf=5, n_estimators=2500 ...........\n",
            "[CV]  max_features=2, min_samples_leaf=5, n_estimators=2500, total=  17.6s\n",
            "[CV] max_features=3, min_samples_leaf=1, n_estimators=500 ............\n",
            "[CV]  max_features=3, min_samples_leaf=1, n_estimators=500, total=   6.4s\n",
            "[CV] max_features=3, min_samples_leaf=1, n_estimators=500 ............\n",
            "[CV]  max_features=3, min_samples_leaf=1, n_estimators=500, total=   6.4s\n",
            "[CV] max_features=3, min_samples_leaf=1, n_estimators=500 ............\n",
            "[CV]  max_features=3, min_samples_leaf=1, n_estimators=500, total=   6.4s\n",
            "[CV] max_features=3, min_samples_leaf=1, n_estimators=1000 ...........\n",
            "[CV]  max_features=3, min_samples_leaf=1, n_estimators=1000, total=  12.8s\n",
            "[CV] max_features=3, min_samples_leaf=1, n_estimators=1000 ...........\n",
            "[CV]  max_features=3, min_samples_leaf=1, n_estimators=1000, total=  12.7s\n",
            "[CV] max_features=3, min_samples_leaf=1, n_estimators=1000 ...........\n",
            "[CV]  max_features=3, min_samples_leaf=1, n_estimators=1000, total=  12.6s\n",
            "[CV] max_features=3, min_samples_leaf=1, n_estimators=2000 ...........\n",
            "[CV]  max_features=3, min_samples_leaf=1, n_estimators=2000, total=  25.4s\n",
            "[CV] max_features=3, min_samples_leaf=1, n_estimators=2000 ...........\n",
            "[CV]  max_features=3, min_samples_leaf=1, n_estimators=2000, total=  25.4s\n",
            "[CV] max_features=3, min_samples_leaf=1, n_estimators=2000 ...........\n",
            "[CV]  max_features=3, min_samples_leaf=1, n_estimators=2000, total=  25.4s\n",
            "[CV] max_features=3, min_samples_leaf=1, n_estimators=2500 ...........\n",
            "[CV]  max_features=3, min_samples_leaf=1, n_estimators=2500, total=  31.8s\n",
            "[CV] max_features=3, min_samples_leaf=1, n_estimators=2500 ...........\n",
            "[CV]  max_features=3, min_samples_leaf=1, n_estimators=2500, total=  31.6s\n",
            "[CV] max_features=3, min_samples_leaf=1, n_estimators=2500 ...........\n",
            "[CV]  max_features=3, min_samples_leaf=1, n_estimators=2500, total=  31.8s\n",
            "[CV] max_features=3, min_samples_leaf=2, n_estimators=500 ............\n",
            "[CV]  max_features=3, min_samples_leaf=2, n_estimators=500, total=   5.6s\n",
            "[CV] max_features=3, min_samples_leaf=2, n_estimators=500 ............\n",
            "[CV]  max_features=3, min_samples_leaf=2, n_estimators=500, total=   5.6s\n",
            "[CV] max_features=3, min_samples_leaf=2, n_estimators=500 ............\n",
            "[CV]  max_features=3, min_samples_leaf=2, n_estimators=500, total=   5.5s\n",
            "[CV] max_features=3, min_samples_leaf=2, n_estimators=1000 ...........\n",
            "[CV]  max_features=3, min_samples_leaf=2, n_estimators=1000, total=  11.1s\n",
            "[CV] max_features=3, min_samples_leaf=2, n_estimators=1000 ...........\n",
            "[CV]  max_features=3, min_samples_leaf=2, n_estimators=1000, total=  10.9s\n",
            "[CV] max_features=3, min_samples_leaf=2, n_estimators=1000 ...........\n",
            "[CV]  max_features=3, min_samples_leaf=2, n_estimators=1000, total=  10.9s\n",
            "[CV] max_features=3, min_samples_leaf=2, n_estimators=2000 ...........\n",
            "[CV]  max_features=3, min_samples_leaf=2, n_estimators=2000, total=  23.8s\n",
            "[CV] max_features=3, min_samples_leaf=2, n_estimators=2000 ...........\n",
            "[CV]  max_features=3, min_samples_leaf=2, n_estimators=2000, total=  21.8s\n",
            "[CV] max_features=3, min_samples_leaf=2, n_estimators=2000 ...........\n",
            "[CV]  max_features=3, min_samples_leaf=2, n_estimators=2000, total=  22.0s\n",
            "[CV] max_features=3, min_samples_leaf=2, n_estimators=2500 ...........\n",
            "[CV]  max_features=3, min_samples_leaf=2, n_estimators=2500, total=  27.3s\n",
            "[CV] max_features=3, min_samples_leaf=2, n_estimators=2500 ...........\n",
            "[CV]  max_features=3, min_samples_leaf=2, n_estimators=2500, total=  27.2s\n",
            "[CV] max_features=3, min_samples_leaf=2, n_estimators=2500 ...........\n",
            "[CV]  max_features=3, min_samples_leaf=2, n_estimators=2500, total=  27.4s\n",
            "[CV] max_features=3, min_samples_leaf=5, n_estimators=500 ............\n",
            "[CV]  max_features=3, min_samples_leaf=5, n_estimators=500, total=   4.8s\n",
            "[CV] max_features=3, min_samples_leaf=5, n_estimators=500 ............\n",
            "[CV]  max_features=3, min_samples_leaf=5, n_estimators=500, total=   4.8s\n",
            "[CV] max_features=3, min_samples_leaf=5, n_estimators=500 ............\n",
            "[CV]  max_features=3, min_samples_leaf=5, n_estimators=500, total=   4.6s\n",
            "[CV] max_features=3, min_samples_leaf=5, n_estimators=1000 ...........\n",
            "[CV]  max_features=3, min_samples_leaf=5, n_estimators=1000, total=   9.3s\n",
            "[CV] max_features=3, min_samples_leaf=5, n_estimators=1000 ...........\n",
            "[CV]  max_features=3, min_samples_leaf=5, n_estimators=1000, total=   9.3s\n",
            "[CV] max_features=3, min_samples_leaf=5, n_estimators=1000 ...........\n",
            "[CV]  max_features=3, min_samples_leaf=5, n_estimators=1000, total=   9.4s\n",
            "[CV] max_features=3, min_samples_leaf=5, n_estimators=2000 ...........\n",
            "[CV]  max_features=3, min_samples_leaf=5, n_estimators=2000, total=  18.9s\n",
            "[CV] max_features=3, min_samples_leaf=5, n_estimators=2000 ...........\n",
            "[CV]  max_features=3, min_samples_leaf=5, n_estimators=2000, total=  18.6s\n",
            "[CV] max_features=3, min_samples_leaf=5, n_estimators=2000 ...........\n",
            "[CV]  max_features=3, min_samples_leaf=5, n_estimators=2000, total=  18.5s\n",
            "[CV] max_features=3, min_samples_leaf=5, n_estimators=2500 ...........\n",
            "[CV]  max_features=3, min_samples_leaf=5, n_estimators=2500, total=  23.5s\n",
            "[CV] max_features=3, min_samples_leaf=5, n_estimators=2500 ...........\n",
            "[CV]  max_features=3, min_samples_leaf=5, n_estimators=2500, total=  23.2s\n",
            "[CV] max_features=3, min_samples_leaf=5, n_estimators=2500 ...........\n",
            "[CV]  max_features=3, min_samples_leaf=5, n_estimators=2500, total=  23.0s\n",
            "[CV] max_features=4, min_samples_leaf=1, n_estimators=500 ............\n",
            "[CV]  max_features=4, min_samples_leaf=1, n_estimators=500, total=   7.8s\n",
            "[CV] max_features=4, min_samples_leaf=1, n_estimators=500 ............\n",
            "[CV]  max_features=4, min_samples_leaf=1, n_estimators=500, total=   7.6s\n",
            "[CV] max_features=4, min_samples_leaf=1, n_estimators=500 ............\n",
            "[CV]  max_features=4, min_samples_leaf=1, n_estimators=500, total=   7.6s\n",
            "[CV] max_features=4, min_samples_leaf=1, n_estimators=1000 ...........\n",
            "[CV]  max_features=4, min_samples_leaf=1, n_estimators=1000, total=  15.6s\n",
            "[CV] max_features=4, min_samples_leaf=1, n_estimators=1000 ...........\n",
            "[CV]  max_features=4, min_samples_leaf=1, n_estimators=1000, total=  15.5s\n",
            "[CV] max_features=4, min_samples_leaf=1, n_estimators=1000 ...........\n",
            "[CV]  max_features=4, min_samples_leaf=1, n_estimators=1000, total=  15.4s\n",
            "[CV] max_features=4, min_samples_leaf=1, n_estimators=2000 ...........\n",
            "[CV]  max_features=4, min_samples_leaf=1, n_estimators=2000, total=  30.9s\n",
            "[CV] max_features=4, min_samples_leaf=1, n_estimators=2000 ...........\n",
            "[CV]  max_features=4, min_samples_leaf=1, n_estimators=2000, total=  30.7s\n",
            "[CV] max_features=4, min_samples_leaf=1, n_estimators=2000 ...........\n",
            "[CV]  max_features=4, min_samples_leaf=1, n_estimators=2000, total=  31.0s\n",
            "[CV] max_features=4, min_samples_leaf=1, n_estimators=2500 ...........\n",
            "[CV]  max_features=4, min_samples_leaf=1, n_estimators=2500, total=  39.2s\n",
            "[CV] max_features=4, min_samples_leaf=1, n_estimators=2500 ...........\n",
            "[CV]  max_features=4, min_samples_leaf=1, n_estimators=2500, total=  38.5s\n",
            "[CV] max_features=4, min_samples_leaf=1, n_estimators=2500 ...........\n",
            "[CV]  max_features=4, min_samples_leaf=1, n_estimators=2500, total=  38.8s\n",
            "[CV] max_features=4, min_samples_leaf=2, n_estimators=500 ............\n",
            "[CV]  max_features=4, min_samples_leaf=2, n_estimators=500, total=   6.8s\n",
            "[CV] max_features=4, min_samples_leaf=2, n_estimators=500 ............\n",
            "[CV]  max_features=4, min_samples_leaf=2, n_estimators=500, total=   6.7s\n",
            "[CV] max_features=4, min_samples_leaf=2, n_estimators=500 ............\n",
            "[CV]  max_features=4, min_samples_leaf=2, n_estimators=500, total=   8.3s\n",
            "[CV] max_features=4, min_samples_leaf=2, n_estimators=1000 ...........\n",
            "[CV]  max_features=4, min_samples_leaf=2, n_estimators=1000, total=  13.9s\n",
            "[CV] max_features=4, min_samples_leaf=2, n_estimators=1000 ...........\n",
            "[CV]  max_features=4, min_samples_leaf=2, n_estimators=1000, total=  13.4s\n",
            "[CV] max_features=4, min_samples_leaf=2, n_estimators=1000 ...........\n",
            "[CV]  max_features=4, min_samples_leaf=2, n_estimators=1000, total=  13.4s\n",
            "[CV] max_features=4, min_samples_leaf=2, n_estimators=2000 ...........\n",
            "[CV]  max_features=4, min_samples_leaf=2, n_estimators=2000, total=  27.1s\n",
            "[CV] max_features=4, min_samples_leaf=2, n_estimators=2000 ...........\n",
            "[CV]  max_features=4, min_samples_leaf=2, n_estimators=2000, total=  26.9s\n",
            "[CV] max_features=4, min_samples_leaf=2, n_estimators=2000 ...........\n",
            "[CV]  max_features=4, min_samples_leaf=2, n_estimators=2000, total=  26.9s\n",
            "[CV] max_features=4, min_samples_leaf=2, n_estimators=2500 ...........\n",
            "[CV]  max_features=4, min_samples_leaf=2, n_estimators=2500, total=  34.1s\n",
            "[CV] max_features=4, min_samples_leaf=2, n_estimators=2500 ...........\n",
            "[CV]  max_features=4, min_samples_leaf=2, n_estimators=2500, total=  33.6s\n",
            "[CV] max_features=4, min_samples_leaf=2, n_estimators=2500 ...........\n",
            "[CV]  max_features=4, min_samples_leaf=2, n_estimators=2500, total=  33.5s\n",
            "[CV] max_features=4, min_samples_leaf=5, n_estimators=500 ............\n",
            "[CV]  max_features=4, min_samples_leaf=5, n_estimators=500, total=   5.8s\n",
            "[CV] max_features=4, min_samples_leaf=5, n_estimators=500 ............\n",
            "[CV]  max_features=4, min_samples_leaf=5, n_estimators=500, total=   5.6s\n",
            "[CV] max_features=4, min_samples_leaf=5, n_estimators=500 ............\n",
            "[CV]  max_features=4, min_samples_leaf=5, n_estimators=500, total=   5.7s\n",
            "[CV] max_features=4, min_samples_leaf=5, n_estimators=1000 ...........\n",
            "[CV]  max_features=4, min_samples_leaf=5, n_estimators=1000, total=  11.4s\n",
            "[CV] max_features=4, min_samples_leaf=5, n_estimators=1000 ...........\n",
            "[CV]  max_features=4, min_samples_leaf=5, n_estimators=1000, total=  11.3s\n",
            "[CV] max_features=4, min_samples_leaf=5, n_estimators=1000 ...........\n",
            "[CV]  max_features=4, min_samples_leaf=5, n_estimators=1000, total=  11.5s\n",
            "[CV] max_features=4, min_samples_leaf=5, n_estimators=2000 ...........\n",
            "[CV]  max_features=4, min_samples_leaf=5, n_estimators=2000, total=  23.1s\n",
            "[CV] max_features=4, min_samples_leaf=5, n_estimators=2000 ...........\n",
            "[CV]  max_features=4, min_samples_leaf=5, n_estimators=2000, total=  22.5s\n",
            "[CV] max_features=4, min_samples_leaf=5, n_estimators=2000 ...........\n",
            "[CV]  max_features=4, min_samples_leaf=5, n_estimators=2000, total=  22.7s\n",
            "[CV] max_features=4, min_samples_leaf=5, n_estimators=2500 ...........\n",
            "[CV]  max_features=4, min_samples_leaf=5, n_estimators=2500, total=  28.9s\n",
            "[CV] max_features=4, min_samples_leaf=5, n_estimators=2500 ...........\n",
            "[CV]  max_features=4, min_samples_leaf=5, n_estimators=2500, total=  28.3s\n",
            "[CV] max_features=4, min_samples_leaf=5, n_estimators=2500 ...........\n",
            "[CV]  max_features=4, min_samples_leaf=5, n_estimators=2500, total=  28.4s\n"
          ],
          "name": "stdout"
        },
        {
          "output_type": "stream",
          "text": [
            "[Parallel(n_jobs=1)]: Done 108 out of 108 | elapsed: 29.8min finished\n"
          ],
          "name": "stderr"
        }
      ]
    },
    {
      "cell_type": "code",
      "metadata": {
        "id": "c71kwTMXAjrI",
        "colab_type": "code",
        "colab": {
          "base_uri": "https://localhost:8080/",
          "height": 148
        },
        "outputId": "e002fc32-4794-4e76-d430-3e831aed8ac6"
      },
      "source": [
        "RFR_GS.best_estimator_"
      ],
      "execution_count": null,
      "outputs": [
        {
          "output_type": "execute_result",
          "data": {
            "text/plain": [
              "RandomForestRegressor(bootstrap=True, ccp_alpha=0.0, criterion='mse',\n",
              "                      max_depth=None, max_features=2, max_leaf_nodes=None,\n",
              "                      max_samples=None, min_impurity_decrease=0.0,\n",
              "                      min_impurity_split=None, min_samples_leaf=1,\n",
              "                      min_samples_split=2, min_weight_fraction_leaf=0.0,\n",
              "                      n_estimators=1000, n_jobs=None, oob_score=False,\n",
              "                      random_state=None, verbose=0, warm_start=False)"
            ]
          },
          "metadata": {
            "tags": []
          },
          "execution_count": 75
        }
      ]
    },
    {
      "cell_type": "code",
      "metadata": {
        "id": "pBWNidYJAkq1",
        "colab_type": "code",
        "colab": {}
      },
      "source": [
        "Y_pred_RFR = RFR_GS.predict(X_test_norm)"
      ],
      "execution_count": null,
      "outputs": []
    },
    {
      "cell_type": "code",
      "metadata": {
        "id": "le4YjJi1Alp3",
        "colab_type": "code",
        "colab": {
          "base_uri": "https://localhost:8080/",
          "height": 130
        },
        "outputId": "074e7fee-6a6b-49c2-9562-46a8dc9f0806"
      },
      "source": [
        "consolidator(RFR_GS,'RFR_norm',X_train_norm,Y_train,X_test_norm,Y_test,Y_pred_RFR)"
      ],
      "execution_count": null,
      "outputs": [
        {
          "output_type": "stream",
          "text": [
            "RFR_norm Model:-\n",
            "R^2 Score:  0.994571812094361\n",
            "Test R^2 Score:  0.9668648158126567\n",
            "Mean Absolute Error : 2.2591939469446207\n",
            "Mean Squared Error : 9.520239838292975\n",
            "Root Mean Squared Error : 3.085488589882156\n"
          ],
          "name": "stdout"
        }
      ]
    },
    {
      "cell_type": "markdown",
      "metadata": {
        "id": "Z-ZgB6ko8Oyh",
        "colab_type": "text"
      },
      "source": [
        "# Extra Trees Regressor Original"
      ]
    },
    {
      "cell_type": "code",
      "metadata": {
        "id": "5yNKGw0a8Ztr",
        "colab_type": "code",
        "colab": {
          "base_uri": "https://localhost:8080/",
          "height": 1000
        },
        "outputId": "08b7ac36-3f33-4c9f-e4bd-ee43eecf7196"
      },
      "source": [
        "ETR = ExtraTreesRegressor()\n",
        "param_grid = {'n_estimators': [500,1000,2000,2500],\n",
        "              'max_features': [2,3,4],\n",
        "              'min_samples_leaf': [1,2,5]}\n",
        "\n",
        "grid_search = GridSearchCV(estimator = ETR, param_grid = param_grid,cv=3,verbose=2)\n",
        "ETR_GS = grid_search.fit(X_train, Y_train)"
      ],
      "execution_count": null,
      "outputs": [
        {
          "output_type": "stream",
          "text": [
            "Fitting 3 folds for each of 36 candidates, totalling 108 fits\n",
            "[CV] max_features=2, min_samples_leaf=1, n_estimators=500 ............\n"
          ],
          "name": "stdout"
        },
        {
          "output_type": "stream",
          "text": [
            "[Parallel(n_jobs=1)]: Using backend SequentialBackend with 1 concurrent workers.\n"
          ],
          "name": "stderr"
        },
        {
          "output_type": "stream",
          "text": [
            "[CV]  max_features=2, min_samples_leaf=1, n_estimators=500, total=   2.7s\n",
            "[CV] max_features=2, min_samples_leaf=1, n_estimators=500 ............\n"
          ],
          "name": "stdout"
        },
        {
          "output_type": "stream",
          "text": [
            "[Parallel(n_jobs=1)]: Done   1 out of   1 | elapsed:    2.7s remaining:    0.0s\n"
          ],
          "name": "stderr"
        },
        {
          "output_type": "stream",
          "text": [
            "[CV]  max_features=2, min_samples_leaf=1, n_estimators=500, total=   2.8s\n",
            "[CV] max_features=2, min_samples_leaf=1, n_estimators=500 ............\n",
            "[CV]  max_features=2, min_samples_leaf=1, n_estimators=500, total=   2.8s\n",
            "[CV] max_features=2, min_samples_leaf=1, n_estimators=1000 ...........\n",
            "[CV]  max_features=2, min_samples_leaf=1, n_estimators=1000, total=   5.4s\n",
            "[CV] max_features=2, min_samples_leaf=1, n_estimators=1000 ...........\n",
            "[CV]  max_features=2, min_samples_leaf=1, n_estimators=1000, total=   5.5s\n",
            "[CV] max_features=2, min_samples_leaf=1, n_estimators=1000 ...........\n",
            "[CV]  max_features=2, min_samples_leaf=1, n_estimators=1000, total=   5.4s\n",
            "[CV] max_features=2, min_samples_leaf=1, n_estimators=2000 ...........\n",
            "[CV]  max_features=2, min_samples_leaf=1, n_estimators=2000, total=  11.2s\n",
            "[CV] max_features=2, min_samples_leaf=1, n_estimators=2000 ...........\n",
            "[CV]  max_features=2, min_samples_leaf=1, n_estimators=2000, total=  11.0s\n",
            "[CV] max_features=2, min_samples_leaf=1, n_estimators=2000 ...........\n",
            "[CV]  max_features=2, min_samples_leaf=1, n_estimators=2000, total=  10.9s\n",
            "[CV] max_features=2, min_samples_leaf=1, n_estimators=2500 ...........\n",
            "[CV]  max_features=2, min_samples_leaf=1, n_estimators=2500, total=  14.0s\n",
            "[CV] max_features=2, min_samples_leaf=1, n_estimators=2500 ...........\n",
            "[CV]  max_features=2, min_samples_leaf=1, n_estimators=2500, total=  13.8s\n",
            "[CV] max_features=2, min_samples_leaf=1, n_estimators=2500 ...........\n",
            "[CV]  max_features=2, min_samples_leaf=1, n_estimators=2500, total=  13.8s\n",
            "[CV] max_features=2, min_samples_leaf=2, n_estimators=500 ............\n",
            "[CV]  max_features=2, min_samples_leaf=2, n_estimators=500, total=   1.9s\n",
            "[CV] max_features=2, min_samples_leaf=2, n_estimators=500 ............\n",
            "[CV]  max_features=2, min_samples_leaf=2, n_estimators=500, total=   1.9s\n",
            "[CV] max_features=2, min_samples_leaf=2, n_estimators=500 ............\n",
            "[CV]  max_features=2, min_samples_leaf=2, n_estimators=500, total=   1.9s\n",
            "[CV] max_features=2, min_samples_leaf=2, n_estimators=1000 ...........\n",
            "[CV]  max_features=2, min_samples_leaf=2, n_estimators=1000, total=   3.7s\n",
            "[CV] max_features=2, min_samples_leaf=2, n_estimators=1000 ...........\n",
            "[CV]  max_features=2, min_samples_leaf=2, n_estimators=1000, total=   3.7s\n",
            "[CV] max_features=2, min_samples_leaf=2, n_estimators=1000 ...........\n",
            "[CV]  max_features=2, min_samples_leaf=2, n_estimators=1000, total=   3.7s\n",
            "[CV] max_features=2, min_samples_leaf=2, n_estimators=2000 ...........\n",
            "[CV]  max_features=2, min_samples_leaf=2, n_estimators=2000, total=   7.4s\n",
            "[CV] max_features=2, min_samples_leaf=2, n_estimators=2000 ...........\n",
            "[CV]  max_features=2, min_samples_leaf=2, n_estimators=2000, total=   7.3s\n",
            "[CV] max_features=2, min_samples_leaf=2, n_estimators=2000 ...........\n",
            "[CV]  max_features=2, min_samples_leaf=2, n_estimators=2000, total=   7.3s\n",
            "[CV] max_features=2, min_samples_leaf=2, n_estimators=2500 ...........\n",
            "[CV]  max_features=2, min_samples_leaf=2, n_estimators=2500, total=   9.4s\n",
            "[CV] max_features=2, min_samples_leaf=2, n_estimators=2500 ...........\n",
            "[CV]  max_features=2, min_samples_leaf=2, n_estimators=2500, total=   9.5s\n",
            "[CV] max_features=2, min_samples_leaf=2, n_estimators=2500 ...........\n",
            "[CV]  max_features=2, min_samples_leaf=2, n_estimators=2500, total=  11.3s\n",
            "[CV] max_features=2, min_samples_leaf=5, n_estimators=500 ............\n",
            "[CV]  max_features=2, min_samples_leaf=5, n_estimators=500, total=   1.3s\n",
            "[CV] max_features=2, min_samples_leaf=5, n_estimators=500 ............\n",
            "[CV]  max_features=2, min_samples_leaf=5, n_estimators=500, total=   1.2s\n",
            "[CV] max_features=2, min_samples_leaf=5, n_estimators=500 ............\n",
            "[CV]  max_features=2, min_samples_leaf=5, n_estimators=500, total=   1.2s\n",
            "[CV] max_features=2, min_samples_leaf=5, n_estimators=1000 ...........\n",
            "[CV]  max_features=2, min_samples_leaf=5, n_estimators=1000, total=   2.5s\n",
            "[CV] max_features=2, min_samples_leaf=5, n_estimators=1000 ...........\n",
            "[CV]  max_features=2, min_samples_leaf=5, n_estimators=1000, total=   2.5s\n",
            "[CV] max_features=2, min_samples_leaf=5, n_estimators=1000 ...........\n",
            "[CV]  max_features=2, min_samples_leaf=5, n_estimators=1000, total=   2.5s\n",
            "[CV] max_features=2, min_samples_leaf=5, n_estimators=2000 ...........\n",
            "[CV]  max_features=2, min_samples_leaf=5, n_estimators=2000, total=   4.9s\n",
            "[CV] max_features=2, min_samples_leaf=5, n_estimators=2000 ...........\n",
            "[CV]  max_features=2, min_samples_leaf=5, n_estimators=2000, total=   4.9s\n",
            "[CV] max_features=2, min_samples_leaf=5, n_estimators=2000 ...........\n",
            "[CV]  max_features=2, min_samples_leaf=5, n_estimators=2000, total=   4.9s\n",
            "[CV] max_features=2, min_samples_leaf=5, n_estimators=2500 ...........\n",
            "[CV]  max_features=2, min_samples_leaf=5, n_estimators=2500, total=   6.4s\n",
            "[CV] max_features=2, min_samples_leaf=5, n_estimators=2500 ...........\n",
            "[CV]  max_features=2, min_samples_leaf=5, n_estimators=2500, total=   6.1s\n",
            "[CV] max_features=2, min_samples_leaf=5, n_estimators=2500 ...........\n",
            "[CV]  max_features=2, min_samples_leaf=5, n_estimators=2500, total=   6.1s\n",
            "[CV] max_features=3, min_samples_leaf=1, n_estimators=500 ............\n",
            "[CV]  max_features=3, min_samples_leaf=1, n_estimators=500, total=   3.2s\n",
            "[CV] max_features=3, min_samples_leaf=1, n_estimators=500 ............\n",
            "[CV]  max_features=3, min_samples_leaf=1, n_estimators=500, total=   3.2s\n",
            "[CV] max_features=3, min_samples_leaf=1, n_estimators=500 ............\n",
            "[CV]  max_features=3, min_samples_leaf=1, n_estimators=500, total=   3.2s\n",
            "[CV] max_features=3, min_samples_leaf=1, n_estimators=1000 ...........\n",
            "[CV]  max_features=3, min_samples_leaf=1, n_estimators=1000, total=   6.2s\n",
            "[CV] max_features=3, min_samples_leaf=1, n_estimators=1000 ...........\n",
            "[CV]  max_features=3, min_samples_leaf=1, n_estimators=1000, total=   6.2s\n",
            "[CV] max_features=3, min_samples_leaf=1, n_estimators=1000 ...........\n",
            "[CV]  max_features=3, min_samples_leaf=1, n_estimators=1000, total=   6.3s\n",
            "[CV] max_features=3, min_samples_leaf=1, n_estimators=2000 ...........\n",
            "[CV]  max_features=3, min_samples_leaf=1, n_estimators=2000, total=  12.7s\n",
            "[CV] max_features=3, min_samples_leaf=1, n_estimators=2000 ...........\n",
            "[CV]  max_features=3, min_samples_leaf=1, n_estimators=2000, total=  12.5s\n",
            "[CV] max_features=3, min_samples_leaf=1, n_estimators=2000 ...........\n",
            "[CV]  max_features=3, min_samples_leaf=1, n_estimators=2000, total=  12.5s\n",
            "[CV] max_features=3, min_samples_leaf=1, n_estimators=2500 ...........\n",
            "[CV]  max_features=3, min_samples_leaf=1, n_estimators=2500, total=  15.8s\n",
            "[CV] max_features=3, min_samples_leaf=1, n_estimators=2500 ...........\n",
            "[CV]  max_features=3, min_samples_leaf=1, n_estimators=2500, total=  15.6s\n",
            "[CV] max_features=3, min_samples_leaf=1, n_estimators=2500 ...........\n",
            "[CV]  max_features=3, min_samples_leaf=1, n_estimators=2500, total=  15.8s\n",
            "[CV] max_features=3, min_samples_leaf=2, n_estimators=500 ............\n",
            "[CV]  max_features=3, min_samples_leaf=2, n_estimators=500, total=   2.2s\n",
            "[CV] max_features=3, min_samples_leaf=2, n_estimators=500 ............\n",
            "[CV]  max_features=3, min_samples_leaf=2, n_estimators=500, total=   2.3s\n",
            "[CV] max_features=3, min_samples_leaf=2, n_estimators=500 ............\n",
            "[CV]  max_features=3, min_samples_leaf=2, n_estimators=500, total=   2.3s\n",
            "[CV] max_features=3, min_samples_leaf=2, n_estimators=1000 ...........\n",
            "[CV]  max_features=3, min_samples_leaf=2, n_estimators=1000, total=   4.5s\n",
            "[CV] max_features=3, min_samples_leaf=2, n_estimators=1000 ...........\n",
            "[CV]  max_features=3, min_samples_leaf=2, n_estimators=1000, total=   4.5s\n",
            "[CV] max_features=3, min_samples_leaf=2, n_estimators=1000 ...........\n",
            "[CV]  max_features=3, min_samples_leaf=2, n_estimators=1000, total=   4.5s\n",
            "[CV] max_features=3, min_samples_leaf=2, n_estimators=2000 ...........\n",
            "[CV]  max_features=3, min_samples_leaf=2, n_estimators=2000, total=   9.0s\n",
            "[CV] max_features=3, min_samples_leaf=2, n_estimators=2000 ...........\n",
            "[CV]  max_features=3, min_samples_leaf=2, n_estimators=2000, total=   9.0s\n",
            "[CV] max_features=3, min_samples_leaf=2, n_estimators=2000 ...........\n",
            "[CV]  max_features=3, min_samples_leaf=2, n_estimators=2000, total=   9.1s\n",
            "[CV] max_features=3, min_samples_leaf=2, n_estimators=2500 ...........\n",
            "[CV]  max_features=3, min_samples_leaf=2, n_estimators=2500, total=  11.3s\n",
            "[CV] max_features=3, min_samples_leaf=2, n_estimators=2500 ...........\n",
            "[CV]  max_features=3, min_samples_leaf=2, n_estimators=2500, total=  11.2s\n",
            "[CV] max_features=3, min_samples_leaf=2, n_estimators=2500 ...........\n",
            "[CV]  max_features=3, min_samples_leaf=2, n_estimators=2500, total=  11.2s\n",
            "[CV] max_features=3, min_samples_leaf=5, n_estimators=500 ............\n",
            "[CV]  max_features=3, min_samples_leaf=5, n_estimators=500, total=   1.6s\n",
            "[CV] max_features=3, min_samples_leaf=5, n_estimators=500 ............\n",
            "[CV]  max_features=3, min_samples_leaf=5, n_estimators=500, total=   1.6s\n",
            "[CV] max_features=3, min_samples_leaf=5, n_estimators=500 ............\n",
            "[CV]  max_features=3, min_samples_leaf=5, n_estimators=500, total=   1.6s\n",
            "[CV] max_features=3, min_samples_leaf=5, n_estimators=1000 ...........\n",
            "[CV]  max_features=3, min_samples_leaf=5, n_estimators=1000, total=   3.1s\n",
            "[CV] max_features=3, min_samples_leaf=5, n_estimators=1000 ...........\n",
            "[CV]  max_features=3, min_samples_leaf=5, n_estimators=1000, total=   3.1s\n",
            "[CV] max_features=3, min_samples_leaf=5, n_estimators=1000 ...........\n",
            "[CV]  max_features=3, min_samples_leaf=5, n_estimators=1000, total=   3.1s\n",
            "[CV] max_features=3, min_samples_leaf=5, n_estimators=2000 ...........\n",
            "[CV]  max_features=3, min_samples_leaf=5, n_estimators=2000, total=   6.2s\n",
            "[CV] max_features=3, min_samples_leaf=5, n_estimators=2000 ...........\n",
            "[CV]  max_features=3, min_samples_leaf=5, n_estimators=2000, total=   6.3s\n",
            "[CV] max_features=3, min_samples_leaf=5, n_estimators=2000 ...........\n",
            "[CV]  max_features=3, min_samples_leaf=5, n_estimators=2000, total=   6.2s\n",
            "[CV] max_features=3, min_samples_leaf=5, n_estimators=2500 ...........\n",
            "[CV]  max_features=3, min_samples_leaf=5, n_estimators=2500, total=   7.9s\n",
            "[CV] max_features=3, min_samples_leaf=5, n_estimators=2500 ...........\n",
            "[CV]  max_features=3, min_samples_leaf=5, n_estimators=2500, total=   8.0s\n",
            "[CV] max_features=3, min_samples_leaf=5, n_estimators=2500 ...........\n",
            "[CV]  max_features=3, min_samples_leaf=5, n_estimators=2500, total=   8.0s\n",
            "[CV] max_features=4, min_samples_leaf=1, n_estimators=500 ............\n",
            "[CV]  max_features=4, min_samples_leaf=1, n_estimators=500, total=   3.6s\n",
            "[CV] max_features=4, min_samples_leaf=1, n_estimators=500 ............\n",
            "[CV]  max_features=4, min_samples_leaf=1, n_estimators=500, total=   3.6s\n",
            "[CV] max_features=4, min_samples_leaf=1, n_estimators=500 ............\n",
            "[CV]  max_features=4, min_samples_leaf=1, n_estimators=500, total=   3.6s\n",
            "[CV] max_features=4, min_samples_leaf=1, n_estimators=1000 ...........\n",
            "[CV]  max_features=4, min_samples_leaf=1, n_estimators=1000, total=   7.2s\n",
            "[CV] max_features=4, min_samples_leaf=1, n_estimators=1000 ...........\n",
            "[CV]  max_features=4, min_samples_leaf=1, n_estimators=1000, total=   7.1s\n",
            "[CV] max_features=4, min_samples_leaf=1, n_estimators=1000 ...........\n",
            "[CV]  max_features=4, min_samples_leaf=1, n_estimators=1000, total=   7.3s\n",
            "[CV] max_features=4, min_samples_leaf=1, n_estimators=2000 ...........\n",
            "[CV]  max_features=4, min_samples_leaf=1, n_estimators=2000, total=  14.4s\n",
            "[CV] max_features=4, min_samples_leaf=1, n_estimators=2000 ...........\n",
            "[CV]  max_features=4, min_samples_leaf=1, n_estimators=2000, total=  14.4s\n",
            "[CV] max_features=4, min_samples_leaf=1, n_estimators=2000 ...........\n",
            "[CV]  max_features=4, min_samples_leaf=1, n_estimators=2000, total=  14.3s\n",
            "[CV] max_features=4, min_samples_leaf=1, n_estimators=2500 ...........\n",
            "[CV]  max_features=4, min_samples_leaf=1, n_estimators=2500, total=  18.1s\n",
            "[CV] max_features=4, min_samples_leaf=1, n_estimators=2500 ...........\n",
            "[CV]  max_features=4, min_samples_leaf=1, n_estimators=2500, total=  18.2s\n",
            "[CV] max_features=4, min_samples_leaf=1, n_estimators=2500 ...........\n",
            "[CV]  max_features=4, min_samples_leaf=1, n_estimators=2500, total=  17.9s\n",
            "[CV] max_features=4, min_samples_leaf=2, n_estimators=500 ............\n",
            "[CV]  max_features=4, min_samples_leaf=2, n_estimators=500, total=   2.6s\n",
            "[CV] max_features=4, min_samples_leaf=2, n_estimators=500 ............\n",
            "[CV]  max_features=4, min_samples_leaf=2, n_estimators=500, total=   2.6s\n",
            "[CV] max_features=4, min_samples_leaf=2, n_estimators=500 ............\n",
            "[CV]  max_features=4, min_samples_leaf=2, n_estimators=500, total=   2.6s\n",
            "[CV] max_features=4, min_samples_leaf=2, n_estimators=1000 ...........\n",
            "[CV]  max_features=4, min_samples_leaf=2, n_estimators=1000, total=   5.2s\n",
            "[CV] max_features=4, min_samples_leaf=2, n_estimators=1000 ...........\n",
            "[CV]  max_features=4, min_samples_leaf=2, n_estimators=1000, total=   5.3s\n",
            "[CV] max_features=4, min_samples_leaf=2, n_estimators=1000 ...........\n",
            "[CV]  max_features=4, min_samples_leaf=2, n_estimators=1000, total=   5.4s\n",
            "[CV] max_features=4, min_samples_leaf=2, n_estimators=2000 ...........\n",
            "[CV]  max_features=4, min_samples_leaf=2, n_estimators=2000, total=  10.6s\n",
            "[CV] max_features=4, min_samples_leaf=2, n_estimators=2000 ...........\n",
            "[CV]  max_features=4, min_samples_leaf=2, n_estimators=2000, total=  10.5s\n",
            "[CV] max_features=4, min_samples_leaf=2, n_estimators=2000 ...........\n",
            "[CV]  max_features=4, min_samples_leaf=2, n_estimators=2000, total=  10.6s\n",
            "[CV] max_features=4, min_samples_leaf=2, n_estimators=2500 ...........\n",
            "[CV]  max_features=4, min_samples_leaf=2, n_estimators=2500, total=  13.2s\n",
            "[CV] max_features=4, min_samples_leaf=2, n_estimators=2500 ...........\n",
            "[CV]  max_features=4, min_samples_leaf=2, n_estimators=2500, total=  13.1s\n",
            "[CV] max_features=4, min_samples_leaf=2, n_estimators=2500 ...........\n",
            "[CV]  max_features=4, min_samples_leaf=2, n_estimators=2500, total=  13.1s\n",
            "[CV] max_features=4, min_samples_leaf=5, n_estimators=500 ............\n",
            "[CV]  max_features=4, min_samples_leaf=5, n_estimators=500, total=   1.8s\n",
            "[CV] max_features=4, min_samples_leaf=5, n_estimators=500 ............\n",
            "[CV]  max_features=4, min_samples_leaf=5, n_estimators=500, total=   1.8s\n",
            "[CV] max_features=4, min_samples_leaf=5, n_estimators=500 ............\n",
            "[CV]  max_features=4, min_samples_leaf=5, n_estimators=500, total=   1.8s\n",
            "[CV] max_features=4, min_samples_leaf=5, n_estimators=1000 ...........\n",
            "[CV]  max_features=4, min_samples_leaf=5, n_estimators=1000, total=   3.6s\n",
            "[CV] max_features=4, min_samples_leaf=5, n_estimators=1000 ...........\n",
            "[CV]  max_features=4, min_samples_leaf=5, n_estimators=1000, total=   3.6s\n",
            "[CV] max_features=4, min_samples_leaf=5, n_estimators=1000 ...........\n",
            "[CV]  max_features=4, min_samples_leaf=5, n_estimators=1000, total=   3.6s\n",
            "[CV] max_features=4, min_samples_leaf=5, n_estimators=2000 ...........\n",
            "[CV]  max_features=4, min_samples_leaf=5, n_estimators=2000, total=   7.2s\n",
            "[CV] max_features=4, min_samples_leaf=5, n_estimators=2000 ...........\n",
            "[CV]  max_features=4, min_samples_leaf=5, n_estimators=2000, total=   7.3s\n",
            "[CV] max_features=4, min_samples_leaf=5, n_estimators=2000 ...........\n",
            "[CV]  max_features=4, min_samples_leaf=5, n_estimators=2000, total=   7.3s\n",
            "[CV] max_features=4, min_samples_leaf=5, n_estimators=2500 ...........\n",
            "[CV]  max_features=4, min_samples_leaf=5, n_estimators=2500, total=   9.2s\n",
            "[CV] max_features=4, min_samples_leaf=5, n_estimators=2500 ...........\n",
            "[CV]  max_features=4, min_samples_leaf=5, n_estimators=2500, total=   9.1s\n",
            "[CV] max_features=4, min_samples_leaf=5, n_estimators=2500 ...........\n",
            "[CV]  max_features=4, min_samples_leaf=5, n_estimators=2500, total=   9.1s\n"
          ],
          "name": "stdout"
        },
        {
          "output_type": "stream",
          "text": [
            "[Parallel(n_jobs=1)]: Done 108 out of 108 | elapsed: 12.7min finished\n"
          ],
          "name": "stderr"
        }
      ]
    },
    {
      "cell_type": "code",
      "metadata": {
        "id": "Q0gv84dB8mY5",
        "colab_type": "code",
        "colab": {
          "base_uri": "https://localhost:8080/",
          "height": 148
        },
        "outputId": "352c7a0b-d3d2-4a68-fecb-ac3acb15798e"
      },
      "source": [
        "ETR_GS.best_estimator_"
      ],
      "execution_count": null,
      "outputs": [
        {
          "output_type": "execute_result",
          "data": {
            "text/plain": [
              "ExtraTreesRegressor(bootstrap=False, ccp_alpha=0.0, criterion='mse',\n",
              "                    max_depth=None, max_features=2, max_leaf_nodes=None,\n",
              "                    max_samples=None, min_impurity_decrease=0.0,\n",
              "                    min_impurity_split=None, min_samples_leaf=1,\n",
              "                    min_samples_split=2, min_weight_fraction_leaf=0.0,\n",
              "                    n_estimators=500, n_jobs=None, oob_score=False,\n",
              "                    random_state=None, verbose=0, warm_start=False)"
            ]
          },
          "metadata": {
            "tags": []
          },
          "execution_count": 79
        }
      ]
    },
    {
      "cell_type": "code",
      "metadata": {
        "id": "BTYfXCuH8nkB",
        "colab_type": "code",
        "colab": {}
      },
      "source": [
        "Y_pred_ETR = ETR_GS.predict(X_test)"
      ],
      "execution_count": null,
      "outputs": []
    },
    {
      "cell_type": "code",
      "metadata": {
        "id": "IOeo63HC8rKd",
        "colab_type": "code",
        "colab": {
          "base_uri": "https://localhost:8080/",
          "height": 130
        },
        "outputId": "bd7f05e7-fb3e-4f14-b9c3-fe2076630769"
      },
      "source": [
        "consolidator(ETR_GS,'ETR_Original',X_train,Y_train,X_test,Y_test,Y_pred_ETR)"
      ],
      "execution_count": null,
      "outputs": [
        {
          "output_type": "stream",
          "text": [
            "ETR_Original Model:-\n",
            "R^2 Score:  0.9991580733304934\n",
            "Test R^2 Score:  0.9750294837920876\n",
            "Mean Absolute Error : 1.9474433195958696\n",
            "Mean Squared Error : 7.174407175201775\n",
            "Root Mean Squared Error : 2.67850838624817\n"
          ],
          "name": "stdout"
        }
      ]
    },
    {
      "cell_type": "markdown",
      "metadata": {
        "id": "28IPu6WS8SDV",
        "colab_type": "text"
      },
      "source": [
        "# Extra Trees Regressor Scaled"
      ]
    },
    {
      "cell_type": "code",
      "metadata": {
        "id": "Zb0DbHEq8gSn",
        "colab_type": "code",
        "colab": {
          "base_uri": "https://localhost:8080/",
          "height": 1000
        },
        "outputId": "df6dba8c-c92b-4c76-b716-ffa5fa8a54f6"
      },
      "source": [
        "ETR = ExtraTreesRegressor()\n",
        "param_grid = {'n_estimators': [500,1000,2000,2500],\n",
        "              'max_features': [2,3,4],\n",
        "              'min_samples_leaf': [1,2,5]}\n",
        "\n",
        "grid_search = GridSearchCV(estimator = ETR, param_grid = param_grid,cv=3,verbose=2)\n",
        "ETR_GS = grid_search.fit(X_train_scaled, Y_train)"
      ],
      "execution_count": null,
      "outputs": [
        {
          "output_type": "stream",
          "text": [
            "Fitting 3 folds for each of 36 candidates, totalling 108 fits\n",
            "[CV] max_features=2, min_samples_leaf=1, n_estimators=500 ............\n"
          ],
          "name": "stdout"
        },
        {
          "output_type": "stream",
          "text": [
            "[Parallel(n_jobs=1)]: Using backend SequentialBackend with 1 concurrent workers.\n"
          ],
          "name": "stderr"
        },
        {
          "output_type": "stream",
          "text": [
            "[CV]  max_features=2, min_samples_leaf=1, n_estimators=500, total=   2.8s\n",
            "[CV] max_features=2, min_samples_leaf=1, n_estimators=500 ............\n"
          ],
          "name": "stdout"
        },
        {
          "output_type": "stream",
          "text": [
            "[Parallel(n_jobs=1)]: Done   1 out of   1 | elapsed:    2.8s remaining:    0.0s\n"
          ],
          "name": "stderr"
        },
        {
          "output_type": "stream",
          "text": [
            "[CV]  max_features=2, min_samples_leaf=1, n_estimators=500, total=   4.3s\n",
            "[CV] max_features=2, min_samples_leaf=1, n_estimators=500 ............\n",
            "[CV]  max_features=2, min_samples_leaf=1, n_estimators=500, total=   3.3s\n",
            "[CV] max_features=2, min_samples_leaf=1, n_estimators=1000 ...........\n",
            "[CV]  max_features=2, min_samples_leaf=1, n_estimators=1000, total=   5.5s\n",
            "[CV] max_features=2, min_samples_leaf=1, n_estimators=1000 ...........\n",
            "[CV]  max_features=2, min_samples_leaf=1, n_estimators=1000, total=   5.4s\n",
            "[CV] max_features=2, min_samples_leaf=1, n_estimators=1000 ...........\n",
            "[CV]  max_features=2, min_samples_leaf=1, n_estimators=1000, total=   5.4s\n",
            "[CV] max_features=2, min_samples_leaf=1, n_estimators=2000 ...........\n",
            "[CV]  max_features=2, min_samples_leaf=1, n_estimators=2000, total=  10.9s\n",
            "[CV] max_features=2, min_samples_leaf=1, n_estimators=2000 ...........\n",
            "[CV]  max_features=2, min_samples_leaf=1, n_estimators=2000, total=  10.9s\n",
            "[CV] max_features=2, min_samples_leaf=1, n_estimators=2000 ...........\n",
            "[CV]  max_features=2, min_samples_leaf=1, n_estimators=2000, total=  10.8s\n",
            "[CV] max_features=2, min_samples_leaf=1, n_estimators=2500 ...........\n",
            "[CV]  max_features=2, min_samples_leaf=1, n_estimators=2500, total=  13.6s\n",
            "[CV] max_features=2, min_samples_leaf=1, n_estimators=2500 ...........\n",
            "[CV]  max_features=2, min_samples_leaf=1, n_estimators=2500, total=  13.5s\n",
            "[CV] max_features=2, min_samples_leaf=1, n_estimators=2500 ...........\n",
            "[CV]  max_features=2, min_samples_leaf=1, n_estimators=2500, total=  13.6s\n",
            "[CV] max_features=2, min_samples_leaf=2, n_estimators=500 ............\n",
            "[CV]  max_features=2, min_samples_leaf=2, n_estimators=500, total=   1.9s\n",
            "[CV] max_features=2, min_samples_leaf=2, n_estimators=500 ............\n",
            "[CV]  max_features=2, min_samples_leaf=2, n_estimators=500, total=   1.9s\n",
            "[CV] max_features=2, min_samples_leaf=2, n_estimators=500 ............\n",
            "[CV]  max_features=2, min_samples_leaf=2, n_estimators=500, total=   1.9s\n",
            "[CV] max_features=2, min_samples_leaf=2, n_estimators=1000 ...........\n",
            "[CV]  max_features=2, min_samples_leaf=2, n_estimators=1000, total=   3.7s\n",
            "[CV] max_features=2, min_samples_leaf=2, n_estimators=1000 ...........\n",
            "[CV]  max_features=2, min_samples_leaf=2, n_estimators=1000, total=   3.7s\n",
            "[CV] max_features=2, min_samples_leaf=2, n_estimators=1000 ...........\n",
            "[CV]  max_features=2, min_samples_leaf=2, n_estimators=1000, total=   3.7s\n",
            "[CV] max_features=2, min_samples_leaf=2, n_estimators=2000 ...........\n",
            "[CV]  max_features=2, min_samples_leaf=2, n_estimators=2000, total=   7.3s\n",
            "[CV] max_features=2, min_samples_leaf=2, n_estimators=2000 ...........\n",
            "[CV]  max_features=2, min_samples_leaf=2, n_estimators=2000, total=   7.3s\n",
            "[CV] max_features=2, min_samples_leaf=2, n_estimators=2000 ...........\n",
            "[CV]  max_features=2, min_samples_leaf=2, n_estimators=2000, total=   7.4s\n",
            "[CV] max_features=2, min_samples_leaf=2, n_estimators=2500 ...........\n",
            "[CV]  max_features=2, min_samples_leaf=2, n_estimators=2500, total=   9.3s\n",
            "[CV] max_features=2, min_samples_leaf=2, n_estimators=2500 ...........\n",
            "[CV]  max_features=2, min_samples_leaf=2, n_estimators=2500, total=   9.2s\n",
            "[CV] max_features=2, min_samples_leaf=2, n_estimators=2500 ...........\n",
            "[CV]  max_features=2, min_samples_leaf=2, n_estimators=2500, total=   9.5s\n",
            "[CV] max_features=2, min_samples_leaf=5, n_estimators=500 ............\n",
            "[CV]  max_features=2, min_samples_leaf=5, n_estimators=500, total=   1.2s\n",
            "[CV] max_features=2, min_samples_leaf=5, n_estimators=500 ............\n",
            "[CV]  max_features=2, min_samples_leaf=5, n_estimators=500, total=   1.2s\n",
            "[CV] max_features=2, min_samples_leaf=5, n_estimators=500 ............\n",
            "[CV]  max_features=2, min_samples_leaf=5, n_estimators=500, total=   1.2s\n",
            "[CV] max_features=2, min_samples_leaf=5, n_estimators=1000 ...........\n",
            "[CV]  max_features=2, min_samples_leaf=5, n_estimators=1000, total=   2.5s\n",
            "[CV] max_features=2, min_samples_leaf=5, n_estimators=1000 ...........\n",
            "[CV]  max_features=2, min_samples_leaf=5, n_estimators=1000, total=   2.5s\n",
            "[CV] max_features=2, min_samples_leaf=5, n_estimators=1000 ...........\n",
            "[CV]  max_features=2, min_samples_leaf=5, n_estimators=1000, total=   2.4s\n",
            "[CV] max_features=2, min_samples_leaf=5, n_estimators=2000 ...........\n",
            "[CV]  max_features=2, min_samples_leaf=5, n_estimators=2000, total=   5.0s\n",
            "[CV] max_features=2, min_samples_leaf=5, n_estimators=2000 ...........\n",
            "[CV]  max_features=2, min_samples_leaf=5, n_estimators=2000, total=   5.0s\n",
            "[CV] max_features=2, min_samples_leaf=5, n_estimators=2000 ...........\n",
            "[CV]  max_features=2, min_samples_leaf=5, n_estimators=2000, total=   4.9s\n",
            "[CV] max_features=2, min_samples_leaf=5, n_estimators=2500 ...........\n",
            "[CV]  max_features=2, min_samples_leaf=5, n_estimators=2500, total=   6.1s\n",
            "[CV] max_features=2, min_samples_leaf=5, n_estimators=2500 ...........\n",
            "[CV]  max_features=2, min_samples_leaf=5, n_estimators=2500, total=   6.1s\n",
            "[CV] max_features=2, min_samples_leaf=5, n_estimators=2500 ...........\n",
            "[CV]  max_features=2, min_samples_leaf=5, n_estimators=2500, total=   6.2s\n",
            "[CV] max_features=3, min_samples_leaf=1, n_estimators=500 ............\n",
            "[CV]  max_features=3, min_samples_leaf=1, n_estimators=500, total=   3.3s\n",
            "[CV] max_features=3, min_samples_leaf=1, n_estimators=500 ............\n",
            "[CV]  max_features=3, min_samples_leaf=1, n_estimators=500, total=   3.2s\n",
            "[CV] max_features=3, min_samples_leaf=1, n_estimators=500 ............\n",
            "[CV]  max_features=3, min_samples_leaf=1, n_estimators=500, total=   3.2s\n",
            "[CV] max_features=3, min_samples_leaf=1, n_estimators=1000 ...........\n",
            "[CV]  max_features=3, min_samples_leaf=1, n_estimators=1000, total=   6.4s\n",
            "[CV] max_features=3, min_samples_leaf=1, n_estimators=1000 ...........\n",
            "[CV]  max_features=3, min_samples_leaf=1, n_estimators=1000, total=   6.4s\n",
            "[CV] max_features=3, min_samples_leaf=1, n_estimators=1000 ...........\n",
            "[CV]  max_features=3, min_samples_leaf=1, n_estimators=1000, total=   6.4s\n",
            "[CV] max_features=3, min_samples_leaf=1, n_estimators=2000 ...........\n",
            "[CV]  max_features=3, min_samples_leaf=1, n_estimators=2000, total=  13.0s\n",
            "[CV] max_features=3, min_samples_leaf=1, n_estimators=2000 ...........\n",
            "[CV]  max_features=3, min_samples_leaf=1, n_estimators=2000, total=  12.9s\n",
            "[CV] max_features=3, min_samples_leaf=1, n_estimators=2000 ...........\n",
            "[CV]  max_features=3, min_samples_leaf=1, n_estimators=2000, total=  12.8s\n",
            "[CV] max_features=3, min_samples_leaf=1, n_estimators=2500 ...........\n",
            "[CV]  max_features=3, min_samples_leaf=1, n_estimators=2500, total=  16.2s\n",
            "[CV] max_features=3, min_samples_leaf=1, n_estimators=2500 ...........\n",
            "[CV]  max_features=3, min_samples_leaf=1, n_estimators=2500, total=  16.1s\n",
            "[CV] max_features=3, min_samples_leaf=1, n_estimators=2500 ...........\n",
            "[CV]  max_features=3, min_samples_leaf=1, n_estimators=2500, total=  16.4s\n",
            "[CV] max_features=3, min_samples_leaf=2, n_estimators=500 ............\n",
            "[CV]  max_features=3, min_samples_leaf=2, n_estimators=500, total=   2.4s\n",
            "[CV] max_features=3, min_samples_leaf=2, n_estimators=500 ............\n",
            "[CV]  max_features=3, min_samples_leaf=2, n_estimators=500, total=   2.4s\n",
            "[CV] max_features=3, min_samples_leaf=2, n_estimators=500 ............\n",
            "[CV]  max_features=3, min_samples_leaf=2, n_estimators=500, total=   2.3s\n",
            "[CV] max_features=3, min_samples_leaf=2, n_estimators=1000 ...........\n",
            "[CV]  max_features=3, min_samples_leaf=2, n_estimators=1000, total=   4.6s\n",
            "[CV] max_features=3, min_samples_leaf=2, n_estimators=1000 ...........\n",
            "[CV]  max_features=3, min_samples_leaf=2, n_estimators=1000, total=   4.6s\n",
            "[CV] max_features=3, min_samples_leaf=2, n_estimators=1000 ...........\n",
            "[CV]  max_features=3, min_samples_leaf=2, n_estimators=1000, total=   4.6s\n",
            "[CV] max_features=3, min_samples_leaf=2, n_estimators=2000 ...........\n",
            "[CV]  max_features=3, min_samples_leaf=2, n_estimators=2000, total=   9.1s\n",
            "[CV] max_features=3, min_samples_leaf=2, n_estimators=2000 ...........\n",
            "[CV]  max_features=3, min_samples_leaf=2, n_estimators=2000, total=   9.3s\n",
            "[CV] max_features=3, min_samples_leaf=2, n_estimators=2000 ...........\n",
            "[CV]  max_features=3, min_samples_leaf=2, n_estimators=2000, total=   9.1s\n",
            "[CV] max_features=3, min_samples_leaf=2, n_estimators=2500 ...........\n",
            "[CV]  max_features=3, min_samples_leaf=2, n_estimators=2500, total=  11.5s\n",
            "[CV] max_features=3, min_samples_leaf=2, n_estimators=2500 ...........\n",
            "[CV]  max_features=3, min_samples_leaf=2, n_estimators=2500, total=  11.3s\n",
            "[CV] max_features=3, min_samples_leaf=2, n_estimators=2500 ...........\n",
            "[CV]  max_features=3, min_samples_leaf=2, n_estimators=2500, total=  11.4s\n",
            "[CV] max_features=3, min_samples_leaf=5, n_estimators=500 ............\n",
            "[CV]  max_features=3, min_samples_leaf=5, n_estimators=500, total=   1.6s\n",
            "[CV] max_features=3, min_samples_leaf=5, n_estimators=500 ............\n",
            "[CV]  max_features=3, min_samples_leaf=5, n_estimators=500, total=   1.6s\n",
            "[CV] max_features=3, min_samples_leaf=5, n_estimators=500 ............\n",
            "[CV]  max_features=3, min_samples_leaf=5, n_estimators=500, total=   1.6s\n",
            "[CV] max_features=3, min_samples_leaf=5, n_estimators=1000 ...........\n",
            "[CV]  max_features=3, min_samples_leaf=5, n_estimators=1000, total=   3.2s\n",
            "[CV] max_features=3, min_samples_leaf=5, n_estimators=1000 ...........\n",
            "[CV]  max_features=3, min_samples_leaf=5, n_estimators=1000, total=   3.1s\n",
            "[CV] max_features=3, min_samples_leaf=5, n_estimators=1000 ...........\n",
            "[CV]  max_features=3, min_samples_leaf=5, n_estimators=1000, total=   3.2s\n",
            "[CV] max_features=3, min_samples_leaf=5, n_estimators=2000 ...........\n",
            "[CV]  max_features=3, min_samples_leaf=5, n_estimators=2000, total=   6.4s\n",
            "[CV] max_features=3, min_samples_leaf=5, n_estimators=2000 ...........\n",
            "[CV]  max_features=3, min_samples_leaf=5, n_estimators=2000, total=   6.2s\n",
            "[CV] max_features=3, min_samples_leaf=5, n_estimators=2000 ...........\n",
            "[CV]  max_features=3, min_samples_leaf=5, n_estimators=2000, total=   6.3s\n",
            "[CV] max_features=3, min_samples_leaf=5, n_estimators=2500 ...........\n",
            "[CV]  max_features=3, min_samples_leaf=5, n_estimators=2500, total=   7.9s\n",
            "[CV] max_features=3, min_samples_leaf=5, n_estimators=2500 ...........\n",
            "[CV]  max_features=3, min_samples_leaf=5, n_estimators=2500, total=   7.8s\n",
            "[CV] max_features=3, min_samples_leaf=5, n_estimators=2500 ...........\n",
            "[CV]  max_features=3, min_samples_leaf=5, n_estimators=2500, total=   7.9s\n",
            "[CV] max_features=4, min_samples_leaf=1, n_estimators=500 ............\n",
            "[CV]  max_features=4, min_samples_leaf=1, n_estimators=500, total=   3.7s\n",
            "[CV] max_features=4, min_samples_leaf=1, n_estimators=500 ............\n",
            "[CV]  max_features=4, min_samples_leaf=1, n_estimators=500, total=   3.7s\n",
            "[CV] max_features=4, min_samples_leaf=1, n_estimators=500 ............\n",
            "[CV]  max_features=4, min_samples_leaf=1, n_estimators=500, total=   3.7s\n",
            "[CV] max_features=4, min_samples_leaf=1, n_estimators=1000 ...........\n",
            "[CV]  max_features=4, min_samples_leaf=1, n_estimators=1000, total=   7.3s\n",
            "[CV] max_features=4, min_samples_leaf=1, n_estimators=1000 ...........\n",
            "[CV]  max_features=4, min_samples_leaf=1, n_estimators=1000, total=   7.3s\n",
            "[CV] max_features=4, min_samples_leaf=1, n_estimators=1000 ...........\n",
            "[CV]  max_features=4, min_samples_leaf=1, n_estimators=1000, total=   7.3s\n",
            "[CV] max_features=4, min_samples_leaf=1, n_estimators=2000 ...........\n",
            "[CV]  max_features=4, min_samples_leaf=1, n_estimators=2000, total=  14.8s\n",
            "[CV] max_features=4, min_samples_leaf=1, n_estimators=2000 ...........\n",
            "[CV]  max_features=4, min_samples_leaf=1, n_estimators=2000, total=  14.6s\n",
            "[CV] max_features=4, min_samples_leaf=1, n_estimators=2000 ...........\n",
            "[CV]  max_features=4, min_samples_leaf=1, n_estimators=2000, total=  14.7s\n",
            "[CV] max_features=4, min_samples_leaf=1, n_estimators=2500 ...........\n",
            "[CV]  max_features=4, min_samples_leaf=1, n_estimators=2500, total=  18.3s\n",
            "[CV] max_features=4, min_samples_leaf=1, n_estimators=2500 ...........\n",
            "[CV]  max_features=4, min_samples_leaf=1, n_estimators=2500, total=  18.3s\n",
            "[CV] max_features=4, min_samples_leaf=1, n_estimators=2500 ...........\n",
            "[CV]  max_features=4, min_samples_leaf=1, n_estimators=2500, total=  18.4s\n",
            "[CV] max_features=4, min_samples_leaf=2, n_estimators=500 ............\n",
            "[CV]  max_features=4, min_samples_leaf=2, n_estimators=500, total=   2.7s\n",
            "[CV] max_features=4, min_samples_leaf=2, n_estimators=500 ............\n",
            "[CV]  max_features=4, min_samples_leaf=2, n_estimators=500, total=   2.7s\n",
            "[CV] max_features=4, min_samples_leaf=2, n_estimators=500 ............\n",
            "[CV]  max_features=4, min_samples_leaf=2, n_estimators=500, total=   3.1s\n",
            "[CV] max_features=4, min_samples_leaf=2, n_estimators=1000 ...........\n",
            "[CV]  max_features=4, min_samples_leaf=2, n_estimators=1000, total=   6.7s\n",
            "[CV] max_features=4, min_samples_leaf=2, n_estimators=1000 ...........\n",
            "[CV]  max_features=4, min_samples_leaf=2, n_estimators=1000, total=   5.3s\n",
            "[CV] max_features=4, min_samples_leaf=2, n_estimators=1000 ...........\n",
            "[CV]  max_features=4, min_samples_leaf=2, n_estimators=1000, total=   5.3s\n",
            "[CV] max_features=4, min_samples_leaf=2, n_estimators=2000 ...........\n",
            "[CV]  max_features=4, min_samples_leaf=2, n_estimators=2000, total=  10.7s\n",
            "[CV] max_features=4, min_samples_leaf=2, n_estimators=2000 ...........\n",
            "[CV]  max_features=4, min_samples_leaf=2, n_estimators=2000, total=  10.7s\n",
            "[CV] max_features=4, min_samples_leaf=2, n_estimators=2000 ...........\n",
            "[CV]  max_features=4, min_samples_leaf=2, n_estimators=2000, total=  10.5s\n",
            "[CV] max_features=4, min_samples_leaf=2, n_estimators=2500 ...........\n",
            "[CV]  max_features=4, min_samples_leaf=2, n_estimators=2500, total=  13.2s\n",
            "[CV] max_features=4, min_samples_leaf=2, n_estimators=2500 ...........\n",
            "[CV]  max_features=4, min_samples_leaf=2, n_estimators=2500, total=  13.1s\n",
            "[CV] max_features=4, min_samples_leaf=2, n_estimators=2500 ...........\n",
            "[CV]  max_features=4, min_samples_leaf=2, n_estimators=2500, total=  13.2s\n",
            "[CV] max_features=4, min_samples_leaf=5, n_estimators=500 ............\n",
            "[CV]  max_features=4, min_samples_leaf=5, n_estimators=500, total=   1.8s\n",
            "[CV] max_features=4, min_samples_leaf=5, n_estimators=500 ............\n",
            "[CV]  max_features=4, min_samples_leaf=5, n_estimators=500, total=   2.0s\n",
            "[CV] max_features=4, min_samples_leaf=5, n_estimators=500 ............\n",
            "[CV]  max_features=4, min_samples_leaf=5, n_estimators=500, total=   1.8s\n",
            "[CV] max_features=4, min_samples_leaf=5, n_estimators=1000 ...........\n",
            "[CV]  max_features=4, min_samples_leaf=5, n_estimators=1000, total=   3.7s\n",
            "[CV] max_features=4, min_samples_leaf=5, n_estimators=1000 ...........\n",
            "[CV]  max_features=4, min_samples_leaf=5, n_estimators=1000, total=   3.7s\n",
            "[CV] max_features=4, min_samples_leaf=5, n_estimators=1000 ...........\n",
            "[CV]  max_features=4, min_samples_leaf=5, n_estimators=1000, total=   3.7s\n",
            "[CV] max_features=4, min_samples_leaf=5, n_estimators=2000 ...........\n",
            "[CV]  max_features=4, min_samples_leaf=5, n_estimators=2000, total=   7.3s\n",
            "[CV] max_features=4, min_samples_leaf=5, n_estimators=2000 ...........\n",
            "[CV]  max_features=4, min_samples_leaf=5, n_estimators=2000, total=   7.3s\n",
            "[CV] max_features=4, min_samples_leaf=5, n_estimators=2000 ...........\n",
            "[CV]  max_features=4, min_samples_leaf=5, n_estimators=2000, total=   7.3s\n",
            "[CV] max_features=4, min_samples_leaf=5, n_estimators=2500 ...........\n",
            "[CV]  max_features=4, min_samples_leaf=5, n_estimators=2500, total=   9.2s\n",
            "[CV] max_features=4, min_samples_leaf=5, n_estimators=2500 ...........\n",
            "[CV]  max_features=4, min_samples_leaf=5, n_estimators=2500, total=   9.1s\n",
            "[CV] max_features=4, min_samples_leaf=5, n_estimators=2500 ...........\n",
            "[CV]  max_features=4, min_samples_leaf=5, n_estimators=2500, total=   9.2s\n"
          ],
          "name": "stdout"
        },
        {
          "output_type": "stream",
          "text": [
            "[Parallel(n_jobs=1)]: Done 108 out of 108 | elapsed: 12.8min finished\n"
          ],
          "name": "stderr"
        }
      ]
    },
    {
      "cell_type": "code",
      "metadata": {
        "id": "oNO00Jt78lMQ",
        "colab_type": "code",
        "colab": {
          "base_uri": "https://localhost:8080/",
          "height": 148
        },
        "outputId": "1bd5be12-7cf1-4d97-b797-273c13e5dbae"
      },
      "source": [
        "ETR_GS.best_estimator_"
      ],
      "execution_count": null,
      "outputs": [
        {
          "output_type": "execute_result",
          "data": {
            "text/plain": [
              "ExtraTreesRegressor(bootstrap=False, ccp_alpha=0.0, criterion='mse',\n",
              "                    max_depth=None, max_features=2, max_leaf_nodes=None,\n",
              "                    max_samples=None, min_impurity_decrease=0.0,\n",
              "                    min_impurity_split=None, min_samples_leaf=1,\n",
              "                    min_samples_split=2, min_weight_fraction_leaf=0.0,\n",
              "                    n_estimators=1000, n_jobs=None, oob_score=False,\n",
              "                    random_state=None, verbose=0, warm_start=False)"
            ]
          },
          "metadata": {
            "tags": []
          },
          "execution_count": 83
        }
      ]
    },
    {
      "cell_type": "code",
      "metadata": {
        "id": "_DfDheQ-8lRc",
        "colab_type": "code",
        "colab": {}
      },
      "source": [
        "Y_pred_ETR = ETR_GS.predict(X_test_scaled)"
      ],
      "execution_count": null,
      "outputs": []
    },
    {
      "cell_type": "code",
      "metadata": {
        "id": "JDry0xJI8uMs",
        "colab_type": "code",
        "colab": {
          "base_uri": "https://localhost:8080/",
          "height": 130
        },
        "outputId": "6021cc45-90fb-4e52-9bb0-5fb7bc88253a"
      },
      "source": [
        "consolidator(ETR_GS,'ETR_Scaled',X_train_scaled,Y_train,X_test_scaled,Y_test,Y_pred_ETR)"
      ],
      "execution_count": null,
      "outputs": [
        {
          "output_type": "stream",
          "text": [
            "ETR_Scaled Model:-\n",
            "R^2 Score:  0.9991580733312521\n",
            "Test R^2 Score:  0.97531379974623\n",
            "Mean Absolute Error : 1.9359866474792808\n",
            "Mean Squared Error : 7.092718899138921\n",
            "Root Mean Squared Error : 2.663215894203645\n"
          ],
          "name": "stdout"
        }
      ]
    },
    {
      "cell_type": "markdown",
      "metadata": {
        "id": "8_jS_MTfBGAR",
        "colab_type": "text"
      },
      "source": [
        "# Extra Trees Regressor Norm"
      ]
    },
    {
      "cell_type": "code",
      "metadata": {
        "id": "gM05DiBYBJxp",
        "colab_type": "code",
        "colab": {
          "base_uri": "https://localhost:8080/",
          "height": 1000
        },
        "outputId": "14949ede-fbd9-4e35-a646-2b26e3d6ee9e"
      },
      "source": [
        "ETR = ExtraTreesRegressor()\n",
        "param_grid = {'n_estimators': [500,1000,2000,2500],\n",
        "              'max_features': [2,3,4],\n",
        "              'min_samples_leaf': [1,2,5]}\n",
        "\n",
        "grid_search = GridSearchCV(estimator = ETR, param_grid = param_grid,cv=3,verbose=2)\n",
        "ETR_GS = grid_search.fit(X_train_norm, Y_train)"
      ],
      "execution_count": null,
      "outputs": [
        {
          "output_type": "stream",
          "text": [
            "Fitting 3 folds for each of 36 candidates, totalling 108 fits\n",
            "[CV] max_features=2, min_samples_leaf=1, n_estimators=500 ............\n"
          ],
          "name": "stdout"
        },
        {
          "output_type": "stream",
          "text": [
            "[Parallel(n_jobs=1)]: Using backend SequentialBackend with 1 concurrent workers.\n"
          ],
          "name": "stderr"
        },
        {
          "output_type": "stream",
          "text": [
            "[CV]  max_features=2, min_samples_leaf=1, n_estimators=500, total=   2.9s\n",
            "[CV] max_features=2, min_samples_leaf=1, n_estimators=500 ............\n"
          ],
          "name": "stdout"
        },
        {
          "output_type": "stream",
          "text": [
            "[Parallel(n_jobs=1)]: Done   1 out of   1 | elapsed:    2.9s remaining:    0.0s\n"
          ],
          "name": "stderr"
        },
        {
          "output_type": "stream",
          "text": [
            "[CV]  max_features=2, min_samples_leaf=1, n_estimators=500, total=   2.8s\n",
            "[CV] max_features=2, min_samples_leaf=1, n_estimators=500 ............\n",
            "[CV]  max_features=2, min_samples_leaf=1, n_estimators=500, total=   2.8s\n",
            "[CV] max_features=2, min_samples_leaf=1, n_estimators=1000 ...........\n",
            "[CV]  max_features=2, min_samples_leaf=1, n_estimators=1000, total=   5.6s\n",
            "[CV] max_features=2, min_samples_leaf=1, n_estimators=1000 ...........\n",
            "[CV]  max_features=2, min_samples_leaf=1, n_estimators=1000, total=   5.5s\n",
            "[CV] max_features=2, min_samples_leaf=1, n_estimators=1000 ...........\n",
            "[CV]  max_features=2, min_samples_leaf=1, n_estimators=1000, total=   5.5s\n",
            "[CV] max_features=2, min_samples_leaf=1, n_estimators=2000 ...........\n",
            "[CV]  max_features=2, min_samples_leaf=1, n_estimators=2000, total=  11.4s\n",
            "[CV] max_features=2, min_samples_leaf=1, n_estimators=2000 ...........\n",
            "[CV]  max_features=2, min_samples_leaf=1, n_estimators=2000, total=  11.1s\n",
            "[CV] max_features=2, min_samples_leaf=1, n_estimators=2000 ...........\n",
            "[CV]  max_features=2, min_samples_leaf=1, n_estimators=2000, total=  11.1s\n",
            "[CV] max_features=2, min_samples_leaf=1, n_estimators=2500 ...........\n",
            "[CV]  max_features=2, min_samples_leaf=1, n_estimators=2500, total=  13.9s\n",
            "[CV] max_features=2, min_samples_leaf=1, n_estimators=2500 ...........\n",
            "[CV]  max_features=2, min_samples_leaf=1, n_estimators=2500, total=  13.5s\n",
            "[CV] max_features=2, min_samples_leaf=1, n_estimators=2500 ...........\n",
            "[CV]  max_features=2, min_samples_leaf=1, n_estimators=2500, total=  13.9s\n",
            "[CV] max_features=2, min_samples_leaf=2, n_estimators=500 ............\n",
            "[CV]  max_features=2, min_samples_leaf=2, n_estimators=500, total=   1.9s\n",
            "[CV] max_features=2, min_samples_leaf=2, n_estimators=500 ............\n",
            "[CV]  max_features=2, min_samples_leaf=2, n_estimators=500, total=   1.8s\n",
            "[CV] max_features=2, min_samples_leaf=2, n_estimators=500 ............\n",
            "[CV]  max_features=2, min_samples_leaf=2, n_estimators=500, total=   1.8s\n",
            "[CV] max_features=2, min_samples_leaf=2, n_estimators=1000 ...........\n",
            "[CV]  max_features=2, min_samples_leaf=2, n_estimators=1000, total=   3.7s\n",
            "[CV] max_features=2, min_samples_leaf=2, n_estimators=1000 ...........\n",
            "[CV]  max_features=2, min_samples_leaf=2, n_estimators=1000, total=   3.6s\n",
            "[CV] max_features=2, min_samples_leaf=2, n_estimators=1000 ...........\n",
            "[CV]  max_features=2, min_samples_leaf=2, n_estimators=1000, total=   3.7s\n",
            "[CV] max_features=2, min_samples_leaf=2, n_estimators=2000 ...........\n",
            "[CV]  max_features=2, min_samples_leaf=2, n_estimators=2000, total=   7.4s\n",
            "[CV] max_features=2, min_samples_leaf=2, n_estimators=2000 ...........\n",
            "[CV]  max_features=2, min_samples_leaf=2, n_estimators=2000, total=   7.4s\n",
            "[CV] max_features=2, min_samples_leaf=2, n_estimators=2000 ...........\n",
            "[CV]  max_features=2, min_samples_leaf=2, n_estimators=2000, total=   7.3s\n",
            "[CV] max_features=2, min_samples_leaf=2, n_estimators=2500 ...........\n",
            "[CV]  max_features=2, min_samples_leaf=2, n_estimators=2500, total=   9.2s\n",
            "[CV] max_features=2, min_samples_leaf=2, n_estimators=2500 ...........\n",
            "[CV]  max_features=2, min_samples_leaf=2, n_estimators=2500, total=   9.2s\n",
            "[CV] max_features=2, min_samples_leaf=2, n_estimators=2500 ...........\n",
            "[CV]  max_features=2, min_samples_leaf=2, n_estimators=2500, total=   9.5s\n",
            "[CV] max_features=2, min_samples_leaf=5, n_estimators=500 ............\n",
            "[CV]  max_features=2, min_samples_leaf=5, n_estimators=500, total=   1.3s\n",
            "[CV] max_features=2, min_samples_leaf=5, n_estimators=500 ............\n",
            "[CV]  max_features=2, min_samples_leaf=5, n_estimators=500, total=   1.2s\n",
            "[CV] max_features=2, min_samples_leaf=5, n_estimators=500 ............\n",
            "[CV]  max_features=2, min_samples_leaf=5, n_estimators=500, total=   1.3s\n",
            "[CV] max_features=2, min_samples_leaf=5, n_estimators=1000 ...........\n",
            "[CV]  max_features=2, min_samples_leaf=5, n_estimators=1000, total=   2.6s\n",
            "[CV] max_features=2, min_samples_leaf=5, n_estimators=1000 ...........\n",
            "[CV]  max_features=2, min_samples_leaf=5, n_estimators=1000, total=   2.5s\n",
            "[CV] max_features=2, min_samples_leaf=5, n_estimators=1000 ...........\n",
            "[CV]  max_features=2, min_samples_leaf=5, n_estimators=1000, total=   2.5s\n",
            "[CV] max_features=2, min_samples_leaf=5, n_estimators=2000 ...........\n",
            "[CV]  max_features=2, min_samples_leaf=5, n_estimators=2000, total=   5.0s\n",
            "[CV] max_features=2, min_samples_leaf=5, n_estimators=2000 ...........\n",
            "[CV]  max_features=2, min_samples_leaf=5, n_estimators=2000, total=   4.9s\n",
            "[CV] max_features=2, min_samples_leaf=5, n_estimators=2000 ...........\n",
            "[CV]  max_features=2, min_samples_leaf=5, n_estimators=2000, total=   4.9s\n",
            "[CV] max_features=2, min_samples_leaf=5, n_estimators=2500 ...........\n",
            "[CV]  max_features=2, min_samples_leaf=5, n_estimators=2500, total=   6.2s\n",
            "[CV] max_features=2, min_samples_leaf=5, n_estimators=2500 ...........\n",
            "[CV]  max_features=2, min_samples_leaf=5, n_estimators=2500, total=   6.3s\n",
            "[CV] max_features=2, min_samples_leaf=5, n_estimators=2500 ...........\n",
            "[CV]  max_features=2, min_samples_leaf=5, n_estimators=2500, total=   6.2s\n",
            "[CV] max_features=3, min_samples_leaf=1, n_estimators=500 ............\n",
            "[CV]  max_features=3, min_samples_leaf=1, n_estimators=500, total=   3.3s\n",
            "[CV] max_features=3, min_samples_leaf=1, n_estimators=500 ............\n",
            "[CV]  max_features=3, min_samples_leaf=1, n_estimators=500, total=   3.3s\n",
            "[CV] max_features=3, min_samples_leaf=1, n_estimators=500 ............\n",
            "[CV]  max_features=3, min_samples_leaf=1, n_estimators=500, total=   3.3s\n",
            "[CV] max_features=3, min_samples_leaf=1, n_estimators=1000 ...........\n",
            "[CV]  max_features=3, min_samples_leaf=1, n_estimators=1000, total=   6.4s\n",
            "[CV] max_features=3, min_samples_leaf=1, n_estimators=1000 ...........\n",
            "[CV]  max_features=3, min_samples_leaf=1, n_estimators=1000, total=   6.4s\n",
            "[CV] max_features=3, min_samples_leaf=1, n_estimators=1000 ...........\n",
            "[CV]  max_features=3, min_samples_leaf=1, n_estimators=1000, total=   6.5s\n",
            "[CV] max_features=3, min_samples_leaf=1, n_estimators=2000 ...........\n",
            "[CV]  max_features=3, min_samples_leaf=1, n_estimators=2000, total=  12.9s\n",
            "[CV] max_features=3, min_samples_leaf=1, n_estimators=2000 ...........\n",
            "[CV]  max_features=3, min_samples_leaf=1, n_estimators=2000, total=  12.7s\n",
            "[CV] max_features=3, min_samples_leaf=1, n_estimators=2000 ...........\n",
            "[CV]  max_features=3, min_samples_leaf=1, n_estimators=2000, total=  13.0s\n",
            "[CV] max_features=3, min_samples_leaf=1, n_estimators=2500 ...........\n",
            "[CV]  max_features=3, min_samples_leaf=1, n_estimators=2500, total=  16.3s\n",
            "[CV] max_features=3, min_samples_leaf=1, n_estimators=2500 ...........\n",
            "[CV]  max_features=3, min_samples_leaf=1, n_estimators=2500, total=  16.3s\n",
            "[CV] max_features=3, min_samples_leaf=1, n_estimators=2500 ...........\n",
            "[CV]  max_features=3, min_samples_leaf=1, n_estimators=2500, total=  16.3s\n",
            "[CV] max_features=3, min_samples_leaf=2, n_estimators=500 ............\n",
            "[CV]  max_features=3, min_samples_leaf=2, n_estimators=500, total=   2.3s\n",
            "[CV] max_features=3, min_samples_leaf=2, n_estimators=500 ............\n",
            "[CV]  max_features=3, min_samples_leaf=2, n_estimators=500, total=   2.3s\n",
            "[CV] max_features=3, min_samples_leaf=2, n_estimators=500 ............\n",
            "[CV]  max_features=3, min_samples_leaf=2, n_estimators=500, total=   2.3s\n",
            "[CV] max_features=3, min_samples_leaf=2, n_estimators=1000 ...........\n",
            "[CV]  max_features=3, min_samples_leaf=2, n_estimators=1000, total=   4.6s\n",
            "[CV] max_features=3, min_samples_leaf=2, n_estimators=1000 ...........\n",
            "[CV]  max_features=3, min_samples_leaf=2, n_estimators=1000, total=   4.6s\n",
            "[CV] max_features=3, min_samples_leaf=2, n_estimators=1000 ...........\n",
            "[CV]  max_features=3, min_samples_leaf=2, n_estimators=1000, total=   4.7s\n",
            "[CV] max_features=3, min_samples_leaf=2, n_estimators=2000 ...........\n",
            "[CV]  max_features=3, min_samples_leaf=2, n_estimators=2000, total=   9.4s\n",
            "[CV] max_features=3, min_samples_leaf=2, n_estimators=2000 ...........\n",
            "[CV]  max_features=3, min_samples_leaf=2, n_estimators=2000, total=   9.3s\n",
            "[CV] max_features=3, min_samples_leaf=2, n_estimators=2000 ...........\n",
            "[CV]  max_features=3, min_samples_leaf=2, n_estimators=2000, total=   9.1s\n",
            "[CV] max_features=3, min_samples_leaf=2, n_estimators=2500 ...........\n",
            "[CV]  max_features=3, min_samples_leaf=2, n_estimators=2500, total=  11.6s\n",
            "[CV] max_features=3, min_samples_leaf=2, n_estimators=2500 ...........\n",
            "[CV]  max_features=3, min_samples_leaf=2, n_estimators=2500, total=  11.5s\n",
            "[CV] max_features=3, min_samples_leaf=2, n_estimators=2500 ...........\n",
            "[CV]  max_features=3, min_samples_leaf=2, n_estimators=2500, total=  11.5s\n",
            "[CV] max_features=3, min_samples_leaf=5, n_estimators=500 ............\n",
            "[CV]  max_features=3, min_samples_leaf=5, n_estimators=500, total=   1.6s\n",
            "[CV] max_features=3, min_samples_leaf=5, n_estimators=500 ............\n",
            "[CV]  max_features=3, min_samples_leaf=5, n_estimators=500, total=   1.6s\n",
            "[CV] max_features=3, min_samples_leaf=5, n_estimators=500 ............\n",
            "[CV]  max_features=3, min_samples_leaf=5, n_estimators=500, total=   1.6s\n",
            "[CV] max_features=3, min_samples_leaf=5, n_estimators=1000 ...........\n",
            "[CV]  max_features=3, min_samples_leaf=5, n_estimators=1000, total=   3.2s\n",
            "[CV] max_features=3, min_samples_leaf=5, n_estimators=1000 ...........\n",
            "[CV]  max_features=3, min_samples_leaf=5, n_estimators=1000, total=   3.1s\n",
            "[CV] max_features=3, min_samples_leaf=5, n_estimators=1000 ...........\n",
            "[CV]  max_features=3, min_samples_leaf=5, n_estimators=1000, total=   3.2s\n",
            "[CV] max_features=3, min_samples_leaf=5, n_estimators=2000 ...........\n",
            "[CV]  max_features=3, min_samples_leaf=5, n_estimators=2000, total=   6.3s\n",
            "[CV] max_features=3, min_samples_leaf=5, n_estimators=2000 ...........\n",
            "[CV]  max_features=3, min_samples_leaf=5, n_estimators=2000, total=   7.2s\n",
            "[CV] max_features=3, min_samples_leaf=5, n_estimators=2000 ...........\n",
            "[CV]  max_features=3, min_samples_leaf=5, n_estimators=2000, total=   6.9s\n",
            "[CV] max_features=3, min_samples_leaf=5, n_estimators=2500 ...........\n",
            "[CV]  max_features=3, min_samples_leaf=5, n_estimators=2500, total=   7.9s\n",
            "[CV] max_features=3, min_samples_leaf=5, n_estimators=2500 ...........\n",
            "[CV]  max_features=3, min_samples_leaf=5, n_estimators=2500, total=   7.9s\n",
            "[CV] max_features=3, min_samples_leaf=5, n_estimators=2500 ...........\n",
            "[CV]  max_features=3, min_samples_leaf=5, n_estimators=2500, total=   7.9s\n",
            "[CV] max_features=4, min_samples_leaf=1, n_estimators=500 ............\n",
            "[CV]  max_features=4, min_samples_leaf=1, n_estimators=500, total=   3.7s\n",
            "[CV] max_features=4, min_samples_leaf=1, n_estimators=500 ............\n",
            "[CV]  max_features=4, min_samples_leaf=1, n_estimators=500, total=   3.8s\n",
            "[CV] max_features=4, min_samples_leaf=1, n_estimators=500 ............\n",
            "[CV]  max_features=4, min_samples_leaf=1, n_estimators=500, total=   3.8s\n",
            "[CV] max_features=4, min_samples_leaf=1, n_estimators=1000 ...........\n",
            "[CV]  max_features=4, min_samples_leaf=1, n_estimators=1000, total=   7.4s\n",
            "[CV] max_features=4, min_samples_leaf=1, n_estimators=1000 ...........\n",
            "[CV]  max_features=4, min_samples_leaf=1, n_estimators=1000, total=   7.3s\n",
            "[CV] max_features=4, min_samples_leaf=1, n_estimators=1000 ...........\n",
            "[CV]  max_features=4, min_samples_leaf=1, n_estimators=1000, total=   7.4s\n",
            "[CV] max_features=4, min_samples_leaf=1, n_estimators=2000 ...........\n",
            "[CV]  max_features=4, min_samples_leaf=1, n_estimators=2000, total=  14.8s\n",
            "[CV] max_features=4, min_samples_leaf=1, n_estimators=2000 ...........\n",
            "[CV]  max_features=4, min_samples_leaf=1, n_estimators=2000, total=  14.8s\n",
            "[CV] max_features=4, min_samples_leaf=1, n_estimators=2000 ...........\n",
            "[CV]  max_features=4, min_samples_leaf=1, n_estimators=2000, total=  14.7s\n",
            "[CV] max_features=4, min_samples_leaf=1, n_estimators=2500 ...........\n",
            "[CV]  max_features=4, min_samples_leaf=1, n_estimators=2500, total=  18.3s\n",
            "[CV] max_features=4, min_samples_leaf=1, n_estimators=2500 ...........\n",
            "[CV]  max_features=4, min_samples_leaf=1, n_estimators=2500, total=  18.4s\n",
            "[CV] max_features=4, min_samples_leaf=1, n_estimators=2500 ...........\n",
            "[CV]  max_features=4, min_samples_leaf=1, n_estimators=2500, total=  18.2s\n",
            "[CV] max_features=4, min_samples_leaf=2, n_estimators=500 ............\n",
            "[CV]  max_features=4, min_samples_leaf=2, n_estimators=500, total=   2.7s\n",
            "[CV] max_features=4, min_samples_leaf=2, n_estimators=500 ............\n",
            "[CV]  max_features=4, min_samples_leaf=2, n_estimators=500, total=   2.7s\n",
            "[CV] max_features=4, min_samples_leaf=2, n_estimators=500 ............\n",
            "[CV]  max_features=4, min_samples_leaf=2, n_estimators=500, total=   2.7s\n",
            "[CV] max_features=4, min_samples_leaf=2, n_estimators=1000 ...........\n",
            "[CV]  max_features=4, min_samples_leaf=2, n_estimators=1000, total=   5.3s\n",
            "[CV] max_features=4, min_samples_leaf=2, n_estimators=1000 ...........\n",
            "[CV]  max_features=4, min_samples_leaf=2, n_estimators=1000, total=   5.3s\n",
            "[CV] max_features=4, min_samples_leaf=2, n_estimators=1000 ...........\n",
            "[CV]  max_features=4, min_samples_leaf=2, n_estimators=1000, total=   5.3s\n",
            "[CV] max_features=4, min_samples_leaf=2, n_estimators=2000 ...........\n",
            "[CV]  max_features=4, min_samples_leaf=2, n_estimators=2000, total=  10.7s\n",
            "[CV] max_features=4, min_samples_leaf=2, n_estimators=2000 ...........\n",
            "[CV]  max_features=4, min_samples_leaf=2, n_estimators=2000, total=  10.6s\n",
            "[CV] max_features=4, min_samples_leaf=2, n_estimators=2000 ...........\n",
            "[CV]  max_features=4, min_samples_leaf=2, n_estimators=2000, total=  10.6s\n",
            "[CV] max_features=4, min_samples_leaf=2, n_estimators=2500 ...........\n",
            "[CV]  max_features=4, min_samples_leaf=2, n_estimators=2500, total=  13.4s\n",
            "[CV] max_features=4, min_samples_leaf=2, n_estimators=2500 ...........\n",
            "[CV]  max_features=4, min_samples_leaf=2, n_estimators=2500, total=  13.3s\n",
            "[CV] max_features=4, min_samples_leaf=2, n_estimators=2500 ...........\n",
            "[CV]  max_features=4, min_samples_leaf=2, n_estimators=2500, total=  13.2s\n",
            "[CV] max_features=4, min_samples_leaf=5, n_estimators=500 ............\n",
            "[CV]  max_features=4, min_samples_leaf=5, n_estimators=500, total=   1.8s\n",
            "[CV] max_features=4, min_samples_leaf=5, n_estimators=500 ............\n",
            "[CV]  max_features=4, min_samples_leaf=5, n_estimators=500, total=   1.8s\n",
            "[CV] max_features=4, min_samples_leaf=5, n_estimators=500 ............\n",
            "[CV]  max_features=4, min_samples_leaf=5, n_estimators=500, total=   1.8s\n",
            "[CV] max_features=4, min_samples_leaf=5, n_estimators=1000 ...........\n",
            "[CV]  max_features=4, min_samples_leaf=5, n_estimators=1000, total=   3.7s\n",
            "[CV] max_features=4, min_samples_leaf=5, n_estimators=1000 ...........\n",
            "[CV]  max_features=4, min_samples_leaf=5, n_estimators=1000, total=   3.6s\n",
            "[CV] max_features=4, min_samples_leaf=5, n_estimators=1000 ...........\n",
            "[CV]  max_features=4, min_samples_leaf=5, n_estimators=1000, total=   3.7s\n",
            "[CV] max_features=4, min_samples_leaf=5, n_estimators=2000 ...........\n",
            "[CV]  max_features=4, min_samples_leaf=5, n_estimators=2000, total=   7.4s\n",
            "[CV] max_features=4, min_samples_leaf=5, n_estimators=2000 ...........\n",
            "[CV]  max_features=4, min_samples_leaf=5, n_estimators=2000, total=   7.3s\n",
            "[CV] max_features=4, min_samples_leaf=5, n_estimators=2000 ...........\n",
            "[CV]  max_features=4, min_samples_leaf=5, n_estimators=2000, total=   7.3s\n",
            "[CV] max_features=4, min_samples_leaf=5, n_estimators=2500 ...........\n",
            "[CV]  max_features=4, min_samples_leaf=5, n_estimators=2500, total=   9.2s\n",
            "[CV] max_features=4, min_samples_leaf=5, n_estimators=2500 ...........\n",
            "[CV]  max_features=4, min_samples_leaf=5, n_estimators=2500, total=   9.3s\n",
            "[CV] max_features=4, min_samples_leaf=5, n_estimators=2500 ...........\n",
            "[CV]  max_features=4, min_samples_leaf=5, n_estimators=2500, total=   9.1s\n"
          ],
          "name": "stdout"
        },
        {
          "output_type": "stream",
          "text": [
            "[Parallel(n_jobs=1)]: Done 108 out of 108 | elapsed: 12.9min finished\n"
          ],
          "name": "stderr"
        }
      ]
    },
    {
      "cell_type": "code",
      "metadata": {
        "id": "h4uE2Qx5BLYD",
        "colab_type": "code",
        "colab": {
          "base_uri": "https://localhost:8080/",
          "height": 148
        },
        "outputId": "1c28458f-c8bd-42d7-aa65-d4a81ad7f086"
      },
      "source": [
        "ETR_GS.best_estimator_"
      ],
      "execution_count": null,
      "outputs": [
        {
          "output_type": "execute_result",
          "data": {
            "text/plain": [
              "ExtraTreesRegressor(bootstrap=False, ccp_alpha=0.0, criterion='mse',\n",
              "                    max_depth=None, max_features=2, max_leaf_nodes=None,\n",
              "                    max_samples=None, min_impurity_decrease=0.0,\n",
              "                    min_impurity_split=None, min_samples_leaf=1,\n",
              "                    min_samples_split=2, min_weight_fraction_leaf=0.0,\n",
              "                    n_estimators=2000, n_jobs=None, oob_score=False,\n",
              "                    random_state=None, verbose=0, warm_start=False)"
            ]
          },
          "metadata": {
            "tags": []
          },
          "execution_count": 87
        }
      ]
    },
    {
      "cell_type": "code",
      "metadata": {
        "id": "gumySnL-BMgY",
        "colab_type": "code",
        "colab": {}
      },
      "source": [
        "Y_pred_ETR = ETR_GS.predict(X_test_norm)"
      ],
      "execution_count": null,
      "outputs": []
    },
    {
      "cell_type": "code",
      "metadata": {
        "id": "7XC0H4YzBNkd",
        "colab_type": "code",
        "colab": {
          "base_uri": "https://localhost:8080/",
          "height": 130
        },
        "outputId": "b23f3818-3c2f-465c-ad3e-ca07cd7c1264"
      },
      "source": [
        "consolidator(ETR_GS,'ETR_norm',X_train_norm,Y_train,X_test_norm,Y_test,Y_pred_ETR)"
      ],
      "execution_count": null,
      "outputs": [
        {
          "output_type": "stream",
          "text": [
            "ETR_norm Model:-\n",
            "R^2 Score:  0.9991580733249364\n",
            "Test R^2 Score:  0.9677609227702428\n",
            "Mean Absolute Error : 2.1849811319397325\n",
            "Mean Squared Error : 9.262774748956248\n",
            "Root Mean Squared Error : 3.0434806963337633\n"
          ],
          "name": "stdout"
        }
      ]
    },
    {
      "cell_type": "markdown",
      "metadata": {
        "id": "5c1yX0yR83lH",
        "colab_type": "text"
      },
      "source": [
        "# Visualizing Predictions"
      ]
    },
    {
      "cell_type": "code",
      "metadata": {
        "id": "xKZv7NZ883Q6",
        "colab_type": "code",
        "colab": {}
      },
      "source": [
        "predictions['Actual']=Y_test.values"
      ],
      "execution_count": null,
      "outputs": []
    },
    {
      "cell_type": "code",
      "metadata": {
        "id": "gD9CkNUs88dt",
        "colab_type": "code",
        "colab": {
          "base_uri": "https://localhost:8080/",
          "height": 383
        },
        "outputId": "a2539b62-c0ea-4e28-d603-5c81f154fbda"
      },
      "source": [
        "predictions.head(10)"
      ],
      "execution_count": null,
      "outputs": [
        {
          "output_type": "execute_result",
          "data": {
            "text/html": [
              "<div>\n",
              "<style scoped>\n",
              "    .dataframe tbody tr th:only-of-type {\n",
              "        vertical-align: middle;\n",
              "    }\n",
              "\n",
              "    .dataframe tbody tr th {\n",
              "        vertical-align: top;\n",
              "    }\n",
              "\n",
              "    .dataframe thead th {\n",
              "        text-align: right;\n",
              "    }\n",
              "</style>\n",
              "<table border=\"1\" class=\"dataframe\">\n",
              "  <thead>\n",
              "    <tr style=\"text-align: right;\">\n",
              "      <th></th>\n",
              "      <th>LR_Orignial</th>\n",
              "      <th>LR_Scaled</th>\n",
              "      <th>LR_Norm</th>\n",
              "      <th>XGBR_Original</th>\n",
              "      <th>XGBR_scaled</th>\n",
              "      <th>XGBR_norm</th>\n",
              "      <th>AdaR_Original</th>\n",
              "      <th>AdaR_scaled</th>\n",
              "      <th>AdaR_norm</th>\n",
              "      <th>GBR_original</th>\n",
              "      <th>GBR_scaled</th>\n",
              "      <th>GBR_norm</th>\n",
              "      <th>RFR_Original</th>\n",
              "      <th>RFR_scaled</th>\n",
              "      <th>RFR_norm</th>\n",
              "      <th>ETR_Original</th>\n",
              "      <th>ETR_Scaled</th>\n",
              "      <th>ETR_norm</th>\n",
              "      <th>Actual</th>\n",
              "    </tr>\n",
              "  </thead>\n",
              "  <tbody>\n",
              "    <tr>\n",
              "      <th>0</th>\n",
              "      <td>458.664476</td>\n",
              "      <td>458.664476</td>\n",
              "      <td>458.074095</td>\n",
              "      <td>453.634338</td>\n",
              "      <td>453.634338</td>\n",
              "      <td>459.400085</td>\n",
              "      <td>456.178663</td>\n",
              "      <td>456.245425</td>\n",
              "      <td>456.048586</td>\n",
              "      <td>453.633597</td>\n",
              "      <td>454.718165</td>\n",
              "      <td>457.577612</td>\n",
              "      <td>455.585645</td>\n",
              "      <td>455.594045</td>\n",
              "      <td>456.760147</td>\n",
              "      <td>456.048120</td>\n",
              "      <td>456.252853</td>\n",
              "      <td>456.806429</td>\n",
              "      <td>455.564604</td>\n",
              "    </tr>\n",
              "    <tr>\n",
              "      <th>1</th>\n",
              "      <td>487.196238</td>\n",
              "      <td>487.196238</td>\n",
              "      <td>487.505236</td>\n",
              "      <td>491.049164</td>\n",
              "      <td>491.049164</td>\n",
              "      <td>491.392273</td>\n",
              "      <td>488.278679</td>\n",
              "      <td>488.275196</td>\n",
              "      <td>488.316849</td>\n",
              "      <td>491.584857</td>\n",
              "      <td>491.013281</td>\n",
              "      <td>491.003909</td>\n",
              "      <td>490.836838</td>\n",
              "      <td>490.874537</td>\n",
              "      <td>490.934090</td>\n",
              "      <td>490.791576</td>\n",
              "      <td>490.912153</td>\n",
              "      <td>491.638247</td>\n",
              "      <td>491.414973</td>\n",
              "    </tr>\n",
              "    <tr>\n",
              "      <th>2</th>\n",
              "      <td>454.886296</td>\n",
              "      <td>454.886296</td>\n",
              "      <td>454.738253</td>\n",
              "      <td>455.990753</td>\n",
              "      <td>455.990753</td>\n",
              "      <td>453.489441</td>\n",
              "      <td>455.886866</td>\n",
              "      <td>455.952372</td>\n",
              "      <td>455.886737</td>\n",
              "      <td>459.128680</td>\n",
              "      <td>456.402321</td>\n",
              "      <td>453.582490</td>\n",
              "      <td>451.764319</td>\n",
              "      <td>451.650436</td>\n",
              "      <td>452.452416</td>\n",
              "      <td>453.095152</td>\n",
              "      <td>453.157057</td>\n",
              "      <td>452.977845</td>\n",
              "      <td>460.555510</td>\n",
              "    </tr>\n",
              "    <tr>\n",
              "      <th>3</th>\n",
              "      <td>475.272030</td>\n",
              "      <td>475.272030</td>\n",
              "      <td>474.886540</td>\n",
              "      <td>466.891907</td>\n",
              "      <td>466.891907</td>\n",
              "      <td>470.432892</td>\n",
              "      <td>475.664250</td>\n",
              "      <td>475.779796</td>\n",
              "      <td>476.214715</td>\n",
              "      <td>468.308858</td>\n",
              "      <td>467.983954</td>\n",
              "      <td>470.276315</td>\n",
              "      <td>466.061144</td>\n",
              "      <td>466.453063</td>\n",
              "      <td>468.153839</td>\n",
              "      <td>465.616181</td>\n",
              "      <td>465.595500</td>\n",
              "      <td>467.759756</td>\n",
              "      <td>465.709198</td>\n",
              "    </tr>\n",
              "    <tr>\n",
              "      <th>4</th>\n",
              "      <td>468.951430</td>\n",
              "      <td>468.951430</td>\n",
              "      <td>468.636264</td>\n",
              "      <td>468.694702</td>\n",
              "      <td>468.694702</td>\n",
              "      <td>469.103394</td>\n",
              "      <td>465.890464</td>\n",
              "      <td>465.900422</td>\n",
              "      <td>465.246618</td>\n",
              "      <td>466.323922</td>\n",
              "      <td>466.845794</td>\n",
              "      <td>468.263783</td>\n",
              "      <td>468.948706</td>\n",
              "      <td>469.006865</td>\n",
              "      <td>470.336921</td>\n",
              "      <td>471.903960</td>\n",
              "      <td>471.903960</td>\n",
              "      <td>471.903960</td>\n",
              "      <td>475.026456</td>\n",
              "    </tr>\n",
              "    <tr>\n",
              "      <th>5</th>\n",
              "      <td>473.884923</td>\n",
              "      <td>473.884923</td>\n",
              "      <td>473.021428</td>\n",
              "      <td>472.072601</td>\n",
              "      <td>472.072601</td>\n",
              "      <td>472.918762</td>\n",
              "      <td>468.982172</td>\n",
              "      <td>468.902660</td>\n",
              "      <td>469.448080</td>\n",
              "      <td>472.705153</td>\n",
              "      <td>473.408521</td>\n",
              "      <td>472.692834</td>\n",
              "      <td>471.879518</td>\n",
              "      <td>471.856428</td>\n",
              "      <td>472.574592</td>\n",
              "      <td>471.803784</td>\n",
              "      <td>471.632150</td>\n",
              "      <td>472.668926</td>\n",
              "      <td>470.884984</td>\n",
              "    </tr>\n",
              "    <tr>\n",
              "      <th>6</th>\n",
              "      <td>480.793025</td>\n",
              "      <td>480.793025</td>\n",
              "      <td>480.501177</td>\n",
              "      <td>468.989288</td>\n",
              "      <td>468.989288</td>\n",
              "      <td>471.429962</td>\n",
              "      <td>476.069231</td>\n",
              "      <td>476.045341</td>\n",
              "      <td>476.568769</td>\n",
              "      <td>470.421059</td>\n",
              "      <td>470.151285</td>\n",
              "      <td>474.911580</td>\n",
              "      <td>470.928461</td>\n",
              "      <td>470.862316</td>\n",
              "      <td>471.931174</td>\n",
              "      <td>469.209156</td>\n",
              "      <td>469.209156</td>\n",
              "      <td>469.209156</td>\n",
              "      <td>469.783541</td>\n",
              "    </tr>\n",
              "    <tr>\n",
              "      <th>7</th>\n",
              "      <td>451.283537</td>\n",
              "      <td>451.283537</td>\n",
              "      <td>451.326781</td>\n",
              "      <td>450.086212</td>\n",
              "      <td>450.086212</td>\n",
              "      <td>451.060211</td>\n",
              "      <td>447.347773</td>\n",
              "      <td>447.306596</td>\n",
              "      <td>447.365906</td>\n",
              "      <td>449.807725</td>\n",
              "      <td>449.629757</td>\n",
              "      <td>450.590787</td>\n",
              "      <td>450.041540</td>\n",
              "      <td>450.122696</td>\n",
              "      <td>451.232456</td>\n",
              "      <td>452.011592</td>\n",
              "      <td>452.011592</td>\n",
              "      <td>452.011592</td>\n",
              "      <td>453.152554</td>\n",
              "    </tr>\n",
              "    <tr>\n",
              "      <th>8</th>\n",
              "      <td>439.236284</td>\n",
              "      <td>439.236284</td>\n",
              "      <td>439.591907</td>\n",
              "      <td>446.144592</td>\n",
              "      <td>446.144592</td>\n",
              "      <td>445.991882</td>\n",
              "      <td>447.204240</td>\n",
              "      <td>447.197013</td>\n",
              "      <td>447.215628</td>\n",
              "      <td>445.237838</td>\n",
              "      <td>445.551391</td>\n",
              "      <td>445.020070</td>\n",
              "      <td>445.817899</td>\n",
              "      <td>445.843663</td>\n",
              "      <td>445.790521</td>\n",
              "      <td>445.614229</td>\n",
              "      <td>445.526225</td>\n",
              "      <td>445.577733</td>\n",
              "      <td>444.700373</td>\n",
              "    </tr>\n",
              "    <tr>\n",
              "      <th>9</th>\n",
              "      <td>457.897237</td>\n",
              "      <td>457.897237</td>\n",
              "      <td>457.755105</td>\n",
              "      <td>457.402740</td>\n",
              "      <td>457.402740</td>\n",
              "      <td>456.668182</td>\n",
              "      <td>460.612547</td>\n",
              "      <td>460.642502</td>\n",
              "      <td>460.831814</td>\n",
              "      <td>457.585532</td>\n",
              "      <td>457.672292</td>\n",
              "      <td>453.128101</td>\n",
              "      <td>457.686778</td>\n",
              "      <td>457.535399</td>\n",
              "      <td>456.363774</td>\n",
              "      <td>457.141844</td>\n",
              "      <td>457.151244</td>\n",
              "      <td>456.624837</td>\n",
              "      <td>456.280901</td>\n",
              "    </tr>\n",
              "  </tbody>\n",
              "</table>\n",
              "</div>"
            ],
            "text/plain": [
              "   LR_Orignial   LR_Scaled     LR_Norm  ...  ETR_Scaled    ETR_norm      Actual\n",
              "0   458.664476  458.664476  458.074095  ...  456.252853  456.806429  455.564604\n",
              "1   487.196238  487.196238  487.505236  ...  490.912153  491.638247  491.414973\n",
              "2   454.886296  454.886296  454.738253  ...  453.157057  452.977845  460.555510\n",
              "3   475.272030  475.272030  474.886540  ...  465.595500  467.759756  465.709198\n",
              "4   468.951430  468.951430  468.636264  ...  471.903960  471.903960  475.026456\n",
              "5   473.884923  473.884923  473.021428  ...  471.632150  472.668926  470.884984\n",
              "6   480.793025  480.793025  480.501177  ...  469.209156  469.209156  469.783541\n",
              "7   451.283537  451.283537  451.326781  ...  452.011592  452.011592  453.152554\n",
              "8   439.236284  439.236284  439.591907  ...  445.526225  445.577733  444.700373\n",
              "9   457.897237  457.897237  457.755105  ...  457.151244  456.624837  456.280901\n",
              "\n",
              "[10 rows x 19 columns]"
            ]
          },
          "metadata": {
            "tags": []
          },
          "execution_count": 91
        }
      ]
    },
    {
      "cell_type": "code",
      "metadata": {
        "id": "RZjdmaap8_2L",
        "colab_type": "code",
        "colab": {
          "base_uri": "https://localhost:8080/",
          "height": 556
        },
        "outputId": "bf767dcc-dbf3-4646-db5a-fc22f7f02499"
      },
      "source": [
        "predictions.head(10).plot.line(figsize=(10,9))"
      ],
      "execution_count": null,
      "outputs": [
        {
          "output_type": "execute_result",
          "data": {
            "text/plain": [
              "<matplotlib.axes._subplots.AxesSubplot at 0x7feb7e767da0>"
            ]
          },
          "metadata": {
            "tags": []
          },
          "execution_count": 92
        },
        {
          "output_type": "display_data",
          "data": {
            "image/png": "[encoded data removed]",
            "text/plain": [
              "<Figure size 720x648 with 1 Axes>"
            ]
          },
          "metadata": {
            "tags": [],
            "needs_background": "light"
          }
        }
      ]
    },
    {
      "cell_type": "code",
      "metadata": {
        "id": "4817QZk49CG9",
        "colab_type": "code",
        "colab": {
          "base_uri": "https://localhost:8080/",
          "height": 614
        },
        "outputId": "3b03716e-0e2c-4218-b8a8-b1168d076b9d"
      },
      "source": [
        "Errors=pd.DataFrame()\n",
        "Errors['MeanAbsoluteError']=list(MeanAbsoluteError_dict.values())\n",
        "Errors['MeanSquaredError']=list(MeanSquaredError_dict.values())\n",
        "Errors['RootMeanSquaredError']=list(RootMeanSquaredError_dict.values())\n",
        "Errors['R2Score']=list(R2Score_dict.values())\n",
        "Errors['TestR2Score']=list(TestR2Score_dict.values())\n",
        "Errors.index = ['LR_Original','LR_Scaled','LR_Norm',\n",
        "                'XGB_Original','XGB_Scaled','XGB_Norm',\n",
        "                'AdaB_Original','AdaB_Scaled','AdaB_Norm',\n",
        "                'GBR_Original','GBR_Scaled','GBR_Norm',\n",
        "                'RFR_Original','RFR_Scaled','RFR_Norm',\n",
        "                'ETR_Original','ETR_Scaled','ETR_Norm']\n",
        "Errors"
      ],
      "execution_count": null,
      "outputs": [
        {
          "output_type": "execute_result",
          "data": {
            "text/html": [
              "<div>\n",
              "<style scoped>\n",
              "    .dataframe tbody tr th:only-of-type {\n",
              "        vertical-align: middle;\n",
              "    }\n",
              "\n",
              "    .dataframe tbody tr th {\n",
              "        vertical-align: top;\n",
              "    }\n",
              "\n",
              "    .dataframe thead th {\n",
              "        text-align: right;\n",
              "    }\n",
              "</style>\n",
              "<table border=\"1\" class=\"dataframe\">\n",
              "  <thead>\n",
              "    <tr style=\"text-align: right;\">\n",
              "      <th></th>\n",
              "      <th>MeanAbsoluteError</th>\n",
              "      <th>MeanSquaredError</th>\n",
              "      <th>RootMeanSquaredError</th>\n",
              "      <th>R2Score</th>\n",
              "      <th>TestR2Score</th>\n",
              "    </tr>\n",
              "  </thead>\n",
              "  <tbody>\n",
              "    <tr>\n",
              "      <th>LR_Original</th>\n",
              "      <td>3.692172</td>\n",
              "      <td>20.746680</td>\n",
              "      <td>4.554852</td>\n",
              "      <td>0.924147</td>\n",
              "      <td>0.927791</td>\n",
              "    </tr>\n",
              "    <tr>\n",
              "      <th>LR_Scaled</th>\n",
              "      <td>3.692172</td>\n",
              "      <td>20.746680</td>\n",
              "      <td>4.554852</td>\n",
              "      <td>0.924147</td>\n",
              "      <td>0.927791</td>\n",
              "    </tr>\n",
              "    <tr>\n",
              "      <th>LR_Norm</th>\n",
              "      <td>3.669823</td>\n",
              "      <td>20.411617</td>\n",
              "      <td>4.517922</td>\n",
              "      <td>0.925252</td>\n",
              "      <td>0.928957</td>\n",
              "    </tr>\n",
              "    <tr>\n",
              "      <th>XGB_Original</th>\n",
              "      <td>1.929607</td>\n",
              "      <td>6.959724</td>\n",
              "      <td>2.638129</td>\n",
              "      <td>0.996905</td>\n",
              "      <td>0.975777</td>\n",
              "    </tr>\n",
              "    <tr>\n",
              "      <th>XGB_Scaled</th>\n",
              "      <td>1.929310</td>\n",
              "      <td>6.949850</td>\n",
              "      <td>2.636257</td>\n",
              "      <td>0.996905</td>\n",
              "      <td>0.975811</td>\n",
              "    </tr>\n",
              "    <tr>\n",
              "      <th>XGB_Norm</th>\n",
              "      <td>2.264696</td>\n",
              "      <td>9.707503</td>\n",
              "      <td>3.115687</td>\n",
              "      <td>0.994862</td>\n",
              "      <td>0.966213</td>\n",
              "    </tr>\n",
              "    <tr>\n",
              "      <th>AdaB_Original</th>\n",
              "      <td>3.938301</td>\n",
              "      <td>24.478677</td>\n",
              "      <td>4.947593</td>\n",
              "      <td>0.918586</td>\n",
              "      <td>0.914802</td>\n",
              "    </tr>\n",
              "    <tr>\n",
              "      <th>AdaB_Scaled</th>\n",
              "      <td>3.933974</td>\n",
              "      <td>24.443071</td>\n",
              "      <td>4.943993</td>\n",
              "      <td>0.918662</td>\n",
              "      <td>0.914926</td>\n",
              "    </tr>\n",
              "    <tr>\n",
              "      <th>AdaB_Norm</th>\n",
              "      <td>3.923295</td>\n",
              "      <td>24.481269</td>\n",
              "      <td>4.947855</td>\n",
              "      <td>0.918779</td>\n",
              "      <td>0.914793</td>\n",
              "    </tr>\n",
              "    <tr>\n",
              "      <th>GBR_Original</th>\n",
              "      <td>2.087747</td>\n",
              "      <td>7.926825</td>\n",
              "      <td>2.815462</td>\n",
              "      <td>0.991553</td>\n",
              "      <td>0.972411</td>\n",
              "    </tr>\n",
              "    <tr>\n",
              "      <th>GBR_Scaled</th>\n",
              "      <td>2.094579</td>\n",
              "      <td>7.754481</td>\n",
              "      <td>2.784687</td>\n",
              "      <td>0.991717</td>\n",
              "      <td>0.973011</td>\n",
              "    </tr>\n",
              "    <tr>\n",
              "      <th>GBR_Norm</th>\n",
              "      <td>2.552088</td>\n",
              "      <td>11.494141</td>\n",
              "      <td>3.390301</td>\n",
              "      <td>0.985880</td>\n",
              "      <td>0.959995</td>\n",
              "    </tr>\n",
              "    <tr>\n",
              "      <th>RFR_Original</th>\n",
              "      <td>2.034602</td>\n",
              "      <td>7.614163</td>\n",
              "      <td>2.759377</td>\n",
              "      <td>0.995425</td>\n",
              "      <td>0.973499</td>\n",
              "    </tr>\n",
              "    <tr>\n",
              "      <th>RFR_Scaled</th>\n",
              "      <td>2.033736</td>\n",
              "      <td>7.616252</td>\n",
              "      <td>2.759756</td>\n",
              "      <td>0.995407</td>\n",
              "      <td>0.973492</td>\n",
              "    </tr>\n",
              "    <tr>\n",
              "      <th>RFR_Norm</th>\n",
              "      <td>2.259194</td>\n",
              "      <td>9.520240</td>\n",
              "      <td>3.085489</td>\n",
              "      <td>0.994572</td>\n",
              "      <td>0.966865</td>\n",
              "    </tr>\n",
              "    <tr>\n",
              "      <th>ETR_Original</th>\n",
              "      <td>1.947443</td>\n",
              "      <td>7.174407</td>\n",
              "      <td>2.678508</td>\n",
              "      <td>0.999158</td>\n",
              "      <td>0.975029</td>\n",
              "    </tr>\n",
              "    <tr>\n",
              "      <th>ETR_Scaled</th>\n",
              "      <td>1.935987</td>\n",
              "      <td>7.092719</td>\n",
              "      <td>2.663216</td>\n",
              "      <td>0.999158</td>\n",
              "      <td>0.975314</td>\n",
              "    </tr>\n",
              "    <tr>\n",
              "      <th>ETR_Norm</th>\n",
              "      <td>2.184981</td>\n",
              "      <td>9.262775</td>\n",
              "      <td>3.043481</td>\n",
              "      <td>0.999158</td>\n",
              "      <td>0.967761</td>\n",
              "    </tr>\n",
              "  </tbody>\n",
              "</table>\n",
              "</div>"
            ],
            "text/plain": [
              "               MeanAbsoluteError  MeanSquaredError  ...   R2Score  TestR2Score\n",
              "LR_Original             3.692172         20.746680  ...  0.924147     0.927791\n",
              "LR_Scaled               3.692172         20.746680  ...  0.924147     0.927791\n",
              "LR_Norm                 3.669823         20.411617  ...  0.925252     0.928957\n",
              "XGB_Original            1.929607          6.959724  ...  0.996905     0.975777\n",
              "XGB_Scaled              1.929310          6.949850  ...  0.996905     0.975811\n",
              "XGB_Norm                2.264696          9.707503  ...  0.994862     0.966213\n",
              "AdaB_Original           3.938301         24.478677  ...  0.918586     0.914802\n",
              "AdaB_Scaled             3.933974         24.443071  ...  0.918662     0.914926\n",
              "AdaB_Norm               3.923295         24.481269  ...  0.918779     0.914793\n",
              "GBR_Original            2.087747          7.926825  ...  0.991553     0.972411\n",
              "GBR_Scaled              2.094579          7.754481  ...  0.991717     0.973011\n",
              "GBR_Norm                2.552088         11.494141  ...  0.985880     0.959995\n",
              "RFR_Original            2.034602          7.614163  ...  0.995425     0.973499\n",
              "RFR_Scaled              2.033736          7.616252  ...  0.995407     0.973492\n",
              "RFR_Norm                2.259194          9.520240  ...  0.994572     0.966865\n",
              "ETR_Original            1.947443          7.174407  ...  0.999158     0.975029\n",
              "ETR_Scaled              1.935987          7.092719  ...  0.999158     0.975314\n",
              "ETR_Norm                2.184981          9.262775  ...  0.999158     0.967761\n",
              "\n",
              "[18 rows x 5 columns]"
            ]
          },
          "metadata": {
            "tags": []
          },
          "execution_count": 93
        }
      ]
    },
    {
      "cell_type": "code",
      "metadata": {
        "id": "chh06h4Z9OgI",
        "colab_type": "code",
        "colab": {
          "base_uri": "https://localhost:8080/",
          "height": 585
        },
        "outputId": "7e3f57d2-5cea-4fc0-cece-7f5756b5fca4"
      },
      "source": [
        "fig, axis = plt.subplots(2,2,figsize=(10,8))\n",
        "\n",
        "axis[0,0].bar(Errors.index,Errors['MeanAbsoluteError'])\n",
        "axis[0,1].bar(Errors.index,Errors['MeanSquaredError'])\n",
        "axis[1,0].bar(Errors.index,Errors['RootMeanSquaredError'])\n",
        "axis[1,1].bar(Errors.index,Errors['R2Score'])\n",
        "axis[0,0].title.set_text('MeanAbsoluteError')\n",
        "axis[0,1].title.set_text('MeanSquaredError')\n",
        "axis[1,0].title.set_text('RootMeanSquaredError')\n",
        "axis[1,1].title.set_text('R2Score')\n",
        "for tick in axis[0,0].get_xticklabels():\n",
        "    tick.set_rotation(90)\n",
        "for tick in axis[0,1].get_xticklabels():\n",
        "    tick.set_rotation(90)\n",
        "for tick in axis[1,0].get_xticklabels():\n",
        "    tick.set_rotation(90)\n",
        "for tick in axis[1,1].get_xticklabels():\n",
        "    tick.set_rotation(90)\n",
        "fig.tight_layout()"
      ],
      "execution_count": null,
      "outputs": [
        {
          "output_type": "display_data",
          "data": {
            "image/png": "[encoded data removed]",
            "text/plain": [
              "<Figure size 720x576 with 4 Axes>"
            ]
          },
          "metadata": {
            "tags": [],
            "needs_background": "light"
          }
        }
      ]
    },
    {
      "cell_type": "code",
      "metadata": {
        "id": "l1TxrAo79RwW",
        "colab_type": "code",
        "colab": {
          "base_uri": "https://localhost:8080/",
          "height": 345
        },
        "outputId": "d1eff8a4-3a8f-4328-a1bb-88e936b8a5c6"
      },
      "source": [
        "Errors['TestR2Score'].plot.bar()"
      ],
      "execution_count": null,
      "outputs": [
        {
          "output_type": "execute_result",
          "data": {
            "text/plain": [
              "<matplotlib.axes._subplots.AxesSubplot at 0x7feb7e6f4f98>"
            ]
          },
          "metadata": {
            "tags": []
          },
          "execution_count": 95
        },
        {
          "output_type": "display_data",
          "data": {
            "image/png": "[encoded data removed]",
            "text/plain": [
              "<Figure size 432x288 with 1 Axes>"
            ]
          },
          "metadata": {
            "tags": [],
            "needs_background": "light"
          }
        }
      ]
    },
    {
      "cell_type": "markdown",
      "metadata": {
        "id": "vuoodDfwX5KM",
        "colab_type": "text"
      },
      "source": [
        "# Using the best model for actual predictions"
      ]
    },
    {
      "cell_type": "code",
      "metadata": {
        "id": "nKYsMVHL0W8v",
        "colab_type": "code",
        "colab": {}
      },
      "source": [
        "train_path='/content/drive/My Drive/Projects/Hackathons/Power Plant Energy Prediction/Train.csv'\n",
        "test_path='/content/drive/My Drive/Projects/Hackathons/Power Plant Energy Prediction/Test.csv'"
      ],
      "execution_count": null,
      "outputs": []
    },
    {
      "cell_type": "code",
      "metadata": {
        "id": "AY9G9q4r0c8K",
        "colab_type": "code",
        "colab": {}
      },
      "source": [
        "train_data=pd.read_csv(train_path)\n",
        "test_data=pd.read_csv(test_path)"
      ],
      "execution_count": null,
      "outputs": []
    },
    {
      "cell_type": "code",
      "metadata": {
        "id": "njyAw-Ya11tM",
        "colab_type": "code",
        "colab": {}
      },
      "source": [
        "X_train = train_data.loc[:, train_data.columns != 'PE']\n",
        "Y_train = train_data['PE']\n",
        "X_test = test_data"
      ],
      "execution_count": null,
      "outputs": []
    },
    {
      "cell_type": "code",
      "metadata": {
        "id": "_N-vInLh2hv0",
        "colab_type": "code",
        "colab": {}
      },
      "source": [
        "#Standardizing training data\n",
        "scaler = preprocessing.StandardScaler()\n",
        "X_train_scaled=scaler.fit_transform(X_train)\n",
        "\n",
        "#Standardizing testing data\n",
        "X_test_scaled=scaler.transform(X_test)"
      ],
      "execution_count": null,
      "outputs": []
    },
    {
      "cell_type": "code",
      "metadata": {
        "id": "0yfRm3030ebu",
        "colab_type": "code",
        "colab": {
          "base_uri": "https://localhost:8080/",
          "height": 1000
        },
        "outputId": "63125c94-d253-4908-9873-c02f5a0afe11"
      },
      "source": [
        "XGR = xgb.XGBRegressor()\n",
        "param_grid = {\"objective\":['reg:squarederror'],\n",
        "              'colsample_bytree': [0.75,0.8,0.85],\n",
        "              'learning_rate': [0.005,0.01,0.02],\n",
        "              'max_depth': [10,15,20], \n",
        "              'alpha': [0.01,0.05,0.1], \n",
        "              'n_estimators':[3000,5000]}\n",
        "\n",
        "grid_search = GridSearchCV(estimator = XGR, param_grid = param_grid,cv=3, verbose=2)\n",
        "XGR_GS = grid_search.fit(X_train, Y_train)"
      ],
      "execution_count": null,
      "outputs": [
        {
          "output_type": "stream",
          "text": [
            "Fitting 3 folds for each of 162 candidates, totalling 486 fits\n",
            "[CV] alpha=0.01, colsample_bytree=0.75, learning_rate=0.005, max_depth=10, n_estimators=3000, objective=reg:squarederror \n"
          ],
          "name": "stdout"
        },
        {
          "output_type": "stream",
          "text": [
            "[Parallel(n_jobs=1)]: Using backend SequentialBackend with 1 concurrent workers.\n"
          ],
          "name": "stderr"
        },
        {
          "output_type": "stream",
          "text": [
            "[CV]  alpha=0.01, colsample_bytree=0.75, learning_rate=0.005, max_depth=10, n_estimators=3000, objective=reg:squarederror, total=  19.6s\n",
            "[CV] alpha=0.01, colsample_bytree=0.75, learning_rate=0.005, max_depth=10, n_estimators=3000, objective=reg:squarederror \n"
          ],
          "name": "stdout"
        },
        {
          "output_type": "stream",
          "text": [
            "[Parallel(n_jobs=1)]: Done   1 out of   1 | elapsed:   19.6s remaining:    0.0s\n"
          ],
          "name": "stderr"
        },
        {
          "output_type": "stream",
          "text": [
            "[CV]  alpha=0.01, colsample_bytree=0.75, learning_rate=0.005, max_depth=10, n_estimators=3000, objective=reg:squarederror, total=  20.1s\n",
            "[CV] alpha=0.01, colsample_bytree=0.75, learning_rate=0.005, max_depth=10, n_estimators=3000, objective=reg:squarederror \n",
            "[CV]  alpha=0.01, colsample_bytree=0.75, learning_rate=0.005, max_depth=10, n_estimators=3000, objective=reg:squarederror, total=  20.4s\n",
            "[CV] alpha=0.01, colsample_bytree=0.75, learning_rate=0.005, max_depth=10, n_estimators=5000, objective=reg:squarederror \n",
            "[CV]  alpha=0.01, colsample_bytree=0.75, learning_rate=0.005, max_depth=10, n_estimators=5000, objective=reg:squarederror, total=  35.8s\n",
            "[CV] alpha=0.01, colsample_bytree=0.75, learning_rate=0.005, max_depth=10, n_estimators=5000, objective=reg:squarederror \n",
            "[CV]  alpha=0.01, colsample_bytree=0.75, learning_rate=0.005, max_depth=10, n_estimators=5000, objective=reg:squarederror, total=  35.9s\n",
            "[CV] alpha=0.01, colsample_bytree=0.75, learning_rate=0.005, max_depth=10, n_estimators=5000, objective=reg:squarederror \n",
            "[CV]  alpha=0.01, colsample_bytree=0.75, learning_rate=0.005, max_depth=10, n_estimators=5000, objective=reg:squarederror, total=  35.5s\n",
            "[CV] alpha=0.01, colsample_bytree=0.75, learning_rate=0.005, max_depth=15, n_estimators=3000, objective=reg:squarederror \n",
            "[CV]  alpha=0.01, colsample_bytree=0.75, learning_rate=0.005, max_depth=15, n_estimators=3000, objective=reg:squarederror, total=  32.2s\n",
            "[CV] alpha=0.01, colsample_bytree=0.75, learning_rate=0.005, max_depth=15, n_estimators=3000, objective=reg:squarederror \n",
            "[CV]  alpha=0.01, colsample_bytree=0.75, learning_rate=0.005, max_depth=15, n_estimators=3000, objective=reg:squarederror, total=  30.5s\n",
            "[CV] alpha=0.01, colsample_bytree=0.75, learning_rate=0.005, max_depth=15, n_estimators=3000, objective=reg:squarederror \n",
            "[CV]  alpha=0.01, colsample_bytree=0.75, learning_rate=0.005, max_depth=15, n_estimators=3000, objective=reg:squarederror, total=  30.6s\n",
            "[CV] alpha=0.01, colsample_bytree=0.75, learning_rate=0.005, max_depth=15, n_estimators=5000, objective=reg:squarederror \n",
            "[CV]  alpha=0.01, colsample_bytree=0.75, learning_rate=0.005, max_depth=15, n_estimators=5000, objective=reg:squarederror, total= 1.0min\n",
            "[CV] alpha=0.01, colsample_bytree=0.75, learning_rate=0.005, max_depth=15, n_estimators=5000, objective=reg:squarederror \n",
            "[CV]  alpha=0.01, colsample_bytree=0.75, learning_rate=0.005, max_depth=15, n_estimators=5000, objective=reg:squarederror, total= 1.1min\n",
            "[CV] alpha=0.01, colsample_bytree=0.75, learning_rate=0.005, max_depth=15, n_estimators=5000, objective=reg:squarederror \n",
            "[CV]  alpha=0.01, colsample_bytree=0.75, learning_rate=0.005, max_depth=15, n_estimators=5000, objective=reg:squarederror, total= 1.1min\n",
            "[CV] alpha=0.01, colsample_bytree=0.75, learning_rate=0.005, max_depth=20, n_estimators=3000, objective=reg:squarederror \n",
            "[CV]  alpha=0.01, colsample_bytree=0.75, learning_rate=0.005, max_depth=20, n_estimators=3000, objective=reg:squarederror, total=  46.0s\n",
            "[CV] alpha=0.01, colsample_bytree=0.75, learning_rate=0.005, max_depth=20, n_estimators=3000, objective=reg:squarederror \n",
            "[CV]  alpha=0.01, colsample_bytree=0.75, learning_rate=0.005, max_depth=20, n_estimators=3000, objective=reg:squarederror, total=  45.0s\n",
            "[CV] alpha=0.01, colsample_bytree=0.75, learning_rate=0.005, max_depth=20, n_estimators=3000, objective=reg:squarederror \n",
            "[CV]  alpha=0.01, colsample_bytree=0.75, learning_rate=0.005, max_depth=20, n_estimators=3000, objective=reg:squarederror, total=  47.6s\n",
            "[CV] alpha=0.01, colsample_bytree=0.75, learning_rate=0.005, max_depth=20, n_estimators=5000, objective=reg:squarederror \n",
            "[CV]  alpha=0.01, colsample_bytree=0.75, learning_rate=0.005, max_depth=20, n_estimators=5000, objective=reg:squarederror, total= 1.5min\n",
            "[CV] alpha=0.01, colsample_bytree=0.75, learning_rate=0.005, max_depth=20, n_estimators=5000, objective=reg:squarederror \n",
            "[CV]  alpha=0.01, colsample_bytree=0.75, learning_rate=0.005, max_depth=20, n_estimators=5000, objective=reg:squarederror, total= 1.4min\n",
            "[CV] alpha=0.01, colsample_bytree=0.75, learning_rate=0.005, max_depth=20, n_estimators=5000, objective=reg:squarederror \n",
            "[CV]  alpha=0.01, colsample_bytree=0.75, learning_rate=0.005, max_depth=20, n_estimators=5000, objective=reg:squarederror, total= 1.5min\n",
            "[CV] alpha=0.01, colsample_bytree=0.75, learning_rate=0.01, max_depth=10, n_estimators=3000, objective=reg:squarederror \n",
            "[CV]  alpha=0.01, colsample_bytree=0.75, learning_rate=0.01, max_depth=10, n_estimators=3000, objective=reg:squarederror, total=  21.1s\n",
            "[CV] alpha=0.01, colsample_bytree=0.75, learning_rate=0.01, max_depth=10, n_estimators=3000, objective=reg:squarederror \n",
            "[CV]  alpha=0.01, colsample_bytree=0.75, learning_rate=0.01, max_depth=10, n_estimators=3000, objective=reg:squarederror, total=  22.8s\n",
            "[CV] alpha=0.01, colsample_bytree=0.75, learning_rate=0.01, max_depth=10, n_estimators=3000, objective=reg:squarederror \n",
            "[CV]  alpha=0.01, colsample_bytree=0.75, learning_rate=0.01, max_depth=10, n_estimators=3000, objective=reg:squarederror, total=  22.6s\n",
            "[CV] alpha=0.01, colsample_bytree=0.75, learning_rate=0.01, max_depth=10, n_estimators=5000, objective=reg:squarederror \n",
            "[CV]  alpha=0.01, colsample_bytree=0.75, learning_rate=0.01, max_depth=10, n_estimators=5000, objective=reg:squarederror, total=  40.3s\n",
            "[CV] alpha=0.01, colsample_bytree=0.75, learning_rate=0.01, max_depth=10, n_estimators=5000, objective=reg:squarederror \n",
            "[CV]  alpha=0.01, colsample_bytree=0.75, learning_rate=0.01, max_depth=10, n_estimators=5000, objective=reg:squarederror, total=  43.0s\n",
            "[CV] alpha=0.01, colsample_bytree=0.75, learning_rate=0.01, max_depth=10, n_estimators=5000, objective=reg:squarederror \n",
            "[CV]  alpha=0.01, colsample_bytree=0.75, learning_rate=0.01, max_depth=10, n_estimators=5000, objective=reg:squarederror, total=  39.5s\n",
            "[CV] alpha=0.01, colsample_bytree=0.75, learning_rate=0.01, max_depth=15, n_estimators=3000, objective=reg:squarederror \n",
            "[CV]  alpha=0.01, colsample_bytree=0.75, learning_rate=0.01, max_depth=15, n_estimators=3000, objective=reg:squarederror, total=  37.5s\n",
            "[CV] alpha=0.01, colsample_bytree=0.75, learning_rate=0.01, max_depth=15, n_estimators=3000, objective=reg:squarederror \n",
            "[CV]  alpha=0.01, colsample_bytree=0.75, learning_rate=0.01, max_depth=15, n_estimators=3000, objective=reg:squarederror, total=  35.5s\n",
            "[CV] alpha=0.01, colsample_bytree=0.75, learning_rate=0.01, max_depth=15, n_estimators=3000, objective=reg:squarederror \n",
            "[CV]  alpha=0.01, colsample_bytree=0.75, learning_rate=0.01, max_depth=15, n_estimators=3000, objective=reg:squarederror, total=  36.8s\n",
            "[CV] alpha=0.01, colsample_bytree=0.75, learning_rate=0.01, max_depth=15, n_estimators=5000, objective=reg:squarederror \n",
            "[CV]  alpha=0.01, colsample_bytree=0.75, learning_rate=0.01, max_depth=15, n_estimators=5000, objective=reg:squarederror, total= 1.2min\n",
            "[CV] alpha=0.01, colsample_bytree=0.75, learning_rate=0.01, max_depth=15, n_estimators=5000, objective=reg:squarederror \n",
            "[CV]  alpha=0.01, colsample_bytree=0.75, learning_rate=0.01, max_depth=15, n_estimators=5000, objective=reg:squarederror, total= 1.1min\n",
            "[CV] alpha=0.01, colsample_bytree=0.75, learning_rate=0.01, max_depth=15, n_estimators=5000, objective=reg:squarederror \n",
            "[CV]  alpha=0.01, colsample_bytree=0.75, learning_rate=0.01, max_depth=15, n_estimators=5000, objective=reg:squarederror, total= 1.1min\n",
            "[CV] alpha=0.01, colsample_bytree=0.75, learning_rate=0.01, max_depth=20, n_estimators=3000, objective=reg:squarederror \n",
            "[CV]  alpha=0.01, colsample_bytree=0.75, learning_rate=0.01, max_depth=20, n_estimators=3000, objective=reg:squarederror, total=  52.3s\n",
            "[CV] alpha=0.01, colsample_bytree=0.75, learning_rate=0.01, max_depth=20, n_estimators=3000, objective=reg:squarederror \n",
            "[CV]  alpha=0.01, colsample_bytree=0.75, learning_rate=0.01, max_depth=20, n_estimators=3000, objective=reg:squarederror, total=  54.0s\n",
            "[CV] alpha=0.01, colsample_bytree=0.75, learning_rate=0.01, max_depth=20, n_estimators=3000, objective=reg:squarederror \n",
            "[CV]  alpha=0.01, colsample_bytree=0.75, learning_rate=0.01, max_depth=20, n_estimators=3000, objective=reg:squarederror, total=  56.4s\n",
            "[CV] alpha=0.01, colsample_bytree=0.75, learning_rate=0.01, max_depth=20, n_estimators=5000, objective=reg:squarederror \n",
            "[CV]  alpha=0.01, colsample_bytree=0.75, learning_rate=0.01, max_depth=20, n_estimators=5000, objective=reg:squarederror, total= 1.7min\n",
            "[CV] alpha=0.01, colsample_bytree=0.75, learning_rate=0.01, max_depth=20, n_estimators=5000, objective=reg:squarederror \n",
            "[CV]  alpha=0.01, colsample_bytree=0.75, learning_rate=0.01, max_depth=20, n_estimators=5000, objective=reg:squarederror, total= 1.7min\n",
            "[CV] alpha=0.01, colsample_bytree=0.75, learning_rate=0.01, max_depth=20, n_estimators=5000, objective=reg:squarederror \n",
            "[CV]  alpha=0.01, colsample_bytree=0.75, learning_rate=0.01, max_depth=20, n_estimators=5000, objective=reg:squarederror, total= 1.7min\n",
            "[CV] alpha=0.01, colsample_bytree=0.75, learning_rate=0.02, max_depth=10, n_estimators=3000, objective=reg:squarederror \n",
            "[CV]  alpha=0.01, colsample_bytree=0.75, learning_rate=0.02, max_depth=10, n_estimators=3000, objective=reg:squarederror, total=  24.6s\n",
            "[CV] alpha=0.01, colsample_bytree=0.75, learning_rate=0.02, max_depth=10, n_estimators=3000, objective=reg:squarederror \n",
            "[CV]  alpha=0.01, colsample_bytree=0.75, learning_rate=0.02, max_depth=10, n_estimators=3000, objective=reg:squarederror, total=  25.4s\n",
            "[CV] alpha=0.01, colsample_bytree=0.75, learning_rate=0.02, max_depth=10, n_estimators=3000, objective=reg:squarederror \n",
            "[CV]  alpha=0.01, colsample_bytree=0.75, learning_rate=0.02, max_depth=10, n_estimators=3000, objective=reg:squarederror, total=  23.6s\n",
            "[CV] alpha=0.01, colsample_bytree=0.75, learning_rate=0.02, max_depth=10, n_estimators=5000, objective=reg:squarederror \n",
            "[CV]  alpha=0.01, colsample_bytree=0.75, learning_rate=0.02, max_depth=10, n_estimators=5000, objective=reg:squarederror, total=  45.5s\n",
            "[CV] alpha=0.01, colsample_bytree=0.75, learning_rate=0.02, max_depth=10, n_estimators=5000, objective=reg:squarederror \n",
            "[CV]  alpha=0.01, colsample_bytree=0.75, learning_rate=0.02, max_depth=10, n_estimators=5000, objective=reg:squarederror, total=  46.2s\n",
            "[CV] alpha=0.01, colsample_bytree=0.75, learning_rate=0.02, max_depth=10, n_estimators=5000, objective=reg:squarederror \n",
            "[CV]  alpha=0.01, colsample_bytree=0.75, learning_rate=0.02, max_depth=10, n_estimators=5000, objective=reg:squarederror, total=  45.3s\n",
            "[CV] alpha=0.01, colsample_bytree=0.75, learning_rate=0.02, max_depth=15, n_estimators=3000, objective=reg:squarederror \n",
            "[CV]  alpha=0.01, colsample_bytree=0.75, learning_rate=0.02, max_depth=15, n_estimators=3000, objective=reg:squarederror, total=  35.9s\n",
            "[CV] alpha=0.01, colsample_bytree=0.75, learning_rate=0.02, max_depth=15, n_estimators=3000, objective=reg:squarederror \n",
            "[CV]  alpha=0.01, colsample_bytree=0.75, learning_rate=0.02, max_depth=15, n_estimators=3000, objective=reg:squarederror, total=  38.3s\n",
            "[CV] alpha=0.01, colsample_bytree=0.75, learning_rate=0.02, max_depth=15, n_estimators=3000, objective=reg:squarederror \n",
            "[CV]  alpha=0.01, colsample_bytree=0.75, learning_rate=0.02, max_depth=15, n_estimators=3000, objective=reg:squarederror, total=  37.2s\n",
            "[CV] alpha=0.01, colsample_bytree=0.75, learning_rate=0.02, max_depth=15, n_estimators=5000, objective=reg:squarederror \n",
            "[CV]  alpha=0.01, colsample_bytree=0.75, learning_rate=0.02, max_depth=15, n_estimators=5000, objective=reg:squarederror, total=  59.2s\n",
            "[CV] alpha=0.01, colsample_bytree=0.75, learning_rate=0.02, max_depth=15, n_estimators=5000, objective=reg:squarederror \n",
            "[CV]  alpha=0.01, colsample_bytree=0.75, learning_rate=0.02, max_depth=15, n_estimators=5000, objective=reg:squarederror, total=  55.6s\n",
            "[CV] alpha=0.01, colsample_bytree=0.75, learning_rate=0.02, max_depth=15, n_estimators=5000, objective=reg:squarederror \n",
            "[CV]  alpha=0.01, colsample_bytree=0.75, learning_rate=0.02, max_depth=15, n_estimators=5000, objective=reg:squarederror, total=  56.6s\n",
            "[CV] alpha=0.01, colsample_bytree=0.75, learning_rate=0.02, max_depth=20, n_estimators=3000, objective=reg:squarederror \n",
            "[CV]  alpha=0.01, colsample_bytree=0.75, learning_rate=0.02, max_depth=20, n_estimators=3000, objective=reg:squarederror, total=  40.5s\n",
            "[CV] alpha=0.01, colsample_bytree=0.75, learning_rate=0.02, max_depth=20, n_estimators=3000, objective=reg:squarederror \n",
            "[CV]  alpha=0.01, colsample_bytree=0.75, learning_rate=0.02, max_depth=20, n_estimators=3000, objective=reg:squarederror, total=  47.2s\n",
            "[CV] alpha=0.01, colsample_bytree=0.75, learning_rate=0.02, max_depth=20, n_estimators=3000, objective=reg:squarederror \n",
            "[CV]  alpha=0.01, colsample_bytree=0.75, learning_rate=0.02, max_depth=20, n_estimators=3000, objective=reg:squarederror, total=  43.7s\n",
            "[CV] alpha=0.01, colsample_bytree=0.75, learning_rate=0.02, max_depth=20, n_estimators=5000, objective=reg:squarederror \n",
            "[CV]  alpha=0.01, colsample_bytree=0.75, learning_rate=0.02, max_depth=20, n_estimators=5000, objective=reg:squarederror, total=  46.9s\n",
            "[CV] alpha=0.01, colsample_bytree=0.75, learning_rate=0.02, max_depth=20, n_estimators=5000, objective=reg:squarederror \n",
            "[CV]  alpha=0.01, colsample_bytree=0.75, learning_rate=0.02, max_depth=20, n_estimators=5000, objective=reg:squarederror, total= 1.1min\n",
            "[CV] alpha=0.01, colsample_bytree=0.75, learning_rate=0.02, max_depth=20, n_estimators=5000, objective=reg:squarederror \n",
            "[CV]  alpha=0.01, colsample_bytree=0.75, learning_rate=0.02, max_depth=20, n_estimators=5000, objective=reg:squarederror, total=  58.5s\n",
            "[CV] alpha=0.01, colsample_bytree=0.8, learning_rate=0.005, max_depth=10, n_estimators=3000, objective=reg:squarederror \n",
            "[CV]  alpha=0.01, colsample_bytree=0.8, learning_rate=0.005, max_depth=10, n_estimators=3000, objective=reg:squarederror, total=  19.4s\n",
            "[CV] alpha=0.01, colsample_bytree=0.8, learning_rate=0.005, max_depth=10, n_estimators=3000, objective=reg:squarederror \n",
            "[CV]  alpha=0.01, colsample_bytree=0.8, learning_rate=0.005, max_depth=10, n_estimators=3000, objective=reg:squarederror, total=  19.6s\n",
            "[CV] alpha=0.01, colsample_bytree=0.8, learning_rate=0.005, max_depth=10, n_estimators=3000, objective=reg:squarederror \n",
            "[CV]  alpha=0.01, colsample_bytree=0.8, learning_rate=0.005, max_depth=10, n_estimators=3000, objective=reg:squarederror, total=  19.6s\n",
            "[CV] alpha=0.01, colsample_bytree=0.8, learning_rate=0.005, max_depth=10, n_estimators=5000, objective=reg:squarederror \n",
            "[CV]  alpha=0.01, colsample_bytree=0.8, learning_rate=0.005, max_depth=10, n_estimators=5000, objective=reg:squarederror, total=  35.4s\n",
            "[CV] alpha=0.01, colsample_bytree=0.8, learning_rate=0.005, max_depth=10, n_estimators=5000, objective=reg:squarederror \n",
            "[CV]  alpha=0.01, colsample_bytree=0.8, learning_rate=0.005, max_depth=10, n_estimators=5000, objective=reg:squarederror, total=  35.6s\n",
            "[CV] alpha=0.01, colsample_bytree=0.8, learning_rate=0.005, max_depth=10, n_estimators=5000, objective=reg:squarederror \n",
            "[CV]  alpha=0.01, colsample_bytree=0.8, learning_rate=0.005, max_depth=10, n_estimators=5000, objective=reg:squarederror, total=  34.9s\n",
            "[CV] alpha=0.01, colsample_bytree=0.8, learning_rate=0.005, max_depth=15, n_estimators=3000, objective=reg:squarederror \n",
            "[CV]  alpha=0.01, colsample_bytree=0.8, learning_rate=0.005, max_depth=15, n_estimators=3000, objective=reg:squarederror, total=  31.0s\n",
            "[CV] alpha=0.01, colsample_bytree=0.8, learning_rate=0.005, max_depth=15, n_estimators=3000, objective=reg:squarederror \n",
            "[CV]  alpha=0.01, colsample_bytree=0.8, learning_rate=0.005, max_depth=15, n_estimators=3000, objective=reg:squarederror, total=  31.2s\n",
            "[CV] alpha=0.01, colsample_bytree=0.8, learning_rate=0.005, max_depth=15, n_estimators=3000, objective=reg:squarederror \n",
            "[CV]  alpha=0.01, colsample_bytree=0.8, learning_rate=0.005, max_depth=15, n_estimators=3000, objective=reg:squarederror, total=  30.1s\n",
            "[CV] alpha=0.01, colsample_bytree=0.8, learning_rate=0.005, max_depth=15, n_estimators=5000, objective=reg:squarederror \n",
            "[CV]  alpha=0.01, colsample_bytree=0.8, learning_rate=0.005, max_depth=15, n_estimators=5000, objective=reg:squarederror, total= 1.1min\n",
            "[CV] alpha=0.01, colsample_bytree=0.8, learning_rate=0.005, max_depth=15, n_estimators=5000, objective=reg:squarederror \n",
            "[CV]  alpha=0.01, colsample_bytree=0.8, learning_rate=0.005, max_depth=15, n_estimators=5000, objective=reg:squarederror, total= 1.0min\n",
            "[CV] alpha=0.01, colsample_bytree=0.8, learning_rate=0.005, max_depth=15, n_estimators=5000, objective=reg:squarederror \n",
            "[CV]  alpha=0.01, colsample_bytree=0.8, learning_rate=0.005, max_depth=15, n_estimators=5000, objective=reg:squarederror, total=  59.2s\n",
            "[CV] alpha=0.01, colsample_bytree=0.8, learning_rate=0.005, max_depth=20, n_estimators=3000, objective=reg:squarederror \n",
            "[CV]  alpha=0.01, colsample_bytree=0.8, learning_rate=0.005, max_depth=20, n_estimators=3000, objective=reg:squarederror, total=  48.4s\n",
            "[CV] alpha=0.01, colsample_bytree=0.8, learning_rate=0.005, max_depth=20, n_estimators=3000, objective=reg:squarederror \n",
            "[CV]  alpha=0.01, colsample_bytree=0.8, learning_rate=0.005, max_depth=20, n_estimators=3000, objective=reg:squarederror, total=  44.7s\n",
            "[CV] alpha=0.01, colsample_bytree=0.8, learning_rate=0.005, max_depth=20, n_estimators=3000, objective=reg:squarederror \n",
            "[CV]  alpha=0.01, colsample_bytree=0.8, learning_rate=0.005, max_depth=20, n_estimators=3000, objective=reg:squarederror, total=  44.6s\n",
            "[CV] alpha=0.01, colsample_bytree=0.8, learning_rate=0.005, max_depth=20, n_estimators=5000, objective=reg:squarederror \n",
            "[CV]  alpha=0.01, colsample_bytree=0.8, learning_rate=0.005, max_depth=20, n_estimators=5000, objective=reg:squarederror, total= 1.5min\n",
            "[CV] alpha=0.01, colsample_bytree=0.8, learning_rate=0.005, max_depth=20, n_estimators=5000, objective=reg:squarederror \n",
            "[CV]  alpha=0.01, colsample_bytree=0.8, learning_rate=0.005, max_depth=20, n_estimators=5000, objective=reg:squarederror, total= 1.5min\n",
            "[CV] alpha=0.01, colsample_bytree=0.8, learning_rate=0.005, max_depth=20, n_estimators=5000, objective=reg:squarederror \n",
            "[CV]  alpha=0.01, colsample_bytree=0.8, learning_rate=0.005, max_depth=20, n_estimators=5000, objective=reg:squarederror, total= 1.5min\n",
            "[CV] alpha=0.01, colsample_bytree=0.8, learning_rate=0.01, max_depth=10, n_estimators=3000, objective=reg:squarederror \n",
            "[CV]  alpha=0.01, colsample_bytree=0.8, learning_rate=0.01, max_depth=10, n_estimators=3000, objective=reg:squarederror, total=  20.5s\n",
            "[CV] alpha=0.01, colsample_bytree=0.8, learning_rate=0.01, max_depth=10, n_estimators=3000, objective=reg:squarederror \n",
            "[CV]  alpha=0.01, colsample_bytree=0.8, learning_rate=0.01, max_depth=10, n_estimators=3000, objective=reg:squarederror, total=  21.8s\n",
            "[CV] alpha=0.01, colsample_bytree=0.8, learning_rate=0.01, max_depth=10, n_estimators=3000, objective=reg:squarederror \n",
            "[CV]  alpha=0.01, colsample_bytree=0.8, learning_rate=0.01, max_depth=10, n_estimators=3000, objective=reg:squarederror, total=  21.2s\n",
            "[CV] alpha=0.01, colsample_bytree=0.8, learning_rate=0.01, max_depth=10, n_estimators=5000, objective=reg:squarederror \n",
            "[CV]  alpha=0.01, colsample_bytree=0.8, learning_rate=0.01, max_depth=10, n_estimators=5000, objective=reg:squarederror, total=  35.9s\n",
            "[CV] alpha=0.01, colsample_bytree=0.8, learning_rate=0.01, max_depth=10, n_estimators=5000, objective=reg:squarederror \n",
            "[CV]  alpha=0.01, colsample_bytree=0.8, learning_rate=0.01, max_depth=10, n_estimators=5000, objective=reg:squarederror, total=  37.4s\n",
            "[CV] alpha=0.01, colsample_bytree=0.8, learning_rate=0.01, max_depth=10, n_estimators=5000, objective=reg:squarederror \n",
            "[CV]  alpha=0.01, colsample_bytree=0.8, learning_rate=0.01, max_depth=10, n_estimators=5000, objective=reg:squarederror, total=  36.2s\n",
            "[CV] alpha=0.01, colsample_bytree=0.8, learning_rate=0.01, max_depth=15, n_estimators=3000, objective=reg:squarederror \n",
            "[CV]  alpha=0.01, colsample_bytree=0.8, learning_rate=0.01, max_depth=15, n_estimators=3000, objective=reg:squarederror, total=  32.3s\n",
            "[CV] alpha=0.01, colsample_bytree=0.8, learning_rate=0.01, max_depth=15, n_estimators=3000, objective=reg:squarederror \n",
            "[CV]  alpha=0.01, colsample_bytree=0.8, learning_rate=0.01, max_depth=15, n_estimators=3000, objective=reg:squarederror, total=  33.3s\n",
            "[CV] alpha=0.01, colsample_bytree=0.8, learning_rate=0.01, max_depth=15, n_estimators=3000, objective=reg:squarederror \n",
            "[CV]  alpha=0.01, colsample_bytree=0.8, learning_rate=0.01, max_depth=15, n_estimators=3000, objective=reg:squarederror, total=  31.6s\n",
            "[CV] alpha=0.01, colsample_bytree=0.8, learning_rate=0.01, max_depth=15, n_estimators=5000, objective=reg:squarederror \n",
            "[CV]  alpha=0.01, colsample_bytree=0.8, learning_rate=0.01, max_depth=15, n_estimators=5000, objective=reg:squarederror, total= 1.0min\n",
            "[CV] alpha=0.01, colsample_bytree=0.8, learning_rate=0.01, max_depth=15, n_estimators=5000, objective=reg:squarederror \n",
            "[CV]  alpha=0.01, colsample_bytree=0.8, learning_rate=0.01, max_depth=15, n_estimators=5000, objective=reg:squarederror, total= 1.0min\n",
            "[CV] alpha=0.01, colsample_bytree=0.8, learning_rate=0.01, max_depth=15, n_estimators=5000, objective=reg:squarederror \n",
            "[CV]  alpha=0.01, colsample_bytree=0.8, learning_rate=0.01, max_depth=15, n_estimators=5000, objective=reg:squarederror, total= 1.1min\n",
            "[CV] alpha=0.01, colsample_bytree=0.8, learning_rate=0.01, max_depth=20, n_estimators=3000, objective=reg:squarederror \n",
            "[CV]  alpha=0.01, colsample_bytree=0.8, learning_rate=0.01, max_depth=20, n_estimators=3000, objective=reg:squarederror, total=  49.2s\n",
            "[CV] alpha=0.01, colsample_bytree=0.8, learning_rate=0.01, max_depth=20, n_estimators=3000, objective=reg:squarederror \n",
            "[CV]  alpha=0.01, colsample_bytree=0.8, learning_rate=0.01, max_depth=20, n_estimators=3000, objective=reg:squarederror, total=  50.5s\n",
            "[CV] alpha=0.01, colsample_bytree=0.8, learning_rate=0.01, max_depth=20, n_estimators=3000, objective=reg:squarederror \n",
            "[CV]  alpha=0.01, colsample_bytree=0.8, learning_rate=0.01, max_depth=20, n_estimators=3000, objective=reg:squarederror, total=  50.1s\n",
            "[CV] alpha=0.01, colsample_bytree=0.8, learning_rate=0.01, max_depth=20, n_estimators=5000, objective=reg:squarederror \n",
            "[CV]  alpha=0.01, colsample_bytree=0.8, learning_rate=0.01, max_depth=20, n_estimators=5000, objective=reg:squarederror, total= 1.5min\n",
            "[CV] alpha=0.01, colsample_bytree=0.8, learning_rate=0.01, max_depth=20, n_estimators=5000, objective=reg:squarederror \n",
            "[CV]  alpha=0.01, colsample_bytree=0.8, learning_rate=0.01, max_depth=20, n_estimators=5000, objective=reg:squarederror, total= 1.5min\n",
            "[CV] alpha=0.01, colsample_bytree=0.8, learning_rate=0.01, max_depth=20, n_estimators=5000, objective=reg:squarederror \n",
            "[CV]  alpha=0.01, colsample_bytree=0.8, learning_rate=0.01, max_depth=20, n_estimators=5000, objective=reg:squarederror, total= 1.5min\n",
            "[CV] alpha=0.01, colsample_bytree=0.8, learning_rate=0.02, max_depth=10, n_estimators=3000, objective=reg:squarederror \n",
            "[CV]  alpha=0.01, colsample_bytree=0.8, learning_rate=0.02, max_depth=10, n_estimators=3000, objective=reg:squarederror, total=  21.2s\n",
            "[CV] alpha=0.01, colsample_bytree=0.8, learning_rate=0.02, max_depth=10, n_estimators=3000, objective=reg:squarederror \n",
            "[CV]  alpha=0.01, colsample_bytree=0.8, learning_rate=0.02, max_depth=10, n_estimators=3000, objective=reg:squarederror, total=  21.8s\n",
            "[CV] alpha=0.01, colsample_bytree=0.8, learning_rate=0.02, max_depth=10, n_estimators=3000, objective=reg:squarederror \n",
            "[CV]  alpha=0.01, colsample_bytree=0.8, learning_rate=0.02, max_depth=10, n_estimators=3000, objective=reg:squarederror, total=  22.0s\n",
            "[CV] alpha=0.01, colsample_bytree=0.8, learning_rate=0.02, max_depth=10, n_estimators=5000, objective=reg:squarederror \n",
            "[CV]  alpha=0.01, colsample_bytree=0.8, learning_rate=0.02, max_depth=10, n_estimators=5000, objective=reg:squarederror, total=  39.2s\n",
            "[CV] alpha=0.01, colsample_bytree=0.8, learning_rate=0.02, max_depth=10, n_estimators=5000, objective=reg:squarederror \n",
            "[CV]  alpha=0.01, colsample_bytree=0.8, learning_rate=0.02, max_depth=10, n_estimators=5000, objective=reg:squarederror, total=  41.9s\n",
            "[CV] alpha=0.01, colsample_bytree=0.8, learning_rate=0.02, max_depth=10, n_estimators=5000, objective=reg:squarederror \n",
            "[CV]  alpha=0.01, colsample_bytree=0.8, learning_rate=0.02, max_depth=10, n_estimators=5000, objective=reg:squarederror, total=  38.0s\n",
            "[CV] alpha=0.01, colsample_bytree=0.8, learning_rate=0.02, max_depth=15, n_estimators=3000, objective=reg:squarederror \n",
            "[CV]  alpha=0.01, colsample_bytree=0.8, learning_rate=0.02, max_depth=15, n_estimators=3000, objective=reg:squarederror, total=  37.4s\n",
            "[CV] alpha=0.01, colsample_bytree=0.8, learning_rate=0.02, max_depth=15, n_estimators=3000, objective=reg:squarederror \n",
            "[CV]  alpha=0.01, colsample_bytree=0.8, learning_rate=0.02, max_depth=15, n_estimators=3000, objective=reg:squarederror, total=  34.9s\n",
            "[CV] alpha=0.01, colsample_bytree=0.8, learning_rate=0.02, max_depth=15, n_estimators=3000, objective=reg:squarederror \n",
            "[CV]  alpha=0.01, colsample_bytree=0.8, learning_rate=0.02, max_depth=15, n_estimators=3000, objective=reg:squarederror, total=  35.0s\n",
            "[CV] alpha=0.01, colsample_bytree=0.8, learning_rate=0.02, max_depth=15, n_estimators=5000, objective=reg:squarederror \n",
            "[CV]  alpha=0.01, colsample_bytree=0.8, learning_rate=0.02, max_depth=15, n_estimators=5000, objective=reg:squarederror, total=  53.1s\n",
            "[CV] alpha=0.01, colsample_bytree=0.8, learning_rate=0.02, max_depth=15, n_estimators=5000, objective=reg:squarederror \n",
            "[CV]  alpha=0.01, colsample_bytree=0.8, learning_rate=0.02, max_depth=15, n_estimators=5000, objective=reg:squarederror, total=  51.1s\n",
            "[CV] alpha=0.01, colsample_bytree=0.8, learning_rate=0.02, max_depth=15, n_estimators=5000, objective=reg:squarederror \n",
            "[CV]  alpha=0.01, colsample_bytree=0.8, learning_rate=0.02, max_depth=15, n_estimators=5000, objective=reg:squarederror, total=  58.6s\n",
            "[CV] alpha=0.01, colsample_bytree=0.8, learning_rate=0.02, max_depth=20, n_estimators=3000, objective=reg:squarederror \n",
            "[CV]  alpha=0.01, colsample_bytree=0.8, learning_rate=0.02, max_depth=20, n_estimators=3000, objective=reg:squarederror, total=  42.4s\n",
            "[CV] alpha=0.01, colsample_bytree=0.8, learning_rate=0.02, max_depth=20, n_estimators=3000, objective=reg:squarederror \n",
            "[CV]  alpha=0.01, colsample_bytree=0.8, learning_rate=0.02, max_depth=20, n_estimators=3000, objective=reg:squarederror, total=  48.0s\n",
            "[CV] alpha=0.01, colsample_bytree=0.8, learning_rate=0.02, max_depth=20, n_estimators=3000, objective=reg:squarederror \n",
            "[CV]  alpha=0.01, colsample_bytree=0.8, learning_rate=0.02, max_depth=20, n_estimators=3000, objective=reg:squarederror, total=  45.6s\n",
            "[CV] alpha=0.01, colsample_bytree=0.8, learning_rate=0.02, max_depth=20, n_estimators=5000, objective=reg:squarederror \n",
            "[CV]  alpha=0.01, colsample_bytree=0.8, learning_rate=0.02, max_depth=20, n_estimators=5000, objective=reg:squarederror, total=  44.5s\n",
            "[CV] alpha=0.01, colsample_bytree=0.8, learning_rate=0.02, max_depth=20, n_estimators=5000, objective=reg:squarederror \n",
            "[CV]  alpha=0.01, colsample_bytree=0.8, learning_rate=0.02, max_depth=20, n_estimators=5000, objective=reg:squarederror, total= 1.1min\n",
            "[CV] alpha=0.01, colsample_bytree=0.8, learning_rate=0.02, max_depth=20, n_estimators=5000, objective=reg:squarederror \n",
            "[CV]  alpha=0.01, colsample_bytree=0.8, learning_rate=0.02, max_depth=20, n_estimators=5000, objective=reg:squarederror, total= 1.0min\n",
            "[CV] alpha=0.01, colsample_bytree=0.85, learning_rate=0.005, max_depth=10, n_estimators=3000, objective=reg:squarederror \n",
            "[CV]  alpha=0.01, colsample_bytree=0.85, learning_rate=0.005, max_depth=10, n_estimators=3000, objective=reg:squarederror, total=  20.0s\n",
            "[CV] alpha=0.01, colsample_bytree=0.85, learning_rate=0.005, max_depth=10, n_estimators=3000, objective=reg:squarederror \n",
            "[CV]  alpha=0.01, colsample_bytree=0.85, learning_rate=0.005, max_depth=10, n_estimators=3000, objective=reg:squarederror, total=  20.3s\n",
            "[CV] alpha=0.01, colsample_bytree=0.85, learning_rate=0.005, max_depth=10, n_estimators=3000, objective=reg:squarederror \n",
            "[CV]  alpha=0.01, colsample_bytree=0.85, learning_rate=0.005, max_depth=10, n_estimators=3000, objective=reg:squarederror, total=  19.6s\n",
            "[CV] alpha=0.01, colsample_bytree=0.85, learning_rate=0.005, max_depth=10, n_estimators=5000, objective=reg:squarederror \n",
            "[CV]  alpha=0.01, colsample_bytree=0.85, learning_rate=0.005, max_depth=10, n_estimators=5000, objective=reg:squarederror, total=  40.0s\n",
            "[CV] alpha=0.01, colsample_bytree=0.85, learning_rate=0.005, max_depth=10, n_estimators=5000, objective=reg:squarederror \n",
            "[CV]  alpha=0.01, colsample_bytree=0.85, learning_rate=0.005, max_depth=10, n_estimators=5000, objective=reg:squarederror, total=  41.7s\n",
            "[CV] alpha=0.01, colsample_bytree=0.85, learning_rate=0.005, max_depth=10, n_estimators=5000, objective=reg:squarederror \n",
            "[CV]  alpha=0.01, colsample_bytree=0.85, learning_rate=0.005, max_depth=10, n_estimators=5000, objective=reg:squarederror, total=  38.1s\n",
            "[CV] alpha=0.01, colsample_bytree=0.85, learning_rate=0.005, max_depth=15, n_estimators=3000, objective=reg:squarederror \n",
            "[CV]  alpha=0.01, colsample_bytree=0.85, learning_rate=0.005, max_depth=15, n_estimators=3000, objective=reg:squarederror, total=  32.8s\n",
            "[CV] alpha=0.01, colsample_bytree=0.85, learning_rate=0.005, max_depth=15, n_estimators=3000, objective=reg:squarederror \n",
            "[CV]  alpha=0.01, colsample_bytree=0.85, learning_rate=0.005, max_depth=15, n_estimators=3000, objective=reg:squarederror, total=  34.2s\n",
            "[CV] alpha=0.01, colsample_bytree=0.85, learning_rate=0.005, max_depth=15, n_estimators=3000, objective=reg:squarederror \n",
            "[CV]  alpha=0.01, colsample_bytree=0.85, learning_rate=0.005, max_depth=15, n_estimators=3000, objective=reg:squarederror, total=  35.1s\n",
            "[CV] alpha=0.01, colsample_bytree=0.85, learning_rate=0.005, max_depth=15, n_estimators=5000, objective=reg:squarederror \n",
            "[CV]  alpha=0.01, colsample_bytree=0.85, learning_rate=0.005, max_depth=15, n_estimators=5000, objective=reg:squarederror, total= 1.0min\n",
            "[CV] alpha=0.01, colsample_bytree=0.85, learning_rate=0.005, max_depth=15, n_estimators=5000, objective=reg:squarederror \n",
            "[CV]  alpha=0.01, colsample_bytree=0.85, learning_rate=0.005, max_depth=15, n_estimators=5000, objective=reg:squarederror, total= 1.1min\n",
            "[CV] alpha=0.01, colsample_bytree=0.85, learning_rate=0.005, max_depth=15, n_estimators=5000, objective=reg:squarederror \n",
            "[CV]  alpha=0.01, colsample_bytree=0.85, learning_rate=0.005, max_depth=15, n_estimators=5000, objective=reg:squarederror, total= 1.1min\n",
            "[CV] alpha=0.01, colsample_bytree=0.85, learning_rate=0.005, max_depth=20, n_estimators=3000, objective=reg:squarederror \n",
            "[CV]  alpha=0.01, colsample_bytree=0.85, learning_rate=0.005, max_depth=20, n_estimators=3000, objective=reg:squarederror, total=  50.0s\n",
            "[CV] alpha=0.01, colsample_bytree=0.85, learning_rate=0.005, max_depth=20, n_estimators=3000, objective=reg:squarederror \n",
            "[CV]  alpha=0.01, colsample_bytree=0.85, learning_rate=0.005, max_depth=20, n_estimators=3000, objective=reg:squarederror, total=  48.9s\n",
            "[CV] alpha=0.01, colsample_bytree=0.85, learning_rate=0.005, max_depth=20, n_estimators=3000, objective=reg:squarederror \n",
            "[CV]  alpha=0.01, colsample_bytree=0.85, learning_rate=0.005, max_depth=20, n_estimators=3000, objective=reg:squarederror, total=  48.1s\n",
            "[CV] alpha=0.01, colsample_bytree=0.85, learning_rate=0.005, max_depth=20, n_estimators=5000, objective=reg:squarederror \n",
            "[CV]  alpha=0.01, colsample_bytree=0.85, learning_rate=0.005, max_depth=20, n_estimators=5000, objective=reg:squarederror, total= 1.6min\n",
            "[CV] alpha=0.01, colsample_bytree=0.85, learning_rate=0.005, max_depth=20, n_estimators=5000, objective=reg:squarederror \n",
            "[CV]  alpha=0.01, colsample_bytree=0.85, learning_rate=0.005, max_depth=20, n_estimators=5000, objective=reg:squarederror, total= 1.6min\n",
            "[CV] alpha=0.01, colsample_bytree=0.85, learning_rate=0.005, max_depth=20, n_estimators=5000, objective=reg:squarederror \n",
            "[CV]  alpha=0.01, colsample_bytree=0.85, learning_rate=0.005, max_depth=20, n_estimators=5000, objective=reg:squarederror, total= 1.5min\n",
            "[CV] alpha=0.01, colsample_bytree=0.85, learning_rate=0.01, max_depth=10, n_estimators=3000, objective=reg:squarederror \n",
            "[CV]  alpha=0.01, colsample_bytree=0.85, learning_rate=0.01, max_depth=10, n_estimators=3000, objective=reg:squarederror, total=  23.0s\n",
            "[CV] alpha=0.01, colsample_bytree=0.85, learning_rate=0.01, max_depth=10, n_estimators=3000, objective=reg:squarederror \n",
            "[CV]  alpha=0.01, colsample_bytree=0.85, learning_rate=0.01, max_depth=10, n_estimators=3000, objective=reg:squarederror, total=  21.8s\n",
            "[CV] alpha=0.01, colsample_bytree=0.85, learning_rate=0.01, max_depth=10, n_estimators=3000, objective=reg:squarederror \n",
            "[CV]  alpha=0.01, colsample_bytree=0.85, learning_rate=0.01, max_depth=10, n_estimators=3000, objective=reg:squarederror, total=  21.6s\n",
            "[CV] alpha=0.01, colsample_bytree=0.85, learning_rate=0.01, max_depth=10, n_estimators=5000, objective=reg:squarederror \n",
            "[CV]  alpha=0.01, colsample_bytree=0.85, learning_rate=0.01, max_depth=10, n_estimators=5000, objective=reg:squarederror, total=  40.8s\n",
            "[CV] alpha=0.01, colsample_bytree=0.85, learning_rate=0.01, max_depth=10, n_estimators=5000, objective=reg:squarederror \n",
            "[CV]  alpha=0.01, colsample_bytree=0.85, learning_rate=0.01, max_depth=10, n_estimators=5000, objective=reg:squarederror, total=  40.2s\n",
            "[CV] alpha=0.01, colsample_bytree=0.85, learning_rate=0.01, max_depth=10, n_estimators=5000, objective=reg:squarederror \n",
            "[CV]  alpha=0.01, colsample_bytree=0.85, learning_rate=0.01, max_depth=10, n_estimators=5000, objective=reg:squarederror, total=  39.0s\n",
            "[CV] alpha=0.01, colsample_bytree=0.85, learning_rate=0.01, max_depth=15, n_estimators=3000, objective=reg:squarederror \n",
            "[CV]  alpha=0.01, colsample_bytree=0.85, learning_rate=0.01, max_depth=15, n_estimators=3000, objective=reg:squarederror, total=  38.2s\n",
            "[CV] alpha=0.01, colsample_bytree=0.85, learning_rate=0.01, max_depth=15, n_estimators=3000, objective=reg:squarederror \n",
            "[CV]  alpha=0.01, colsample_bytree=0.85, learning_rate=0.01, max_depth=15, n_estimators=3000, objective=reg:squarederror, total=  40.7s\n",
            "[CV] alpha=0.01, colsample_bytree=0.85, learning_rate=0.01, max_depth=15, n_estimators=3000, objective=reg:squarederror \n",
            "[CV]  alpha=0.01, colsample_bytree=0.85, learning_rate=0.01, max_depth=15, n_estimators=3000, objective=reg:squarederror, total=  41.2s\n",
            "[CV] alpha=0.01, colsample_bytree=0.85, learning_rate=0.01, max_depth=15, n_estimators=5000, objective=reg:squarederror \n",
            "[CV]  alpha=0.01, colsample_bytree=0.85, learning_rate=0.01, max_depth=15, n_estimators=5000, objective=reg:squarederror, total= 1.2min\n",
            "[CV] alpha=0.01, colsample_bytree=0.85, learning_rate=0.01, max_depth=15, n_estimators=5000, objective=reg:squarederror \n",
            "[CV]  alpha=0.01, colsample_bytree=0.85, learning_rate=0.01, max_depth=15, n_estimators=5000, objective=reg:squarederror, total= 1.2min\n",
            "[CV] alpha=0.01, colsample_bytree=0.85, learning_rate=0.01, max_depth=15, n_estimators=5000, objective=reg:squarederror \n",
            "[CV]  alpha=0.01, colsample_bytree=0.85, learning_rate=0.01, max_depth=15, n_estimators=5000, objective=reg:squarederror, total= 1.2min\n",
            "[CV] alpha=0.01, colsample_bytree=0.85, learning_rate=0.01, max_depth=20, n_estimators=3000, objective=reg:squarederror \n",
            "[CV]  alpha=0.01, colsample_bytree=0.85, learning_rate=0.01, max_depth=20, n_estimators=3000, objective=reg:squarederror, total=  56.3s\n",
            "[CV] alpha=0.01, colsample_bytree=0.85, learning_rate=0.01, max_depth=20, n_estimators=3000, objective=reg:squarederror \n",
            "[CV]  alpha=0.01, colsample_bytree=0.85, learning_rate=0.01, max_depth=20, n_estimators=3000, objective=reg:squarederror, total= 1.0min\n",
            "[CV] alpha=0.01, colsample_bytree=0.85, learning_rate=0.01, max_depth=20, n_estimators=3000, objective=reg:squarederror \n",
            "[CV]  alpha=0.01, colsample_bytree=0.85, learning_rate=0.01, max_depth=20, n_estimators=3000, objective=reg:squarederror, total= 1.0min\n",
            "[CV] alpha=0.01, colsample_bytree=0.85, learning_rate=0.01, max_depth=20, n_estimators=5000, objective=reg:squarederror \n",
            "[CV]  alpha=0.01, colsample_bytree=0.85, learning_rate=0.01, max_depth=20, n_estimators=5000, objective=reg:squarederror, total= 1.7min\n",
            "[CV] alpha=0.01, colsample_bytree=0.85, learning_rate=0.01, max_depth=20, n_estimators=5000, objective=reg:squarederror \n",
            "[CV]  alpha=0.01, colsample_bytree=0.85, learning_rate=0.01, max_depth=20, n_estimators=5000, objective=reg:squarederror, total= 1.7min\n",
            "[CV] alpha=0.01, colsample_bytree=0.85, learning_rate=0.01, max_depth=20, n_estimators=5000, objective=reg:squarederror \n",
            "[CV]  alpha=0.01, colsample_bytree=0.85, learning_rate=0.01, max_depth=20, n_estimators=5000, objective=reg:squarederror, total= 1.8min\n",
            "[CV] alpha=0.01, colsample_bytree=0.85, learning_rate=0.02, max_depth=10, n_estimators=3000, objective=reg:squarederror \n",
            "[CV]  alpha=0.01, colsample_bytree=0.85, learning_rate=0.02, max_depth=10, n_estimators=3000, objective=reg:squarederror, total=  22.5s\n",
            "[CV] alpha=0.01, colsample_bytree=0.85, learning_rate=0.02, max_depth=10, n_estimators=3000, objective=reg:squarederror \n",
            "[CV]  alpha=0.01, colsample_bytree=0.85, learning_rate=0.02, max_depth=10, n_estimators=3000, objective=reg:squarederror, total=  22.0s\n",
            "[CV] alpha=0.01, colsample_bytree=0.85, learning_rate=0.02, max_depth=10, n_estimators=3000, objective=reg:squarederror \n",
            "[CV]  alpha=0.01, colsample_bytree=0.85, learning_rate=0.02, max_depth=10, n_estimators=3000, objective=reg:squarederror, total=  21.9s\n",
            "[CV] alpha=0.01, colsample_bytree=0.85, learning_rate=0.02, max_depth=10, n_estimators=5000, objective=reg:squarederror \n",
            "[CV]  alpha=0.01, colsample_bytree=0.85, learning_rate=0.02, max_depth=10, n_estimators=5000, objective=reg:squarederror, total=  40.9s\n",
            "[CV] alpha=0.01, colsample_bytree=0.85, learning_rate=0.02, max_depth=10, n_estimators=5000, objective=reg:squarederror \n",
            "[CV]  alpha=0.01, colsample_bytree=0.85, learning_rate=0.02, max_depth=10, n_estimators=5000, objective=reg:squarederror, total=  40.8s\n",
            "[CV] alpha=0.01, colsample_bytree=0.85, learning_rate=0.02, max_depth=10, n_estimators=5000, objective=reg:squarederror \n",
            "[CV]  alpha=0.01, colsample_bytree=0.85, learning_rate=0.02, max_depth=10, n_estimators=5000, objective=reg:squarederror, total=  43.6s\n",
            "[CV] alpha=0.01, colsample_bytree=0.85, learning_rate=0.02, max_depth=15, n_estimators=3000, objective=reg:squarederror \n",
            "[CV]  alpha=0.01, colsample_bytree=0.85, learning_rate=0.02, max_depth=15, n_estimators=3000, objective=reg:squarederror, total=  42.1s\n",
            "[CV] alpha=0.01, colsample_bytree=0.85, learning_rate=0.02, max_depth=15, n_estimators=3000, objective=reg:squarederror \n",
            "[CV]  alpha=0.01, colsample_bytree=0.85, learning_rate=0.02, max_depth=15, n_estimators=3000, objective=reg:squarederror, total=  41.1s\n",
            "[CV] alpha=0.01, colsample_bytree=0.85, learning_rate=0.02, max_depth=15, n_estimators=3000, objective=reg:squarederror \n",
            "[CV]  alpha=0.01, colsample_bytree=0.85, learning_rate=0.02, max_depth=15, n_estimators=3000, objective=reg:squarederror, total=  37.9s\n",
            "[CV] alpha=0.01, colsample_bytree=0.85, learning_rate=0.02, max_depth=15, n_estimators=5000, objective=reg:squarederror \n",
            "[CV]  alpha=0.01, colsample_bytree=0.85, learning_rate=0.02, max_depth=15, n_estimators=5000, objective=reg:squarederror, total= 1.1min\n",
            "[CV] alpha=0.01, colsample_bytree=0.85, learning_rate=0.02, max_depth=15, n_estimators=5000, objective=reg:squarederror \n",
            "[CV]  alpha=0.01, colsample_bytree=0.85, learning_rate=0.02, max_depth=15, n_estimators=5000, objective=reg:squarederror, total=  59.9s\n",
            "[CV] alpha=0.01, colsample_bytree=0.85, learning_rate=0.02, max_depth=15, n_estimators=5000, objective=reg:squarederror \n",
            "[CV]  alpha=0.01, colsample_bytree=0.85, learning_rate=0.02, max_depth=15, n_estimators=5000, objective=reg:squarederror, total= 1.1min\n",
            "[CV] alpha=0.01, colsample_bytree=0.85, learning_rate=0.02, max_depth=20, n_estimators=3000, objective=reg:squarederror \n",
            "[CV]  alpha=0.01, colsample_bytree=0.85, learning_rate=0.02, max_depth=20, n_estimators=3000, objective=reg:squarederror, total=  44.3s\n",
            "[CV] alpha=0.01, colsample_bytree=0.85, learning_rate=0.02, max_depth=20, n_estimators=3000, objective=reg:squarederror \n",
            "[CV]  alpha=0.01, colsample_bytree=0.85, learning_rate=0.02, max_depth=20, n_estimators=3000, objective=reg:squarederror, total=  55.9s\n",
            "[CV] alpha=0.01, colsample_bytree=0.85, learning_rate=0.02, max_depth=20, n_estimators=3000, objective=reg:squarederror \n",
            "[CV]  alpha=0.01, colsample_bytree=0.85, learning_rate=0.02, max_depth=20, n_estimators=3000, objective=reg:squarederror, total=  52.7s\n",
            "[CV] alpha=0.01, colsample_bytree=0.85, learning_rate=0.02, max_depth=20, n_estimators=5000, objective=reg:squarederror \n",
            "[CV]  alpha=0.01, colsample_bytree=0.85, learning_rate=0.02, max_depth=20, n_estimators=5000, objective=reg:squarederror, total=  51.7s\n",
            "[CV] alpha=0.01, colsample_bytree=0.85, learning_rate=0.02, max_depth=20, n_estimators=5000, objective=reg:squarederror \n",
            "[CV]  alpha=0.01, colsample_bytree=0.85, learning_rate=0.02, max_depth=20, n_estimators=5000, objective=reg:squarederror, total= 1.2min\n",
            "[CV] alpha=0.01, colsample_bytree=0.85, learning_rate=0.02, max_depth=20, n_estimators=5000, objective=reg:squarederror \n",
            "[CV]  alpha=0.01, colsample_bytree=0.85, learning_rate=0.02, max_depth=20, n_estimators=5000, objective=reg:squarederror, total= 1.1min\n",
            "[CV] alpha=0.05, colsample_bytree=0.75, learning_rate=0.005, max_depth=10, n_estimators=3000, objective=reg:squarederror \n",
            "[CV]  alpha=0.05, colsample_bytree=0.75, learning_rate=0.005, max_depth=10, n_estimators=3000, objective=reg:squarederror, total=  19.7s\n",
            "[CV] alpha=0.05, colsample_bytree=0.75, learning_rate=0.005, max_depth=10, n_estimators=3000, objective=reg:squarederror \n",
            "[CV]  alpha=0.05, colsample_bytree=0.75, learning_rate=0.005, max_depth=10, n_estimators=3000, objective=reg:squarederror, total=  20.8s\n",
            "[CV] alpha=0.05, colsample_bytree=0.75, learning_rate=0.005, max_depth=10, n_estimators=3000, objective=reg:squarederror \n",
            "[CV]  alpha=0.05, colsample_bytree=0.75, learning_rate=0.005, max_depth=10, n_estimators=3000, objective=reg:squarederror, total=  20.2s\n",
            "[CV] alpha=0.05, colsample_bytree=0.75, learning_rate=0.005, max_depth=10, n_estimators=5000, objective=reg:squarederror \n",
            "[CV]  alpha=0.05, colsample_bytree=0.75, learning_rate=0.005, max_depth=10, n_estimators=5000, objective=reg:squarederror, total=  37.1s\n",
            "[CV] alpha=0.05, colsample_bytree=0.75, learning_rate=0.005, max_depth=10, n_estimators=5000, objective=reg:squarederror \n",
            "[CV]  alpha=0.05, colsample_bytree=0.75, learning_rate=0.005, max_depth=10, n_estimators=5000, objective=reg:squarederror, total=  37.3s\n",
            "[CV] alpha=0.05, colsample_bytree=0.75, learning_rate=0.005, max_depth=10, n_estimators=5000, objective=reg:squarederror \n",
            "[CV]  alpha=0.05, colsample_bytree=0.75, learning_rate=0.005, max_depth=10, n_estimators=5000, objective=reg:squarederror, total=  38.3s\n",
            "[CV] alpha=0.05, colsample_bytree=0.75, learning_rate=0.005, max_depth=15, n_estimators=3000, objective=reg:squarederror \n",
            "[CV]  alpha=0.05, colsample_bytree=0.75, learning_rate=0.005, max_depth=15, n_estimators=3000, objective=reg:squarederror, total=  34.6s\n",
            "[CV] alpha=0.05, colsample_bytree=0.75, learning_rate=0.005, max_depth=15, n_estimators=3000, objective=reg:squarederror \n",
            "[CV]  alpha=0.05, colsample_bytree=0.75, learning_rate=0.005, max_depth=15, n_estimators=3000, objective=reg:squarederror, total=  34.5s\n",
            "[CV] alpha=0.05, colsample_bytree=0.75, learning_rate=0.005, max_depth=15, n_estimators=3000, objective=reg:squarederror \n",
            "[CV]  alpha=0.05, colsample_bytree=0.75, learning_rate=0.005, max_depth=15, n_estimators=3000, objective=reg:squarederror, total=  33.8s\n",
            "[CV] alpha=0.05, colsample_bytree=0.75, learning_rate=0.005, max_depth=15, n_estimators=5000, objective=reg:squarederror \n",
            "[CV]  alpha=0.05, colsample_bytree=0.75, learning_rate=0.005, max_depth=15, n_estimators=5000, objective=reg:squarederror, total= 1.1min\n",
            "[CV] alpha=0.05, colsample_bytree=0.75, learning_rate=0.005, max_depth=15, n_estimators=5000, objective=reg:squarederror \n",
            "[CV]  alpha=0.05, colsample_bytree=0.75, learning_rate=0.005, max_depth=15, n_estimators=5000, objective=reg:squarederror, total= 1.2min\n",
            "[CV] alpha=0.05, colsample_bytree=0.75, learning_rate=0.005, max_depth=15, n_estimators=5000, objective=reg:squarederror \n",
            "[CV]  alpha=0.05, colsample_bytree=0.75, learning_rate=0.005, max_depth=15, n_estimators=5000, objective=reg:squarederror, total= 1.2min\n",
            "[CV] alpha=0.05, colsample_bytree=0.75, learning_rate=0.005, max_depth=20, n_estimators=3000, objective=reg:squarederror \n",
            "[CV]  alpha=0.05, colsample_bytree=0.75, learning_rate=0.005, max_depth=20, n_estimators=3000, objective=reg:squarederror, total=  52.1s\n",
            "[CV] alpha=0.05, colsample_bytree=0.75, learning_rate=0.005, max_depth=20, n_estimators=3000, objective=reg:squarederror \n",
            "[CV]  alpha=0.05, colsample_bytree=0.75, learning_rate=0.005, max_depth=20, n_estimators=3000, objective=reg:squarederror, total=  51.7s\n",
            "[CV] alpha=0.05, colsample_bytree=0.75, learning_rate=0.005, max_depth=20, n_estimators=3000, objective=reg:squarederror \n",
            "[CV]  alpha=0.05, colsample_bytree=0.75, learning_rate=0.005, max_depth=20, n_estimators=3000, objective=reg:squarederror, total=  53.9s\n",
            "[CV] alpha=0.05, colsample_bytree=0.75, learning_rate=0.005, max_depth=20, n_estimators=5000, objective=reg:squarederror \n",
            "[CV]  alpha=0.05, colsample_bytree=0.75, learning_rate=0.005, max_depth=20, n_estimators=5000, objective=reg:squarederror, total= 1.6min\n",
            "[CV] alpha=0.05, colsample_bytree=0.75, learning_rate=0.005, max_depth=20, n_estimators=5000, objective=reg:squarederror \n",
            "[CV]  alpha=0.05, colsample_bytree=0.75, learning_rate=0.005, max_depth=20, n_estimators=5000, objective=reg:squarederror, total= 1.6min\n",
            "[CV] alpha=0.05, colsample_bytree=0.75, learning_rate=0.005, max_depth=20, n_estimators=5000, objective=reg:squarederror \n",
            "[CV]  alpha=0.05, colsample_bytree=0.75, learning_rate=0.005, max_depth=20, n_estimators=5000, objective=reg:squarederror, total= 1.6min\n",
            "[CV] alpha=0.05, colsample_bytree=0.75, learning_rate=0.01, max_depth=10, n_estimators=3000, objective=reg:squarederror \n",
            "[CV]  alpha=0.05, colsample_bytree=0.75, learning_rate=0.01, max_depth=10, n_estimators=3000, objective=reg:squarederror, total=  21.5s\n",
            "[CV] alpha=0.05, colsample_bytree=0.75, learning_rate=0.01, max_depth=10, n_estimators=3000, objective=reg:squarederror \n",
            "[CV]  alpha=0.05, colsample_bytree=0.75, learning_rate=0.01, max_depth=10, n_estimators=3000, objective=reg:squarederror, total=  22.7s\n",
            "[CV] alpha=0.05, colsample_bytree=0.75, learning_rate=0.01, max_depth=10, n_estimators=3000, objective=reg:squarederror \n",
            "[CV]  alpha=0.05, colsample_bytree=0.75, learning_rate=0.01, max_depth=10, n_estimators=3000, objective=reg:squarederror, total=  21.3s\n",
            "[CV] alpha=0.05, colsample_bytree=0.75, learning_rate=0.01, max_depth=10, n_estimators=5000, objective=reg:squarederror \n",
            "[CV]  alpha=0.05, colsample_bytree=0.75, learning_rate=0.01, max_depth=10, n_estimators=5000, objective=reg:squarederror, total=  42.3s\n",
            "[CV] alpha=0.05, colsample_bytree=0.75, learning_rate=0.01, max_depth=10, n_estimators=5000, objective=reg:squarederror \n",
            "[CV]  alpha=0.05, colsample_bytree=0.75, learning_rate=0.01, max_depth=10, n_estimators=5000, objective=reg:squarederror, total=  42.0s\n",
            "[CV] alpha=0.05, colsample_bytree=0.75, learning_rate=0.01, max_depth=10, n_estimators=5000, objective=reg:squarederror \n",
            "[CV]  alpha=0.05, colsample_bytree=0.75, learning_rate=0.01, max_depth=10, n_estimators=5000, objective=reg:squarederror, total=  41.9s\n",
            "[CV] alpha=0.05, colsample_bytree=0.75, learning_rate=0.01, max_depth=15, n_estimators=3000, objective=reg:squarederror \n",
            "[CV]  alpha=0.05, colsample_bytree=0.75, learning_rate=0.01, max_depth=15, n_estimators=3000, objective=reg:squarederror, total=  39.2s\n",
            "[CV] alpha=0.05, colsample_bytree=0.75, learning_rate=0.01, max_depth=15, n_estimators=3000, objective=reg:squarederror \n",
            "[CV]  alpha=0.05, colsample_bytree=0.75, learning_rate=0.01, max_depth=15, n_estimators=3000, objective=reg:squarederror, total=  38.2s\n",
            "[CV] alpha=0.05, colsample_bytree=0.75, learning_rate=0.01, max_depth=15, n_estimators=3000, objective=reg:squarederror \n",
            "[CV]  alpha=0.05, colsample_bytree=0.75, learning_rate=0.01, max_depth=15, n_estimators=3000, objective=reg:squarederror, total=  39.0s\n",
            "[CV] alpha=0.05, colsample_bytree=0.75, learning_rate=0.01, max_depth=15, n_estimators=5000, objective=reg:squarederror \n",
            "[CV]  alpha=0.05, colsample_bytree=0.75, learning_rate=0.01, max_depth=15, n_estimators=5000, objective=reg:squarederror, total= 1.2min\n",
            "[CV] alpha=0.05, colsample_bytree=0.75, learning_rate=0.01, max_depth=15, n_estimators=5000, objective=reg:squarederror \n",
            "[CV]  alpha=0.05, colsample_bytree=0.75, learning_rate=0.01, max_depth=15, n_estimators=5000, objective=reg:squarederror, total= 1.2min\n",
            "[CV] alpha=0.05, colsample_bytree=0.75, learning_rate=0.01, max_depth=15, n_estimators=5000, objective=reg:squarederror \n",
            "[CV]  alpha=0.05, colsample_bytree=0.75, learning_rate=0.01, max_depth=15, n_estimators=5000, objective=reg:squarederror, total= 1.1min\n",
            "[CV] alpha=0.05, colsample_bytree=0.75, learning_rate=0.01, max_depth=20, n_estimators=3000, objective=reg:squarederror \n",
            "[CV]  alpha=0.05, colsample_bytree=0.75, learning_rate=0.01, max_depth=20, n_estimators=3000, objective=reg:squarederror, total=  51.5s\n",
            "[CV] alpha=0.05, colsample_bytree=0.75, learning_rate=0.01, max_depth=20, n_estimators=3000, objective=reg:squarederror \n",
            "[CV]  alpha=0.05, colsample_bytree=0.75, learning_rate=0.01, max_depth=20, n_estimators=3000, objective=reg:squarederror, total=  51.7s\n",
            "[CV] alpha=0.05, colsample_bytree=0.75, learning_rate=0.01, max_depth=20, n_estimators=3000, objective=reg:squarederror \n",
            "[CV]  alpha=0.05, colsample_bytree=0.75, learning_rate=0.01, max_depth=20, n_estimators=3000, objective=reg:squarederror, total=  55.0s\n",
            "[CV] alpha=0.05, colsample_bytree=0.75, learning_rate=0.01, max_depth=20, n_estimators=5000, objective=reg:squarederror \n",
            "[CV]  alpha=0.05, colsample_bytree=0.75, learning_rate=0.01, max_depth=20, n_estimators=5000, objective=reg:squarederror, total= 1.7min\n",
            "[CV] alpha=0.05, colsample_bytree=0.75, learning_rate=0.01, max_depth=20, n_estimators=5000, objective=reg:squarederror \n",
            "[CV]  alpha=0.05, colsample_bytree=0.75, learning_rate=0.01, max_depth=20, n_estimators=5000, objective=reg:squarederror, total= 1.7min\n",
            "[CV] alpha=0.05, colsample_bytree=0.75, learning_rate=0.01, max_depth=20, n_estimators=5000, objective=reg:squarederror \n",
            "[CV]  alpha=0.05, colsample_bytree=0.75, learning_rate=0.01, max_depth=20, n_estimators=5000, objective=reg:squarederror, total= 1.8min\n",
            "[CV] alpha=0.05, colsample_bytree=0.75, learning_rate=0.02, max_depth=10, n_estimators=3000, objective=reg:squarederror \n",
            "[CV]  alpha=0.05, colsample_bytree=0.75, learning_rate=0.02, max_depth=10, n_estimators=3000, objective=reg:squarederror, total=  22.1s\n",
            "[CV] alpha=0.05, colsample_bytree=0.75, learning_rate=0.02, max_depth=10, n_estimators=3000, objective=reg:squarederror \n",
            "[CV]  alpha=0.05, colsample_bytree=0.75, learning_rate=0.02, max_depth=10, n_estimators=3000, objective=reg:squarederror, total=  21.8s\n",
            "[CV] alpha=0.05, colsample_bytree=0.75, learning_rate=0.02, max_depth=10, n_estimators=3000, objective=reg:squarederror \n",
            "[CV]  alpha=0.05, colsample_bytree=0.75, learning_rate=0.02, max_depth=10, n_estimators=3000, objective=reg:squarederror, total=  22.0s\n",
            "[CV] alpha=0.05, colsample_bytree=0.75, learning_rate=0.02, max_depth=10, n_estimators=5000, objective=reg:squarederror \n",
            "[CV]  alpha=0.05, colsample_bytree=0.75, learning_rate=0.02, max_depth=10, n_estimators=5000, objective=reg:squarederror, total=  43.0s\n",
            "[CV] alpha=0.05, colsample_bytree=0.75, learning_rate=0.02, max_depth=10, n_estimators=5000, objective=reg:squarederror \n",
            "[CV]  alpha=0.05, colsample_bytree=0.75, learning_rate=0.02, max_depth=10, n_estimators=5000, objective=reg:squarederror, total=  41.7s\n",
            "[CV] alpha=0.05, colsample_bytree=0.75, learning_rate=0.02, max_depth=10, n_estimators=5000, objective=reg:squarederror \n",
            "[CV]  alpha=0.05, colsample_bytree=0.75, learning_rate=0.02, max_depth=10, n_estimators=5000, objective=reg:squarederror, total=  42.1s\n",
            "[CV] alpha=0.05, colsample_bytree=0.75, learning_rate=0.02, max_depth=15, n_estimators=3000, objective=reg:squarederror \n",
            "[CV]  alpha=0.05, colsample_bytree=0.75, learning_rate=0.02, max_depth=15, n_estimators=3000, objective=reg:squarederror, total=  39.9s\n",
            "[CV] alpha=0.05, colsample_bytree=0.75, learning_rate=0.02, max_depth=15, n_estimators=3000, objective=reg:squarederror \n",
            "[CV]  alpha=0.05, colsample_bytree=0.75, learning_rate=0.02, max_depth=15, n_estimators=3000, objective=reg:squarederror, total=  38.9s\n",
            "[CV] alpha=0.05, colsample_bytree=0.75, learning_rate=0.02, max_depth=15, n_estimators=3000, objective=reg:squarederror \n",
            "[CV]  alpha=0.05, colsample_bytree=0.75, learning_rate=0.02, max_depth=15, n_estimators=3000, objective=reg:squarederror, total=  40.1s\n",
            "[CV] alpha=0.05, colsample_bytree=0.75, learning_rate=0.02, max_depth=15, n_estimators=5000, objective=reg:squarederror \n",
            "[CV]  alpha=0.05, colsample_bytree=0.75, learning_rate=0.02, max_depth=15, n_estimators=5000, objective=reg:squarederror, total= 1.1min\n",
            "[CV] alpha=0.05, colsample_bytree=0.75, learning_rate=0.02, max_depth=15, n_estimators=5000, objective=reg:squarederror \n",
            "[CV]  alpha=0.05, colsample_bytree=0.75, learning_rate=0.02, max_depth=15, n_estimators=5000, objective=reg:squarederror, total= 1.0min\n",
            "[CV] alpha=0.05, colsample_bytree=0.75, learning_rate=0.02, max_depth=15, n_estimators=5000, objective=reg:squarederror \n",
            "[CV]  alpha=0.05, colsample_bytree=0.75, learning_rate=0.02, max_depth=15, n_estimators=5000, objective=reg:squarederror, total= 1.1min\n",
            "[CV] alpha=0.05, colsample_bytree=0.75, learning_rate=0.02, max_depth=20, n_estimators=3000, objective=reg:squarederror \n",
            "[CV]  alpha=0.05, colsample_bytree=0.75, learning_rate=0.02, max_depth=20, n_estimators=3000, objective=reg:squarederror, total=  45.8s\n",
            "[CV] alpha=0.05, colsample_bytree=0.75, learning_rate=0.02, max_depth=20, n_estimators=3000, objective=reg:squarederror \n",
            "[CV]  alpha=0.05, colsample_bytree=0.75, learning_rate=0.02, max_depth=20, n_estimators=3000, objective=reg:squarederror, total=  51.1s\n",
            "[CV] alpha=0.05, colsample_bytree=0.75, learning_rate=0.02, max_depth=20, n_estimators=3000, objective=reg:squarederror \n",
            "[CV]  alpha=0.05, colsample_bytree=0.75, learning_rate=0.02, max_depth=20, n_estimators=3000, objective=reg:squarederror, total=  47.3s\n",
            "[CV] alpha=0.05, colsample_bytree=0.75, learning_rate=0.02, max_depth=20, n_estimators=5000, objective=reg:squarederror \n",
            "[CV]  alpha=0.05, colsample_bytree=0.75, learning_rate=0.02, max_depth=20, n_estimators=5000, objective=reg:squarederror, total=  47.5s\n",
            "[CV] alpha=0.05, colsample_bytree=0.75, learning_rate=0.02, max_depth=20, n_estimators=5000, objective=reg:squarederror \n",
            "[CV]  alpha=0.05, colsample_bytree=0.75, learning_rate=0.02, max_depth=20, n_estimators=5000, objective=reg:squarederror, total= 1.1min\n",
            "[CV] alpha=0.05, colsample_bytree=0.75, learning_rate=0.02, max_depth=20, n_estimators=5000, objective=reg:squarederror \n",
            "[CV]  alpha=0.05, colsample_bytree=0.75, learning_rate=0.02, max_depth=20, n_estimators=5000, objective=reg:squarederror, total= 1.1min\n",
            "[CV] alpha=0.05, colsample_bytree=0.8, learning_rate=0.005, max_depth=10, n_estimators=3000, objective=reg:squarederror \n",
            "[CV]  alpha=0.05, colsample_bytree=0.8, learning_rate=0.005, max_depth=10, n_estimators=3000, objective=reg:squarederror, total=  19.2s\n",
            "[CV] alpha=0.05, colsample_bytree=0.8, learning_rate=0.005, max_depth=10, n_estimators=3000, objective=reg:squarederror \n",
            "[CV]  alpha=0.05, colsample_bytree=0.8, learning_rate=0.005, max_depth=10, n_estimators=3000, objective=reg:squarederror, total=  19.9s\n",
            "[CV] alpha=0.05, colsample_bytree=0.8, learning_rate=0.005, max_depth=10, n_estimators=3000, objective=reg:squarederror \n",
            "[CV]  alpha=0.05, colsample_bytree=0.8, learning_rate=0.005, max_depth=10, n_estimators=3000, objective=reg:squarederror, total=  19.9s\n",
            "[CV] alpha=0.05, colsample_bytree=0.8, learning_rate=0.005, max_depth=10, n_estimators=5000, objective=reg:squarederror \n",
            "[CV]  alpha=0.05, colsample_bytree=0.8, learning_rate=0.005, max_depth=10, n_estimators=5000, objective=reg:squarederror, total=  35.7s\n",
            "[CV] alpha=0.05, colsample_bytree=0.8, learning_rate=0.005, max_depth=10, n_estimators=5000, objective=reg:squarederror \n",
            "[CV]  alpha=0.05, colsample_bytree=0.8, learning_rate=0.005, max_depth=10, n_estimators=5000, objective=reg:squarederror, total=  37.6s\n",
            "[CV] alpha=0.05, colsample_bytree=0.8, learning_rate=0.005, max_depth=10, n_estimators=5000, objective=reg:squarederror \n",
            "[CV]  alpha=0.05, colsample_bytree=0.8, learning_rate=0.005, max_depth=10, n_estimators=5000, objective=reg:squarederror, total=  36.4s\n",
            "[CV] alpha=0.05, colsample_bytree=0.8, learning_rate=0.005, max_depth=15, n_estimators=3000, objective=reg:squarederror \n",
            "[CV]  alpha=0.05, colsample_bytree=0.8, learning_rate=0.005, max_depth=15, n_estimators=3000, objective=reg:squarederror, total=  31.3s\n",
            "[CV] alpha=0.05, colsample_bytree=0.8, learning_rate=0.005, max_depth=15, n_estimators=3000, objective=reg:squarederror \n",
            "[CV]  alpha=0.05, colsample_bytree=0.8, learning_rate=0.005, max_depth=15, n_estimators=3000, objective=reg:squarederror, total=  32.5s\n",
            "[CV] alpha=0.05, colsample_bytree=0.8, learning_rate=0.005, max_depth=15, n_estimators=3000, objective=reg:squarederror \n",
            "[CV]  alpha=0.05, colsample_bytree=0.8, learning_rate=0.005, max_depth=15, n_estimators=3000, objective=reg:squarederror, total=  32.8s\n",
            "[CV] alpha=0.05, colsample_bytree=0.8, learning_rate=0.005, max_depth=15, n_estimators=5000, objective=reg:squarederror \n",
            "[CV]  alpha=0.05, colsample_bytree=0.8, learning_rate=0.005, max_depth=15, n_estimators=5000, objective=reg:squarederror, total= 1.1min\n",
            "[CV] alpha=0.05, colsample_bytree=0.8, learning_rate=0.005, max_depth=15, n_estimators=5000, objective=reg:squarederror \n",
            "[CV]  alpha=0.05, colsample_bytree=0.8, learning_rate=0.005, max_depth=15, n_estimators=5000, objective=reg:squarederror, total= 1.1min\n",
            "[CV] alpha=0.05, colsample_bytree=0.8, learning_rate=0.005, max_depth=15, n_estimators=5000, objective=reg:squarederror \n",
            "[CV]  alpha=0.05, colsample_bytree=0.8, learning_rate=0.005, max_depth=15, n_estimators=5000, objective=reg:squarederror, total= 1.1min\n",
            "[CV] alpha=0.05, colsample_bytree=0.8, learning_rate=0.005, max_depth=20, n_estimators=3000, objective=reg:squarederror \n",
            "[CV]  alpha=0.05, colsample_bytree=0.8, learning_rate=0.005, max_depth=20, n_estimators=3000, objective=reg:squarederror, total=  51.2s\n",
            "[CV] alpha=0.05, colsample_bytree=0.8, learning_rate=0.005, max_depth=20, n_estimators=3000, objective=reg:squarederror \n",
            "[CV]  alpha=0.05, colsample_bytree=0.8, learning_rate=0.005, max_depth=20, n_estimators=3000, objective=reg:squarederror, total=  50.1s\n",
            "[CV] alpha=0.05, colsample_bytree=0.8, learning_rate=0.005, max_depth=20, n_estimators=3000, objective=reg:squarederror \n",
            "[CV]  alpha=0.05, colsample_bytree=0.8, learning_rate=0.005, max_depth=20, n_estimators=3000, objective=reg:squarederror, total=  46.8s\n",
            "[CV] alpha=0.05, colsample_bytree=0.8, learning_rate=0.005, max_depth=20, n_estimators=5000, objective=reg:squarederror \n",
            "[CV]  alpha=0.05, colsample_bytree=0.8, learning_rate=0.005, max_depth=20, n_estimators=5000, objective=reg:squarederror, total= 1.6min\n",
            "[CV] alpha=0.05, colsample_bytree=0.8, learning_rate=0.005, max_depth=20, n_estimators=5000, objective=reg:squarederror \n",
            "[CV]  alpha=0.05, colsample_bytree=0.8, learning_rate=0.005, max_depth=20, n_estimators=5000, objective=reg:squarederror, total= 1.6min\n",
            "[CV] alpha=0.05, colsample_bytree=0.8, learning_rate=0.005, max_depth=20, n_estimators=5000, objective=reg:squarederror \n",
            "[CV]  alpha=0.05, colsample_bytree=0.8, learning_rate=0.005, max_depth=20, n_estimators=5000, objective=reg:squarederror, total= 1.5min\n",
            "[CV] alpha=0.05, colsample_bytree=0.8, learning_rate=0.01, max_depth=10, n_estimators=3000, objective=reg:squarederror \n",
            "[CV]  alpha=0.05, colsample_bytree=0.8, learning_rate=0.01, max_depth=10, n_estimators=3000, objective=reg:squarederror, total=  22.6s\n",
            "[CV] alpha=0.05, colsample_bytree=0.8, learning_rate=0.01, max_depth=10, n_estimators=3000, objective=reg:squarederror \n",
            "[CV]  alpha=0.05, colsample_bytree=0.8, learning_rate=0.01, max_depth=10, n_estimators=3000, objective=reg:squarederror, total=  21.4s\n",
            "[CV] alpha=0.05, colsample_bytree=0.8, learning_rate=0.01, max_depth=10, n_estimators=3000, objective=reg:squarederror \n",
            "[CV]  alpha=0.05, colsample_bytree=0.8, learning_rate=0.01, max_depth=10, n_estimators=3000, objective=reg:squarederror, total=  21.3s\n",
            "[CV] alpha=0.05, colsample_bytree=0.8, learning_rate=0.01, max_depth=10, n_estimators=5000, objective=reg:squarederror \n",
            "[CV]  alpha=0.05, colsample_bytree=0.8, learning_rate=0.01, max_depth=10, n_estimators=5000, objective=reg:squarederror, total=  38.7s\n",
            "[CV] alpha=0.05, colsample_bytree=0.8, learning_rate=0.01, max_depth=10, n_estimators=5000, objective=reg:squarederror \n",
            "[CV]  alpha=0.05, colsample_bytree=0.8, learning_rate=0.01, max_depth=10, n_estimators=5000, objective=reg:squarederror, total=  39.2s\n",
            "[CV] alpha=0.05, colsample_bytree=0.8, learning_rate=0.01, max_depth=10, n_estimators=5000, objective=reg:squarederror \n",
            "[CV]  alpha=0.05, colsample_bytree=0.8, learning_rate=0.01, max_depth=10, n_estimators=5000, objective=reg:squarederror, total=  40.0s\n",
            "[CV] alpha=0.05, colsample_bytree=0.8, learning_rate=0.01, max_depth=15, n_estimators=3000, objective=reg:squarederror \n",
            "[CV]  alpha=0.05, colsample_bytree=0.8, learning_rate=0.01, max_depth=15, n_estimators=3000, objective=reg:squarederror, total=  33.1s\n",
            "[CV] alpha=0.05, colsample_bytree=0.8, learning_rate=0.01, max_depth=15, n_estimators=3000, objective=reg:squarederror \n",
            "[CV]  alpha=0.05, colsample_bytree=0.8, learning_rate=0.01, max_depth=15, n_estimators=3000, objective=reg:squarederror, total=  34.4s\n",
            "[CV] alpha=0.05, colsample_bytree=0.8, learning_rate=0.01, max_depth=15, n_estimators=3000, objective=reg:squarederror \n",
            "[CV]  alpha=0.05, colsample_bytree=0.8, learning_rate=0.01, max_depth=15, n_estimators=3000, objective=reg:squarederror, total=  34.9s\n",
            "[CV] alpha=0.05, colsample_bytree=0.8, learning_rate=0.01, max_depth=15, n_estimators=5000, objective=reg:squarederror \n",
            "[CV]  alpha=0.05, colsample_bytree=0.8, learning_rate=0.01, max_depth=15, n_estimators=5000, objective=reg:squarederror, total= 1.2min\n",
            "[CV] alpha=0.05, colsample_bytree=0.8, learning_rate=0.01, max_depth=15, n_estimators=5000, objective=reg:squarederror \n",
            "[CV]  alpha=0.05, colsample_bytree=0.8, learning_rate=0.01, max_depth=15, n_estimators=5000, objective=reg:squarederror, total= 1.1min\n",
            "[CV] alpha=0.05, colsample_bytree=0.8, learning_rate=0.01, max_depth=15, n_estimators=5000, objective=reg:squarederror \n",
            "[CV]  alpha=0.05, colsample_bytree=0.8, learning_rate=0.01, max_depth=15, n_estimators=5000, objective=reg:squarederror, total= 1.2min\n",
            "[CV] alpha=0.05, colsample_bytree=0.8, learning_rate=0.01, max_depth=20, n_estimators=3000, objective=reg:squarederror \n",
            "[CV]  alpha=0.05, colsample_bytree=0.8, learning_rate=0.01, max_depth=20, n_estimators=3000, objective=reg:squarederror, total=  56.4s\n",
            "[CV] alpha=0.05, colsample_bytree=0.8, learning_rate=0.01, max_depth=20, n_estimators=3000, objective=reg:squarederror \n",
            "[CV]  alpha=0.05, colsample_bytree=0.8, learning_rate=0.01, max_depth=20, n_estimators=3000, objective=reg:squarederror, total=  59.1s\n",
            "[CV] alpha=0.05, colsample_bytree=0.8, learning_rate=0.01, max_depth=20, n_estimators=3000, objective=reg:squarederror \n",
            "[CV]  alpha=0.05, colsample_bytree=0.8, learning_rate=0.01, max_depth=20, n_estimators=3000, objective=reg:squarederror, total=  55.3s\n",
            "[CV] alpha=0.05, colsample_bytree=0.8, learning_rate=0.01, max_depth=20, n_estimators=5000, objective=reg:squarederror \n",
            "[CV]  alpha=0.05, colsample_bytree=0.8, learning_rate=0.01, max_depth=20, n_estimators=5000, objective=reg:squarederror, total= 1.6min\n",
            "[CV] alpha=0.05, colsample_bytree=0.8, learning_rate=0.01, max_depth=20, n_estimators=5000, objective=reg:squarederror \n",
            "[CV]  alpha=0.05, colsample_bytree=0.8, learning_rate=0.01, max_depth=20, n_estimators=5000, objective=reg:squarederror, total= 1.5min\n",
            "[CV] alpha=0.05, colsample_bytree=0.8, learning_rate=0.01, max_depth=20, n_estimators=5000, objective=reg:squarederror \n",
            "[CV]  alpha=0.05, colsample_bytree=0.8, learning_rate=0.01, max_depth=20, n_estimators=5000, objective=reg:squarederror, total= 1.8min\n",
            "[CV] alpha=0.05, colsample_bytree=0.8, learning_rate=0.02, max_depth=10, n_estimators=3000, objective=reg:squarederror \n",
            "[CV]  alpha=0.05, colsample_bytree=0.8, learning_rate=0.02, max_depth=10, n_estimators=3000, objective=reg:squarederror, total=  21.9s\n",
            "[CV] alpha=0.05, colsample_bytree=0.8, learning_rate=0.02, max_depth=10, n_estimators=3000, objective=reg:squarederror \n",
            "[CV]  alpha=0.05, colsample_bytree=0.8, learning_rate=0.02, max_depth=10, n_estimators=3000, objective=reg:squarederror, total=  22.2s\n",
            "[CV] alpha=0.05, colsample_bytree=0.8, learning_rate=0.02, max_depth=10, n_estimators=3000, objective=reg:squarederror \n",
            "[CV]  alpha=0.05, colsample_bytree=0.8, learning_rate=0.02, max_depth=10, n_estimators=3000, objective=reg:squarederror, total=  21.9s\n",
            "[CV] alpha=0.05, colsample_bytree=0.8, learning_rate=0.02, max_depth=10, n_estimators=5000, objective=reg:squarederror \n",
            "[CV]  alpha=0.05, colsample_bytree=0.8, learning_rate=0.02, max_depth=10, n_estimators=5000, objective=reg:squarederror, total=  43.0s\n",
            "[CV] alpha=0.05, colsample_bytree=0.8, learning_rate=0.02, max_depth=10, n_estimators=5000, objective=reg:squarederror \n",
            "[CV]  alpha=0.05, colsample_bytree=0.8, learning_rate=0.02, max_depth=10, n_estimators=5000, objective=reg:squarederror, total=  45.9s\n",
            "[CV] alpha=0.05, colsample_bytree=0.8, learning_rate=0.02, max_depth=10, n_estimators=5000, objective=reg:squarederror \n",
            "[CV]  alpha=0.05, colsample_bytree=0.8, learning_rate=0.02, max_depth=10, n_estimators=5000, objective=reg:squarederror, total=  42.0s\n",
            "[CV] alpha=0.05, colsample_bytree=0.8, learning_rate=0.02, max_depth=15, n_estimators=3000, objective=reg:squarederror \n",
            "[CV]  alpha=0.05, colsample_bytree=0.8, learning_rate=0.02, max_depth=15, n_estimators=3000, objective=reg:squarederror, total=  42.6s\n",
            "[CV] alpha=0.05, colsample_bytree=0.8, learning_rate=0.02, max_depth=15, n_estimators=3000, objective=reg:squarederror \n",
            "[CV]  alpha=0.05, colsample_bytree=0.8, learning_rate=0.02, max_depth=15, n_estimators=3000, objective=reg:squarederror, total=  43.0s\n",
            "[CV] alpha=0.05, colsample_bytree=0.8, learning_rate=0.02, max_depth=15, n_estimators=3000, objective=reg:squarederror \n",
            "[CV]  alpha=0.05, colsample_bytree=0.8, learning_rate=0.02, max_depth=15, n_estimators=3000, objective=reg:squarederror, total=  41.5s\n",
            "[CV] alpha=0.05, colsample_bytree=0.8, learning_rate=0.02, max_depth=15, n_estimators=5000, objective=reg:squarederror \n",
            "[CV]  alpha=0.05, colsample_bytree=0.8, learning_rate=0.02, max_depth=15, n_estimators=5000, objective=reg:squarederror, total= 1.1min\n",
            "[CV] alpha=0.05, colsample_bytree=0.8, learning_rate=0.02, max_depth=15, n_estimators=5000, objective=reg:squarederror \n",
            "[CV]  alpha=0.05, colsample_bytree=0.8, learning_rate=0.02, max_depth=15, n_estimators=5000, objective=reg:squarederror, total=  54.2s\n",
            "[CV] alpha=0.05, colsample_bytree=0.8, learning_rate=0.02, max_depth=15, n_estimators=5000, objective=reg:squarederror \n",
            "[CV]  alpha=0.05, colsample_bytree=0.8, learning_rate=0.02, max_depth=15, n_estimators=5000, objective=reg:squarederror, total=  57.7s\n",
            "[CV] alpha=0.05, colsample_bytree=0.8, learning_rate=0.02, max_depth=20, n_estimators=3000, objective=reg:squarederror \n",
            "[CV]  alpha=0.05, colsample_bytree=0.8, learning_rate=0.02, max_depth=20, n_estimators=3000, objective=reg:squarederror, total=  39.1s\n",
            "[CV] alpha=0.05, colsample_bytree=0.8, learning_rate=0.02, max_depth=20, n_estimators=3000, objective=reg:squarederror \n",
            "[CV]  alpha=0.05, colsample_bytree=0.8, learning_rate=0.02, max_depth=20, n_estimators=3000, objective=reg:squarederror, total=  47.0s\n",
            "[CV] alpha=0.05, colsample_bytree=0.8, learning_rate=0.02, max_depth=20, n_estimators=3000, objective=reg:squarederror \n",
            "[CV]  alpha=0.05, colsample_bytree=0.8, learning_rate=0.02, max_depth=20, n_estimators=3000, objective=reg:squarederror, total=  46.1s\n",
            "[CV] alpha=0.05, colsample_bytree=0.8, learning_rate=0.02, max_depth=20, n_estimators=5000, objective=reg:squarederror \n",
            "[CV]  alpha=0.05, colsample_bytree=0.8, learning_rate=0.02, max_depth=20, n_estimators=5000, objective=reg:squarederror, total=  46.5s\n",
            "[CV] alpha=0.05, colsample_bytree=0.8, learning_rate=0.02, max_depth=20, n_estimators=5000, objective=reg:squarederror \n",
            "[CV]  alpha=0.05, colsample_bytree=0.8, learning_rate=0.02, max_depth=20, n_estimators=5000, objective=reg:squarederror, total= 1.1min\n",
            "[CV] alpha=0.05, colsample_bytree=0.8, learning_rate=0.02, max_depth=20, n_estimators=5000, objective=reg:squarederror \n",
            "[CV]  alpha=0.05, colsample_bytree=0.8, learning_rate=0.02, max_depth=20, n_estimators=5000, objective=reg:squarederror, total= 1.0min\n",
            "[CV] alpha=0.05, colsample_bytree=0.85, learning_rate=0.005, max_depth=10, n_estimators=3000, objective=reg:squarederror \n",
            "[CV]  alpha=0.05, colsample_bytree=0.85, learning_rate=0.005, max_depth=10, n_estimators=3000, objective=reg:squarederror, total=  19.5s\n",
            "[CV] alpha=0.05, colsample_bytree=0.85, learning_rate=0.005, max_depth=10, n_estimators=3000, objective=reg:squarederror \n",
            "[CV]  alpha=0.05, colsample_bytree=0.85, learning_rate=0.005, max_depth=10, n_estimators=3000, objective=reg:squarederror, total=  20.1s\n",
            "[CV] alpha=0.05, colsample_bytree=0.85, learning_rate=0.005, max_depth=10, n_estimators=3000, objective=reg:squarederror \n",
            "[CV]  alpha=0.05, colsample_bytree=0.85, learning_rate=0.005, max_depth=10, n_estimators=3000, objective=reg:squarederror, total=  20.1s\n",
            "[CV] alpha=0.05, colsample_bytree=0.85, learning_rate=0.005, max_depth=10, n_estimators=5000, objective=reg:squarederror \n",
            "[CV]  alpha=0.05, colsample_bytree=0.85, learning_rate=0.005, max_depth=10, n_estimators=5000, objective=reg:squarederror, total=  36.3s\n",
            "[CV] alpha=0.05, colsample_bytree=0.85, learning_rate=0.005, max_depth=10, n_estimators=5000, objective=reg:squarederror \n",
            "[CV]  alpha=0.05, colsample_bytree=0.85, learning_rate=0.005, max_depth=10, n_estimators=5000, objective=reg:squarederror, total=  37.0s\n",
            "[CV] alpha=0.05, colsample_bytree=0.85, learning_rate=0.005, max_depth=10, n_estimators=5000, objective=reg:squarederror \n",
            "[CV]  alpha=0.05, colsample_bytree=0.85, learning_rate=0.005, max_depth=10, n_estimators=5000, objective=reg:squarederror, total=  38.8s\n",
            "[CV] alpha=0.05, colsample_bytree=0.85, learning_rate=0.005, max_depth=15, n_estimators=3000, objective=reg:squarederror \n",
            "[CV]  alpha=0.05, colsample_bytree=0.85, learning_rate=0.005, max_depth=15, n_estimators=3000, objective=reg:squarederror, total=  32.6s\n",
            "[CV] alpha=0.05, colsample_bytree=0.85, learning_rate=0.005, max_depth=15, n_estimators=3000, objective=reg:squarederror \n",
            "[CV]  alpha=0.05, colsample_bytree=0.85, learning_rate=0.005, max_depth=15, n_estimators=3000, objective=reg:squarederror, total=  33.9s\n",
            "[CV] alpha=0.05, colsample_bytree=0.85, learning_rate=0.005, max_depth=15, n_estimators=3000, objective=reg:squarederror \n",
            "[CV]  alpha=0.05, colsample_bytree=0.85, learning_rate=0.005, max_depth=15, n_estimators=3000, objective=reg:squarederror, total=  32.7s\n",
            "[CV] alpha=0.05, colsample_bytree=0.85, learning_rate=0.005, max_depth=15, n_estimators=5000, objective=reg:squarederror \n",
            "[CV]  alpha=0.05, colsample_bytree=0.85, learning_rate=0.005, max_depth=15, n_estimators=5000, objective=reg:squarederror, total= 1.1min\n",
            "[CV] alpha=0.05, colsample_bytree=0.85, learning_rate=0.005, max_depth=15, n_estimators=5000, objective=reg:squarederror \n",
            "[CV]  alpha=0.05, colsample_bytree=0.85, learning_rate=0.005, max_depth=15, n_estimators=5000, objective=reg:squarederror, total= 1.1min\n",
            "[CV] alpha=0.05, colsample_bytree=0.85, learning_rate=0.005, max_depth=15, n_estimators=5000, objective=reg:squarederror \n",
            "[CV]  alpha=0.05, colsample_bytree=0.85, learning_rate=0.005, max_depth=15, n_estimators=5000, objective=reg:squarederror, total= 1.1min\n",
            "[CV] alpha=0.05, colsample_bytree=0.85, learning_rate=0.005, max_depth=20, n_estimators=3000, objective=reg:squarederror \n",
            "[CV]  alpha=0.05, colsample_bytree=0.85, learning_rate=0.005, max_depth=20, n_estimators=3000, objective=reg:squarederror, total=  51.7s\n",
            "[CV] alpha=0.05, colsample_bytree=0.85, learning_rate=0.005, max_depth=20, n_estimators=3000, objective=reg:squarederror \n",
            "[CV]  alpha=0.05, colsample_bytree=0.85, learning_rate=0.005, max_depth=20, n_estimators=3000, objective=reg:squarederror, total=  44.4s\n",
            "[CV] alpha=0.05, colsample_bytree=0.85, learning_rate=0.005, max_depth=20, n_estimators=3000, objective=reg:squarederror \n",
            "[CV]  alpha=0.05, colsample_bytree=0.85, learning_rate=0.005, max_depth=20, n_estimators=3000, objective=reg:squarederror, total=  43.3s\n",
            "[CV] alpha=0.05, colsample_bytree=0.85, learning_rate=0.005, max_depth=20, n_estimators=5000, objective=reg:squarederror \n",
            "[CV]  alpha=0.05, colsample_bytree=0.85, learning_rate=0.005, max_depth=20, n_estimators=5000, objective=reg:squarederror, total= 1.4min\n",
            "[CV] alpha=0.05, colsample_bytree=0.85, learning_rate=0.005, max_depth=20, n_estimators=5000, objective=reg:squarederror \n",
            "[CV]  alpha=0.05, colsample_bytree=0.85, learning_rate=0.005, max_depth=20, n_estimators=5000, objective=reg:squarederror, total= 1.6min\n",
            "[CV] alpha=0.05, colsample_bytree=0.85, learning_rate=0.005, max_depth=20, n_estimators=5000, objective=reg:squarederror \n",
            "[CV]  alpha=0.05, colsample_bytree=0.85, learning_rate=0.005, max_depth=20, n_estimators=5000, objective=reg:squarederror, total= 1.5min\n",
            "[CV] alpha=0.05, colsample_bytree=0.85, learning_rate=0.01, max_depth=10, n_estimators=3000, objective=reg:squarederror \n",
            "[CV]  alpha=0.05, colsample_bytree=0.85, learning_rate=0.01, max_depth=10, n_estimators=3000, objective=reg:squarederror, total=  21.3s\n",
            "[CV] alpha=0.05, colsample_bytree=0.85, learning_rate=0.01, max_depth=10, n_estimators=3000, objective=reg:squarederror \n",
            "[CV]  alpha=0.05, colsample_bytree=0.85, learning_rate=0.01, max_depth=10, n_estimators=3000, objective=reg:squarederror, total=  22.0s\n",
            "[CV] alpha=0.05, colsample_bytree=0.85, learning_rate=0.01, max_depth=10, n_estimators=3000, objective=reg:squarederror \n",
            "[CV]  alpha=0.05, colsample_bytree=0.85, learning_rate=0.01, max_depth=10, n_estimators=3000, objective=reg:squarederror, total=  21.5s\n",
            "[CV] alpha=0.05, colsample_bytree=0.85, learning_rate=0.01, max_depth=10, n_estimators=5000, objective=reg:squarederror \n",
            "[CV]  alpha=0.05, colsample_bytree=0.85, learning_rate=0.01, max_depth=10, n_estimators=5000, objective=reg:squarederror, total=  39.3s\n",
            "[CV] alpha=0.05, colsample_bytree=0.85, learning_rate=0.01, max_depth=10, n_estimators=5000, objective=reg:squarederror \n",
            "[CV]  alpha=0.05, colsample_bytree=0.85, learning_rate=0.01, max_depth=10, n_estimators=5000, objective=reg:squarederror, total=  41.0s\n",
            "[CV] alpha=0.05, colsample_bytree=0.85, learning_rate=0.01, max_depth=10, n_estimators=5000, objective=reg:squarederror \n",
            "[CV]  alpha=0.05, colsample_bytree=0.85, learning_rate=0.01, max_depth=10, n_estimators=5000, objective=reg:squarederror, total=  39.1s\n",
            "[CV] alpha=0.05, colsample_bytree=0.85, learning_rate=0.01, max_depth=15, n_estimators=3000, objective=reg:squarederror \n",
            "[CV]  alpha=0.05, colsample_bytree=0.85, learning_rate=0.01, max_depth=15, n_estimators=3000, objective=reg:squarederror, total=  36.7s\n",
            "[CV] alpha=0.05, colsample_bytree=0.85, learning_rate=0.01, max_depth=15, n_estimators=3000, objective=reg:squarederror \n",
            "[CV]  alpha=0.05, colsample_bytree=0.85, learning_rate=0.01, max_depth=15, n_estimators=3000, objective=reg:squarederror, total=  36.4s\n",
            "[CV] alpha=0.05, colsample_bytree=0.85, learning_rate=0.01, max_depth=15, n_estimators=3000, objective=reg:squarederror \n",
            "[CV]  alpha=0.05, colsample_bytree=0.85, learning_rate=0.01, max_depth=15, n_estimators=3000, objective=reg:squarederror, total=  37.4s\n",
            "[CV] alpha=0.05, colsample_bytree=0.85, learning_rate=0.01, max_depth=15, n_estimators=5000, objective=reg:squarederror \n",
            "[CV]  alpha=0.05, colsample_bytree=0.85, learning_rate=0.01, max_depth=15, n_estimators=5000, objective=reg:squarederror, total= 1.0min\n",
            "[CV] alpha=0.05, colsample_bytree=0.85, learning_rate=0.01, max_depth=15, n_estimators=5000, objective=reg:squarederror \n",
            "[CV]  alpha=0.05, colsample_bytree=0.85, learning_rate=0.01, max_depth=15, n_estimators=5000, objective=reg:squarederror, total= 1.1min\n",
            "[CV] alpha=0.05, colsample_bytree=0.85, learning_rate=0.01, max_depth=15, n_estimators=5000, objective=reg:squarederror \n",
            "[CV]  alpha=0.05, colsample_bytree=0.85, learning_rate=0.01, max_depth=15, n_estimators=5000, objective=reg:squarederror, total= 1.1min\n",
            "[CV] alpha=0.05, colsample_bytree=0.85, learning_rate=0.01, max_depth=20, n_estimators=3000, objective=reg:squarederror \n",
            "[CV]  alpha=0.05, colsample_bytree=0.85, learning_rate=0.01, max_depth=20, n_estimators=3000, objective=reg:squarederror, total=  54.8s\n",
            "[CV] alpha=0.05, colsample_bytree=0.85, learning_rate=0.01, max_depth=20, n_estimators=3000, objective=reg:squarederror \n",
            "[CV]  alpha=0.05, colsample_bytree=0.85, learning_rate=0.01, max_depth=20, n_estimators=3000, objective=reg:squarederror, total=  52.6s\n",
            "[CV] alpha=0.05, colsample_bytree=0.85, learning_rate=0.01, max_depth=20, n_estimators=3000, objective=reg:squarederror \n",
            "[CV]  alpha=0.05, colsample_bytree=0.85, learning_rate=0.01, max_depth=20, n_estimators=3000, objective=reg:squarederror, total=  47.4s\n",
            "[CV] alpha=0.05, colsample_bytree=0.85, learning_rate=0.01, max_depth=20, n_estimators=5000, objective=reg:squarederror \n",
            "[CV]  alpha=0.05, colsample_bytree=0.85, learning_rate=0.01, max_depth=20, n_estimators=5000, objective=reg:squarederror, total= 1.5min\n",
            "[CV] alpha=0.05, colsample_bytree=0.85, learning_rate=0.01, max_depth=20, n_estimators=5000, objective=reg:squarederror \n",
            "[CV]  alpha=0.05, colsample_bytree=0.85, learning_rate=0.01, max_depth=20, n_estimators=5000, objective=reg:squarederror, total= 1.5min\n",
            "[CV] alpha=0.05, colsample_bytree=0.85, learning_rate=0.01, max_depth=20, n_estimators=5000, objective=reg:squarederror \n",
            "[CV]  alpha=0.05, colsample_bytree=0.85, learning_rate=0.01, max_depth=20, n_estimators=5000, objective=reg:squarederror, total= 1.6min\n",
            "[CV] alpha=0.05, colsample_bytree=0.85, learning_rate=0.02, max_depth=10, n_estimators=3000, objective=reg:squarederror \n",
            "[CV]  alpha=0.05, colsample_bytree=0.85, learning_rate=0.02, max_depth=10, n_estimators=3000, objective=reg:squarederror, total=  21.8s\n",
            "[CV] alpha=0.05, colsample_bytree=0.85, learning_rate=0.02, max_depth=10, n_estimators=3000, objective=reg:squarederror \n",
            "[CV]  alpha=0.05, colsample_bytree=0.85, learning_rate=0.02, max_depth=10, n_estimators=3000, objective=reg:squarederror, total=  21.5s\n",
            "[CV] alpha=0.05, colsample_bytree=0.85, learning_rate=0.02, max_depth=10, n_estimators=3000, objective=reg:squarederror \n",
            "[CV]  alpha=0.05, colsample_bytree=0.85, learning_rate=0.02, max_depth=10, n_estimators=3000, objective=reg:squarederror, total=  21.3s\n",
            "[CV] alpha=0.05, colsample_bytree=0.85, learning_rate=0.02, max_depth=10, n_estimators=5000, objective=reg:squarederror \n",
            "[CV]  alpha=0.05, colsample_bytree=0.85, learning_rate=0.02, max_depth=10, n_estimators=5000, objective=reg:squarederror, total=  38.6s\n",
            "[CV] alpha=0.05, colsample_bytree=0.85, learning_rate=0.02, max_depth=10, n_estimators=5000, objective=reg:squarederror \n",
            "[CV]  alpha=0.05, colsample_bytree=0.85, learning_rate=0.02, max_depth=10, n_estimators=5000, objective=reg:squarederror, total=  36.8s\n",
            "[CV] alpha=0.05, colsample_bytree=0.85, learning_rate=0.02, max_depth=10, n_estimators=5000, objective=reg:squarederror \n",
            "[CV]  alpha=0.05, colsample_bytree=0.85, learning_rate=0.02, max_depth=10, n_estimators=5000, objective=reg:squarederror, total=  37.1s\n",
            "[CV] alpha=0.05, colsample_bytree=0.85, learning_rate=0.02, max_depth=15, n_estimators=3000, objective=reg:squarederror \n",
            "[CV]  alpha=0.05, colsample_bytree=0.85, learning_rate=0.02, max_depth=15, n_estimators=3000, objective=reg:squarederror, total=  36.8s\n",
            "[CV] alpha=0.05, colsample_bytree=0.85, learning_rate=0.02, max_depth=15, n_estimators=3000, objective=reg:squarederror \n",
            "[CV]  alpha=0.05, colsample_bytree=0.85, learning_rate=0.02, max_depth=15, n_estimators=3000, objective=reg:squarederror, total=  33.4s\n",
            "[CV] alpha=0.05, colsample_bytree=0.85, learning_rate=0.02, max_depth=15, n_estimators=3000, objective=reg:squarederror \n",
            "[CV]  alpha=0.05, colsample_bytree=0.85, learning_rate=0.02, max_depth=15, n_estimators=3000, objective=reg:squarederror, total=  32.9s\n",
            "[CV] alpha=0.05, colsample_bytree=0.85, learning_rate=0.02, max_depth=15, n_estimators=5000, objective=reg:squarederror \n",
            "[CV]  alpha=0.05, colsample_bytree=0.85, learning_rate=0.02, max_depth=15, n_estimators=5000, objective=reg:squarederror, total=  53.1s\n",
            "[CV] alpha=0.05, colsample_bytree=0.85, learning_rate=0.02, max_depth=15, n_estimators=5000, objective=reg:squarederror \n",
            "[CV]  alpha=0.05, colsample_bytree=0.85, learning_rate=0.02, max_depth=15, n_estimators=5000, objective=reg:squarederror, total=  48.3s\n",
            "[CV] alpha=0.05, colsample_bytree=0.85, learning_rate=0.02, max_depth=15, n_estimators=5000, objective=reg:squarederror \n",
            "[CV]  alpha=0.05, colsample_bytree=0.85, learning_rate=0.02, max_depth=15, n_estimators=5000, objective=reg:squarederror, total=  55.3s\n",
            "[CV] alpha=0.05, colsample_bytree=0.85, learning_rate=0.02, max_depth=20, n_estimators=3000, objective=reg:squarederror \n",
            "[CV]  alpha=0.05, colsample_bytree=0.85, learning_rate=0.02, max_depth=20, n_estimators=3000, objective=reg:squarederror, total=  37.1s\n",
            "[CV] alpha=0.05, colsample_bytree=0.85, learning_rate=0.02, max_depth=20, n_estimators=3000, objective=reg:squarederror \n",
            "[CV]  alpha=0.05, colsample_bytree=0.85, learning_rate=0.02, max_depth=20, n_estimators=3000, objective=reg:squarederror, total=  45.4s\n",
            "[CV] alpha=0.05, colsample_bytree=0.85, learning_rate=0.02, max_depth=20, n_estimators=3000, objective=reg:squarederror \n",
            "[CV]  alpha=0.05, colsample_bytree=0.85, learning_rate=0.02, max_depth=20, n_estimators=3000, objective=reg:squarederror, total=  41.7s\n",
            "[CV] alpha=0.05, colsample_bytree=0.85, learning_rate=0.02, max_depth=20, n_estimators=5000, objective=reg:squarederror \n",
            "[CV]  alpha=0.05, colsample_bytree=0.85, learning_rate=0.02, max_depth=20, n_estimators=5000, objective=reg:squarederror, total=  46.5s\n",
            "[CV] alpha=0.05, colsample_bytree=0.85, learning_rate=0.02, max_depth=20, n_estimators=5000, objective=reg:squarederror \n",
            "[CV]  alpha=0.05, colsample_bytree=0.85, learning_rate=0.02, max_depth=20, n_estimators=5000, objective=reg:squarederror, total= 1.2min\n",
            "[CV] alpha=0.05, colsample_bytree=0.85, learning_rate=0.02, max_depth=20, n_estimators=5000, objective=reg:squarederror \n",
            "[CV]  alpha=0.05, colsample_bytree=0.85, learning_rate=0.02, max_depth=20, n_estimators=5000, objective=reg:squarederror, total=  59.7s\n",
            "[CV] alpha=0.1, colsample_bytree=0.75, learning_rate=0.005, max_depth=10, n_estimators=3000, objective=reg:squarederror \n",
            "[CV]  alpha=0.1, colsample_bytree=0.75, learning_rate=0.005, max_depth=10, n_estimators=3000, objective=reg:squarederror, total=  19.5s\n",
            "[CV] alpha=0.1, colsample_bytree=0.75, learning_rate=0.005, max_depth=10, n_estimators=3000, objective=reg:squarederror \n",
            "[CV]  alpha=0.1, colsample_bytree=0.75, learning_rate=0.005, max_depth=10, n_estimators=3000, objective=reg:squarederror, total=  19.3s\n",
            "[CV] alpha=0.1, colsample_bytree=0.75, learning_rate=0.005, max_depth=10, n_estimators=3000, objective=reg:squarederror \n",
            "[CV]  alpha=0.1, colsample_bytree=0.75, learning_rate=0.005, max_depth=10, n_estimators=3000, objective=reg:squarederror, total=  19.2s\n",
            "[CV] alpha=0.1, colsample_bytree=0.75, learning_rate=0.005, max_depth=10, n_estimators=5000, objective=reg:squarederror \n",
            "[CV]  alpha=0.1, colsample_bytree=0.75, learning_rate=0.005, max_depth=10, n_estimators=5000, objective=reg:squarederror, total=  35.4s\n",
            "[CV] alpha=0.1, colsample_bytree=0.75, learning_rate=0.005, max_depth=10, n_estimators=5000, objective=reg:squarederror \n",
            "[CV]  alpha=0.1, colsample_bytree=0.75, learning_rate=0.005, max_depth=10, n_estimators=5000, objective=reg:squarederror, total=  35.5s\n",
            "[CV] alpha=0.1, colsample_bytree=0.75, learning_rate=0.005, max_depth=10, n_estimators=5000, objective=reg:squarederror \n",
            "[CV]  alpha=0.1, colsample_bytree=0.75, learning_rate=0.005, max_depth=10, n_estimators=5000, objective=reg:squarederror, total=  36.8s\n",
            "[CV] alpha=0.1, colsample_bytree=0.75, learning_rate=0.005, max_depth=15, n_estimators=3000, objective=reg:squarederror \n",
            "[CV]  alpha=0.1, colsample_bytree=0.75, learning_rate=0.005, max_depth=15, n_estimators=3000, objective=reg:squarederror, total=  32.1s\n",
            "[CV] alpha=0.1, colsample_bytree=0.75, learning_rate=0.005, max_depth=15, n_estimators=3000, objective=reg:squarederror \n",
            "[CV]  alpha=0.1, colsample_bytree=0.75, learning_rate=0.005, max_depth=15, n_estimators=3000, objective=reg:squarederror, total=  32.5s\n",
            "[CV] alpha=0.1, colsample_bytree=0.75, learning_rate=0.005, max_depth=15, n_estimators=3000, objective=reg:squarederror \n",
            "[CV]  alpha=0.1, colsample_bytree=0.75, learning_rate=0.005, max_depth=15, n_estimators=3000, objective=reg:squarederror, total=  31.2s\n",
            "[CV] alpha=0.1, colsample_bytree=0.75, learning_rate=0.005, max_depth=15, n_estimators=5000, objective=reg:squarederror \n",
            "[CV]  alpha=0.1, colsample_bytree=0.75, learning_rate=0.005, max_depth=15, n_estimators=5000, objective=reg:squarederror, total= 1.1min\n",
            "[CV] alpha=0.1, colsample_bytree=0.75, learning_rate=0.005, max_depth=15, n_estimators=5000, objective=reg:squarederror \n",
            "[CV]  alpha=0.1, colsample_bytree=0.75, learning_rate=0.005, max_depth=15, n_estimators=5000, objective=reg:squarederror, total= 1.1min\n",
            "[CV] alpha=0.1, colsample_bytree=0.75, learning_rate=0.005, max_depth=15, n_estimators=5000, objective=reg:squarederror \n",
            "[CV]  alpha=0.1, colsample_bytree=0.75, learning_rate=0.005, max_depth=15, n_estimators=5000, objective=reg:squarederror, total= 1.1min\n",
            "[CV] alpha=0.1, colsample_bytree=0.75, learning_rate=0.005, max_depth=20, n_estimators=3000, objective=reg:squarederror \n",
            "[CV]  alpha=0.1, colsample_bytree=0.75, learning_rate=0.005, max_depth=20, n_estimators=3000, objective=reg:squarederror, total=  48.5s\n",
            "[CV] alpha=0.1, colsample_bytree=0.75, learning_rate=0.005, max_depth=20, n_estimators=3000, objective=reg:squarederror \n",
            "[CV]  alpha=0.1, colsample_bytree=0.75, learning_rate=0.005, max_depth=20, n_estimators=3000, objective=reg:squarederror, total=  49.3s\n",
            "[CV] alpha=0.1, colsample_bytree=0.75, learning_rate=0.005, max_depth=20, n_estimators=3000, objective=reg:squarederror \n",
            "[CV]  alpha=0.1, colsample_bytree=0.75, learning_rate=0.005, max_depth=20, n_estimators=3000, objective=reg:squarederror, total=  50.4s\n",
            "[CV] alpha=0.1, colsample_bytree=0.75, learning_rate=0.005, max_depth=20, n_estimators=5000, objective=reg:squarederror \n",
            "[CV]  alpha=0.1, colsample_bytree=0.75, learning_rate=0.005, max_depth=20, n_estimators=5000, objective=reg:squarederror, total= 1.5min\n",
            "[CV] alpha=0.1, colsample_bytree=0.75, learning_rate=0.005, max_depth=20, n_estimators=5000, objective=reg:squarederror \n",
            "[CV]  alpha=0.1, colsample_bytree=0.75, learning_rate=0.005, max_depth=20, n_estimators=5000, objective=reg:squarederror, total= 1.5min\n",
            "[CV] alpha=0.1, colsample_bytree=0.75, learning_rate=0.005, max_depth=20, n_estimators=5000, objective=reg:squarederror \n",
            "[CV]  alpha=0.1, colsample_bytree=0.75, learning_rate=0.005, max_depth=20, n_estimators=5000, objective=reg:squarederror, total= 1.6min\n",
            "[CV] alpha=0.1, colsample_bytree=0.75, learning_rate=0.01, max_depth=10, n_estimators=3000, objective=reg:squarederror \n",
            "[CV]  alpha=0.1, colsample_bytree=0.75, learning_rate=0.01, max_depth=10, n_estimators=3000, objective=reg:squarederror, total=  21.4s\n",
            "[CV] alpha=0.1, colsample_bytree=0.75, learning_rate=0.01, max_depth=10, n_estimators=3000, objective=reg:squarederror \n",
            "[CV]  alpha=0.1, colsample_bytree=0.75, learning_rate=0.01, max_depth=10, n_estimators=3000, objective=reg:squarederror, total=  22.2s\n",
            "[CV] alpha=0.1, colsample_bytree=0.75, learning_rate=0.01, max_depth=10, n_estimators=3000, objective=reg:squarederror \n",
            "[CV]  alpha=0.1, colsample_bytree=0.75, learning_rate=0.01, max_depth=10, n_estimators=3000, objective=reg:squarederror, total=  21.5s\n",
            "[CV] alpha=0.1, colsample_bytree=0.75, learning_rate=0.01, max_depth=10, n_estimators=5000, objective=reg:squarederror \n",
            "[CV]  alpha=0.1, colsample_bytree=0.75, learning_rate=0.01, max_depth=10, n_estimators=5000, objective=reg:squarederror, total=  39.8s\n",
            "[CV] alpha=0.1, colsample_bytree=0.75, learning_rate=0.01, max_depth=10, n_estimators=5000, objective=reg:squarederror \n",
            "[CV]  alpha=0.1, colsample_bytree=0.75, learning_rate=0.01, max_depth=10, n_estimators=5000, objective=reg:squarederror, total=  40.2s\n",
            "[CV] alpha=0.1, colsample_bytree=0.75, learning_rate=0.01, max_depth=10, n_estimators=5000, objective=reg:squarederror \n",
            "[CV]  alpha=0.1, colsample_bytree=0.75, learning_rate=0.01, max_depth=10, n_estimators=5000, objective=reg:squarederror, total=  39.0s\n",
            "[CV] alpha=0.1, colsample_bytree=0.75, learning_rate=0.01, max_depth=15, n_estimators=3000, objective=reg:squarederror \n",
            "[CV]  alpha=0.1, colsample_bytree=0.75, learning_rate=0.01, max_depth=15, n_estimators=3000, objective=reg:squarederror, total=  34.9s\n",
            "[CV] alpha=0.1, colsample_bytree=0.75, learning_rate=0.01, max_depth=15, n_estimators=3000, objective=reg:squarederror \n",
            "[CV]  alpha=0.1, colsample_bytree=0.75, learning_rate=0.01, max_depth=15, n_estimators=3000, objective=reg:squarederror, total=  34.9s\n",
            "[CV] alpha=0.1, colsample_bytree=0.75, learning_rate=0.01, max_depth=15, n_estimators=3000, objective=reg:squarederror \n",
            "[CV]  alpha=0.1, colsample_bytree=0.75, learning_rate=0.01, max_depth=15, n_estimators=3000, objective=reg:squarederror, total=  35.0s\n",
            "[CV] alpha=0.1, colsample_bytree=0.75, learning_rate=0.01, max_depth=15, n_estimators=5000, objective=reg:squarederror \n",
            "[CV]  alpha=0.1, colsample_bytree=0.75, learning_rate=0.01, max_depth=15, n_estimators=5000, objective=reg:squarederror, total= 1.2min\n",
            "[CV] alpha=0.1, colsample_bytree=0.75, learning_rate=0.01, max_depth=15, n_estimators=5000, objective=reg:squarederror \n",
            "[CV]  alpha=0.1, colsample_bytree=0.75, learning_rate=0.01, max_depth=15, n_estimators=5000, objective=reg:squarederror, total= 1.2min\n",
            "[CV] alpha=0.1, colsample_bytree=0.75, learning_rate=0.01, max_depth=15, n_estimators=5000, objective=reg:squarederror \n",
            "[CV]  alpha=0.1, colsample_bytree=0.75, learning_rate=0.01, max_depth=15, n_estimators=5000, objective=reg:squarederror, total= 1.2min\n",
            "[CV] alpha=0.1, colsample_bytree=0.75, learning_rate=0.01, max_depth=20, n_estimators=3000, objective=reg:squarederror \n",
            "[CV]  alpha=0.1, colsample_bytree=0.75, learning_rate=0.01, max_depth=20, n_estimators=3000, objective=reg:squarederror, total=  55.9s\n",
            "[CV] alpha=0.1, colsample_bytree=0.75, learning_rate=0.01, max_depth=20, n_estimators=3000, objective=reg:squarederror \n",
            "[CV]  alpha=0.1, colsample_bytree=0.75, learning_rate=0.01, max_depth=20, n_estimators=3000, objective=reg:squarederror, total=  54.4s\n",
            "[CV] alpha=0.1, colsample_bytree=0.75, learning_rate=0.01, max_depth=20, n_estimators=3000, objective=reg:squarederror \n",
            "[CV]  alpha=0.1, colsample_bytree=0.75, learning_rate=0.01, max_depth=20, n_estimators=3000, objective=reg:squarederror, total=  56.3s\n",
            "[CV] alpha=0.1, colsample_bytree=0.75, learning_rate=0.01, max_depth=20, n_estimators=5000, objective=reg:squarederror \n",
            "[CV]  alpha=0.1, colsample_bytree=0.75, learning_rate=0.01, max_depth=20, n_estimators=5000, objective=reg:squarederror, total= 1.6min\n",
            "[CV] alpha=0.1, colsample_bytree=0.75, learning_rate=0.01, max_depth=20, n_estimators=5000, objective=reg:squarederror \n",
            "[CV]  alpha=0.1, colsample_bytree=0.75, learning_rate=0.01, max_depth=20, n_estimators=5000, objective=reg:squarederror, total= 1.6min\n",
            "[CV] alpha=0.1, colsample_bytree=0.75, learning_rate=0.01, max_depth=20, n_estimators=5000, objective=reg:squarederror \n",
            "[CV]  alpha=0.1, colsample_bytree=0.75, learning_rate=0.01, max_depth=20, n_estimators=5000, objective=reg:squarederror, total= 1.6min\n",
            "[CV] alpha=0.1, colsample_bytree=0.75, learning_rate=0.02, max_depth=10, n_estimators=3000, objective=reg:squarederror \n",
            "[CV]  alpha=0.1, colsample_bytree=0.75, learning_rate=0.02, max_depth=10, n_estimators=3000, objective=reg:squarederror, total=  21.7s\n",
            "[CV] alpha=0.1, colsample_bytree=0.75, learning_rate=0.02, max_depth=10, n_estimators=3000, objective=reg:squarederror \n",
            "[CV]  alpha=0.1, colsample_bytree=0.75, learning_rate=0.02, max_depth=10, n_estimators=3000, objective=reg:squarederror, total=  21.6s\n",
            "[CV] alpha=0.1, colsample_bytree=0.75, learning_rate=0.02, max_depth=10, n_estimators=3000, objective=reg:squarederror \n",
            "[CV]  alpha=0.1, colsample_bytree=0.75, learning_rate=0.02, max_depth=10, n_estimators=3000, objective=reg:squarederror, total=  21.7s\n",
            "[CV] alpha=0.1, colsample_bytree=0.75, learning_rate=0.02, max_depth=10, n_estimators=5000, objective=reg:squarederror \n",
            "[CV]  alpha=0.1, colsample_bytree=0.75, learning_rate=0.02, max_depth=10, n_estimators=5000, objective=reg:squarederror, total=  38.0s\n",
            "[CV] alpha=0.1, colsample_bytree=0.75, learning_rate=0.02, max_depth=10, n_estimators=5000, objective=reg:squarederror \n",
            "[CV]  alpha=0.1, colsample_bytree=0.75, learning_rate=0.02, max_depth=10, n_estimators=5000, objective=reg:squarederror, total=  37.3s\n",
            "[CV] alpha=0.1, colsample_bytree=0.75, learning_rate=0.02, max_depth=10, n_estimators=5000, objective=reg:squarederror \n",
            "[CV]  alpha=0.1, colsample_bytree=0.75, learning_rate=0.02, max_depth=10, n_estimators=5000, objective=reg:squarederror, total=  37.1s\n",
            "[CV] alpha=0.1, colsample_bytree=0.75, learning_rate=0.02, max_depth=15, n_estimators=3000, objective=reg:squarederror \n",
            "[CV]  alpha=0.1, colsample_bytree=0.75, learning_rate=0.02, max_depth=15, n_estimators=3000, objective=reg:squarederror, total=  34.5s\n",
            "[CV] alpha=0.1, colsample_bytree=0.75, learning_rate=0.02, max_depth=15, n_estimators=3000, objective=reg:squarederror \n",
            "[CV]  alpha=0.1, colsample_bytree=0.75, learning_rate=0.02, max_depth=15, n_estimators=3000, objective=reg:squarederror, total=  33.6s\n",
            "[CV] alpha=0.1, colsample_bytree=0.75, learning_rate=0.02, max_depth=15, n_estimators=3000, objective=reg:squarederror \n",
            "[CV]  alpha=0.1, colsample_bytree=0.75, learning_rate=0.02, max_depth=15, n_estimators=3000, objective=reg:squarederror, total=  33.9s\n",
            "[CV] alpha=0.1, colsample_bytree=0.75, learning_rate=0.02, max_depth=15, n_estimators=5000, objective=reg:squarederror \n",
            "[CV]  alpha=0.1, colsample_bytree=0.75, learning_rate=0.02, max_depth=15, n_estimators=5000, objective=reg:squarederror, total=  52.9s\n",
            "[CV] alpha=0.1, colsample_bytree=0.75, learning_rate=0.02, max_depth=15, n_estimators=5000, objective=reg:squarederror \n",
            "[CV]  alpha=0.1, colsample_bytree=0.75, learning_rate=0.02, max_depth=15, n_estimators=5000, objective=reg:squarederror, total=  52.2s\n",
            "[CV] alpha=0.1, colsample_bytree=0.75, learning_rate=0.02, max_depth=15, n_estimators=5000, objective=reg:squarederror \n",
            "[CV]  alpha=0.1, colsample_bytree=0.75, learning_rate=0.02, max_depth=15, n_estimators=5000, objective=reg:squarederror, total=  56.5s\n",
            "[CV] alpha=0.1, colsample_bytree=0.75, learning_rate=0.02, max_depth=20, n_estimators=3000, objective=reg:squarederror \n",
            "[CV]  alpha=0.1, colsample_bytree=0.75, learning_rate=0.02, max_depth=20, n_estimators=3000, objective=reg:squarederror, total=  38.8s\n",
            "[CV] alpha=0.1, colsample_bytree=0.75, learning_rate=0.02, max_depth=20, n_estimators=3000, objective=reg:squarederror \n",
            "[CV]  alpha=0.1, colsample_bytree=0.75, learning_rate=0.02, max_depth=20, n_estimators=3000, objective=reg:squarederror, total=  46.2s\n",
            "[CV] alpha=0.1, colsample_bytree=0.75, learning_rate=0.02, max_depth=20, n_estimators=3000, objective=reg:squarederror \n",
            "[CV]  alpha=0.1, colsample_bytree=0.75, learning_rate=0.02, max_depth=20, n_estimators=3000, objective=reg:squarederror, total=  46.7s\n",
            "[CV] alpha=0.1, colsample_bytree=0.75, learning_rate=0.02, max_depth=20, n_estimators=5000, objective=reg:squarederror \n",
            "[CV]  alpha=0.1, colsample_bytree=0.75, learning_rate=0.02, max_depth=20, n_estimators=5000, objective=reg:squarederror, total=  46.8s\n",
            "[CV] alpha=0.1, colsample_bytree=0.75, learning_rate=0.02, max_depth=20, n_estimators=5000, objective=reg:squarederror \n",
            "[CV]  alpha=0.1, colsample_bytree=0.75, learning_rate=0.02, max_depth=20, n_estimators=5000, objective=reg:squarederror, total= 1.1min\n",
            "[CV] alpha=0.1, colsample_bytree=0.75, learning_rate=0.02, max_depth=20, n_estimators=5000, objective=reg:squarederror \n",
            "[CV]  alpha=0.1, colsample_bytree=0.75, learning_rate=0.02, max_depth=20, n_estimators=5000, objective=reg:squarederror, total= 1.0min\n",
            "[CV] alpha=0.1, colsample_bytree=0.8, learning_rate=0.005, max_depth=10, n_estimators=3000, objective=reg:squarederror \n",
            "[CV]  alpha=0.1, colsample_bytree=0.8, learning_rate=0.005, max_depth=10, n_estimators=3000, objective=reg:squarederror, total=  19.2s\n",
            "[CV] alpha=0.1, colsample_bytree=0.8, learning_rate=0.005, max_depth=10, n_estimators=3000, objective=reg:squarederror \n",
            "[CV]  alpha=0.1, colsample_bytree=0.8, learning_rate=0.005, max_depth=10, n_estimators=3000, objective=reg:squarederror, total=  19.4s\n",
            "[CV] alpha=0.1, colsample_bytree=0.8, learning_rate=0.005, max_depth=10, n_estimators=3000, objective=reg:squarederror \n",
            "[CV]  alpha=0.1, colsample_bytree=0.8, learning_rate=0.005, max_depth=10, n_estimators=3000, objective=reg:squarederror, total=  19.3s\n",
            "[CV] alpha=0.1, colsample_bytree=0.8, learning_rate=0.005, max_depth=10, n_estimators=5000, objective=reg:squarederror \n",
            "[CV]  alpha=0.1, colsample_bytree=0.8, learning_rate=0.005, max_depth=10, n_estimators=5000, objective=reg:squarederror, total=  35.5s\n",
            "[CV] alpha=0.1, colsample_bytree=0.8, learning_rate=0.005, max_depth=10, n_estimators=5000, objective=reg:squarederror \n",
            "[CV]  alpha=0.1, colsample_bytree=0.8, learning_rate=0.005, max_depth=10, n_estimators=5000, objective=reg:squarederror, total=  35.0s\n",
            "[CV] alpha=0.1, colsample_bytree=0.8, learning_rate=0.005, max_depth=10, n_estimators=5000, objective=reg:squarederror \n",
            "[CV]  alpha=0.1, colsample_bytree=0.8, learning_rate=0.005, max_depth=10, n_estimators=5000, objective=reg:squarederror, total=  36.7s\n",
            "[CV] alpha=0.1, colsample_bytree=0.8, learning_rate=0.005, max_depth=15, n_estimators=3000, objective=reg:squarederror \n",
            "[CV]  alpha=0.1, colsample_bytree=0.8, learning_rate=0.005, max_depth=15, n_estimators=3000, objective=reg:squarederror, total=  29.9s\n",
            "[CV] alpha=0.1, colsample_bytree=0.8, learning_rate=0.005, max_depth=15, n_estimators=3000, objective=reg:squarederror \n",
            "[CV]  alpha=0.1, colsample_bytree=0.8, learning_rate=0.005, max_depth=15, n_estimators=3000, objective=reg:squarederror, total=  30.0s\n",
            "[CV] alpha=0.1, colsample_bytree=0.8, learning_rate=0.005, max_depth=15, n_estimators=3000, objective=reg:squarederror \n",
            "[CV]  alpha=0.1, colsample_bytree=0.8, learning_rate=0.005, max_depth=15, n_estimators=3000, objective=reg:squarederror, total=  31.0s\n",
            "[CV] alpha=0.1, colsample_bytree=0.8, learning_rate=0.005, max_depth=15, n_estimators=5000, objective=reg:squarederror \n",
            "[CV]  alpha=0.1, colsample_bytree=0.8, learning_rate=0.005, max_depth=15, n_estimators=5000, objective=reg:squarederror, total=  59.6s\n",
            "[CV] alpha=0.1, colsample_bytree=0.8, learning_rate=0.005, max_depth=15, n_estimators=5000, objective=reg:squarederror \n",
            "[CV]  alpha=0.1, colsample_bytree=0.8, learning_rate=0.005, max_depth=15, n_estimators=5000, objective=reg:squarederror, total=  58.1s\n",
            "[CV] alpha=0.1, colsample_bytree=0.8, learning_rate=0.005, max_depth=15, n_estimators=5000, objective=reg:squarederror \n",
            "[CV]  alpha=0.1, colsample_bytree=0.8, learning_rate=0.005, max_depth=15, n_estimators=5000, objective=reg:squarederror, total=  59.1s\n",
            "[CV] alpha=0.1, colsample_bytree=0.8, learning_rate=0.005, max_depth=20, n_estimators=3000, objective=reg:squarederror \n",
            "[CV]  alpha=0.1, colsample_bytree=0.8, learning_rate=0.005, max_depth=20, n_estimators=3000, objective=reg:squarederror, total=  44.6s\n",
            "[CV] alpha=0.1, colsample_bytree=0.8, learning_rate=0.005, max_depth=20, n_estimators=3000, objective=reg:squarederror \n",
            "[CV]  alpha=0.1, colsample_bytree=0.8, learning_rate=0.005, max_depth=20, n_estimators=3000, objective=reg:squarederror, total=  42.0s\n",
            "[CV] alpha=0.1, colsample_bytree=0.8, learning_rate=0.005, max_depth=20, n_estimators=3000, objective=reg:squarederror \n",
            "[CV]  alpha=0.1, colsample_bytree=0.8, learning_rate=0.005, max_depth=20, n_estimators=3000, objective=reg:squarederror, total=  45.0s\n",
            "[CV] alpha=0.1, colsample_bytree=0.8, learning_rate=0.005, max_depth=20, n_estimators=5000, objective=reg:squarederror \n",
            "[CV]  alpha=0.1, colsample_bytree=0.8, learning_rate=0.005, max_depth=20, n_estimators=5000, objective=reg:squarederror, total= 1.5min\n",
            "[CV] alpha=0.1, colsample_bytree=0.8, learning_rate=0.005, max_depth=20, n_estimators=5000, objective=reg:squarederror \n",
            "[CV]  alpha=0.1, colsample_bytree=0.8, learning_rate=0.005, max_depth=20, n_estimators=5000, objective=reg:squarederror, total= 1.4min\n",
            "[CV] alpha=0.1, colsample_bytree=0.8, learning_rate=0.005, max_depth=20, n_estimators=5000, objective=reg:squarederror \n",
            "[CV]  alpha=0.1, colsample_bytree=0.8, learning_rate=0.005, max_depth=20, n_estimators=5000, objective=reg:squarederror, total= 1.4min\n",
            "[CV] alpha=0.1, colsample_bytree=0.8, learning_rate=0.01, max_depth=10, n_estimators=3000, objective=reg:squarederror \n",
            "[CV]  alpha=0.1, colsample_bytree=0.8, learning_rate=0.01, max_depth=10, n_estimators=3000, objective=reg:squarederror, total=  20.9s\n",
            "[CV] alpha=0.1, colsample_bytree=0.8, learning_rate=0.01, max_depth=10, n_estimators=3000, objective=reg:squarederror \n",
            "[CV]  alpha=0.1, colsample_bytree=0.8, learning_rate=0.01, max_depth=10, n_estimators=3000, objective=reg:squarederror, total=  21.1s\n",
            "[CV] alpha=0.1, colsample_bytree=0.8, learning_rate=0.01, max_depth=10, n_estimators=3000, objective=reg:squarederror \n",
            "[CV]  alpha=0.1, colsample_bytree=0.8, learning_rate=0.01, max_depth=10, n_estimators=3000, objective=reg:squarederror, total=  21.1s\n",
            "[CV] alpha=0.1, colsample_bytree=0.8, learning_rate=0.01, max_depth=10, n_estimators=5000, objective=reg:squarederror \n",
            "[CV]  alpha=0.1, colsample_bytree=0.8, learning_rate=0.01, max_depth=10, n_estimators=5000, objective=reg:squarederror, total=  36.4s\n",
            "[CV] alpha=0.1, colsample_bytree=0.8, learning_rate=0.01, max_depth=10, n_estimators=5000, objective=reg:squarederror \n",
            "[CV]  alpha=0.1, colsample_bytree=0.8, learning_rate=0.01, max_depth=10, n_estimators=5000, objective=reg:squarederror, total=  36.9s\n",
            "[CV] alpha=0.1, colsample_bytree=0.8, learning_rate=0.01, max_depth=10, n_estimators=5000, objective=reg:squarederror \n",
            "[CV]  alpha=0.1, colsample_bytree=0.8, learning_rate=0.01, max_depth=10, n_estimators=5000, objective=reg:squarederror, total=  37.6s\n",
            "[CV] alpha=0.1, colsample_bytree=0.8, learning_rate=0.01, max_depth=15, n_estimators=3000, objective=reg:squarederror \n",
            "[CV]  alpha=0.1, colsample_bytree=0.8, learning_rate=0.01, max_depth=15, n_estimators=3000, objective=reg:squarederror, total=  33.5s\n",
            "[CV] alpha=0.1, colsample_bytree=0.8, learning_rate=0.01, max_depth=15, n_estimators=3000, objective=reg:squarederror \n",
            "[CV]  alpha=0.1, colsample_bytree=0.8, learning_rate=0.01, max_depth=15, n_estimators=3000, objective=reg:squarederror, total=  34.5s\n",
            "[CV] alpha=0.1, colsample_bytree=0.8, learning_rate=0.01, max_depth=15, n_estimators=3000, objective=reg:squarederror \n",
            "[CV]  alpha=0.1, colsample_bytree=0.8, learning_rate=0.01, max_depth=15, n_estimators=3000, objective=reg:squarederror, total=  33.2s\n",
            "[CV] alpha=0.1, colsample_bytree=0.8, learning_rate=0.01, max_depth=15, n_estimators=5000, objective=reg:squarederror \n",
            "[CV]  alpha=0.1, colsample_bytree=0.8, learning_rate=0.01, max_depth=15, n_estimators=5000, objective=reg:squarederror, total= 1.0min\n",
            "[CV] alpha=0.1, colsample_bytree=0.8, learning_rate=0.01, max_depth=15, n_estimators=5000, objective=reg:squarederror \n",
            "[CV]  alpha=0.1, colsample_bytree=0.8, learning_rate=0.01, max_depth=15, n_estimators=5000, objective=reg:squarederror, total= 1.1min\n",
            "[CV] alpha=0.1, colsample_bytree=0.8, learning_rate=0.01, max_depth=15, n_estimators=5000, objective=reg:squarederror \n",
            "[CV]  alpha=0.1, colsample_bytree=0.8, learning_rate=0.01, max_depth=15, n_estimators=5000, objective=reg:squarederror, total= 1.1min\n",
            "[CV] alpha=0.1, colsample_bytree=0.8, learning_rate=0.01, max_depth=20, n_estimators=3000, objective=reg:squarederror \n",
            "[CV]  alpha=0.1, colsample_bytree=0.8, learning_rate=0.01, max_depth=20, n_estimators=3000, objective=reg:squarederror, total=  46.4s\n",
            "[CV] alpha=0.1, colsample_bytree=0.8, learning_rate=0.01, max_depth=20, n_estimators=3000, objective=reg:squarederror \n",
            "[CV]  alpha=0.1, colsample_bytree=0.8, learning_rate=0.01, max_depth=20, n_estimators=3000, objective=reg:squarederror, total=  49.0s\n",
            "[CV] alpha=0.1, colsample_bytree=0.8, learning_rate=0.01, max_depth=20, n_estimators=3000, objective=reg:squarederror \n",
            "[CV]  alpha=0.1, colsample_bytree=0.8, learning_rate=0.01, max_depth=20, n_estimators=3000, objective=reg:squarederror, total=  51.1s\n",
            "[CV] alpha=0.1, colsample_bytree=0.8, learning_rate=0.01, max_depth=20, n_estimators=5000, objective=reg:squarederror \n",
            "[CV]  alpha=0.1, colsample_bytree=0.8, learning_rate=0.01, max_depth=20, n_estimators=5000, objective=reg:squarederror, total= 1.5min\n",
            "[CV] alpha=0.1, colsample_bytree=0.8, learning_rate=0.01, max_depth=20, n_estimators=5000, objective=reg:squarederror \n",
            "[CV]  alpha=0.1, colsample_bytree=0.8, learning_rate=0.01, max_depth=20, n_estimators=5000, objective=reg:squarederror, total= 1.5min\n",
            "[CV] alpha=0.1, colsample_bytree=0.8, learning_rate=0.01, max_depth=20, n_estimators=5000, objective=reg:squarederror \n",
            "[CV]  alpha=0.1, colsample_bytree=0.8, learning_rate=0.01, max_depth=20, n_estimators=5000, objective=reg:squarederror, total= 1.6min\n",
            "[CV] alpha=0.1, colsample_bytree=0.8, learning_rate=0.02, max_depth=10, n_estimators=3000, objective=reg:squarederror \n",
            "[CV]  alpha=0.1, colsample_bytree=0.8, learning_rate=0.02, max_depth=10, n_estimators=3000, objective=reg:squarederror, total=  21.3s\n",
            "[CV] alpha=0.1, colsample_bytree=0.8, learning_rate=0.02, max_depth=10, n_estimators=3000, objective=reg:squarederror \n",
            "[CV]  alpha=0.1, colsample_bytree=0.8, learning_rate=0.02, max_depth=10, n_estimators=3000, objective=reg:squarederror, total=  21.5s\n",
            "[CV] alpha=0.1, colsample_bytree=0.8, learning_rate=0.02, max_depth=10, n_estimators=3000, objective=reg:squarederror \n",
            "[CV]  alpha=0.1, colsample_bytree=0.8, learning_rate=0.02, max_depth=10, n_estimators=3000, objective=reg:squarederror, total=  21.6s\n",
            "[CV] alpha=0.1, colsample_bytree=0.8, learning_rate=0.02, max_depth=10, n_estimators=5000, objective=reg:squarederror \n",
            "[CV]  alpha=0.1, colsample_bytree=0.8, learning_rate=0.02, max_depth=10, n_estimators=5000, objective=reg:squarederror, total=  36.5s\n",
            "[CV] alpha=0.1, colsample_bytree=0.8, learning_rate=0.02, max_depth=10, n_estimators=5000, objective=reg:squarederror \n",
            "[CV]  alpha=0.1, colsample_bytree=0.8, learning_rate=0.02, max_depth=10, n_estimators=5000, objective=reg:squarederror, total=  38.9s\n",
            "[CV] alpha=0.1, colsample_bytree=0.8, learning_rate=0.02, max_depth=10, n_estimators=5000, objective=reg:squarederror \n",
            "[CV]  alpha=0.1, colsample_bytree=0.8, learning_rate=0.02, max_depth=10, n_estimators=5000, objective=reg:squarederror, total=  36.8s\n",
            "[CV] alpha=0.1, colsample_bytree=0.8, learning_rate=0.02, max_depth=15, n_estimators=3000, objective=reg:squarederror \n",
            "[CV]  alpha=0.1, colsample_bytree=0.8, learning_rate=0.02, max_depth=15, n_estimators=3000, objective=reg:squarederror, total=  34.6s\n",
            "[CV] alpha=0.1, colsample_bytree=0.8, learning_rate=0.02, max_depth=15, n_estimators=3000, objective=reg:squarederror \n",
            "[CV]  alpha=0.1, colsample_bytree=0.8, learning_rate=0.02, max_depth=15, n_estimators=3000, objective=reg:squarederror, total=  35.0s\n",
            "[CV] alpha=0.1, colsample_bytree=0.8, learning_rate=0.02, max_depth=15, n_estimators=3000, objective=reg:squarederror \n",
            "[CV]  alpha=0.1, colsample_bytree=0.8, learning_rate=0.02, max_depth=15, n_estimators=3000, objective=reg:squarederror, total=  37.0s\n",
            "[CV] alpha=0.1, colsample_bytree=0.8, learning_rate=0.02, max_depth=15, n_estimators=5000, objective=reg:squarederror \n",
            "[CV]  alpha=0.1, colsample_bytree=0.8, learning_rate=0.02, max_depth=15, n_estimators=5000, objective=reg:squarederror, total=  55.9s\n",
            "[CV] alpha=0.1, colsample_bytree=0.8, learning_rate=0.02, max_depth=15, n_estimators=5000, objective=reg:squarederror \n",
            "[CV]  alpha=0.1, colsample_bytree=0.8, learning_rate=0.02, max_depth=15, n_estimators=5000, objective=reg:squarederror, total=  51.2s\n",
            "[CV] alpha=0.1, colsample_bytree=0.8, learning_rate=0.02, max_depth=15, n_estimators=5000, objective=reg:squarederror \n",
            "[CV]  alpha=0.1, colsample_bytree=0.8, learning_rate=0.02, max_depth=15, n_estimators=5000, objective=reg:squarederror, total=  56.7s\n",
            "[CV] alpha=0.1, colsample_bytree=0.8, learning_rate=0.02, max_depth=20, n_estimators=3000, objective=reg:squarederror \n",
            "[CV]  alpha=0.1, colsample_bytree=0.8, learning_rate=0.02, max_depth=20, n_estimators=3000, objective=reg:squarederror, total=  38.7s\n",
            "[CV] alpha=0.1, colsample_bytree=0.8, learning_rate=0.02, max_depth=20, n_estimators=3000, objective=reg:squarederror \n",
            "[CV]  alpha=0.1, colsample_bytree=0.8, learning_rate=0.02, max_depth=20, n_estimators=3000, objective=reg:squarederror, total=  46.8s\n",
            "[CV] alpha=0.1, colsample_bytree=0.8, learning_rate=0.02, max_depth=20, n_estimators=3000, objective=reg:squarederror \n",
            "[CV]  alpha=0.1, colsample_bytree=0.8, learning_rate=0.02, max_depth=20, n_estimators=3000, objective=reg:squarederror, total=  44.7s\n",
            "[CV] alpha=0.1, colsample_bytree=0.8, learning_rate=0.02, max_depth=20, n_estimators=5000, objective=reg:squarederror \n",
            "[CV]  alpha=0.1, colsample_bytree=0.8, learning_rate=0.02, max_depth=20, n_estimators=5000, objective=reg:squarederror, total=  45.2s\n",
            "[CV] alpha=0.1, colsample_bytree=0.8, learning_rate=0.02, max_depth=20, n_estimators=5000, objective=reg:squarederror \n",
            "[CV]  alpha=0.1, colsample_bytree=0.8, learning_rate=0.02, max_depth=20, n_estimators=5000, objective=reg:squarederror, total= 1.0min\n",
            "[CV] alpha=0.1, colsample_bytree=0.8, learning_rate=0.02, max_depth=20, n_estimators=5000, objective=reg:squarederror \n",
            "[CV]  alpha=0.1, colsample_bytree=0.8, learning_rate=0.02, max_depth=20, n_estimators=5000, objective=reg:squarederror, total=  57.4s\n",
            "[CV] alpha=0.1, colsample_bytree=0.85, learning_rate=0.005, max_depth=10, n_estimators=3000, objective=reg:squarederror \n",
            "[CV]  alpha=0.1, colsample_bytree=0.85, learning_rate=0.005, max_depth=10, n_estimators=3000, objective=reg:squarederror, total=  19.5s\n",
            "[CV] alpha=0.1, colsample_bytree=0.85, learning_rate=0.005, max_depth=10, n_estimators=3000, objective=reg:squarederror \n",
            "[CV]  alpha=0.1, colsample_bytree=0.85, learning_rate=0.005, max_depth=10, n_estimators=3000, objective=reg:squarederror, total=  19.7s\n",
            "[CV] alpha=0.1, colsample_bytree=0.85, learning_rate=0.005, max_depth=10, n_estimators=3000, objective=reg:squarederror \n",
            "[CV]  alpha=0.1, colsample_bytree=0.85, learning_rate=0.005, max_depth=10, n_estimators=3000, objective=reg:squarederror, total=  19.7s\n",
            "[CV] alpha=0.1, colsample_bytree=0.85, learning_rate=0.005, max_depth=10, n_estimators=5000, objective=reg:squarederror \n",
            "[CV]  alpha=0.1, colsample_bytree=0.85, learning_rate=0.005, max_depth=10, n_estimators=5000, objective=reg:squarederror, total=  34.7s\n",
            "[CV] alpha=0.1, colsample_bytree=0.85, learning_rate=0.005, max_depth=10, n_estimators=5000, objective=reg:squarederror \n",
            "[CV]  alpha=0.1, colsample_bytree=0.85, learning_rate=0.005, max_depth=10, n_estimators=5000, objective=reg:squarederror, total=  34.6s\n",
            "[CV] alpha=0.1, colsample_bytree=0.85, learning_rate=0.005, max_depth=10, n_estimators=5000, objective=reg:squarederror \n",
            "[CV]  alpha=0.1, colsample_bytree=0.85, learning_rate=0.005, max_depth=10, n_estimators=5000, objective=reg:squarederror, total=  36.2s\n",
            "[CV] alpha=0.1, colsample_bytree=0.85, learning_rate=0.005, max_depth=15, n_estimators=3000, objective=reg:squarederror \n",
            "[CV]  alpha=0.1, colsample_bytree=0.85, learning_rate=0.005, max_depth=15, n_estimators=3000, objective=reg:squarederror, total=  31.2s\n",
            "[CV] alpha=0.1, colsample_bytree=0.85, learning_rate=0.005, max_depth=15, n_estimators=3000, objective=reg:squarederror \n",
            "[CV]  alpha=0.1, colsample_bytree=0.85, learning_rate=0.005, max_depth=15, n_estimators=3000, objective=reg:squarederror, total=  30.7s\n",
            "[CV] alpha=0.1, colsample_bytree=0.85, learning_rate=0.005, max_depth=15, n_estimators=3000, objective=reg:squarederror \n",
            "[CV]  alpha=0.1, colsample_bytree=0.85, learning_rate=0.005, max_depth=15, n_estimators=3000, objective=reg:squarederror, total=  30.4s\n",
            "[CV] alpha=0.1, colsample_bytree=0.85, learning_rate=0.005, max_depth=15, n_estimators=5000, objective=reg:squarederror \n",
            "[CV]  alpha=0.1, colsample_bytree=0.85, learning_rate=0.005, max_depth=15, n_estimators=5000, objective=reg:squarederror, total= 1.0min\n",
            "[CV] alpha=0.1, colsample_bytree=0.85, learning_rate=0.005, max_depth=15, n_estimators=5000, objective=reg:squarederror \n",
            "[CV]  alpha=0.1, colsample_bytree=0.85, learning_rate=0.005, max_depth=15, n_estimators=5000, objective=reg:squarederror, total=  58.9s\n",
            "[CV] alpha=0.1, colsample_bytree=0.85, learning_rate=0.005, max_depth=15, n_estimators=5000, objective=reg:squarederror \n",
            "[CV]  alpha=0.1, colsample_bytree=0.85, learning_rate=0.005, max_depth=15, n_estimators=5000, objective=reg:squarederror, total=  55.7s\n",
            "[CV] alpha=0.1, colsample_bytree=0.85, learning_rate=0.005, max_depth=20, n_estimators=3000, objective=reg:squarederror \n",
            "[CV]  alpha=0.1, colsample_bytree=0.85, learning_rate=0.005, max_depth=20, n_estimators=3000, objective=reg:squarederror, total=  48.0s\n",
            "[CV] alpha=0.1, colsample_bytree=0.85, learning_rate=0.005, max_depth=20, n_estimators=3000, objective=reg:squarederror \n",
            "[CV]  alpha=0.1, colsample_bytree=0.85, learning_rate=0.005, max_depth=20, n_estimators=3000, objective=reg:squarederror, total=  43.2s\n",
            "[CV] alpha=0.1, colsample_bytree=0.85, learning_rate=0.005, max_depth=20, n_estimators=3000, objective=reg:squarederror \n",
            "[CV]  alpha=0.1, colsample_bytree=0.85, learning_rate=0.005, max_depth=20, n_estimators=3000, objective=reg:squarederror, total=  46.0s\n",
            "[CV] alpha=0.1, colsample_bytree=0.85, learning_rate=0.005, max_depth=20, n_estimators=5000, objective=reg:squarederror \n",
            "[CV]  alpha=0.1, colsample_bytree=0.85, learning_rate=0.005, max_depth=20, n_estimators=5000, objective=reg:squarederror, total= 1.5min\n",
            "[CV] alpha=0.1, colsample_bytree=0.85, learning_rate=0.005, max_depth=20, n_estimators=5000, objective=reg:squarederror \n",
            "[CV]  alpha=0.1, colsample_bytree=0.85, learning_rate=0.005, max_depth=20, n_estimators=5000, objective=reg:squarederror, total= 1.5min\n",
            "[CV] alpha=0.1, colsample_bytree=0.85, learning_rate=0.005, max_depth=20, n_estimators=5000, objective=reg:squarederror \n",
            "[CV]  alpha=0.1, colsample_bytree=0.85, learning_rate=0.005, max_depth=20, n_estimators=5000, objective=reg:squarederror, total= 1.4min\n",
            "[CV] alpha=0.1, colsample_bytree=0.85, learning_rate=0.01, max_depth=10, n_estimators=3000, objective=reg:squarederror \n",
            "[CV]  alpha=0.1, colsample_bytree=0.85, learning_rate=0.01, max_depth=10, n_estimators=3000, objective=reg:squarederror, total=  20.6s\n",
            "[CV] alpha=0.1, colsample_bytree=0.85, learning_rate=0.01, max_depth=10, n_estimators=3000, objective=reg:squarederror \n",
            "[CV]  alpha=0.1, colsample_bytree=0.85, learning_rate=0.01, max_depth=10, n_estimators=3000, objective=reg:squarederror, total=  20.8s\n",
            "[CV] alpha=0.1, colsample_bytree=0.85, learning_rate=0.01, max_depth=10, n_estimators=3000, objective=reg:squarederror \n",
            "[CV]  alpha=0.1, colsample_bytree=0.85, learning_rate=0.01, max_depth=10, n_estimators=3000, objective=reg:squarederror, total=  20.9s\n",
            "[CV] alpha=0.1, colsample_bytree=0.85, learning_rate=0.01, max_depth=10, n_estimators=5000, objective=reg:squarederror \n",
            "[CV]  alpha=0.1, colsample_bytree=0.85, learning_rate=0.01, max_depth=10, n_estimators=5000, objective=reg:squarederror, total=  35.8s\n",
            "[CV] alpha=0.1, colsample_bytree=0.85, learning_rate=0.01, max_depth=10, n_estimators=5000, objective=reg:squarederror \n",
            "[CV]  alpha=0.1, colsample_bytree=0.85, learning_rate=0.01, max_depth=10, n_estimators=5000, objective=reg:squarederror, total=  39.0s\n",
            "[CV] alpha=0.1, colsample_bytree=0.85, learning_rate=0.01, max_depth=10, n_estimators=5000, objective=reg:squarederror \n",
            "[CV]  alpha=0.1, colsample_bytree=0.85, learning_rate=0.01, max_depth=10, n_estimators=5000, objective=reg:squarederror, total=  37.9s\n",
            "[CV] alpha=0.1, colsample_bytree=0.85, learning_rate=0.01, max_depth=15, n_estimators=3000, objective=reg:squarederror \n",
            "[CV]  alpha=0.1, colsample_bytree=0.85, learning_rate=0.01, max_depth=15, n_estimators=3000, objective=reg:squarederror, total=  32.7s\n",
            "[CV] alpha=0.1, colsample_bytree=0.85, learning_rate=0.01, max_depth=15, n_estimators=3000, objective=reg:squarederror \n",
            "[CV]  alpha=0.1, colsample_bytree=0.85, learning_rate=0.01, max_depth=15, n_estimators=3000, objective=reg:squarederror, total=  35.6s\n",
            "[CV] alpha=0.1, colsample_bytree=0.85, learning_rate=0.01, max_depth=15, n_estimators=3000, objective=reg:squarederror \n",
            "[CV]  alpha=0.1, colsample_bytree=0.85, learning_rate=0.01, max_depth=15, n_estimators=3000, objective=reg:squarederror, total=  34.0s\n",
            "[CV] alpha=0.1, colsample_bytree=0.85, learning_rate=0.01, max_depth=15, n_estimators=5000, objective=reg:squarederror \n",
            "[CV]  alpha=0.1, colsample_bytree=0.85, learning_rate=0.01, max_depth=15, n_estimators=5000, objective=reg:squarederror, total= 1.1min\n",
            "[CV] alpha=0.1, colsample_bytree=0.85, learning_rate=0.01, max_depth=15, n_estimators=5000, objective=reg:squarederror \n",
            "[CV]  alpha=0.1, colsample_bytree=0.85, learning_rate=0.01, max_depth=15, n_estimators=5000, objective=reg:squarederror, total= 1.1min\n",
            "[CV] alpha=0.1, colsample_bytree=0.85, learning_rate=0.01, max_depth=15, n_estimators=5000, objective=reg:squarederror \n",
            "[CV]  alpha=0.1, colsample_bytree=0.85, learning_rate=0.01, max_depth=15, n_estimators=5000, objective=reg:squarederror, total= 1.0min\n",
            "[CV] alpha=0.1, colsample_bytree=0.85, learning_rate=0.01, max_depth=20, n_estimators=3000, objective=reg:squarederror \n",
            "[CV]  alpha=0.1, colsample_bytree=0.85, learning_rate=0.01, max_depth=20, n_estimators=3000, objective=reg:squarederror, total=  51.0s\n",
            "[CV] alpha=0.1, colsample_bytree=0.85, learning_rate=0.01, max_depth=20, n_estimators=3000, objective=reg:squarederror \n",
            "[CV]  alpha=0.1, colsample_bytree=0.85, learning_rate=0.01, max_depth=20, n_estimators=3000, objective=reg:squarederror, total=  52.5s\n",
            "[CV] alpha=0.1, colsample_bytree=0.85, learning_rate=0.01, max_depth=20, n_estimators=3000, objective=reg:squarederror \n",
            "[CV]  alpha=0.1, colsample_bytree=0.85, learning_rate=0.01, max_depth=20, n_estimators=3000, objective=reg:squarederror, total=  51.0s\n",
            "[CV] alpha=0.1, colsample_bytree=0.85, learning_rate=0.01, max_depth=20, n_estimators=5000, objective=reg:squarederror \n",
            "[CV]  alpha=0.1, colsample_bytree=0.85, learning_rate=0.01, max_depth=20, n_estimators=5000, objective=reg:squarederror, total= 1.5min\n",
            "[CV] alpha=0.1, colsample_bytree=0.85, learning_rate=0.01, max_depth=20, n_estimators=5000, objective=reg:squarederror \n",
            "[CV]  alpha=0.1, colsample_bytree=0.85, learning_rate=0.01, max_depth=20, n_estimators=5000, objective=reg:squarederror, total= 1.6min\n",
            "[CV] alpha=0.1, colsample_bytree=0.85, learning_rate=0.01, max_depth=20, n_estimators=5000, objective=reg:squarederror \n",
            "[CV]  alpha=0.1, colsample_bytree=0.85, learning_rate=0.01, max_depth=20, n_estimators=5000, objective=reg:squarederror, total= 1.7min\n",
            "[CV] alpha=0.1, colsample_bytree=0.85, learning_rate=0.02, max_depth=10, n_estimators=3000, objective=reg:squarederror \n",
            "[CV]  alpha=0.1, colsample_bytree=0.85, learning_rate=0.02, max_depth=10, n_estimators=3000, objective=reg:squarederror, total=  21.4s\n",
            "[CV] alpha=0.1, colsample_bytree=0.85, learning_rate=0.02, max_depth=10, n_estimators=3000, objective=reg:squarederror \n",
            "[CV]  alpha=0.1, colsample_bytree=0.85, learning_rate=0.02, max_depth=10, n_estimators=3000, objective=reg:squarederror, total=  21.4s\n",
            "[CV] alpha=0.1, colsample_bytree=0.85, learning_rate=0.02, max_depth=10, n_estimators=3000, objective=reg:squarederror \n",
            "[CV]  alpha=0.1, colsample_bytree=0.85, learning_rate=0.02, max_depth=10, n_estimators=3000, objective=reg:squarederror, total=  21.8s\n",
            "[CV] alpha=0.1, colsample_bytree=0.85, learning_rate=0.02, max_depth=10, n_estimators=5000, objective=reg:squarederror \n",
            "[CV]  alpha=0.1, colsample_bytree=0.85, learning_rate=0.02, max_depth=10, n_estimators=5000, objective=reg:squarederror, total=  37.9s\n",
            "[CV] alpha=0.1, colsample_bytree=0.85, learning_rate=0.02, max_depth=10, n_estimators=5000, objective=reg:squarederror \n",
            "[CV]  alpha=0.1, colsample_bytree=0.85, learning_rate=0.02, max_depth=10, n_estimators=5000, objective=reg:squarederror, total=  37.8s\n",
            "[CV] alpha=0.1, colsample_bytree=0.85, learning_rate=0.02, max_depth=10, n_estimators=5000, objective=reg:squarederror \n",
            "[CV]  alpha=0.1, colsample_bytree=0.85, learning_rate=0.02, max_depth=10, n_estimators=5000, objective=reg:squarederror, total=  40.0s\n",
            "[CV] alpha=0.1, colsample_bytree=0.85, learning_rate=0.02, max_depth=15, n_estimators=3000, objective=reg:squarederror \n",
            "[CV]  alpha=0.1, colsample_bytree=0.85, learning_rate=0.02, max_depth=15, n_estimators=3000, objective=reg:squarederror, total=  34.6s\n",
            "[CV] alpha=0.1, colsample_bytree=0.85, learning_rate=0.02, max_depth=15, n_estimators=3000, objective=reg:squarederror \n",
            "[CV]  alpha=0.1, colsample_bytree=0.85, learning_rate=0.02, max_depth=15, n_estimators=3000, objective=reg:squarederror, total=  36.7s\n",
            "[CV] alpha=0.1, colsample_bytree=0.85, learning_rate=0.02, max_depth=15, n_estimators=3000, objective=reg:squarederror \n",
            "[CV]  alpha=0.1, colsample_bytree=0.85, learning_rate=0.02, max_depth=15, n_estimators=3000, objective=reg:squarederror, total=  36.6s\n",
            "[CV] alpha=0.1, colsample_bytree=0.85, learning_rate=0.02, max_depth=15, n_estimators=5000, objective=reg:squarederror \n",
            "[CV]  alpha=0.1, colsample_bytree=0.85, learning_rate=0.02, max_depth=15, n_estimators=5000, objective=reg:squarederror, total=  58.5s\n",
            "[CV] alpha=0.1, colsample_bytree=0.85, learning_rate=0.02, max_depth=15, n_estimators=5000, objective=reg:squarederror \n",
            "[CV]  alpha=0.1, colsample_bytree=0.85, learning_rate=0.02, max_depth=15, n_estimators=5000, objective=reg:squarederror, total=  51.4s\n",
            "[CV] alpha=0.1, colsample_bytree=0.85, learning_rate=0.02, max_depth=15, n_estimators=5000, objective=reg:squarederror \n",
            "[CV]  alpha=0.1, colsample_bytree=0.85, learning_rate=0.02, max_depth=15, n_estimators=5000, objective=reg:squarederror, total=  55.3s\n",
            "[CV] alpha=0.1, colsample_bytree=0.85, learning_rate=0.02, max_depth=20, n_estimators=3000, objective=reg:squarederror \n",
            "[CV]  alpha=0.1, colsample_bytree=0.85, learning_rate=0.02, max_depth=20, n_estimators=3000, objective=reg:squarederror, total=  42.6s\n",
            "[CV] alpha=0.1, colsample_bytree=0.85, learning_rate=0.02, max_depth=20, n_estimators=3000, objective=reg:squarederror \n",
            "[CV]  alpha=0.1, colsample_bytree=0.85, learning_rate=0.02, max_depth=20, n_estimators=3000, objective=reg:squarederror, total=  51.7s\n",
            "[CV] alpha=0.1, colsample_bytree=0.85, learning_rate=0.02, max_depth=20, n_estimators=3000, objective=reg:squarederror \n",
            "[CV]  alpha=0.1, colsample_bytree=0.85, learning_rate=0.02, max_depth=20, n_estimators=3000, objective=reg:squarederror, total=  46.5s\n",
            "[CV] alpha=0.1, colsample_bytree=0.85, learning_rate=0.02, max_depth=20, n_estimators=5000, objective=reg:squarederror \n",
            "[CV]  alpha=0.1, colsample_bytree=0.85, learning_rate=0.02, max_depth=20, n_estimators=5000, objective=reg:squarederror, total=  47.9s\n",
            "[CV] alpha=0.1, colsample_bytree=0.85, learning_rate=0.02, max_depth=20, n_estimators=5000, objective=reg:squarederror \n",
            "[CV]  alpha=0.1, colsample_bytree=0.85, learning_rate=0.02, max_depth=20, n_estimators=5000, objective=reg:squarederror, total= 1.1min\n",
            "[CV] alpha=0.1, colsample_bytree=0.85, learning_rate=0.02, max_depth=20, n_estimators=5000, objective=reg:squarederror \n",
            "[CV]  alpha=0.1, colsample_bytree=0.85, learning_rate=0.02, max_depth=20, n_estimators=5000, objective=reg:squarederror, total= 1.0min\n"
          ],
          "name": "stdout"
        },
        {
          "output_type": "stream",
          "text": [
            "[Parallel(n_jobs=1)]: Done 486 out of 486 | elapsed: 389.3min finished\n"
          ],
          "name": "stderr"
        }
      ]
    },
    {
      "cell_type": "code",
      "metadata": {
        "id": "_G6XOygR1S6Q",
        "colab_type": "code",
        "colab": {
          "base_uri": "https://localhost:8080/",
          "height": 148
        },
        "outputId": "405e1dc7-1f2f-4af1-ebef-9155979225b3"
      },
      "source": [
        "XGR_GS.best_estimator_"
      ],
      "execution_count": null,
      "outputs": [
        {
          "output_type": "execute_result",
          "data": {
            "text/plain": [
              "XGBRegressor(alpha=0.01, base_score=0.5, booster='gbtree', colsample_bylevel=1,\n",
              "             colsample_bynode=1, colsample_bytree=0.75, gamma=0,\n",
              "             importance_type='gain', learning_rate=0.02, max_delta_step=0,\n",
              "             max_depth=10, min_child_weight=1, missing=None, n_estimators=3000,\n",
              "             n_jobs=1, nthread=None, objective='reg:squarederror',\n",
              "             random_state=0, reg_alpha=0, reg_lambda=1, scale_pos_weight=1,\n",
              "             seed=None, silent=None, subsample=1, verbosity=1)"
            ]
          },
          "metadata": {
            "tags": []
          },
          "execution_count": 120
        }
      ]
    },
    {
      "cell_type": "code",
      "metadata": {
        "id": "XQ_Dhuy81coQ",
        "colab_type": "code",
        "colab": {}
      },
      "source": [
        "Y_pred_XGR = XGR_GS.predict(X_test)"
      ],
      "execution_count": null,
      "outputs": []
    },
    {
      "cell_type": "code",
      "metadata": {
        "id": "ceJr1Xt823Ad",
        "colab_type": "code",
        "colab": {
          "base_uri": "https://localhost:8080/",
          "height": 55
        },
        "outputId": "ea66ef22-d64b-4afe-9ae7-61341424769e"
      },
      "source": [
        "Y_pred_XGR[0:10]"
      ],
      "execution_count": null,
      "outputs": [
        {
          "output_type": "execute_result",
          "data": {
            "text/plain": [
              "array([472.33218, 494.81488, 496.88684, 481.01648, 445.5531 , 460.21414,\n",
              "       455.92822, 463.1073 , 475.9092 , 472.2593 ], dtype=float32)"
            ]
          },
          "metadata": {
            "tags": []
          },
          "execution_count": 122
        }
      ]
    },
    {
      "cell_type": "code",
      "metadata": {
        "id": "fYProEjn3RPQ",
        "colab_type": "code",
        "colab": {
          "base_uri": "https://localhost:8080/",
          "height": 36
        },
        "outputId": "6f287f73-b6e7-4c23-d409-da0f872ad2a8"
      },
      "source": [
        "type(Y_pred_XGR)"
      ],
      "execution_count": null,
      "outputs": [
        {
          "output_type": "execute_result",
          "data": {
            "text/plain": [
              "numpy.ndarray"
            ]
          },
          "metadata": {
            "tags": []
          },
          "execution_count": 123
        }
      ]
    },
    {
      "cell_type": "code",
      "metadata": {
        "id": "oIFQkAYq5XA6",
        "colab_type": "code",
        "colab": {}
      },
      "source": [
        "# Converting an ndarray to csv and saving it\n",
        "np.savetxt(\"submission.csv\", Y_pred_XGR, delimiter=\",\",header='PE')"
      ],
      "execution_count": null,
      "outputs": []
    },
    {
      "cell_type": "code",
      "metadata": {
        "id": "MyZHpgDc_F6A",
        "colab_type": "code",
        "colab": {}
      },
      "source": [
        ""
      ],
      "execution_count": null,
      "outputs": []
    }
  ]
}